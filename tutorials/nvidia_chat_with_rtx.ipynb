{
 "cells": [
  {
   "cell_type": "markdown",
   "id": "ac12e0ef",
   "metadata": {},
   "source": [
    "- references\n",
    "    - https://github.com/NVIDIA/trt-llm-rag-windows"
   ]
  },
  {
   "cell_type": "code",
   "execution_count": 1,
   "id": "195f1592",
   "metadata": {
    "ExecuteTime": {
     "end_time": "2024-02-14T13:46:26.754086Z",
     "start_time": "2024-02-14T13:46:26.738343Z"
    }
   },
   "outputs": [],
   "source": [
    "from IPython.display import Image"
   ]
  },
  {
   "cell_type": "markdown",
   "id": "361bd9e3",
   "metadata": {},
   "source": [
    "## 介绍下我的系统环境"
   ]
  },
  {
   "cell_type": "markdown",
   "id": "317a61b9",
   "metadata": {},
   "source": [
    "- 双系统\n",
    "    - 一个 2T 的固态硬盘\n",
    "    \n",
    "    ```\n",
    "    sudo apt install smartmontools -y\n",
    "    sudo smartctl -a /dev/nvme0n1 | grep -i model\n",
    "    ```"
   ]
  },
  {
   "cell_type": "code",
   "execution_count": 3,
   "id": "5b951bb1",
   "metadata": {
    "ExecuteTime": {
     "end_time": "2024-02-14T13:46:42.143816Z",
     "start_time": "2024-02-14T13:46:42.133527Z"
    }
   },
   "outputs": [
    {
     "data": {
      "text/html": [
       "<img src=\"../imgs/990_pro.png\" width=\"500\"/>"
      ],
      "text/plain": [
       "<IPython.core.display.Image object>"
      ]
     },
     "execution_count": 3,
     "metadata": {},
     "output_type": "execute_result"
    }
   ],
   "source": [
    "Image(url='../imgs/990_pro.png', width=500)"
   ]
  },
  {
   "cell_type": "code",
   "execution_count": 6,
   "id": "1437e2d6",
   "metadata": {
    "ExecuteTime": {
     "end_time": "2024-02-14T13:48:38.295898Z",
     "start_time": "2024-02-14T13:48:38.286073Z"
    }
   },
   "outputs": [
    {
     "data": {
      "text/html": [
       "<img src=\"../imgs/nvme_partition.png\" width=\"500\"/>"
      ],
      "text/plain": [
       "<IPython.core.display.Image object>"
      ]
     },
     "execution_count": 6,
     "metadata": {},
     "output_type": "execute_result"
    }
   ],
   "source": [
    "# /media/whaow: windows 系统位置\n",
    "# sudo mount /dev/nvme0n1p3 /media/whaow\n",
    "Image(url='../imgs/nvme_partition.png', width=500)"
   ]
  }
 ],
 "metadata": {
  "kernelspec": {
   "display_name": "Python 3 (ipykernel)",
   "language": "python",
   "name": "python3"
  },
  "language_info": {
   "codemirror_mode": {
    "name": "ipython",
    "version": 3
   },
   "file_extension": ".py",
   "mimetype": "text/x-python",
   "name": "python",
   "nbconvert_exporter": "python",
   "pygments_lexer": "ipython3",
   "version": "3.10.13"
  },
  "toc": {
   "base_numbering": 1,
   "nav_menu": {},
   "number_sections": true,
   "sideBar": true,
   "skip_h1_title": false,
   "title_cell": "Table of Contents",
   "title_sidebar": "Contents",
   "toc_cell": false,
   "toc_position": {},
   "toc_section_display": true,
   "toc_window_display": false
  }
 },
 "nbformat": 4,
 "nbformat_minor": 5
}
