{
 "cells": [
  {
   "cell_type": "markdown",
   "id": "f43c9c70-4df8-4d73-9a95-d5bef91ddb53",
   "metadata": {},
   "source": [
    "\n",
    "For the sparsity constraint, we use a k-sparse constraint: **only the k largest activations in h are\n",
    "retained**, while **the rest are set to zero** (Makhzani et al., 2013; Gao et al., 2024). This approach avoids\n",
    "issues such as shrinkage, where L1 regularisation can cause feature activations to be systematically\n",
    "lower than their true values, potentially leading to suboptimal representations shrinkage, (Wright\n",
    "et al., 2024; Rajamanoharan et al., 2024).\n",
    "\n",
    "```\n",
    "def k_sparse(self, x):\n",
    "    # 实现k-sparse约束\n",
    "    topk, indices = torch.topk(x, self.k, dim=1)\n",
    "    mask = torch.zeros_like(x).scatter_(1, indices, 1)\n",
    "    return x * mask\n",
    "```"
   ]
  },
  {
   "cell_type": "code",
   "execution_count": 1,
   "id": "5cb3a3fa-5519-4794-b9fc-129bbb53d2bf",
   "metadata": {
    "execution": {
     "iopub.execute_input": "2024-12-23T15:30:56.579804Z",
     "iopub.status.busy": "2024-12-23T15:30:56.579467Z",
     "iopub.status.idle": "2024-12-23T15:30:58.331201Z",
     "shell.execute_reply": "2024-12-23T15:30:58.329314Z",
     "shell.execute_reply.started": "2024-12-23T15:30:56.579778Z"
    }
   },
   "outputs": [],
   "source": [
    "import torch"
   ]
  },
  {
   "cell_type": "code",
   "execution_count": 2,
   "id": "f342eba2-b039-4e64-b896-93e5cda4dc59",
   "metadata": {
    "execution": {
     "iopub.execute_input": "2024-12-23T15:31:00.799052Z",
     "iopub.status.busy": "2024-12-23T15:31:00.798636Z",
     "iopub.status.idle": "2024-12-23T15:31:00.806662Z",
     "shell.execute_reply": "2024-12-23T15:31:00.804951Z",
     "shell.execute_reply.started": "2024-12-23T15:31:00.799028Z"
    }
   },
   "outputs": [],
   "source": [
    "x = torch.tensor([\n",
    "    [0.1, 0.5, 0.3, 0.8, 0.2, 0.4],\n",
    "    [0.2, 0.9, 0.3, 0.1, 0.7, 0.4]\n",
    "])"
   ]
  },
  {
   "cell_type": "code",
   "execution_count": 3,
   "id": "c31b58e4-0ee7-4d44-8cf1-ea5849a8a025",
   "metadata": {
    "execution": {
     "iopub.execute_input": "2024-12-23T15:31:29.850656Z",
     "iopub.status.busy": "2024-12-23T15:31:29.849973Z",
     "iopub.status.idle": "2024-12-23T15:31:29.869946Z",
     "shell.execute_reply": "2024-12-23T15:31:29.867578Z",
     "shell.execute_reply.started": "2024-12-23T15:31:29.850607Z"
    }
   },
   "outputs": [],
   "source": [
    "topk_values, topk_indices = torch.topk(x, k=2, dim=1)"
   ]
  },
  {
   "cell_type": "code",
   "execution_count": 4,
   "id": "7ab43d47-7f6e-4ee4-a06d-5e2314a563e3",
   "metadata": {
    "execution": {
     "iopub.execute_input": "2024-12-23T15:31:33.435163Z",
     "iopub.status.busy": "2024-12-23T15:31:33.434509Z",
     "iopub.status.idle": "2024-12-23T15:31:33.454430Z",
     "shell.execute_reply": "2024-12-23T15:31:33.452041Z",
     "shell.execute_reply.started": "2024-12-23T15:31:33.435103Z"
    }
   },
   "outputs": [
    {
     "data": {
      "text/plain": [
       "tensor([[3, 1],\n",
       "        [1, 4]])"
      ]
     },
     "execution_count": 4,
     "metadata": {},
     "output_type": "execute_result"
    }
   ],
   "source": [
    "topk_indices"
   ]
  },
  {
   "cell_type": "code",
   "execution_count": 17,
   "id": "376a5a27-9ae4-4f76-900b-d8c7c15558d9",
   "metadata": {
    "execution": {
     "iopub.execute_input": "2024-12-23T15:37:14.855535Z",
     "iopub.status.busy": "2024-12-23T15:37:14.854852Z",
     "iopub.status.idle": "2024-12-23T15:37:14.870940Z",
     "shell.execute_reply": "2024-12-23T15:37:14.868678Z",
     "shell.execute_reply.started": "2024-12-23T15:37:14.855487Z"
    }
   },
   "outputs": [
    {
     "data": {
      "text/plain": [
       "tensor([[0., 1., 0., 1., 0., 0.],\n",
       "        [0., 1., 0., 0., 1., 0.]])"
      ]
     },
     "execution_count": 17,
     "metadata": {},
     "output_type": "execute_result"
    }
   ],
   "source": [
    "torch.zeros_like(x).scatter_(1, topk_indices, 1)"
   ]
  },
  {
   "cell_type": "code",
   "execution_count": 18,
   "id": "5d4549f3-0d36-4e4b-b401-db19f964c7a9",
   "metadata": {
    "execution": {
     "iopub.execute_input": "2024-12-23T15:37:34.802569Z",
     "iopub.status.busy": "2024-12-23T15:37:34.801882Z",
     "iopub.status.idle": "2024-12-23T15:37:34.813068Z",
     "shell.execute_reply": "2024-12-23T15:37:34.810814Z",
     "shell.execute_reply.started": "2024-12-23T15:37:34.802520Z"
    }
   },
   "outputs": [],
   "source": [
    "mask = torch.zeros_like(x).scatter_(1, topk_indices, 1)"
   ]
  },
  {
   "cell_type": "code",
   "execution_count": 20,
   "id": "e2a06279-8659-4d14-a938-aae9b33401d3",
   "metadata": {
    "execution": {
     "iopub.execute_input": "2024-12-23T15:37:43.915515Z",
     "iopub.status.busy": "2024-12-23T15:37:43.914835Z",
     "iopub.status.idle": "2024-12-23T15:37:43.930581Z",
     "shell.execute_reply": "2024-12-23T15:37:43.928381Z",
     "shell.execute_reply.started": "2024-12-23T15:37:43.915466Z"
    }
   },
   "outputs": [
    {
     "data": {
      "text/plain": [
       "tensor([[0.1000, 0.5000, 0.3000, 0.8000, 0.2000, 0.4000],\n",
       "        [0.2000, 0.9000, 0.3000, 0.1000, 0.7000, 0.4000]])"
      ]
     },
     "execution_count": 20,
     "metadata": {},
     "output_type": "execute_result"
    }
   ],
   "source": [
    "x"
   ]
  },
  {
   "cell_type": "code",
   "execution_count": 19,
   "id": "f11fad78-60c7-49b4-ae3e-9ef9b49b2388",
   "metadata": {
    "execution": {
     "iopub.execute_input": "2024-12-23T15:37:38.126537Z",
     "iopub.status.busy": "2024-12-23T15:37:38.125859Z",
     "iopub.status.idle": "2024-12-23T15:37:38.140867Z",
     "shell.execute_reply": "2024-12-23T15:37:38.138981Z",
     "shell.execute_reply.started": "2024-12-23T15:37:38.126488Z"
    }
   },
   "outputs": [
    {
     "data": {
      "text/plain": [
       "tensor([[0.0000, 0.5000, 0.0000, 0.8000, 0.0000, 0.0000],\n",
       "        [0.0000, 0.9000, 0.0000, 0.0000, 0.7000, 0.0000]])"
      ]
     },
     "execution_count": 19,
     "metadata": {},
     "output_type": "execute_result"
    }
   ],
   "source": [
    "x * mask"
   ]
  }
 ],
 "metadata": {
  "kernelspec": {
   "display_name": "Python 3 (ipykernel)",
   "language": "python",
   "name": "python3"
  },
  "language_info": {
   "codemirror_mode": {
    "name": "ipython",
    "version": 3
   },
   "file_extension": ".py",
   "mimetype": "text/x-python",
   "name": "python",
   "nbconvert_exporter": "python",
   "pygments_lexer": "ipython3",
   "version": "3.10.13"
  }
 },
 "nbformat": 4,
 "nbformat_minor": 5
}
