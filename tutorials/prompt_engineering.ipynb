{
 "cells": [
  {
   "cell_type": "markdown",
   "id": "5d4f7651",
   "metadata": {},
   "source": [
    "- `but PLEASE follows the rule STRICTLY.`\n",
    "    - 形容词，副词，大写，等修饰来强调；"
   ]
  },
  {
   "cell_type": "markdown",
   "id": "cedc6977",
   "metadata": {},
   "source": [
    "## system prompt"
   ]
  },
  {
   "cell_type": "markdown",
   "id": "ffe89921",
   "metadata": {},
   "source": [
    "- ios ChatGPT app\n",
    "    - https://chat.openai.com/c/16968942-7507-4db6-be84-5217d2e933d6"
   ]
  },
  {
   "cell_type": "markdown",
   "id": "a6558736",
   "metadata": {},
   "source": [
    "## ReAct"
   ]
  },
  {
   "cell_type": "markdown",
   "id": "67dae220",
   "metadata": {},
   "source": [
    "- ReAct：Reasoning & Acting\n",
    "    - https://github.com/ysymyth/ReAct/blob/master/hotpotqa.ipynb"
   ]
  }
 ],
 "metadata": {
  "kernelspec": {
   "display_name": "Python 3 (ipykernel)",
   "language": "python",
   "name": "python3"
  },
  "language_info": {
   "codemirror_mode": {
    "name": "ipython",
    "version": 3
   },
   "file_extension": ".py",
   "mimetype": "text/x-python",
   "name": "python",
   "nbconvert_exporter": "python",
   "pygments_lexer": "ipython3",
   "version": "3.10.13"
  },
  "toc": {
   "base_numbering": 1,
   "nav_menu": {},
   "number_sections": true,
   "sideBar": true,
   "skip_h1_title": false,
   "title_cell": "Table of Contents",
   "title_sidebar": "Contents",
   "toc_cell": false,
   "toc_position": {},
   "toc_section_display": true,
   "toc_window_display": false
  }
 },
 "nbformat": 4,
 "nbformat_minor": 5
}
