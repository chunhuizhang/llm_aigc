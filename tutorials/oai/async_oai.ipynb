{
 "cells": [
  {
   "cell_type": "markdown",
   "id": "4f3aebde-2527-4e9a-8121-a54acfc401c4",
   "metadata": {},
   "source": [
    "- A guide to make asynchronous calls to OpenAI API with rate limiting.\n",
    "- Backoff is a python library that provides decorators that can used to wrap a function and retry until a specified condition is met."
   ]
  },
  {
   "cell_type": "markdown",
   "id": "78eca8d0-6984-4d09-8481-b61037da20f5",
   "metadata": {},
   "source": [
    "### Asyncio"
   ]
  },
  {
   "cell_type": "markdown",
   "id": "c6151053-9157-46c6-bac9-2026f2274cd9",
   "metadata": {},
   "source": [
    "- Asyncio is a Python library that provides asynchronous I/O.\n",
    "    - 协程（coroutine）：使用async def定义的函数\n",
    "        - 可以在执行过程中暂停和恢复\n",
    "        - 必须使用await来调用\n",
    "    - await 关键字\n",
    "        - 用于暂停协程执行，等待异步操作完成\n",
    "        - 只能在async函数内使用\n",
    "    - asyncio.run\n",
    "        - 执行 async def 定义的事件循环（event loop）\n",
    "    - asyncio.gather()同时处理多个异步任务\n",
    "- It relieves you of the burden of worrying about **locks and threads** when writing concurrent programs.\n",
    "- The foundation of asyncio is the idea of **coroutines**, or functions that can be interrupted and then resumed."
   ]
  },
  {
   "cell_type": "markdown",
   "id": "2efff8fe-4aa2-4164-a78c-581b1ae39359",
   "metadata": {},
   "source": [
    "- CPU密集型任务不适合异步编程的原因\n",
    "    - 异步编程的优势在于I/O等待时的切换\n",
    "\n",
    "```python\n",
    "# I/O密集型任务 - 适合异步\n",
    "async def io_task():\n",
    "    await asyncio.sleep(1)  # 在等待I/O时，可以切换到其他任务\n",
    "    return \"完成\"\n",
    "\n",
    "# CPU密集型任务 - 不适合异步\n",
    "async def cpu_task():\n",
    "    result = 0\n",
    "    for i in range(1000000000):  # CPU计算，无法切换\n",
    "        result += i\n",
    "    return result\n",
    "```"
   ]
  },
  {
   "cell_type": "markdown",
   "id": "0b84753c-b552-4cbe-8c03-6041ab50377d",
   "metadata": {},
   "source": [
    "### semaphore"
   ]
  },
  {
   "cell_type": "markdown",
   "id": "fb59957d-e904-475a-b5b2-0891cf283e99",
   "metadata": {},
   "source": [
    "- asyncio.Semaphore：控制并发；\n",
    "    - 用于限制同时运行的协程数量，从而防止资源过载或满足某些并发限制需求。\n",
    "- asyncio.as_completed：获取实时结果；\n",
    "    - asyncio.as_completed 会在每个任务完成时生成一个迭代器，使您能够立即处理完成的任务，而不必等待所有任务结束。"
   ]
  }
 ],
 "metadata": {
  "kernelspec": {
   "display_name": "Python 3 (ipykernel)",
   "language": "python",
   "name": "python3"
  },
  "language_info": {
   "codemirror_mode": {
    "name": "ipython",
    "version": 3
   },
   "file_extension": ".py",
   "mimetype": "text/x-python",
   "name": "python",
   "nbconvert_exporter": "python",
   "pygments_lexer": "ipython3",
   "version": "3.10.13"
  }
 },
 "nbformat": 4,
 "nbformat_minor": 5
}
