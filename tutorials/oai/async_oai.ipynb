{
 "cells": [
  {
   "cell_type": "markdown",
   "id": "4f3aebde-2527-4e9a-8121-a54acfc401c4",
   "metadata": {},
   "source": [
    "- A guide to make asynchronous calls to OpenAI API with rate limiting."
   ]
  },
  {
   "cell_type": "markdown",
   "id": "78eca8d0-6984-4d09-8481-b61037da20f5",
   "metadata": {},
   "source": [
    "### Asyncio"
   ]
  },
  {
   "cell_type": "markdown",
   "id": "c6151053-9157-46c6-bac9-2026f2274cd9",
   "metadata": {},
   "source": [
    "- Asyncio is a Python library that provides asynchronous I/O.\n",
    "    - 协程（coroutine）：使用async def定义的函数\n",
    "        - 可以在执行过程中暂停和恢复\n",
    "        - 必须使用await来调用\n",
    "    - await 关键字\n",
    "        - 用于暂停协程执行，等待异步操作完成\n",
    "        - 只能在async函数内使用\n",
    "    - asyncio.run\n",
    "        - 执行 async def 定义的事件循环（event loop）\n",
    "    - asyncio.gather()同时处理多个异步任务\n",
    "- It relieves you of the burden of worrying about **locks and threads** when writing concurrent programs.\n",
    "- The foundation of asyncio is the idea of **coroutines**, or functions that can be interrupted and then resumed."
   ]
  },
  {
   "cell_type": "markdown",
   "id": "2efff8fe-4aa2-4164-a78c-581b1ae39359",
   "metadata": {},
   "source": [
    "- CPU密集型任务不适合异步编程的原因\n",
    "    - 异步编程的优势在于I/O等待时的切换\n",
    "\n",
    "```python\n",
    "# I/O密集型任务 - 适合异步\n",
    "async def io_task():\n",
    "    await asyncio.sleep(1)  # 在等待I/O时，可以切换到其他任务\n",
    "    return \"完成\"\n",
    "\n",
    "# CPU密集型任务 - 不适合异步\n",
    "async def cpu_task():\n",
    "    result = 0\n",
    "    for i in range(1000000000):  # CPU计算，无法切换\n",
    "        result += i\n",
    "    return result\n",
    "```"
   ]
  },
  {
   "cell_type": "markdown",
   "id": "f2faf13d-b9ca-4f08-8a5f-fa6c6123c91a",
   "metadata": {},
   "source": [
    "### backoff"
   ]
  },
  {
   "cell_type": "markdown",
   "id": "c5919024-a731-45ba-97b3-f865f9490b4d",
   "metadata": {},
   "source": [
    "Backoff is a python library that provides decorators that can used to wrap a function and retry until a specified condition is met."
   ]
  },
  {
   "cell_type": "code",
   "execution_count": null,
   "id": "4db774b2-cb1b-44e3-b342-7fe34db31c21",
   "metadata": {},
   "outputs": [],
   "source": []
  }
 ],
 "metadata": {
  "kernelspec": {
   "display_name": "Python 3 (ipykernel)",
   "language": "python",
   "name": "python3"
  },
  "language_info": {
   "codemirror_mode": {
    "name": "ipython",
    "version": 3
   },
   "file_extension": ".py",
   "mimetype": "text/x-python",
   "name": "python",
   "nbconvert_exporter": "python",
   "pygments_lexer": "ipython3",
   "version": "3.10.13"
  }
 },
 "nbformat": 4,
 "nbformat_minor": 5
}
