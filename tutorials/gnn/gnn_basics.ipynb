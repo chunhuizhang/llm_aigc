{
 "cells": [
  {
   "cell_type": "code",
   "execution_count": 1,
   "id": "0c0a9a18-1f9b-44f2-9f72-704857d60660",
   "metadata": {
    "execution": {
     "iopub.execute_input": "2024-10-14T15:43:12.622078Z",
     "iopub.status.busy": "2024-10-14T15:43:12.621448Z",
     "iopub.status.idle": "2024-10-14T15:43:12.650186Z",
     "shell.execute_reply": "2024-10-14T15:43:12.647899Z",
     "shell.execute_reply.started": "2024-10-14T15:43:12.622029Z"
    }
   },
   "outputs": [
    {
     "data": {
      "text/html": [
       "<img src=\"./imgs/gnn_layers.png\" width=\"500\"/>"
      ],
      "text/plain": [
       "<IPython.core.display.Image object>"
      ]
     },
     "execution_count": 1,
     "metadata": {},
     "output_type": "execute_result"
    }
   ],
   "source": [
    "from IPython.display import Image\n",
    "Image(url='./imgs/gnn_layers.png', width=500)"
   ]
  },
  {
   "cell_type": "markdown",
   "id": "bc026e17",
   "metadata": {},
   "source": [
    "## interaction_network"
   ]
  },
  {
   "cell_type": "markdown",
   "id": "be734138",
   "metadata": {},
   "source": [
    "- references\n",
    "    - https://arxiv.org/pdf/1612.00222.pdf：Learning about Objects, Relations and Physics\n",
    "        - 网路结构非常清晰；\n",
    "    - https://github.com/higgsfield/interaction_network_pytorch"
   ]
  }
 ],
 "metadata": {
  "kernelspec": {
   "display_name": "Python 3 (ipykernel)",
   "language": "python",
   "name": "python3"
  },
  "language_info": {
   "codemirror_mode": {
    "name": "ipython",
    "version": 3
   },
   "file_extension": ".py",
   "mimetype": "text/x-python",
   "name": "python",
   "nbconvert_exporter": "python",
   "pygments_lexer": "ipython3",
   "version": "3.10.13"
  },
  "toc": {
   "base_numbering": 1,
   "nav_menu": {},
   "number_sections": true,
   "sideBar": true,
   "skip_h1_title": false,
   "title_cell": "Table of Contents",
   "title_sidebar": "Contents",
   "toc_cell": false,
   "toc_position": {},
   "toc_section_display": true,
   "toc_window_display": false
  }
 },
 "nbformat": 4,
 "nbformat_minor": 5
}
