{
 "cells": [
  {
   "cell_type": "code",
   "execution_count": 1,
   "id": "0c0a9a18-1f9b-44f2-9f72-704857d60660",
   "metadata": {
    "execution": {
     "iopub.execute_input": "2024-10-15T16:03:59.246053Z",
     "iopub.status.busy": "2024-10-15T16:03:59.245429Z",
     "iopub.status.idle": "2024-10-15T16:03:59.274457Z",
     "shell.execute_reply": "2024-10-15T16:03:59.272200Z",
     "shell.execute_reply.started": "2024-10-15T16:03:59.246001Z"
    }
   },
   "outputs": [
    {
     "data": {
      "text/html": [
       "<img src=\"./imgs/gnn_layers.png\" width=\"500\"/>"
      ],
      "text/plain": [
       "<IPython.core.display.Image object>"
      ]
     },
     "execution_count": 1,
     "metadata": {},
     "output_type": "execute_result"
    }
   ],
   "source": [
    "from IPython.display import Image\n",
    "Image(url='./imgs/gnn_layers.png', width=500)"
   ]
  },
  {
   "cell_type": "markdown",
   "id": "b793666c-1b18-4f5f-a9ec-f552b5c601fc",
   "metadata": {},
   "source": [
    "### two layers GCN"
   ]
  },
  {
   "cell_type": "code",
   "execution_count": 2,
   "id": "e9c2f813-a21c-4406-8f8d-1b906b2f3337",
   "metadata": {
    "execution": {
     "iopub.execute_input": "2024-10-15T16:04:16.500717Z",
     "iopub.status.busy": "2024-10-15T16:04:16.500140Z",
     "iopub.status.idle": "2024-10-15T16:04:16.513518Z",
     "shell.execute_reply": "2024-10-15T16:04:16.511426Z",
     "shell.execute_reply.started": "2024-10-15T16:04:16.500672Z"
    }
   },
   "outputs": [
    {
     "data": {
      "text/html": [
       "<img src=\"./imgs/two-layers-gcn.png\" width=\"400\"/>"
      ],
      "text/plain": [
       "<IPython.core.display.Image object>"
      ]
     },
     "execution_count": 2,
     "metadata": {},
     "output_type": "execute_result"
    }
   ],
   "source": [
    "Image(url='./imgs/two-layers-gcn.png', width=400)"
   ]
  },
  {
   "cell_type": "markdown",
   "id": "bc026e17",
   "metadata": {},
   "source": [
    "## interaction_network"
   ]
  },
  {
   "cell_type": "markdown",
   "id": "be734138",
   "metadata": {},
   "source": [
    "- references\n",
    "    - https://arxiv.org/pdf/1612.00222.pdf：Learning about Objects, Relations and Physics\n",
    "        - 网路结构非常清晰；\n",
    "    - https://github.com/higgsfield/interaction_network_pytorch"
   ]
  },
  {
   "cell_type": "markdown",
   "id": "2287adc8-bc14-4cc2-a412-471f50318cdb",
   "metadata": {},
   "source": [
    "### Example"
   ]
  },
  {
   "cell_type": "markdown",
   "id": "7525019f-00e1-4db0-9d5f-ccd0689a709a",
   "metadata": {},
   "source": [
    "- https://blog.zakjost.com/post/gcn_citeseer/"
   ]
  },
  {
   "cell_type": "code",
   "execution_count": null,
   "id": "75c0b2e6-8aaa-4ae3-aa89-393ee4f7ba50",
   "metadata": {},
   "outputs": [],
   "source": []
  }
 ],
 "metadata": {
  "kernelspec": {
   "display_name": "Python 3 (ipykernel)",
   "language": "python",
   "name": "python3"
  },
  "language_info": {
   "codemirror_mode": {
    "name": "ipython",
    "version": 3
   },
   "file_extension": ".py",
   "mimetype": "text/x-python",
   "name": "python",
   "nbconvert_exporter": "python",
   "pygments_lexer": "ipython3",
   "version": "3.10.13"
  },
  "toc": {
   "base_numbering": 1,
   "nav_menu": {},
   "number_sections": true,
   "sideBar": true,
   "skip_h1_title": false,
   "title_cell": "Table of Contents",
   "title_sidebar": "Contents",
   "toc_cell": false,
   "toc_position": {},
   "toc_section_display": true,
   "toc_window_display": false
  }
 },
 "nbformat": 4,
 "nbformat_minor": 5
}
