{
 "cells": [
  {
   "cell_type": "code",
   "execution_count": 5,
   "id": "9cfcbc26-2f73-4893-b4ad-70153466678c",
   "metadata": {
    "execution": {
     "iopub.execute_input": "2024-10-14T15:43:53.563630Z",
     "iopub.status.busy": "2024-10-14T15:43:53.562997Z",
     "iopub.status.idle": "2024-10-14T15:43:53.572555Z",
     "shell.execute_reply": "2024-10-14T15:43:53.570259Z",
     "shell.execute_reply.started": "2024-10-14T15:43:53.563584Z"
    }
   },
   "outputs": [],
   "source": [
    "from IPython.display import Image"
   ]
  },
  {
   "cell_type": "code",
   "execution_count": 6,
   "id": "2fb2db2b-effd-46fe-8c53-22f7cca1795c",
   "metadata": {
    "execution": {
     "iopub.execute_input": "2024-10-14T15:43:54.968278Z",
     "iopub.status.busy": "2024-10-14T15:43:54.967636Z",
     "iopub.status.idle": "2024-10-14T15:43:54.980845Z",
     "shell.execute_reply": "2024-10-14T15:43:54.978750Z",
     "shell.execute_reply.started": "2024-10-14T15:43:54.968222Z"
    }
   },
   "outputs": [
    {
     "data": {
      "text/html": [
       "<img src=\"./imgs/gnn_layers.png\" width=\"500\"/>"
      ],
      "text/plain": [
       "<IPython.core.display.Image object>"
      ]
     },
     "execution_count": 6,
     "metadata": {},
     "output_type": "execute_result"
    }
   ],
   "source": [
    "Image(url='./imgs/gnn_layers.png', width=500)"
   ]
  },
  {
   "cell_type": "code",
   "execution_count": 7,
   "id": "8a01bc67-10d2-42c7-ab15-5566f383cd1b",
   "metadata": {
    "execution": {
     "iopub.execute_input": "2024-10-14T15:45:04.557978Z",
     "iopub.status.busy": "2024-10-14T15:45:04.557351Z",
     "iopub.status.idle": "2024-10-14T15:45:08.682441Z",
     "shell.execute_reply": "2024-10-14T15:45:08.680521Z",
     "shell.execute_reply.started": "2024-10-14T15:45:04.557932Z"
    }
   },
   "outputs": [],
   "source": [
    "import torch_geometric as pyg"
   ]
  },
  {
   "cell_type": "markdown",
   "id": "b7bea46c-52cc-4f6a-87f8-39a6de5de259",
   "metadata": {},
   "source": [
    "- 2708 nodes, 10556 edges\n",
    "- Each node describes a document.\n",
    "- Each node is described by a FEATURE TENSOR.\n",
    "    -  x_1, ..., x_1433\n",
    "-  Two documents are connected (with an edge) if there exists a citation link in CORA between them."
   ]
  }
 ],
 "metadata": {
  "kernelspec": {
   "display_name": "Python 3 (ipykernel)",
   "language": "python",
   "name": "python3"
  },
  "language_info": {
   "codemirror_mode": {
    "name": "ipython",
    "version": 3
   },
   "file_extension": ".py",
   "mimetype": "text/x-python",
   "name": "python",
   "nbconvert_exporter": "python",
   "pygments_lexer": "ipython3",
   "version": "3.10.13"
  }
 },
 "nbformat": 4,
 "nbformat_minor": 5
}
