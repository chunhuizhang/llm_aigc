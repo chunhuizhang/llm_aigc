{
 "cells": [
  {
   "cell_type": "markdown",
   "id": "ed8cf62b-6270-403b-adf2-89a5d5fcf197",
   "metadata": {},
   "source": [
    "### GCN => GAT "
   ]
  },
  {
   "cell_type": "markdown",
   "id": "910443d0-8554-4864-9a86-e4a8ce65eda4",
   "metadata": {},
   "source": [
    "- GCN：Graph Conv Networks, GAT：Graph Attention Networks\n",
    "- 都是用来学习 target node 的 representation\n",
    "- gcn\n",
    "    - $d_v$：表示节点的degree（即有多少条边连接），注意包含自己；\n",
    "$$\n",
    "\\begin{align}\n",
    "\\mathbf{h}_{\\mathcal{N}(v)} &= \\sum_{u \\in \\mathcal{N}(v)} w_{u,v} \\mathbf{h}_u \\\\\n",
    "&= \\sum_{u \\in \\mathcal{N}(v)} \\sqrt{\\frac{1}{d_v}} \\sqrt{\\frac{1}{d_u}} \\mathbf{h}_u \\\\\n",
    "&= \\sqrt{\\frac{1}{d_v}} \\sum_{u \\in \\mathcal{N}(v)} \\sqrt{\\frac{1}{d_u}} \\mathbf{h}_u\n",
    "\\end{align}\n",
    "$$\n",
    "\n",
    "- gat\n",
    "    - https://www.youtube.com/watch?v=SnRfBfXwLuY\n",
    "\n",
    "$$\n",
    "\\begin{align}\n",
    "\\mathbf{h}_{\\mathcal{N}(v)} &= \\sum_{u \\in \\mathcal{N}(v)} \\underbrace{\\text{softmax}_u \\left( a(\\mathbf{h}_u, \\mathbf{h}_v) \\right)}_{\\alpha_{u,v}} \\mathbf{h}_u \\\\\n",
    "\\alpha_{u,v} &= \\frac{\\exp\\left(a(\\mathbf{h}_u, \\mathbf{h}_v)\\right)}{\\sum_{k \\in \\mathcal{N}(v)} \\exp\\left(a(\\mathbf{h}_k, \\mathbf{h}_v)\\right)}\n",
    "\\end{align}\n",
    "$$"
   ]
  },
  {
   "cell_type": "markdown",
   "id": "bc9c8d05-6dad-4104-a786-8c35a501081d",
   "metadata": {},
   "source": [
    "### GAT"
   ]
  },
  {
   "cell_type": "markdown",
   "id": "d37a53c6-8bc4-4ec0-802e-b17b2623b69b",
   "metadata": {},
   "source": [
    "https://github.com/AntonioLonga/PytorchGeometricTutorial/blob/main/Tutorial3/Tutorial3.pdf\n",
    "\n",
    "- input: a set of node features, $\\mathbf{h} = \\{ \\bar{h}_1, \\bar{h}_2, \\dots, \\bar{h}_n \\}, \\quad \\bar{h}_i \\in \\mathbb{R}^{F}$\n",
    "- output: a set of node features, $\\mathbf{h'} = \\{ \\bar{h'}_1, \\bar{h'}_2, \\dots, \\bar{h'}_n \\}, \\quad \\bar{h'}_i \\in \\mathbb{R}^{F'}$\n",
    "- GAT\n",
    "    - by a parameterized linear transformation to every node\n",
    "        - $\\mathbf W\\cdot \\bar h_i, \\mathbf W\\in \\mathbf R^{F'\\times F}$\n",
    "    - self attention:\n",
    "        - $a: \\mathbf R^{F'}\\times \\mathbf R^{F'} \\rightarrow R$\n",
    "        - $e_{ij}=a(\\mathbf W\\cdot \\bar h_i,\\mathbf W\\cdot \\bar h_j)$：specify the Importance of node j's features  to node i\n",
    "    - normalization\n",
    "        - $\\alpha_{ij}=\\text{softmax}(e_{ij})=\\frac{\\exp(e_{ij})}{\\sum_{k\\in N(i)}\\exp(e_{ik})}$"
   ]
  },
  {
   "cell_type": "markdown",
   "id": "d631f377-8a0e-4579-8f69-56d864c9f550",
   "metadata": {},
   "source": [
    "### coding"
   ]
  },
  {
   "cell_type": "code",
   "execution_count": 1,
   "id": "5b96e7d8-df92-4fc8-9070-d1b226ed4453",
   "metadata": {
    "execution": {
     "iopub.execute_input": "2024-10-21T15:59:02.090337Z",
     "iopub.status.busy": "2024-10-21T15:59:02.089690Z",
     "iopub.status.idle": "2024-10-21T15:59:03.841894Z",
     "shell.execute_reply": "2024-10-21T15:59:03.840076Z",
     "shell.execute_reply.started": "2024-10-21T15:59:02.090288Z"
    }
   },
   "outputs": [],
   "source": [
    "import numpy as np\n",
    "import torch\n",
    "import torch.nn as nn\n",
    "import torch.nn.functional as F"
   ]
  },
  {
   "cell_type": "code",
   "execution_count": 2,
   "id": "5ca7971f-3e92-4b62-9974-313ab55d1df4",
   "metadata": {
    "execution": {
     "iopub.execute_input": "2024-10-21T15:59:09.079111Z",
     "iopub.status.busy": "2024-10-21T15:59:09.078708Z",
     "iopub.status.idle": "2024-10-21T15:59:09.088489Z",
     "shell.execute_reply": "2024-10-21T15:59:09.086388Z",
     "shell.execute_reply.started": "2024-10-21T15:59:09.079088Z"
    }
   },
   "outputs": [],
   "source": [
    "class GATLayer(nn.Module):\n",
    "    \"\"\"\n",
    "    Simple PyTorch Implementation of the Graph Attention layer.\n",
    "    \"\"\"\n",
    "    def __init__(self):\n",
    "        super(GATLayer, self).__init__()\n",
    "      \n",
    "    def forward(self, input, adj):\n",
    "        print(\"\")"
   ]
  },
  {
   "cell_type": "code",
   "execution_count": 4,
   "id": "9188e735-e35b-4d6c-a648-3e0b5affa4e9",
   "metadata": {
    "execution": {
     "iopub.execute_input": "2024-10-21T16:00:44.169471Z",
     "iopub.status.busy": "2024-10-21T16:00:44.168809Z",
     "iopub.status.idle": "2024-10-21T16:00:44.191712Z",
     "shell.execute_reply": "2024-10-21T16:00:44.189713Z",
     "shell.execute_reply.started": "2024-10-21T16:00:44.169423Z"
    }
   },
   "outputs": [
    {
     "data": {
      "text/plain": [
       "(torch.Size([3, 5]), torch.Size([5, 2]))"
      ]
     },
     "execution_count": 4,
     "metadata": {},
     "output_type": "execute_result"
    }
   ],
   "source": [
    "in_features = 5\n",
    "out_features = 2\n",
    "nb_nodes = 3\n",
    "\n",
    "X = torch.rand(nb_nodes, in_features) \n",
    "W = nn.Parameter(torch.zeros(size=(in_features, out_features))) #xavier paramiter inizializator\n",
    "nn.init.xavier_uniform_(W.data, gain=1.414)\n",
    "\n",
    "X.shape, W.shape"
   ]
  },
  {
   "cell_type": "code",
   "execution_count": 6,
   "id": "8eb7e037-ca1c-481f-a827-caaf431015f0",
   "metadata": {
    "execution": {
     "iopub.execute_input": "2024-10-21T16:02:32.893416Z",
     "iopub.status.busy": "2024-10-21T16:02:32.892769Z",
     "iopub.status.idle": "2024-10-21T16:02:32.906507Z",
     "shell.execute_reply": "2024-10-21T16:02:32.904248Z",
     "shell.execute_reply.started": "2024-10-21T16:02:32.893371Z"
    }
   },
   "outputs": [
    {
     "data": {
      "text/plain": [
       "torch.Size([3, 2])"
      ]
     },
     "execution_count": 6,
     "metadata": {},
     "output_type": "execute_result"
    }
   ],
   "source": [
    "h = torch.mm(X, W)\n",
    "N = h.shape[0]\n",
    "h.shape"
   ]
  },
  {
   "cell_type": "code",
   "execution_count": 8,
   "id": "3fad9092-2a5d-4929-88b5-9b445643eb38",
   "metadata": {
    "execution": {
     "iopub.execute_input": "2024-10-21T16:03:52.888724Z",
     "iopub.status.busy": "2024-10-21T16:03:52.888085Z",
     "iopub.status.idle": "2024-10-21T16:03:52.905141Z",
     "shell.execute_reply": "2024-10-21T16:03:52.902891Z",
     "shell.execute_reply.started": "2024-10-21T16:03:52.888678Z"
    }
   },
   "outputs": [
    {
     "data": {
      "text/plain": [
       "tensor([[-0.8332, -1.1838],\n",
       "        [-0.8332, -1.1838],\n",
       "        [-0.8332, -1.1838],\n",
       "        [-0.4022, -0.7821],\n",
       "        [-0.4022, -0.7821],\n",
       "        [-0.4022, -0.7821],\n",
       "        [ 0.3184, -1.1586],\n",
       "        [ 0.3184, -1.1586],\n",
       "        [ 0.3184, -1.1586]], grad_fn=<ViewBackward0>)"
      ]
     },
     "execution_count": 8,
     "metadata": {},
     "output_type": "execute_result"
    }
   ],
   "source": [
    "h.repeat(1, N).view(N*N, -1)"
   ]
  },
  {
   "cell_type": "code",
   "execution_count": 10,
   "id": "75597ccf-3bbe-4d4f-bc21-474ae6882449",
   "metadata": {
    "execution": {
     "iopub.execute_input": "2024-10-21T16:04:28.689561Z",
     "iopub.status.busy": "2024-10-21T16:04:28.688913Z",
     "iopub.status.idle": "2024-10-21T16:04:28.703541Z",
     "shell.execute_reply": "2024-10-21T16:04:28.701247Z",
     "shell.execute_reply.started": "2024-10-21T16:04:28.689515Z"
    }
   },
   "outputs": [
    {
     "data": {
      "text/plain": [
       "tensor([[-0.8332, -1.1838],\n",
       "        [-0.4022, -0.7821],\n",
       "        [ 0.3184, -1.1586],\n",
       "        [-0.8332, -1.1838],\n",
       "        [-0.4022, -0.7821],\n",
       "        [ 0.3184, -1.1586],\n",
       "        [-0.8332, -1.1838],\n",
       "        [-0.4022, -0.7821],\n",
       "        [ 0.3184, -1.1586]], grad_fn=<RepeatBackward0>)"
      ]
     },
     "execution_count": 10,
     "metadata": {},
     "output_type": "execute_result"
    }
   ],
   "source": [
    "h.repeat(N, 1)"
   ]
  },
  {
   "cell_type": "code",
   "execution_count": 11,
   "id": "7b6a9bf6-5b64-4fb5-a9a9-a2ed37980c16",
   "metadata": {
    "execution": {
     "iopub.execute_input": "2024-10-21T16:05:12.966604Z",
     "iopub.status.busy": "2024-10-21T16:05:12.965957Z",
     "iopub.status.idle": "2024-10-21T16:05:12.983584Z",
     "shell.execute_reply": "2024-10-21T16:05:12.981423Z",
     "shell.execute_reply.started": "2024-10-21T16:05:12.966558Z"
    }
   },
   "outputs": [
    {
     "data": {
      "text/plain": [
       "tensor([[-0.8332, -1.1838, -0.8332, -1.1838],\n",
       "        [-0.8332, -1.1838, -0.4022, -0.7821],\n",
       "        [-0.8332, -1.1838,  0.3184, -1.1586],\n",
       "        [-0.4022, -0.7821, -0.8332, -1.1838],\n",
       "        [-0.4022, -0.7821, -0.4022, -0.7821],\n",
       "        [-0.4022, -0.7821,  0.3184, -1.1586],\n",
       "        [ 0.3184, -1.1586, -0.8332, -1.1838],\n",
       "        [ 0.3184, -1.1586, -0.4022, -0.7821],\n",
       "        [ 0.3184, -1.1586,  0.3184, -1.1586]], grad_fn=<CatBackward0>)"
      ]
     },
     "execution_count": 11,
     "metadata": {},
     "output_type": "execute_result"
    }
   ],
   "source": [
    "torch.cat([h.repeat(1, N).view(N * N, -1), h.repeat(N, 1)], dim=1)"
   ]
  },
  {
   "cell_type": "code",
   "execution_count": 12,
   "id": "c8b812d0-d089-42bf-888e-b5ef6fce1f7f",
   "metadata": {
    "execution": {
     "iopub.execute_input": "2024-10-21T16:05:32.435121Z",
     "iopub.status.busy": "2024-10-21T16:05:32.434500Z",
     "iopub.status.idle": "2024-10-21T16:05:32.451543Z",
     "shell.execute_reply": "2024-10-21T16:05:32.449373Z",
     "shell.execute_reply.started": "2024-10-21T16:05:32.435077Z"
    }
   },
   "outputs": [
    {
     "data": {
      "text/plain": [
       "tensor([[[-0.8332, -1.1838, -0.8332, -1.1838],\n",
       "         [-0.8332, -1.1838, -0.4022, -0.7821],\n",
       "         [-0.8332, -1.1838,  0.3184, -1.1586]],\n",
       "\n",
       "        [[-0.4022, -0.7821, -0.8332, -1.1838],\n",
       "         [-0.4022, -0.7821, -0.4022, -0.7821],\n",
       "         [-0.4022, -0.7821,  0.3184, -1.1586]],\n",
       "\n",
       "        [[ 0.3184, -1.1586, -0.8332, -1.1838],\n",
       "         [ 0.3184, -1.1586, -0.4022, -0.7821],\n",
       "         [ 0.3184, -1.1586,  0.3184, -1.1586]]], grad_fn=<ViewBackward0>)"
      ]
     },
     "execution_count": 12,
     "metadata": {},
     "output_type": "execute_result"
    }
   ],
   "source": [
    "torch.cat([h.repeat(1, N).view(N * N, -1), h.repeat(N, 1)], dim=1).view(N, -1, 2 * out_features)"
   ]
  },
  {
   "cell_type": "code",
   "execution_count": 13,
   "id": "5522b15b-0faf-42e1-a716-c8ad88a97d1c",
   "metadata": {
    "execution": {
     "iopub.execute_input": "2024-10-21T16:06:04.882893Z",
     "iopub.status.busy": "2024-10-21T16:06:04.882260Z",
     "iopub.status.idle": "2024-10-21T16:06:04.894569Z",
     "shell.execute_reply": "2024-10-21T16:06:04.892487Z",
     "shell.execute_reply.started": "2024-10-21T16:06:04.882848Z"
    }
   },
   "outputs": [],
   "source": [
    "a_input = torch.cat([h.repeat(1, N).view(N * N, -1), h.repeat(N, 1)], dim=1).view(N, -1, 2 * out_features)\n"
   ]
  },
  {
   "cell_type": "code",
   "execution_count": 14,
   "id": "069552f8-35e8-4e11-b2fa-287d50caf3ee",
   "metadata": {
    "execution": {
     "iopub.execute_input": "2024-10-21T16:06:14.857032Z",
     "iopub.status.busy": "2024-10-21T16:06:14.856413Z",
     "iopub.status.idle": "2024-10-21T16:06:14.866304Z",
     "shell.execute_reply": "2024-10-21T16:06:14.864255Z",
     "shell.execute_reply.started": "2024-10-21T16:06:14.856988Z"
    }
   },
   "outputs": [],
   "source": [
    "leakyrelu = nn.LeakyReLU(0.2)  # LeakyReLU\n"
   ]
  },
  {
   "cell_type": "code",
   "execution_count": 15,
   "id": "23c1081a-8a01-4c3f-9966-bffa0640d56f",
   "metadata": {
    "execution": {
     "iopub.execute_input": "2024-10-21T16:06:29.028267Z",
     "iopub.status.busy": "2024-10-21T16:06:29.027628Z",
     "iopub.status.idle": "2024-10-21T16:06:29.039752Z",
     "shell.execute_reply": "2024-10-21T16:06:29.037408Z",
     "shell.execute_reply.started": "2024-10-21T16:06:29.028222Z"
    }
   },
   "outputs": [
    {
     "name": "stdout",
     "output_type": "stream",
     "text": [
      "torch.Size([4, 1])\n"
     ]
    }
   ],
   "source": [
    "a = nn.Parameter(torch.zeros(size=(2*out_features, 1))) #xavier paramiter inizializator\n",
    "nn.init.xavier_uniform_(a.data, gain=1.414)\n",
    "print(a.shape)"
   ]
  },
  {
   "cell_type": "code",
   "execution_count": 16,
   "id": "4cec1e07-94f6-46ef-8df7-21e408ae6c89",
   "metadata": {
    "execution": {
     "iopub.execute_input": "2024-10-21T16:06:55.445118Z",
     "iopub.status.busy": "2024-10-21T16:06:55.444487Z",
     "iopub.status.idle": "2024-10-21T16:06:55.458602Z",
     "shell.execute_reply": "2024-10-21T16:06:55.456520Z",
     "shell.execute_reply.started": "2024-10-21T16:06:55.445074Z"
    }
   },
   "outputs": [
    {
     "name": "stdout",
     "output_type": "stream",
     "text": [
      "torch.Size([3, 3, 4]) torch.Size([4, 1])\n",
      "\n",
      "torch.Size([3, 3, 1])\n",
      "\n",
      "torch.Size([3, 3])\n"
     ]
    }
   ],
   "source": [
    "print(a_input.shape,a.shape)\n",
    "print(\"\")\n",
    "print(torch.matmul(a_input,a).shape)\n",
    "print(\"\")\n",
    "print(torch.matmul(a_input,a).squeeze(2).shape)"
   ]
  },
  {
   "cell_type": "code",
   "execution_count": null,
   "id": "b87fc360-8cae-4715-b24d-53381b91fa5e",
   "metadata": {},
   "outputs": [],
   "source": []
  }
 ],
 "metadata": {
  "kernelspec": {
   "display_name": "Python 3 (ipykernel)",
   "language": "python",
   "name": "python3"
  },
  "language_info": {
   "codemirror_mode": {
    "name": "ipython",
    "version": 3
   },
   "file_extension": ".py",
   "mimetype": "text/x-python",
   "name": "python",
   "nbconvert_exporter": "python",
   "pygments_lexer": "ipython3",
   "version": "3.10.13"
  }
 },
 "nbformat": 4,
 "nbformat_minor": 5
}
