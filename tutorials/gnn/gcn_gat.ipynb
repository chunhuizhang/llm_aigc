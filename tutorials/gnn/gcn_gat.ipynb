{
 "cells": [
  {
   "cell_type": "markdown",
   "id": "ed8cf62b-6270-403b-adf2-89a5d5fcf197",
   "metadata": {},
   "source": [
    "### GCN => GAT "
   ]
  },
  {
   "cell_type": "markdown",
   "id": "910443d0-8554-4864-9a86-e4a8ce65eda4",
   "metadata": {},
   "source": [
    "- GCN：Graph Conv Networks, GAT：Graph Attention Networks\n",
    "- 都是用来学习 target node 的 representation\n",
    "- gcn\n",
    "    - $d_v$：表示节点的degree（即有多少条边连接），注意包含自己；\n",
    "$$\n",
    "\\begin{align}\n",
    "\\mathbf{h}_{\\mathcal{N}(v)} &= \\sum_{u \\in \\mathcal{N}(v)} w_{u,v} \\mathbf{h}_u \\\\\n",
    "&= \\sum_{u \\in \\mathcal{N}(v)} \\sqrt{\\frac{1}{d_v}} \\sqrt{\\frac{1}{d_u}} \\mathbf{h}_u \\\\\n",
    "&= \\sqrt{\\frac{1}{d_v}} \\sum_{u \\in \\mathcal{N}(v)} \\sqrt{\\frac{1}{d_u}} \\mathbf{h}_u\n",
    "\\end{align}\n",
    "$$\n",
    "\n",
    "- gat\n",
    "    - https://www.youtube.com/watch?v=SnRfBfXwLuY\n",
    "\n",
    "$$\n",
    "\\begin{align}\n",
    "\\mathbf{h}_{\\mathcal{N}(v)} &= \\sum_{u \\in \\mathcal{N}(v)} \\underbrace{\\text{softmax}_u \\left( a(\\mathbf{h}_u, \\mathbf{h}_v) \\right)}_{\\alpha_{u,v}} \\mathbf{h}_u \\\\\n",
    "\\alpha_{u,v} &= \\frac{\\exp\\left(a(\\mathbf{h}_u, \\mathbf{h}_v)\\right)}{\\sum_{k \\in \\mathcal{N}(v)} \\exp\\left(a(\\mathbf{h}_k, \\mathbf{h}_v)\\right)}\n",
    "\\end{align}\n",
    "$$"
   ]
  },
  {
   "cell_type": "code",
   "execution_count": null,
   "id": "72553f2b-2de9-472c-8cc4-e528634c0cd1",
   "metadata": {},
   "outputs": [],
   "source": []
  }
 ],
 "metadata": {
  "kernelspec": {
   "display_name": "Python 3 (ipykernel)",
   "language": "python",
   "name": "python3"
  },
  "language_info": {
   "codemirror_mode": {
    "name": "ipython",
    "version": 3
   },
   "file_extension": ".py",
   "mimetype": "text/x-python",
   "name": "python",
   "nbconvert_exporter": "python",
   "pygments_lexer": "ipython3",
   "version": "3.10.13"
  }
 },
 "nbformat": 4,
 "nbformat_minor": 5
}
