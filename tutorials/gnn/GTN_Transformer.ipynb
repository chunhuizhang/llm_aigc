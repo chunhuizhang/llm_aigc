{
 "cells": [
  {
   "cell_type": "markdown",
   "id": "b8f5b88b-70fe-4c9a-87c9-c89932db593e",
   "metadata": {},
   "source": [
    "|      **Graph**              | **Transformers**      |\n",
    "|-----------------------------|---------------------------|\n",
    "| (1) Node features?           | (1) Tokenizing            |\n",
    "| (2) Adjacency information?   | (2) Positional encoding   |\n",
    "| (3) Edge features?           | (3) Self-attention        |"
   ]
  }
 ],
 "metadata": {
  "kernelspec": {
   "display_name": "Python 3 (ipykernel)",
   "language": "python",
   "name": "python3"
  },
  "language_info": {
   "codemirror_mode": {
    "name": "ipython",
    "version": 3
   },
   "file_extension": ".py",
   "mimetype": "text/x-python",
   "name": "python",
   "nbconvert_exporter": "python",
   "pygments_lexer": "ipython3",
   "version": "3.10.13"
  }
 },
 "nbformat": 4,
 "nbformat_minor": 5
}
