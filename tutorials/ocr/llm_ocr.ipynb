{
 "cells": [
  {
   "cell_type": "markdown",
   "id": "b3aa3e94-d49b-4cf3-9430-8ec9dc50a526",
   "metadata": {},
   "source": [
    "- https://www.runpulse.com/blog/why-llms-suck-at-ocr\n",
    "    - https://arxiv.org/pdf/2407.06581v1\n",
    "        - Vision language models are blind"
   ]
  },
  {
   "cell_type": "markdown",
   "id": "9b7bbd8e-4397-4c84-b4e5-ea7e334d0cec",
   "metadata": {},
   "source": [
    "- intuitives\n",
    "    - Original Text → Common LLM Substitutions‍\n",
    "        - \"l1lI\"     →  \"1111\" or \"LLLL\"\n",
    "        - \"O0o\"   →  \"000\" or \"OOO\"\n",
    "        - \"vv\"      →  \"w\"\n",
    "        - \"cl\"      →  \"d\"\n",
    "- 幻觉的根源是ViT对局部的不足 + 概率sampling\n",
    "    - only ViT is not enough => cnn + vit ??\n",
    "    - llm 建模（language modeling）的是联合概率，自回归的条件生成是：联合概率"
   ]
  }
 ],
 "metadata": {
  "kernelspec": {
   "display_name": "verl",
   "language": "python",
   "name": "verl"
  },
  "language_info": {
   "codemirror_mode": {
    "name": "ipython",
    "version": 3
   },
   "file_extension": ".py",
   "mimetype": "text/x-python",
   "name": "python",
   "nbconvert_exporter": "python",
   "pygments_lexer": "ipython3",
   "version": "3.9.0"
  }
 },
 "nbformat": 4,
 "nbformat_minor": 5
}
