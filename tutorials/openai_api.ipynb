{
 "cells": [
  {
   "cell_type": "markdown",
   "id": "7a44098f",
   "metadata": {},
   "source": [
    "## models list"
   ]
  },
  {
   "cell_type": "markdown",
   "id": "48cd0895",
   "metadata": {},
   "source": [
    "```\n",
    "import openai\n",
    "model_list = openai.Model.list()\n",
    "\n",
    "[model['id'] for model in openai.Model.list()['data']]\n",
    "```"
   ]
  },
  {
   "cell_type": "markdown",
   "id": "af482a22",
   "metadata": {},
   "source": [
    "## encoding & `tiktoken`"
   ]
  },
  {
   "cell_type": "markdown",
   "id": "36c1a35d",
   "metadata": {},
   "source": [
    "- https://github.com/openai/openai-cookbook/blob/main/examples/How_to_count_tokens_with_tiktoken.ipynb\n",
    "- prevent EOS: `'<|endoftext|>'`\n",
    "    - \"text-davinci-003\"：`logit_bias={\"50256\": -100}` \n",
    "        - `Completion` API \n",
    "        - `tiktoken.get_encoding('gpt2')`\n",
    "    - \"gpt-4\"：`logit_bias={\"100257\": -100}`\n",
    "        - `ChatCompletion`\n",
    "        - `tiktoken.get_encoding('cl100k_base')`"
   ]
  },
  {
   "cell_type": "code",
   "execution_count": 1,
   "id": "0b3ea771",
   "metadata": {
    "ExecuteTime": {
     "end_time": "2023-10-25T15:15:31.719507Z",
     "start_time": "2023-10-25T15:15:31.687451Z"
    }
   },
   "outputs": [],
   "source": [
    "import tiktoken"
   ]
  },
  {
   "cell_type": "code",
   "execution_count": 17,
   "id": "51700c52",
   "metadata": {
    "ExecuteTime": {
     "end_time": "2023-10-25T15:30:10.201487Z",
     "start_time": "2023-10-25T15:30:10.191495Z"
    }
   },
   "outputs": [
    {
     "data": {
      "text/plain": [
       "['gpt2', 'r50k_base', 'p50k_base', 'p50k_edit', 'cl100k_base']"
      ]
     },
     "execution_count": 17,
     "metadata": {},
     "output_type": "execute_result"
    }
   ],
   "source": [
    "tiktoken.list_encoding_names()"
   ]
  },
  {
   "cell_type": "code",
   "execution_count": 24,
   "id": "6d1d3711",
   "metadata": {
    "ExecuteTime": {
     "end_time": "2023-10-25T15:35:15.729857Z",
     "start_time": "2023-10-25T15:35:15.722051Z"
    }
   },
   "outputs": [
    {
     "name": "stdout",
     "output_type": "stream",
     "text": [
      "<Encoding 'p50k_base'>\n",
      "<Encoding 'p50k_base'>\n",
      "<Encoding 'cl100k_base'>\n"
     ]
    }
   ],
   "source": [
    "for m in ['text-davinci-002', 'text-davinci-003', 'gpt-3.5-turbo']:\n",
    "    print(tiktoken.encoding_for_model(m))"
   ]
  },
  {
   "cell_type": "code",
   "execution_count": 18,
   "id": "c7a74666",
   "metadata": {
    "ExecuteTime": {
     "end_time": "2023-10-25T15:30:17.219123Z",
     "start_time": "2023-10-25T15:30:17.211862Z"
    }
   },
   "outputs": [],
   "source": [
    "tokenizer = tiktoken.get_encoding('cl100k_base')"
   ]
  },
  {
   "cell_type": "code",
   "execution_count": 8,
   "id": "8cca5906",
   "metadata": {
    "ExecuteTime": {
     "end_time": "2023-10-25T15:16:45.382754Z",
     "start_time": "2023-10-25T15:16:45.371568Z"
    }
   },
   "outputs": [
    {
     "data": {
      "text/plain": [
       "100277"
      ]
     },
     "execution_count": 8,
     "metadata": {},
     "output_type": "execute_result"
    }
   ],
   "source": [
    "tokenizer.n_vocab"
   ]
  },
  {
   "cell_type": "code",
   "execution_count": 9,
   "id": "a6655f37",
   "metadata": {
    "ExecuteTime": {
     "end_time": "2023-10-25T15:17:09.621449Z",
     "start_time": "2023-10-25T15:17:09.611146Z"
    }
   },
   "outputs": [
    {
     "data": {
      "text/plain": [
       "{'<|endofprompt|>',\n",
       " '<|endoftext|>',\n",
       " '<|fim_middle|>',\n",
       " '<|fim_prefix|>',\n",
       " '<|fim_suffix|>'}"
      ]
     },
     "execution_count": 9,
     "metadata": {},
     "output_type": "execute_result"
    }
   ],
   "source": [
    "tokenizer.special_tokens_set"
   ]
  },
  {
   "cell_type": "code",
   "execution_count": 27,
   "id": "d87d5f85",
   "metadata": {
    "ExecuteTime": {
     "end_time": "2023-10-25T15:36:06.916897Z",
     "start_time": "2023-10-25T15:36:06.907210Z"
    }
   },
   "outputs": [
    {
     "data": {
      "text/plain": [
       "100257"
      ]
     },
     "execution_count": 27,
     "metadata": {},
     "output_type": "execute_result"
    }
   ],
   "source": [
    "# EOT: end of text\n",
    "tokenizer.eot_token"
   ]
  },
  {
   "cell_type": "code",
   "execution_count": 13,
   "id": "9d5cdb37",
   "metadata": {
    "ExecuteTime": {
     "end_time": "2023-10-25T15:19:16.421790Z",
     "start_time": "2023-10-25T15:19:16.408691Z"
    }
   },
   "outputs": [
    {
     "data": {
      "text/plain": [
       "[100257]"
      ]
     },
     "execution_count": 13,
     "metadata": {},
     "output_type": "execute_result"
    }
   ],
   "source": [
    "tokenizer.encode('<|endoftext|>', allowed_special={'<|endoftext|>'})"
   ]
  },
  {
   "cell_type": "code",
   "execution_count": 14,
   "id": "c8f75fa4",
   "metadata": {
    "ExecuteTime": {
     "end_time": "2023-10-25T15:19:53.727813Z",
     "start_time": "2023-10-25T15:19:53.717688Z"
    }
   },
   "outputs": [
    {
     "data": {
      "text/plain": [
       "[100257]"
      ]
     },
     "execution_count": 14,
     "metadata": {},
     "output_type": "execute_result"
    }
   ],
   "source": [
    "tokenizer.encode('<|endoftext|>', allowed_special=tokenizer.special_tokens_set)"
   ]
  },
  {
   "cell_type": "code",
   "execution_count": 19,
   "id": "9d3bac5b",
   "metadata": {
    "ExecuteTime": {
     "end_time": "2023-10-25T15:31:07.637929Z",
     "start_time": "2023-10-25T15:31:07.219660Z"
    }
   },
   "outputs": [
    {
     "data": {
      "text/plain": [
       "[50256]"
      ]
     },
     "execution_count": 19,
     "metadata": {},
     "output_type": "execute_result"
    }
   ],
   "source": [
    "tiktoken.get_encoding('gpt2').encode('<|endoftext|>', allowed_special=tokenizer.special_tokens_set)"
   ]
  }
 ],
 "metadata": {
  "kernelspec": {
   "display_name": "Python 3 (ipykernel)",
   "language": "python",
   "name": "python3"
  },
  "language_info": {
   "codemirror_mode": {
    "name": "ipython",
    "version": 3
   },
   "file_extension": ".py",
   "mimetype": "text/x-python",
   "name": "python",
   "nbconvert_exporter": "python",
   "pygments_lexer": "ipython3",
   "version": "3.10.9"
  },
  "toc": {
   "base_numbering": 1,
   "nav_menu": {},
   "number_sections": true,
   "sideBar": true,
   "skip_h1_title": false,
   "title_cell": "Table of Contents",
   "title_sidebar": "Contents",
   "toc_cell": false,
   "toc_position": {},
   "toc_section_display": true,
   "toc_window_display": false
  }
 },
 "nbformat": 4,
 "nbformat_minor": 5
}
