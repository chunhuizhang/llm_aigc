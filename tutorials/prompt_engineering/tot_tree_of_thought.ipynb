{
 "cells": [
  {
   "cell_type": "markdown",
   "id": "cb57ae58",
   "metadata": {},
   "source": [
    "- highly structured prompt => 提升复杂问题的准确率；\n",
    "    - chains => trees => graphs\n",
    "    - Tree of Thoughts\n",
    "        - `https://arxiv.org/pdf/2305.10601.pdf`\n",
    "- references\n",
    "    - https://github.com/dave1010/tree-of-thought-prompting\n",
    "    - https://github.com/holarissun/PanelGPT\n",
    "    - https://www.promptingguide.ai/techniques/tot\n",
    "    - https://github.com/princeton-nlp/tree-of-thought-llm/tree/master\n",
    "    - https://github.com/kyegomez/tree-of-thoughts"
   ]
  },
  {
   "cell_type": "code",
   "execution_count": 13,
   "id": "8df6cadd",
   "metadata": {
    "ExecuteTime": {
     "end_time": "2024-03-04T14:35:36.906184Z",
     "start_time": "2024-03-04T14:35:36.901137Z"
    }
   },
   "outputs": [],
   "source": [
    "from IPython.display import Image\n",
    "import os\n",
    "os.environ['http_proxy'] = 'http://127.0.0.1:7890'\n",
    "os.environ['https_proxy'] = 'http://127.0.0.1:7890'"
   ]
  },
  {
   "cell_type": "markdown",
   "id": "76182765",
   "metadata": {},
   "source": [
    "## complex problem reasoning"
   ]
  },
  {
   "cell_type": "markdown",
   "id": "3488993d",
   "metadata": {},
   "source": [
    "```\n",
    "Bob is in the living room.\n",
    "He walks to the kitchen, carrying a cup.\n",
    "He puts a ball in the cup and carries the cup to the bedroom.\n",
    "He turns the cup upside down, then walks to the garden.\n",
    "He puts the cup down in the garden, then walks to the garage.\n",
    "Where is the ball?\n",
    "```"
   ]
  },
  {
   "cell_type": "markdown",
   "id": "f1b0082e",
   "metadata": {},
   "source": [
    "- chatgpt 3.5\n",
    "    - The ball is in the garden. When Bob puts the cup down in the garden, he also puts the ball, which was previously inside the cup, down in the garden.\n",
    "- gpt 4\n",
    "    - The ball is in the bedroom. When Bob turns the cup upside down in the bedroom, it implies that he empties the contents of the cup, which includes the ball, into the bedroom. Therefore, the ball remains there even as he moves to the garden and then to the garage."
   ]
  },
  {
   "cell_type": "markdown",
   "id": "7c60190c",
   "metadata": {},
   "source": [
    "## tot"
   ]
  },
  {
   "cell_type": "markdown",
   "id": "07b7beb8",
   "metadata": {},
   "source": [
    "- task specific, 受限于特定任务，manual design，没有那么 general\n",
    "- reduction, $f(n)\\rightarrow f(n-1)$"
   ]
  },
  {
   "cell_type": "code",
   "execution_count": 18,
   "id": "d8f3f6dd",
   "metadata": {
    "ExecuteTime": {
     "end_time": "2024-03-04T14:37:57.371443Z",
     "start_time": "2024-03-04T14:37:57.361803Z"
    }
   },
   "outputs": [
    {
     "data": {
      "text/html": [
       "<img src=\"https://www.promptingguide.ai/_next/image?url=%2F_next%2Fstatic%2Fmedia%2FTOT.3b13bc5e.png&w=3840&q=75\" width=\"500\"/>"
      ],
      "text/plain": [
       "<IPython.core.display.Image object>"
      ]
     },
     "execution_count": 18,
     "metadata": {},
     "output_type": "execute_result"
    }
   ],
   "source": [
    "Image(url='https://www.promptingguide.ai/_next/image?url=%2F_next%2Fstatic%2Fmedia%2FTOT.3b13bc5e.png&w=3840&q=75', \n",
    "      width=500)"
   ]
  },
  {
   "cell_type": "markdown",
   "id": "992c9e30",
   "metadata": {},
   "source": [
    "### vanilla"
   ]
  },
  {
   "cell_type": "markdown",
   "id": "abf2727c",
   "metadata": {},
   "source": [
    "```\n",
    "Imagine three different experts are answering this question.\n",
    "All experts will write down 1 step of their thinking,\n",
    "then share it with the group.\n",
    "Then all experts will go on to the next step, etc.\n",
    "If any expert realises they're wrong at any point then they leave.\n",
    "The question is...\n",
    "```"
   ]
  },
  {
   "cell_type": "markdown",
   "id": "3774b9df",
   "metadata": {},
   "source": [
    "### game 24"
   ]
  },
  {
   "cell_type": "markdown",
   "id": "73a457e7",
   "metadata": {},
   "source": [
    "- game 24\n",
    "    - 4 5 6 10"
   ]
  },
  {
   "cell_type": "code",
   "execution_count": 3,
   "id": "c72394b9",
   "metadata": {
    "ExecuteTime": {
     "end_time": "2024-03-04T13:51:42.734324Z",
     "start_time": "2024-03-04T13:51:42.718945Z"
    }
   },
   "outputs": [],
   "source": [
    "from itertools import permutations, product\n",
    "\n",
    "# 定义一个求解函数，尝试通过加、减、乘、除运算得到结果24\n",
    "def solve_for_24(numbers):\n",
    "    # 定义所有可能的操作\n",
    "    operations = [lambda a, b: a + b, lambda a, b: a - b, lambda a, b: a * b, lambda a, b: a / b]\n",
    "    operation_symbols = ['+', '-', '*', '/']\n",
    "    \n",
    "    # 生成所有可能的数字排列组合以及所有可能的操作组合\n",
    "    for nums in permutations(numbers):\n",
    "        for ops in product(operations, repeat=3):\n",
    "            # 尝试应用操作\n",
    "            try:\n",
    "                result = ops[0](nums[0], nums[1])\n",
    "                result = ops[1](result, nums[2])\n",
    "                result = ops[2](result, nums[3])\n",
    "                \n",
    "                # 如果结果为24（考虑浮点数的精度问题），返回这个组合\n",
    "                if abs(result - 24) < 1e-6:\n",
    "                    # 将操作符号与数字配对以便打印\n",
    "                    op_symbols = [operation_symbols[operations.index(op)] for op in ops]\n",
    "                    expression = f\"(({nums[0]} {op_symbols[0]} {nums[1]}) {op_symbols[1]} {nums[2]}) {op_symbols[2]} {nums[3]}\"\n",
    "                    return expression\n",
    "            except ZeroDivisionError:\n",
    "                # 忽略除以零的错误\n",
    "                continue\n",
    "    # 如果没有找到解决方案，返回None\n",
    "    return None\n"
   ]
  },
  {
   "cell_type": "code",
   "execution_count": 4,
   "id": "e6eb96db",
   "metadata": {
    "ExecuteTime": {
     "end_time": "2024-03-04T13:51:44.391426Z",
     "start_time": "2024-03-04T13:51:44.381463Z"
    }
   },
   "outputs": [
    {
     "data": {
      "text/plain": [
       "'((4 * 5) - 6) + 10'"
      ]
     },
     "execution_count": 4,
     "metadata": {},
     "output_type": "execute_result"
    }
   ],
   "source": [
    "# 给定的数字\n",
    "numbers = [4, 5, 6, 10]\n",
    "solve_for_24(numbers)"
   ]
  },
  {
   "cell_type": "code",
   "execution_count": 5,
   "id": "5593274d",
   "metadata": {
    "ExecuteTime": {
     "end_time": "2024-03-04T13:51:56.154991Z",
     "start_time": "2024-03-04T13:51:56.142028Z"
    }
   },
   "outputs": [
    {
     "data": {
      "text/plain": [
       "'((14 - 8) / 2) * 8'"
      ]
     },
     "execution_count": 5,
     "metadata": {},
     "output_type": "execute_result"
    }
   ],
   "source": [
    "numbers = [2, 8, 8, 14]\n",
    "solve_for_24(numbers)"
   ]
  },
  {
   "cell_type": "code",
   "execution_count": 2,
   "id": "b01cbd0a",
   "metadata": {
    "ExecuteTime": {
     "end_time": "2024-03-04T13:49:47.308552Z",
     "start_time": "2024-03-04T13:49:47.300687Z"
    },
    "scrolled": true
   },
   "outputs": [
    {
     "name": "stdout",
     "output_type": "stream",
     "text": [
      "Input: 2 8 8 14\n",
      "Possible next steps:\n",
      "2 + 8 = 10 (left: 8 10 14)\n",
      "8 / 2 = 4 (left: 4 8 14)\n",
      "14 + 2 = 16 (left: 8 8 16)\n",
      "2 * 8 = 16 (left: 8 14 16)\n",
      "8 - 2 = 6 (left: 6 8 14)\n",
      "14 - 8 = 6 (left: 2 6 8)\n",
      "14 /  2 = 7 (left: 7 8 8)\n",
      "14 - 2 = 12 (left: 8 8 12)\n",
      "Input: 4 5 6 10\n",
      "Possible next steps:\n",
      "\n"
     ]
    }
   ],
   "source": [
    "# first prompt\n",
    "print('Input: 2 8 8 14\\nPossible next steps:\\n2 + 8 = 10 (left: 8 10 14)\\n8 / 2 = 4 (left: 4 8 14)\\n14 + 2 = 16 (left: 8 8 16)\\n2 * 8 = 16 (left: 8 14 16)\\n8 - 2 = 6 (left: 6 8 14)\\n14 - 8 = 6 (left: 2 6 8)\\n14 /  2 = 7 (left: 7 8 8)\\n14 - 2 = 12 (left: 8 8 12)\\nInput: 4 5 6 10\\nPossible next steps:\\n')"
   ]
  },
  {
   "cell_type": "code",
   "execution_count": 8,
   "id": "ff8dedd8",
   "metadata": {
    "ExecuteTime": {
     "end_time": "2024-03-04T14:06:06.918164Z",
     "start_time": "2024-03-04T14:06:06.910926Z"
    }
   },
   "outputs": [
    {
     "name": "stdout",
     "output_type": "stream",
     "text": [
      "4 + 5 = 9 (left: 6 9 10)\n",
      "5 + 6 = 11 (left: 4 10 11)\n",
      "10 - 4 = 6 (left: 5 6 6)\n",
      "10 - 5 = 5 (left: 4 5 6)\n",
      "6 - 4 = 2 (left: 2 5 10)\n",
      "6 / 4 = 1.5 (left: 1.5 5 10)\n",
      "10 / 5 = 2 (left: 2 4 6)\n",
      "10 / 4 = 2.5 (left: 2.5 5 6)\n"
     ]
    }
   ],
   "source": [
    "# first output\n",
    "# 8 个候选\n",
    "print('4 + 5 = 9 (left: 6 9 10)\\n5 + 6 = 11 (left: 4 10 11)\\n10 - 4 = 6 (left: 5 6 6)\\n10 - 5 = 5 (left: 4 5 6)\\n6 - 4 = 2 (left: 2 5 10)\\n6 / 4 = 1.5 (left: 1.5 5 10)\\n10 / 5 = 2 (left: 2 4 6)\\n10 / 4 = 2.5 (left: 2.5 5 6)')"
   ]
  },
  {
   "cell_type": "markdown",
   "id": "7901c3e9",
   "metadata": {},
   "source": [
    "### evaluate 每个节点（proposal）"
   ]
  },
  {
   "cell_type": "markdown",
   "id": "0105c911",
   "metadata": {},
   "source": [
    "- vote\n",
    "- value"
   ]
  },
  {
   "cell_type": "markdown",
   "id": "47aad4b8",
   "metadata": {},
   "source": [
    "#### vote"
   ]
  },
  {
   "cell_type": "code",
   "execution_count": 1,
   "id": "859272ef",
   "metadata": {
    "ExecuteTime": {
     "end_time": "2024-03-05T13:26:58.976431Z",
     "start_time": "2024-03-05T13:26:58.964980Z"
    }
   },
   "outputs": [
    {
     "name": "stdout",
     "output_type": "stream",
     "text": [
      "Given an instruction and several choices, decide which choice is most promising. Analyze each choice in detail, then conclude in the last line \"The best choice is {s}\", where s the integer id of the choice.\n",
      "\n"
     ]
    }
   ],
   "source": [
    "vote_prompt = '''Given an instruction and several choices, decide which choice is most promising. Analyze each choice in detail, then conclude in the last line \"The best choice is {s}\", where s the integer id of the choice.\n",
    "'''\n",
    "print(vote_prompt)"
   ]
  },
  {
   "cell_type": "markdown",
   "id": "c5a970d7",
   "metadata": {},
   "source": [
    "#### evaluate"
   ]
  },
  {
   "cell_type": "markdown",
   "id": "17940a56",
   "metadata": {},
   "source": [
    "- `4 + 5 = 9 (left: 6 9 10)`：left 表示剩余，变成了什么\n",
    "\n",
    "```\n",
    "# prompt\n",
    "\n",
    "Evaluate if given numbers can reach 24 (sure/likely/impossible)\n",
    "10 14\n",
    "10 + 14 = 24\n",
    "sure\n",
    "11 12\n",
    "11 + 12 = 23\n",
    "12 - 11 = 1\n",
    "11 * 12 = 132\n",
    "11 / 12 = 0.91\n",
    "impossible\n",
    "4 4 10\n",
    "4 + 4 + 10 = 8 + 10 = 18\n",
    "4 * 10 - 4 = 40 - 4 = 36\n",
    "(10 - 4) * 4 = 6 * 4 = 24\n",
    "sure\n",
    "4 9 11\n",
    "9 + 11 + 4 = 20 + 4 = 24\n",
    "sure\n",
    "5 7 8\n",
    "5 + 7 + 8 = 12 + 8 = 20\n",
    "(8 - 5) * 7 = 3 * 7 = 21\n",
    "I cannot obtain 24 now, but numbers are within a reasonable range\n",
    "likely\n",
    "5 6 6\n",
    "5 + 6 + 6 = 17\n",
    "(6 - 5) * 6 = 1 * 6 = 6\n",
    "I cannot obtain 24 now, but numbers are within a reasonable range\n",
    "likely\n",
    "10 10 11\n",
    "10 + 10 + 11 = 31\n",
    "(11 - 10) * 10 = 10\n",
    "10 10 10 are all too big\n",
    "impossible\n",
    "1 3 3\n",
    "1 * 3 * 3 = 9\n",
    "(1 + 3) * 3 = 12\n",
    "1 3 3 are all too small\n",
    "impossible\n",
    "6 9 10\n",
    "\n",
    "# output\n",
    "6 + 9 + 10 = 25\n",
    "(10 - 6) * 9 = 4 * 9 = 36\n",
    "(10 / 6) * 9 = 1.6 * 9 = 14.4\n",
    "I cannot obtain 24 now, but numbers are within a reasonable range\n",
    "likely\n",
    "```"
   ]
  },
  {
   "cell_type": "markdown",
   "id": "2bc2cf27",
   "metadata": {},
   "source": [
    "```\n",
    "Input: 2 8 8 14\n",
    "Possible next steps:\n",
    "2 + 8 = 10 (left: 8 10 14)\n",
    "8 / 2 = 4 (left: 4 8 14)\n",
    "14 + 2 = 16 (left: 8 8 16)\n",
    "2 * 8 = 16 (left: 8 14 16)\n",
    "8 - 2 = 6 (left: 6 8 14)\n",
    "14 - 8 = 6 (left: 2 6 8)\n",
    "14 /  2 = 7 (left: 7 8 8)\n",
    "14 - 2 = 12 (left: 8 8 12)\n",
    "Input: 6 9 10\n",
    "Possible next steps:\n",
    "```"
   ]
  }
 ],
 "metadata": {
  "kernelspec": {
   "display_name": "Python 3 (ipykernel)",
   "language": "python",
   "name": "python3"
  },
  "language_info": {
   "codemirror_mode": {
    "name": "ipython",
    "version": 3
   },
   "file_extension": ".py",
   "mimetype": "text/x-python",
   "name": "python",
   "nbconvert_exporter": "python",
   "pygments_lexer": "ipython3",
   "version": "3.10.13"
  },
  "toc": {
   "base_numbering": 1,
   "nav_menu": {},
   "number_sections": true,
   "sideBar": true,
   "skip_h1_title": false,
   "title_cell": "Table of Contents",
   "title_sidebar": "Contents",
   "toc_cell": false,
   "toc_position": {},
   "toc_section_display": true,
   "toc_window_display": false
  }
 },
 "nbformat": 4,
 "nbformat_minor": 5
}
