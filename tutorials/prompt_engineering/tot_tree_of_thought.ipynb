{
 "cells": [
  {
   "cell_type": "markdown",
   "id": "e25c94f5",
   "metadata": {},
   "source": [
    "- highly structured prompt\n",
    "    - chains => trees => graphs\n",
    "- references\n",
    "    - https://github.com/dave1010/tree-of-thought-prompting\n",
    "    - https://github.com/holarissun/PanelGPT"
   ]
  },
  {
   "cell_type": "markdown",
   "id": "cd4221b8",
   "metadata": {},
   "source": [
    "## tot"
   ]
  },
  {
   "cell_type": "markdown",
   "id": "1eca9ea7",
   "metadata": {},
   "source": []
  }
 ],
 "metadata": {
  "kernelspec": {
   "display_name": "Python 3 (ipykernel)",
   "language": "python",
   "name": "python3"
  },
  "language_info": {
   "codemirror_mode": {
    "name": "ipython",
    "version": 3
   },
   "file_extension": ".py",
   "mimetype": "text/x-python",
   "name": "python",
   "nbconvert_exporter": "python",
   "pygments_lexer": "ipython3",
   "version": "3.10.13"
  },
  "toc": {
   "base_numbering": 1,
   "nav_menu": {},
   "number_sections": true,
   "sideBar": true,
   "skip_h1_title": false,
   "title_cell": "Table of Contents",
   "title_sidebar": "Contents",
   "toc_cell": false,
   "toc_position": {},
   "toc_section_display": true,
   "toc_window_display": false
  }
 },
 "nbformat": 4,
 "nbformat_minor": 5
}
