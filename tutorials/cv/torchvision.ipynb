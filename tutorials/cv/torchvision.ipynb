{
 "cells": [
  {
   "cell_type": "markdown",
   "id": "cd108c7c",
   "metadata": {
    "ExecuteTime": {
     "end_time": "2023-07-31T13:27:17.834718Z",
     "start_time": "2023-07-31T13:27:17.826992Z"
    }
   },
   "source": [
    "##  basics"
   ]
  },
  {
   "cell_type": "markdown",
   "id": "3af65b4a",
   "metadata": {},
   "source": [
    "```\n",
    "train_loader = torch.utils.data.DataLoader(\n",
    "    torchvision.datasets.MNIST('data', train=True, download=True, \n",
    "                               transform=torchvision.transforms.Compose([\n",
    "                                   torchvision.transforms.ToTensor()\n",
    "                               ])),\n",
    "    shuffle=True, batch_size=64, drop_last=True)\n",
    "```"
   ]
  },
  {
   "cell_type": "markdown",
   "id": "4886c75e",
   "metadata": {},
   "source": [
    "### datasets"
   ]
  },
  {
   "cell_type": "markdown",
   "id": "8d4a7135",
   "metadata": {},
   "source": [
    "- `torchvision.datasets.MNIST`"
   ]
  },
  {
   "cell_type": "markdown",
   "id": "d61a5a2d",
   "metadata": {},
   "source": [
    "### transforms"
   ]
  },
  {
   "cell_type": "markdown",
   "id": "45c48d90",
   "metadata": {},
   "source": [
    "- `torchvision.transforms.ToTensor()`\n",
    "    - 归一化（0-255 => 0-1）"
   ]
  }
 ],
 "metadata": {
  "kernelspec": {
   "display_name": "Python 3 (ipykernel)",
   "language": "python",
   "name": "python3"
  },
  "language_info": {
   "codemirror_mode": {
    "name": "ipython",
    "version": 3
   },
   "file_extension": ".py",
   "mimetype": "text/x-python",
   "name": "python",
   "nbconvert_exporter": "python",
   "pygments_lexer": "ipython3",
   "version": "3.10.9"
  },
  "toc": {
   "base_numbering": 1,
   "nav_menu": {},
   "number_sections": true,
   "sideBar": true,
   "skip_h1_title": false,
   "title_cell": "Table of Contents",
   "title_sidebar": "Contents",
   "toc_cell": false,
   "toc_position": {},
   "toc_section_display": true,
   "toc_window_display": false
  }
 },
 "nbformat": 4,
 "nbformat_minor": 5
}
