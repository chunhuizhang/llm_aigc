{
 "cells": [
  {
   "cell_type": "markdown",
   "id": "cd108c7c",
   "metadata": {
    "ExecuteTime": {
     "end_time": "2023-07-31T13:27:17.834718Z",
     "start_time": "2023-07-31T13:27:17.826992Z"
    }
   },
   "source": [
    "##  basics"
   ]
  },
  {
   "cell_type": "markdown",
   "id": "3af65b4a",
   "metadata": {},
   "source": [
    "```\n",
    "train_loader = torch.utils.data.DataLoader(\n",
    "    torchvision.datasets.MNIST('data', train=True, download=True, \n",
    "                               transform=torchvision.transforms.Compose([\n",
    "                                   torchvision.transforms.ToTensor()\n",
    "                               ])),\n",
    "    shuffle=True, batch_size=64, drop_last=True)\n",
    "```"
   ]
  },
  {
   "cell_type": "markdown",
   "id": "4886c75e",
   "metadata": {},
   "source": [
    "### datasets"
   ]
  },
  {
   "cell_type": "markdown",
   "id": "8d4a7135",
   "metadata": {},
   "source": [
    "- `torchvision.datasets.MNIST`"
   ]
  },
  {
   "cell_type": "markdown",
   "id": "d61a5a2d",
   "metadata": {},
   "source": [
    "## transforms"
   ]
  },
  {
   "cell_type": "markdown",
   "id": "408c9411",
   "metadata": {},
   "source": [
    "```\n",
    "from einops import rearrange\n",
    "from torchvision import transforms\n",
    "from PIL import Image\n",
    "\n",
    "transform = transforms.Compose(\n",
    "    [\n",
    "        transforms.Resize((224, 224)),\n",
    "        transforms.RandomResizedCrop(224),\n",
    "        transforms.RandomHorizontalFlip(),\n",
    "        transforms.ToTensor(),\n",
    "    ]\n",
    ")\n",
    "```"
   ]
  },
  {
   "cell_type": "markdown",
   "id": "74222ca2",
   "metadata": {},
   "source": [
    "### ToTensor"
   ]
  },
  {
   "cell_type": "markdown",
   "id": "45c48d90",
   "metadata": {},
   "source": [
    "- `torchvision.transforms.ToTensor()`\n",
    "    - 归一化（0-255 => 0-1）"
   ]
  },
  {
   "cell_type": "markdown",
   "id": "04cb4ae7",
   "metadata": {},
   "source": [
    "### "
   ]
  },
  {
   "cell_type": "markdown",
   "id": "668637df",
   "metadata": {},
   "source": [
    "## utils"
   ]
  },
  {
   "cell_type": "code",
   "execution_count": 6,
   "id": "7493a429",
   "metadata": {
    "ExecuteTime": {
     "end_time": "2024-03-11T15:08:36.987136Z",
     "start_time": "2024-03-11T15:08:36.983412Z"
    }
   },
   "outputs": [],
   "source": [
    "import torch\n",
    "import torchvision\n",
    "from torchvision.utils import make_grid\n",
    "import matplotlib.pyplot as plt\n",
    "from torch.utils.data import DataLoader"
   ]
  },
  {
   "cell_type": "code",
   "execution_count": 8,
   "id": "f656eb42",
   "metadata": {
    "ExecuteTime": {
     "end_time": "2024-03-11T15:08:53.005232Z",
     "start_time": "2024-03-11T15:08:52.932892Z"
    }
   },
   "outputs": [],
   "source": [
    "dataset = torchvision.datasets.MNIST(root=\"./data/\", train=True, \n",
    "                                     download=True, \n",
    "                                     transform=torchvision.transforms.ToTensor())\n",
    "train_dataloader = DataLoader(dataset, batch_size=8, shuffle=True)\n",
    "x, y = next(iter(train_dataloader))"
   ]
  },
  {
   "cell_type": "code",
   "execution_count": 10,
   "id": "771c697d",
   "metadata": {
    "ExecuteTime": {
     "end_time": "2024-03-11T15:09:05.996018Z",
     "start_time": "2024-03-11T15:09:05.989209Z"
    }
   },
   "outputs": [
    {
     "data": {
      "text/plain": [
       "torch.Size([8, 1, 28, 28])"
      ]
     },
     "execution_count": 10,
     "metadata": {},
     "output_type": "execute_result"
    }
   ],
   "source": [
    "x.shape"
   ]
  },
  {
   "cell_type": "code",
   "execution_count": 20,
   "id": "d7194d8a",
   "metadata": {
    "ExecuteTime": {
     "end_time": "2024-03-11T15:10:22.932977Z",
     "start_time": "2024-03-11T15:10:22.925249Z"
    }
   },
   "outputs": [
    {
     "data": {
      "text/plain": [
       "torch.Size([3, 32, 242])"
      ]
     },
     "execution_count": 20,
     "metadata": {},
     "output_type": "execute_result"
    }
   ],
   "source": [
    "make_grid(x).shape"
   ]
  },
  {
   "cell_type": "code",
   "execution_count": 22,
   "id": "c526394d",
   "metadata": {
    "ExecuteTime": {
     "end_time": "2024-03-11T15:10:45.105530Z",
     "start_time": "2024-03-11T15:10:44.994081Z"
    }
   },
   "outputs": [
    {
     "data": {
      "text/plain": [
       "<matplotlib.image.AxesImage at 0x7928c5d98850>"
      ]
     },
     "execution_count": 22,
     "metadata": {},
     "output_type": "execute_result"
    },
    {
     "data": {
      "image/png": "[encoded data removed]",
      "text/plain": [
       "<Figure size 640x480 with 1 Axes>"
      ]
     },
     "metadata": {},
     "output_type": "display_data"
    }
   ],
   "source": [
    "plt.imshow(make_grid(x)[0], cmap='Greys')"
   ]
  }
 ],
 "metadata": {
  "kernelspec": {
   "display_name": "Python 3 (ipykernel)",
   "language": "python",
   "name": "python3"
  },
  "language_info": {
   "codemirror_mode": {
    "name": "ipython",
    "version": 3
   },
   "file_extension": ".py",
   "mimetype": "text/x-python",
   "name": "python",
   "nbconvert_exporter": "python",
   "pygments_lexer": "ipython3",
   "version": "3.10.13"
  },
  "toc": {
   "base_numbering": 1,
   "nav_menu": {},
   "number_sections": true,
   "sideBar": true,
   "skip_h1_title": false,
   "title_cell": "Table of Contents",
   "title_sidebar": "Contents",
   "toc_cell": false,
   "toc_position": {},
   "toc_section_display": true,
   "toc_window_display": false
  }
 },
 "nbformat": 4,
 "nbformat_minor": 5
}
