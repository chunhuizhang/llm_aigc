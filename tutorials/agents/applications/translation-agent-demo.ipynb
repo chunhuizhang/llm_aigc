{
 "cells": [
  {
   "cell_type": "code",
   "execution_count": 1,
   "id": "3c1fc107-77e9-48d8-8054-ca376a8d7317",
   "metadata": {
    "execution": {
     "iopub.execute_input": "2024-07-14T03:57:26.504495Z",
     "iopub.status.busy": "2024-07-14T03:57:26.502860Z",
     "iopub.status.idle": "2024-07-14T03:57:36.908728Z",
     "shell.execute_reply": "2024-07-14T03:57:36.906437Z",
     "shell.execute_reply.started": "2024-07-14T03:57:26.504437Z"
    }
   },
   "outputs": [
    {
     "name": "stdout",
     "output_type": "stream",
     "text": [
      "Cloning into 'translation-agent'...\n",
      "remote: Enumerating objects: 226, done.\u001b[K\n",
      "remote: Counting objects: 100% (75/75), done.\u001b[K\n",
      "remote: Compressing objects: 100% (42/42), done.\u001b[K\n",
      "remote: Total 226 (delta 48), reused 41 (delta 31), pack-reused 151\u001b[K\n",
      "Receiving objects: 100% (226/226), 26.82 MiB | 4.63 MiB/s, done.\n",
      "Resolving deltas: 100% (87/87), done.\n"
     ]
    }
   ],
   "source": [
    "!git clone git@github.com:andrewyng/translation-agent.git"
   ]
  },
  {
   "cell_type": "markdown",
   "id": "0998c989-d201-4046-9f89-6778342d7805",
   "metadata": {},
   "source": [
    "## prompt & workflow"
   ]
  },
  {
   "cell_type": "markdown",
   "id": "bc7d5dc9-9ebc-45cb-98c9-4e006c0103f9",
   "metadata": {},
   "source": [
    "### onechunk"
   ]
  },
  {
   "cell_type": "markdown",
   "id": "8c36bc83-5eb0-4f8f-ad19-dc6afec87113",
   "metadata": {},
   "source": [
    "\n",
    "- `one_chunk_initial_translation`\n",
    "- `one_chunk_reflect_on_translation`\n",
    "- `one_chunk_translate_text`\n",
    "\n",
    "    ```\n",
    "    def one_chunk_translate_text(\n",
    "        source_lang: str, target_lang: str, source_text: str, country: str = \"\"\n",
    "    ) -> str:\n",
    "        translation_1 = one_chunk_initial_translation(\n",
    "            source_lang, target_lang, source_text\n",
    "        )\n",
    "        \n",
    "        reflection = one_chunk_reflect_on_translation(\n",
    "            source_lang, target_lang, source_text, translation_1, country\n",
    "        )\n",
    "        translation_2 = one_chunk_improve_translation(\n",
    "            source_lang, target_lang, source_text, translation_1, reflection\n",
    "        )\n",
    "        return translation_2\n",
    "    ```"
   ]
  },
  {
   "cell_type": "markdown",
   "id": "f193287a-5cdc-4d40-9421-4dbcd684a660",
   "metadata": {},
   "source": [
    "### multichunk"
   ]
  },
  {
   "cell_type": "markdown",
   "id": "ad2aeb86-8f8e-47f1-acb1-0c2de865b219",
   "metadata": {},
   "source": [
    "```\n",
    "def multichunk_translation(\n",
    "    source_lang, target_lang, source_text_chunks, country: str = \"\"\n",
    "):\n",
    "    translation_1_chunks = multichunk_initial_translation(\n",
    "            source_lang, target_lang, source_text_chunks\n",
    "        )\n",
    "    \n",
    "        reflection_chunks = multichunk_reflect_on_translation(\n",
    "            source_lang,\n",
    "            target_lang,\n",
    "            source_text_chunks,\n",
    "            translation_1_chunks,\n",
    "            country,\n",
    "        )\n",
    "    \n",
    "        translation_2_chunks = multichunk_improve_translation(\n",
    "            source_lang,\n",
    "            target_lang,\n",
    "            source_text_chunks,\n",
    "            translation_1_chunks,\n",
    "            reflection_chunks,\n",
    "        )\n",
    "    \n",
    "        return translation_2_chunks\n",
    "```"
   ]
  },
  {
   "cell_type": "markdown",
   "id": "dcbfb901-8743-4534-9e36-bf9bd155aaa8",
   "metadata": {},
   "source": [
    "- split chunks"
   ]
  },
  {
   "cell_type": "code",
   "execution_count": 4,
   "id": "c056b7da-875c-4e2b-a21e-898c6647fb60",
   "metadata": {
    "execution": {
     "iopub.execute_input": "2024-07-14T05:10:33.866348Z",
     "iopub.status.busy": "2024-07-14T05:10:33.865726Z",
     "iopub.status.idle": "2024-07-14T05:10:33.880085Z",
     "shell.execute_reply": "2024-07-14T05:10:33.877983Z",
     "shell.execute_reply.started": "2024-07-14T05:10:33.866303Z"
    }
   },
   "outputs": [],
   "source": [
    "def calculate_chunk_size(token_count: int, token_limit: int) -> int:\n",
    "    \"\"\"\n",
    "    Calculate the chunk size based on the token count and token limit.\n",
    "\n",
    "    Args:\n",
    "        token_count (int): The total number of tokens.\n",
    "        token_limit (int): The maximum number of tokens allowed per chunk.\n",
    "\n",
    "    Returns:\n",
    "        int: The calculated chunk size.\n",
    "\n",
    "    Description:\n",
    "        This function calculates the chunk size based on the given token count and token limit.\n",
    "        If the token count is less than or equal to the token limit, the function returns the token count as the chunk size.\n",
    "        Otherwise, it calculates the number of chunks needed to accommodate all the tokens within the token limit.\n",
    "        The chunk size is determined by dividing the token limit by the number of chunks.\n",
    "        If there are remaining tokens after dividing the token count by the token limit,\n",
    "        the chunk size is adjusted by adding the remaining tokens divided by the number of chunks.\n",
    "\n",
    "    Example:\n",
    "        >>> calculate_chunk_size(1000, 500)\n",
    "        500\n",
    "        >>> calculate_chunk_size(1530, 500)\n",
    "        389\n",
    "        >>> calculate_chunk_size(2242, 500)\n",
    "        496\n",
    "    \"\"\"\n",
    "\n",
    "    if token_count <= token_limit:\n",
    "        return token_count\n",
    "\n",
    "    num_chunks = (token_count + token_limit - 1) // token_limit\n",
    "    chunk_size = token_count // num_chunks\n",
    "\n",
    "    remaining_tokens = token_count % token_limit\n",
    "    if remaining_tokens > 0:\n",
    "        chunk_size += remaining_tokens // num_chunks\n",
    "\n",
    "    return chunk_size"
   ]
  },
  {
   "cell_type": "code",
   "execution_count": 5,
   "id": "a01f7f83-90a9-4ae9-9cb2-be15e6a802a6",
   "metadata": {
    "execution": {
     "iopub.execute_input": "2024-07-14T05:10:54.550378Z",
     "iopub.status.busy": "2024-07-14T05:10:54.549796Z",
     "iopub.status.idle": "2024-07-14T05:10:54.568743Z",
     "shell.execute_reply": "2024-07-14T05:10:54.566731Z",
     "shell.execute_reply.started": "2024-07-14T05:10:54.550333Z"
    }
   },
   "outputs": [
    {
     "data": {
      "text/plain": [
       "4"
      ]
     },
     "execution_count": 5,
     "metadata": {},
     "output_type": "execute_result"
    }
   ],
   "source": [
    "(1530 + 500-1) // 500"
   ]
  },
  {
   "cell_type": "code",
   "execution_count": 6,
   "id": "9d3554da-c693-4c22-a226-b0aff176c208",
   "metadata": {
    "execution": {
     "iopub.execute_input": "2024-07-14T05:11:04.231853Z",
     "iopub.status.busy": "2024-07-14T05:11:04.231261Z",
     "iopub.status.idle": "2024-07-14T05:11:04.241210Z",
     "shell.execute_reply": "2024-07-14T05:11:04.239254Z",
     "shell.execute_reply.started": "2024-07-14T05:11:04.231808Z"
    }
   },
   "outputs": [
    {
     "data": {
      "text/plain": [
       "382"
      ]
     },
     "execution_count": 6,
     "metadata": {},
     "output_type": "execute_result"
    }
   ],
   "source": [
    "1530 // 4"
   ]
  },
  {
   "cell_type": "code",
   "execution_count": 7,
   "id": "ab0eccfa-8139-4a37-885f-efe19b8acf43",
   "metadata": {
    "execution": {
     "iopub.execute_input": "2024-07-14T05:11:13.608088Z",
     "iopub.status.busy": "2024-07-14T05:11:13.607472Z",
     "iopub.status.idle": "2024-07-14T05:11:13.614467Z",
     "shell.execute_reply": "2024-07-14T05:11:13.613609Z",
     "shell.execute_reply.started": "2024-07-14T05:11:13.608043Z"
    }
   },
   "outputs": [
    {
     "data": {
      "text/plain": [
       "30"
      ]
     },
     "execution_count": 7,
     "metadata": {},
     "output_type": "execute_result"
    }
   ],
   "source": [
    "1530 % 500"
   ]
  },
  {
   "cell_type": "code",
   "execution_count": 9,
   "id": "85552e1d-d298-4d58-8ce5-8359386722ca",
   "metadata": {
    "execution": {
     "iopub.execute_input": "2024-07-14T05:11:38.617749Z",
     "iopub.status.busy": "2024-07-14T05:11:38.616268Z",
     "iopub.status.idle": "2024-07-14T05:11:38.626539Z",
     "shell.execute_reply": "2024-07-14T05:11:38.625255Z",
     "shell.execute_reply.started": "2024-07-14T05:11:38.617704Z"
    }
   },
   "outputs": [
    {
     "data": {
      "text/plain": [
       "389"
      ]
     },
     "execution_count": 9,
     "metadata": {},
     "output_type": "execute_result"
    }
   ],
   "source": [
    "382 + 30//4"
   ]
  },
  {
   "cell_type": "markdown",
   "id": "ec6faeba-bd9b-41e7-9364-5423087020e2",
   "metadata": {},
   "source": []
  }
 ],
 "metadata": {
  "kernelspec": {
   "display_name": "Python 3 (ipykernel)",
   "language": "python",
   "name": "python3"
  },
  "language_info": {
   "codemirror_mode": {
    "name": "ipython",
    "version": 3
   },
   "file_extension": ".py",
   "mimetype": "text/x-python",
   "name": "python",
   "nbconvert_exporter": "python",
   "pygments_lexer": "ipython3",
   "version": "3.10.13"
  }
 },
 "nbformat": 4,
 "nbformat_minor": 5
}
