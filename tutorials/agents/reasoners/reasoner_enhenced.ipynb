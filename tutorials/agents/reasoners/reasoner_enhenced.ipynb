{
 "cells": [
  {
   "cell_type": "markdown",
   "id": "49471438-c2f1-4699-b139-07944e3349ef",
   "metadata": {},
   "source": [
    "> reasoner 在 agent 中的必要性；\n",
    "\n",
    "- https://medium.com/@deansaco/reasoning-recursive-retrieval-with-deepseek-r1-tavily-and-langgraph-79b3336731e2\n",
    "    - https://github.com/deansaco/r1-reasoning-rag\n",
    "    - https://github.com/astordu/r1-reasoning-rag"
   ]
  }
 ],
 "metadata": {
  "kernelspec": {
   "display_name": "verl",
   "language": "python",
   "name": "verl"
  },
  "language_info": {
   "codemirror_mode": {
    "name": "ipython",
    "version": 3
   },
   "file_extension": ".py",
   "mimetype": "text/x-python",
   "name": "python",
   "nbconvert_exporter": "python",
   "pygments_lexer": "ipython3",
   "version": "3.9.0"
  }
 },
 "nbformat": 4,
 "nbformat_minor": 5
}
