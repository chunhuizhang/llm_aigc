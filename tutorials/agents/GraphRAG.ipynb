{
 "cells": [
  {
   "cell_type": "markdown",
   "id": "4cb46b19-0ab3-49e2-a700-663a8b47ca1d",
   "metadata": {},
   "source": [
    "## GraphRAG"
   ]
  },
  {
   "cell_type": "markdown",
   "id": "d0857959-b2fb-4c54-a9bb-3cac3750a54f",
   "metadata": {},
   "source": [
    "- 传统 RAG\n",
    "    - 文本 chunks 间的复杂关系与层次结构；\n",
    "    - 固定数量的文本 chunks\n",
    "        - “这本小说的主旨”\n",
    "- GraphRAG 的核心：“全局性”\n",
    "    - 提取实体（Entity）\n",
    "    - 提取关系（Relation）"
   ]
  }
 ],
 "metadata": {
  "kernelspec": {
   "display_name": "Python 3 (ipykernel)",
   "language": "python",
   "name": "python3"
  },
  "language_info": {
   "codemirror_mode": {
    "name": "ipython",
    "version": 3
   },
   "file_extension": ".py",
   "mimetype": "text/x-python",
   "name": "python",
   "nbconvert_exporter": "python",
   "pygments_lexer": "ipython3",
   "version": "3.10.13"
  }
 },
 "nbformat": 4,
 "nbformat_minor": 5
}
