{
 "cells": [
  {
   "cell_type": "markdown",
   "id": "889a35bd-4a0f-4f6f-aeeb-9824199bd0b9",
   "metadata": {},
   "source": [
    "- todo\n",
    "    - 数据如何导出？"
   ]
  },
  {
   "cell_type": "markdown",
   "id": "d5ce5cd2-29d0-4445-94cf-8ae91a8ff32b",
   "metadata": {},
   "source": [
    "### langsmith"
   ]
  },
  {
   "cell_type": "markdown",
   "id": "eaa67e70-4ccd-4dc9-b5f1-0bffe83a7dfc",
   "metadata": {},
   "source": [
    "- https://github.com/langchain-ai/langsmith-cookbook"
   ]
  },
  {
   "cell_type": "code",
   "execution_count": 1,
   "id": "7b44a667-5e69-4aa2-87c2-4db539066054",
   "metadata": {},
   "outputs": [
    {
     "data": {
      "text/plain": [
       "True"
      ]
     },
     "execution_count": 1,
     "metadata": {},
     "output_type": "execute_result"
    }
   ],
   "source": [
    "import os\n",
    "from dotenv import load_dotenv\n",
    "load_dotenv()"
   ]
  },
  {
   "cell_type": "code",
   "execution_count": 2,
   "id": "d012b497-7e6e-4509-96a9-76b66964cf76",
   "metadata": {},
   "outputs": [],
   "source": [
    "import os\n",
    "os.environ['LANGCHAIN_TRACING_V2'] = 'true'\n",
    "os.environ['LANGCHAIN_API_KEY'] = 'xx'"
   ]
  },
  {
   "cell_type": "markdown",
   "id": "4abbe760-4f21-46a5-9f62-dd52e81b45b6",
   "metadata": {},
   "source": [
    "### langfuse"
   ]
  },
  {
   "cell_type": "markdown",
   "id": "75a4fc00-1f5d-45d5-87e1-45f665bbaaf0",
   "metadata": {},
   "source": [
    "| 特性 | Langfuse | LangSmith |\n",
    "| :--- | :--- | :--- |\n",
    "| **开源性** | **开源 (MIT许可证)**  | **闭源**  |\n",
    "| **自托管** | **免费自托管**，所有核心功能无限制 | 需购买**企业版**才能自托管 |\n",
    "| **核心生态** | 独立于任何特定框架，提供广泛的集成 | 由LangChain团队开发，与LangChain和LangGraph深度集成 |\n",
    "| **商业模式** | 提供云服务和带商业附加功能的企业版自托管 | 提供云服务和企业版自托管/混合部署 |"
   ]
  }
 ],
 "metadata": {
  "kernelspec": {
   "display_name": "Python 3 (ipykernel)",
   "language": "python",
   "name": "python3"
  },
  "language_info": {
   "codemirror_mode": {
    "name": "ipython",
    "version": 3
   },
   "file_extension": ".py",
   "mimetype": "text/x-python",
   "name": "python",
   "nbconvert_exporter": "python",
   "pygments_lexer": "ipython3",
   "version": "3.10.0"
  }
 },
 "nbformat": 4,
 "nbformat_minor": 5
}
