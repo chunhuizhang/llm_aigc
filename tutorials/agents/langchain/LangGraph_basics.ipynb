{
 "cells": [
  {
   "cell_type": "markdown",
   "id": "eb55ec85-c676-4e82-afca-9592a1a28bcb",
   "metadata": {},
   "source": [
    "- langgraph studio\n",
    "    - https://www.youtube.com/watch?v=pLPJoFvq4_M\n",
    "- https://github.com/langchain-ai/langgraph/blob/main/examples/reflexion/reflexion.ipynb\n",
    "- https://github.com/langchain-ai/langgraph/blob/main/examples/agent_executor/force-calling-a-tool-first.ipynb"
   ]
  },
  {
   "cell_type": "code",
   "execution_count": 1,
   "id": "7c1155e5-b90a-4431-9112-b25b9c3a0892",
   "metadata": {
    "execution": {
     "iopub.execute_input": "2024-08-17T13:53:30.218727Z",
     "iopub.status.busy": "2024-08-17T13:53:30.218218Z",
     "iopub.status.idle": "2024-08-17T13:53:31.596623Z",
     "shell.execute_reply": "2024-08-17T13:53:31.595421Z",
     "shell.execute_reply.started": "2024-08-17T13:53:30.218673Z"
    }
   },
   "outputs": [],
   "source": [
    "import os\n",
    "from typing import TypedDict, Annotated, List, Union, Sequence\n",
    "import operator\n",
    "import json\n",
    "from dotenv import load_dotenv\n",
    "\n",
    "from langchain import hub\n",
    "from langchain.tools import BaseTool, StructuredTool, Tool, tool\n",
    "from langchain.tools.render import format_tool_to_openai_function\n",
    "from langchain_core.utils.function_calling import convert_to_openai_function\n",
    "from langchain_openai.chat_models import ChatOpenAI\n",
    "from langchain.agents import create_openai_functions_agent\n",
    "from langchain_core.utils.function_calling import convert_to_openai_function\n",
    "\n",
    "from langchain_core.agents import AgentAction, AgentFinish\n",
    "from langchain_core.messages import BaseMessage, HumanMessage, SystemMessage, FunctionMessage\n",
    "\n",
    "from langgraph.graph import END, StateGraph, MessagesState\n",
    "from langgraph.prebuilt import ToolNode, ToolInvocation\n",
    "from langgraph.prebuilt.tool_executor import ToolExecutor\n",
    "\n",
    "os.environ['http_proxy'] = 'http://127.0.0.1:7890'\n",
    "os.environ['https_proxy'] = 'http://127.0.0.1:7890'\n"
   ]
  },
  {
   "cell_type": "code",
   "execution_count": 2,
   "id": "e8f7a5ae-18a2-4226-b9db-d6f7909a2482",
   "metadata": {
    "execution": {
     "iopub.execute_input": "2024-08-17T13:53:31.597593Z",
     "iopub.status.busy": "2024-08-17T13:53:31.597301Z",
     "iopub.status.idle": "2024-08-17T13:53:31.607514Z",
     "shell.execute_reply": "2024-08-17T13:53:31.606826Z",
     "shell.execute_reply.started": "2024-08-17T13:53:31.597570Z"
    }
   },
   "outputs": [
    {
     "data": {
      "text/plain": [
       "True"
      ]
     },
     "execution_count": 2,
     "metadata": {},
     "output_type": "execute_result"
    }
   ],
   "source": [
    "load_dotenv()"
   ]
  },
  {
   "cell_type": "markdown",
   "id": "2cdc889f-8c1f-4dec-a06a-764238a1c9e0",
   "metadata": {},
   "source": [
    "## core concepts"
   ]
  },
  {
   "cell_type": "code",
   "execution_count": 3,
   "id": "a3255780-8423-4205-b20a-858b4855b99f",
   "metadata": {
    "execution": {
     "iopub.execute_input": "2024-08-17T13:53:31.608558Z",
     "iopub.status.busy": "2024-08-17T13:53:31.608348Z",
     "iopub.status.idle": "2024-08-17T13:53:31.624596Z",
     "shell.execute_reply": "2024-08-17T13:53:31.623476Z",
     "shell.execute_reply.started": "2024-08-17T13:53:31.608540Z"
    }
   },
   "outputs": [],
   "source": [
    "from IPython.display import Image"
   ]
  },
  {
   "cell_type": "markdown",
   "id": "81f3b684-f801-47b7-bed4-1afb50cbf58e",
   "metadata": {},
   "source": [
    "langchain => langgraph\n",
    "- chain: 更多是 linear chain，链式顺序执行；\n",
    "    - LCEL\n",
    "- graph：可以有分支/判断（是否到达 AgentFinish），有循环\n",
    "    - ReAct（Reasoning & Acting）其实本质上也不是 linear chain 了；\n",
    "\n",
    "Graph \n",
    "\n",
    "- nodes, edges\n",
    "    - 每个节点都是一个函数\n",
    "    - 所有节点的输入都是 state，输出会附加一些信息到新的 state 里\n",
    "- state 沿着 edge 从一个 node 到另一个 node 时，state 会发生变化（携带上一个 node 的执行输出信息）"
   ]
  },
  {
   "cell_type": "code",
   "execution_count": 4,
   "id": "2f11534d-aee7-4065-9676-2fa3a3d01afb",
   "metadata": {
    "execution": {
     "iopub.execute_input": "2024-08-17T13:53:31.625367Z",
     "iopub.status.busy": "2024-08-17T13:53:31.625167Z",
     "iopub.status.idle": "2024-08-17T13:53:31.635656Z",
     "shell.execute_reply": "2024-08-17T13:53:31.634117Z",
     "shell.execute_reply.started": "2024-08-17T13:53:31.625349Z"
    }
   },
   "outputs": [
    {
     "data": {
      "text/html": [
       "<img src=\"https://miro.medium.com/v2/resize:fit:1400/format:webp/1*bkNjqXR1LjAVJQbNLpfYvA.png\" width=\"500\"/>"
      ],
      "text/plain": [
       "<IPython.core.display.Image object>"
      ]
     },
     "execution_count": 4,
     "metadata": {},
     "output_type": "execute_result"
    }
   ],
   "source": [
    "Image(url='https://miro.medium.com/v2/resize:fit:1400/format:webp/1*bkNjqXR1LjAVJQbNLpfYvA.png', width=500)"
   ]
  },
  {
   "cell_type": "markdown",
   "id": "613565d5-68d7-462d-8688-d9413e6456d8",
   "metadata": {},
   "source": [
    "## examples 1: Agent Executor"
   ]
  },
  {
   "cell_type": "code",
   "execution_count": 5,
   "id": "08341b08-4ace-4ce1-b3c4-7f1bfe2d0009",
   "metadata": {
    "execution": {
     "iopub.execute_input": "2024-08-17T13:53:31.637053Z",
     "iopub.status.busy": "2024-08-17T13:53:31.636845Z",
     "iopub.status.idle": "2024-08-17T13:53:31.644030Z",
     "shell.execute_reply": "2024-08-17T13:53:31.642767Z",
     "shell.execute_reply.started": "2024-08-17T13:53:31.637034Z"
    }
   },
   "outputs": [],
   "source": [
    "os.environ[\"LANGCHAIN_PROJECT\"] = \"lg_01_agent_executor\""
   ]
  },
  {
   "cell_type": "code",
   "execution_count": 6,
   "id": "37557636-0aba-4b9a-a365-5d761a92a2d4",
   "metadata": {
    "execution": {
     "iopub.execute_input": "2024-08-17T13:53:31.646389Z",
     "iopub.status.busy": "2024-08-17T13:53:31.646157Z",
     "iopub.status.idle": "2024-08-17T13:53:31.653834Z",
     "shell.execute_reply": "2024-08-17T13:53:31.652208Z",
     "shell.execute_reply.started": "2024-08-17T13:53:31.646369Z"
    }
   },
   "outputs": [],
   "source": [
    "class AgentState(TypedDict):\n",
    "   input: str\n",
    "   chat_history: list[BaseMessage]\n",
    "   agent_outcome: Union[AgentAction, AgentFinish, None]\n",
    "    # 不断追加和传递\n",
    "   intermediate_steps: Annotated[list[tuple[AgentAction, str]], operator.add]"
   ]
  },
  {
   "cell_type": "markdown",
   "id": "cdd50a57-2f37-4409-8cf3-83088f3e0b19",
   "metadata": {},
   "source": [
    "- TypedDict: 静态类型，可以约定 value 类型的字典"
   ]
  },
  {
   "cell_type": "markdown",
   "id": "a27b610d-bb48-40f6-a871-9a53c1025a90",
   "metadata": {},
   "source": [
    "### tools"
   ]
  },
  {
   "cell_type": "markdown",
   "id": "b380604d-8e75-4409-b7c9-a2d86184bbf9",
   "metadata": {},
   "source": [
    "Tools are interfaces that an agent can use to interact with the world. They combine a few things:\n",
    "\n",
    "- The name of the tool\n",
    "- A description of what the tool is\n",
    "- JSON schema of what the inputs to the tool are\n",
    "- The function to call"
   ]
  },
  {
   "cell_type": "code",
   "execution_count": 7,
   "id": "cd451e7c-327b-45f1-a338-d77334781e55",
   "metadata": {
    "execution": {
     "iopub.execute_input": "2024-08-17T13:53:31.654736Z",
     "iopub.status.busy": "2024-08-17T13:53:31.654515Z",
     "iopub.status.idle": "2024-08-17T13:53:31.672179Z",
     "shell.execute_reply": "2024-08-17T13:53:31.670557Z",
     "shell.execute_reply.started": "2024-08-17T13:53:31.654716Z"
    }
   },
   "outputs": [],
   "source": [
    "import random\n",
    "\n",
    "@tool(\"upper_case\", return_direct=True)\n",
    "def to_upper_case(input:str) -> str:\n",
    "  \"\"\"Returns the input as all upper case.\"\"\"\n",
    "  return input.upper()\n",
    "\n",
    "@tool(\"random_number\", return_direct=True)\n",
    "def random_number_maker(input:str) -> str:\n",
    "    \"\"\"Returns a random number between 0-100.\"\"\"\n",
    "    return random.randint(0, 100)\n",
    "\n",
    "tools = [to_upper_case,random_number_maker]"
   ]
  },
  {
   "cell_type": "code",
   "execution_count": 8,
   "id": "ec3c04e2-6dd6-45b4-979e-0085bc331516",
   "metadata": {
    "execution": {
     "iopub.execute_input": "2024-08-17T13:53:31.673530Z",
     "iopub.status.busy": "2024-08-17T13:53:31.673302Z",
     "iopub.status.idle": "2024-08-17T13:53:31.694922Z",
     "shell.execute_reply": "2024-08-17T13:53:31.693805Z",
     "shell.execute_reply.started": "2024-08-17T13:53:31.673511Z"
    }
   },
   "outputs": [
    {
     "data": {
      "text/plain": [
       "15"
      ]
     },
     "execution_count": 8,
     "metadata": {},
     "output_type": "execute_result"
    }
   ],
   "source": [
    "random_number_maker.run('random')"
   ]
  },
  {
   "cell_type": "code",
   "execution_count": 9,
   "id": "e29b3330-be73-40b2-ab3b-2331dbd14a20",
   "metadata": {
    "execution": {
     "iopub.execute_input": "2024-08-17T13:53:31.695746Z",
     "iopub.status.busy": "2024-08-17T13:53:31.695533Z",
     "iopub.status.idle": "2024-08-17T13:53:31.703847Z",
     "shell.execute_reply": "2024-08-17T13:53:31.702754Z",
     "shell.execute_reply.started": "2024-08-17T13:53:31.695726Z"
    }
   },
   "outputs": [
    {
     "data": {
      "text/plain": [
       "'HELLO WORLD'"
      ]
     },
     "execution_count": 9,
     "metadata": {},
     "output_type": "execute_result"
    }
   ],
   "source": [
    "to_upper_case.run('hello WORLD')"
   ]
  },
  {
   "cell_type": "markdown",
   "id": "e757f87e-da41-42ca-8c4d-5b447b7c6f15",
   "metadata": {},
   "source": [
    "### Agent"
   ]
  },
  {
   "cell_type": "code",
   "execution_count": 10,
   "id": "966acec1-a9be-4382-b8d5-6b9032e6e0ad",
   "metadata": {
    "execution": {
     "iopub.execute_input": "2024-08-17T13:53:31.704665Z",
     "iopub.status.busy": "2024-08-17T13:53:31.704445Z",
     "iopub.status.idle": "2024-08-17T13:53:33.150803Z",
     "shell.execute_reply": "2024-08-17T13:53:33.149195Z",
     "shell.execute_reply.started": "2024-08-17T13:53:31.704646Z"
    }
   },
   "outputs": [
    {
     "data": {
      "text/plain": [
       "ChatPromptTemplate(input_variables=['agent_scratchpad', 'input'], optional_variables=['chat_history'], input_types={'chat_history': typing.List[typing.Union[langchain_core.messages.ai.AIMessage, langchain_core.messages.human.HumanMessage, langchain_core.messages.chat.ChatMessage, langchain_core.messages.system.SystemMessage, langchain_core.messages.function.FunctionMessage, langchain_core.messages.tool.ToolMessage]], 'agent_scratchpad': typing.List[typing.Union[langchain_core.messages.ai.AIMessage, langchain_core.messages.human.HumanMessage, langchain_core.messages.chat.ChatMessage, langchain_core.messages.system.SystemMessage, langchain_core.messages.function.FunctionMessage, langchain_core.messages.tool.ToolMessage]]}, partial_variables={'chat_history': []}, metadata={'lc_hub_owner': 'hwchase17', 'lc_hub_repo': 'openai-functions-agent', 'lc_hub_commit_hash': 'a1655024b06afbd95d17449f21316291e0726f13dcfaf990cc0d18087ad689a5'}, messages=[SystemMessagePromptTemplate(prompt=PromptTemplate(input_variables=[], template='You are a helpful assistant')), MessagesPlaceholder(variable_name='chat_history', optional=True), HumanMessagePromptTemplate(prompt=PromptTemplate(input_variables=['input'], template='{input}')), MessagesPlaceholder(variable_name='agent_scratchpad')])"
      ]
     },
     "execution_count": 10,
     "metadata": {},
     "output_type": "execute_result"
    }
   ],
   "source": [
    "# https://smith.langchain.com/hub/hwchase17/openai-functions-agent\n",
    "prompt = hub.pull('hwchase17/openai-functions-agent')\n",
    "llm = ChatOpenAI(model=\"gpt-4o\", streaming=True)\n",
    "prompt"
   ]
  },
  {
   "cell_type": "code",
   "execution_count": 11,
   "id": "89771201-6c32-4ae3-b664-d7da9c1d39a7",
   "metadata": {
    "execution": {
     "iopub.execute_input": "2024-08-17T13:53:33.152061Z",
     "iopub.status.busy": "2024-08-17T13:53:33.151849Z",
     "iopub.status.idle": "2024-08-17T13:53:33.159355Z",
     "shell.execute_reply": "2024-08-17T13:53:33.158289Z",
     "shell.execute_reply.started": "2024-08-17T13:53:33.152042Z"
    }
   },
   "outputs": [],
   "source": [
    "agent = create_openai_functions_agent(llm, tools, prompt)"
   ]
  },
  {
   "cell_type": "code",
   "execution_count": 12,
   "id": "cd331493-adaf-4243-acec-5fe3ca72c133",
   "metadata": {
    "execution": {
     "iopub.execute_input": "2024-08-17T13:53:33.160140Z",
     "iopub.status.busy": "2024-08-17T13:53:33.159938Z",
     "iopub.status.idle": "2024-08-17T13:53:33.179263Z",
     "shell.execute_reply": "2024-08-17T13:53:33.177815Z",
     "shell.execute_reply.started": "2024-08-17T13:53:33.160121Z"
    }
   },
   "outputs": [
    {
     "data": {
      "text/plain": [
       "langchain_core.runnables.base.RunnableSequence"
      ]
     },
     "execution_count": 12,
     "metadata": {},
     "output_type": "execute_result"
    }
   ],
   "source": [
    "type(agent)"
   ]
  },
  {
   "cell_type": "code",
   "execution_count": 13,
   "id": "61e73f7d-43b4-4599-8f0b-2c1948a0ac04",
   "metadata": {
    "execution": {
     "iopub.execute_input": "2024-08-17T13:53:33.180594Z",
     "iopub.status.busy": "2024-08-17T13:53:33.180391Z",
     "iopub.status.idle": "2024-08-17T13:53:34.651120Z",
     "shell.execute_reply": "2024-08-17T13:53:34.648882Z",
     "shell.execute_reply.started": "2024-08-17T13:53:33.180576Z"
    }
   },
   "outputs": [],
   "source": [
    "inputs = {\"input\": \"give me a random number and then write in words and make it upper case.\",\n",
    "          \"chat_history\": [],\n",
    "          \"intermediate_steps\":[]}\n",
    "\n",
    "agent_outcome = agent.invoke(inputs)"
   ]
  },
  {
   "cell_type": "code",
   "execution_count": 14,
   "id": "ac3ba32b-a322-4988-a722-16136a9eecaa",
   "metadata": {
    "execution": {
     "iopub.execute_input": "2024-08-17T13:53:34.654281Z",
     "iopub.status.busy": "2024-08-17T13:53:34.653656Z",
     "iopub.status.idle": "2024-08-17T13:53:34.666319Z",
     "shell.execute_reply": "2024-08-17T13:53:34.664465Z",
     "shell.execute_reply.started": "2024-08-17T13:53:34.654230Z"
    }
   },
   "outputs": [
    {
     "data": {
      "text/plain": [
       "AgentActionMessageLog(tool='random_number', tool_input={'input': 'Generate a random number'}, log=\"\\nInvoking: `random_number` with `{'input': 'Generate a random number'}`\\n\\n\\n\", message_log=[AIMessage(content='', additional_kwargs={'function_call': {'arguments': '{\"input\":\"Generate a random number\"}', 'name': 'random_number'}}, response_metadata={'finish_reason': 'function_call', 'model_name': 'gpt-4o-2024-05-13', 'system_fingerprint': 'fp_3aa7262c27'}, id='run-e2652fc2-03db-4c6c-9b26-310d80e0f06a-0')])"
      ]
     },
     "execution_count": 14,
     "metadata": {},
     "output_type": "execute_result"
    }
   ],
   "source": [
    "agent_outcome"
   ]
  },
  {
   "cell_type": "markdown",
   "id": "6db04fd4-9a83-4a00-bc4a-feef8daebb38",
   "metadata": {},
   "source": [
    "### tools"
   ]
  },
  {
   "cell_type": "code",
   "execution_count": 15,
   "id": "e9185c9c-6482-4454-baed-bd4c1042e3c1",
   "metadata": {
    "execution": {
     "iopub.execute_input": "2024-08-17T13:53:34.668819Z",
     "iopub.status.busy": "2024-08-17T13:53:34.668293Z",
     "iopub.status.idle": "2024-08-17T13:53:34.684118Z",
     "shell.execute_reply": "2024-08-17T13:53:34.682502Z",
     "shell.execute_reply.started": "2024-08-17T13:53:34.668771Z"
    }
   },
   "outputs": [
    {
     "name": "stderr",
     "output_type": "stream",
     "text": [
      "/tmp/ipykernel_1802818/3792225135.py:1: LangGraphDeprecationWarning: ToolExecutor is deprecated as of version 0.2.0 and will be removed in 0.3.0. Use langgraph.prebuilt.ToolNode instead.\n",
      "  tool_executor = ToolExecutor(tools)\n"
     ]
    }
   ],
   "source": [
    "tool_executor = ToolExecutor(tools)\n",
    "# tool_executor = ToolNode(tools)"
   ]
  },
  {
   "cell_type": "code",
   "execution_count": 16,
   "id": "da6d4bb9-7328-4864-b14c-bc6b953c6f41",
   "metadata": {
    "execution": {
     "iopub.execute_input": "2024-08-17T13:53:34.686727Z",
     "iopub.status.busy": "2024-08-17T13:53:34.686047Z",
     "iopub.status.idle": "2024-08-17T13:53:34.704441Z",
     "shell.execute_reply": "2024-08-17T13:53:34.702194Z",
     "shell.execute_reply.started": "2024-08-17T13:53:34.686679Z"
    }
   },
   "outputs": [],
   "source": [
    "def run_agent(state):\n",
    "    agent_outcome = agent.invoke(state)\n",
    "    # AgentState.agent_outcome: 当前输出，决策动作\n",
    "    return {\"agent_outcome\": agent_outcome}\n",
    "\n",
    "def execute_tools(state):\n",
    "    agent_action = state['agent_outcome']\n",
    "    output = tool_executor.invoke(agent_action)\n",
    "    print(f\"The agent action is {agent_action}\")\n",
    "    print(f\"The tool result is: {output}\")\n",
    "    # AgentState.intermediate_steps: 追加逻辑\n",
    "    return {\"intermediate_steps\": [(agent_action, str(output))]}\n",
    "\n",
    "def should_continue(state):\n",
    "    if isinstance(state['agent_outcome'], AgentFinish):\n",
    "        return \"end\"\n",
    "    return \"continue\""
   ]
  },
  {
   "cell_type": "markdown",
   "id": "2b78917e-8031-487b-a8f4-73c5cf87aaca",
   "metadata": {},
   "source": [
    "### graph"
   ]
  },
  {
   "cell_type": "code",
   "execution_count": 17,
   "id": "fc07813a-12a2-4108-9afe-6f0b35d79c07",
   "metadata": {
    "execution": {
     "iopub.execute_input": "2024-08-17T13:53:34.709423Z",
     "iopub.status.busy": "2024-08-17T13:53:34.708881Z",
     "iopub.status.idle": "2024-08-17T13:53:34.730949Z",
     "shell.execute_reply": "2024-08-17T13:53:34.729166Z",
     "shell.execute_reply.started": "2024-08-17T13:53:34.709375Z"
    }
   },
   "outputs": [],
   "source": [
    "workflow = StateGraph(AgentState)\n",
    "\n",
    "workflow.add_node(\"agent\", run_agent)\n",
    "workflow.add_node(\"action\", execute_tools)\n",
    "\n",
    "workflow.set_entry_point(\"agent\")\n",
    "\n",
    "# 条件分支\n",
    "workflow.add_conditional_edges(\n",
    "    \"agent\",\n",
    "    should_continue,\n",
    "    {\n",
    "        \"continue\": \"action\",\n",
    "        \"end\": END\n",
    "    }\n",
    ")\n",
    "\n",
    "workflow.add_edge('action', 'agent')\n",
    "\n",
    "graph = workflow.compile()"
   ]
  },
  {
   "cell_type": "code",
   "execution_count": 18,
   "id": "91f8659d-a143-44d6-87c2-9b045c19a2e1",
   "metadata": {
    "execution": {
     "iopub.execute_input": "2024-08-17T13:53:34.733316Z",
     "iopub.status.busy": "2024-08-17T13:53:34.732797Z",
     "iopub.status.idle": "2024-08-17T13:53:36.799282Z",
     "shell.execute_reply": "2024-08-17T13:53:36.796972Z",
     "shell.execute_reply.started": "2024-08-17T13:53:34.733269Z"
    }
   },
   "outputs": [
    {
     "data": {
      "image/jpeg": "[encoded data removed]",
      "text/plain": [
       "<IPython.core.display.Image object>"
      ]
     },
     "metadata": {},
     "output_type": "display_data"
    }
   ],
   "source": [
    "from IPython.display import Image, display\n",
    "\n",
    "try:\n",
    "    display(Image(graph.get_graph().draw_mermaid_png()))\n",
    "except Exception:\n",
    "    # This requires some extra dependencies and is optional\n",
    "    pass"
   ]
  },
  {
   "cell_type": "code",
   "execution_count": 19,
   "id": "968a7e2d-3d6d-4d14-92b3-2177c539cfc5",
   "metadata": {
    "execution": {
     "iopub.execute_input": "2024-08-17T13:53:36.801802Z",
     "iopub.status.busy": "2024-08-17T13:53:36.801242Z",
     "iopub.status.idle": "2024-08-17T13:53:36.813609Z",
     "shell.execute_reply": "2024-08-17T13:53:36.812071Z",
     "shell.execute_reply.started": "2024-08-17T13:53:36.801752Z"
    }
   },
   "outputs": [
    {
     "data": {
      "text/plain": [
       "({'agent': StateNodeSpec(runnable=agent(recurse=True), metadata=None, input=<class '__main__.AgentState'>, retry_policy=None),\n",
       "  'action': StateNodeSpec(runnable=action(recurse=True), metadata=None, input=<class '__main__.AgentState'>, retry_policy=None)},\n",
       " {('__start__', 'agent'), ('action', 'agent')})"
      ]
     },
     "execution_count": 19,
     "metadata": {},
     "output_type": "execute_result"
    }
   ],
   "source": [
    "workflow.nodes, workflow.edges"
   ]
  },
  {
   "cell_type": "code",
   "execution_count": 20,
   "id": "4918da09-5e3d-496f-a152-1576138c3814",
   "metadata": {
    "execution": {
     "iopub.execute_input": "2024-08-17T13:53:36.815892Z",
     "iopub.status.busy": "2024-08-17T13:53:36.815386Z",
     "iopub.status.idle": "2024-08-17T13:53:36.834656Z",
     "shell.execute_reply": "2024-08-17T13:53:36.833097Z",
     "shell.execute_reply.started": "2024-08-17T13:53:36.815844Z"
    }
   },
   "outputs": [
    {
     "data": {
      "text/plain": [
       "{'input': <langgraph.channels.last_value.LastValue at 0x77547bb3e0f0>,\n",
       " 'chat_history': <langgraph.channels.last_value.LastValue at 0x77547bb3dee0>,\n",
       " 'agent_outcome': <langgraph.channels.last_value.LastValue at 0x77547bb3dfd0>,\n",
       " 'intermediate_steps': <langgraph.channels.binop.BinaryOperatorAggregate at 0x775484081940>}"
      ]
     },
     "execution_count": 20,
     "metadata": {},
     "output_type": "execute_result"
    }
   ],
   "source": [
    "workflow.channels"
   ]
  },
  {
   "cell_type": "code",
   "execution_count": 21,
   "id": "1e11c70c-6d6d-400f-9ea5-c1788d634300",
   "metadata": {
    "execution": {
     "iopub.execute_input": "2024-08-17T13:53:36.842571Z",
     "iopub.status.busy": "2024-08-17T13:53:36.842010Z",
     "iopub.status.idle": "2024-08-17T13:53:38.855838Z",
     "shell.execute_reply": "2024-08-17T13:53:38.853901Z",
     "shell.execute_reply.started": "2024-08-17T13:53:36.842522Z"
    }
   },
   "outputs": [
    {
     "name": "stdout",
     "output_type": "stream",
     "text": [
      "{'agent_outcome': AgentActionMessageLog(tool='random_number', tool_input={'input': 'Give me a random number'}, log=\"\\nInvoking: `random_number` with `{'input': 'Give me a random number'}`\\n\\n\\n\", message_log=[AIMessage(content='', additional_kwargs={'function_call': {'arguments': '{\"input\":\"Give me a random number\"}', 'name': 'random_number'}}, response_metadata={'finish_reason': 'function_call', 'model_name': 'gpt-4o-2024-05-13', 'system_fingerprint': 'fp_3aa7262c27'}, id='run-00c69965-ef08-4664-a251-2510db7afcf7-0')])}\n",
      "----\n",
      "The agent action is tool='random_number' tool_input={'input': 'Give me a random number'} log=\"\\nInvoking: `random_number` with `{'input': 'Give me a random number'}`\\n\\n\\n\" message_log=[AIMessage(content='', additional_kwargs={'function_call': {'arguments': '{\"input\":\"Give me a random number\"}', 'name': 'random_number'}}, response_metadata={'finish_reason': 'function_call', 'model_name': 'gpt-4o-2024-05-13', 'system_fingerprint': 'fp_3aa7262c27'}, id='run-00c69965-ef08-4664-a251-2510db7afcf7-0')]\n",
      "The tool result is: 85\n",
      "{'intermediate_steps': [(AgentActionMessageLog(tool='random_number', tool_input={'input': 'Give me a random number'}, log=\"\\nInvoking: `random_number` with `{'input': 'Give me a random number'}`\\n\\n\\n\", message_log=[AIMessage(content='', additional_kwargs={'function_call': {'arguments': '{\"input\":\"Give me a random number\"}', 'name': 'random_number'}}, response_metadata={'finish_reason': 'function_call', 'model_name': 'gpt-4o-2024-05-13', 'system_fingerprint': 'fp_3aa7262c27'}, id='run-00c69965-ef08-4664-a251-2510db7afcf7-0')]), '85')]}\n",
      "----\n",
      "{'agent_outcome': AgentFinish(return_values={'output': 'The random number is 85. In words, that is \"eighty-five.\"\\n\\nLet me convert that into upper case for you: EIGHTY-FIVE'}, log='The random number is 85. In words, that is \"eighty-five.\"\\n\\nLet me convert that into upper case for you: EIGHTY-FIVE')}\n",
      "----\n"
     ]
    }
   ],
   "source": [
    "inputs = {\"input\": \"give me a random number and then write in words and make it upper case.\", \n",
    "          \"chat_history\": []}\n",
    "for s in graph.stream(inputs):\n",
    "    print(list(s.values())[0])\n",
    "    print(\"----\")"
   ]
  },
  {
   "cell_type": "code",
   "execution_count": 39,
   "id": "397e0638-0ef1-4a51-b3c0-92516f373c28",
   "metadata": {
    "execution": {
     "iopub.execute_input": "2024-08-17T13:54:19.999617Z",
     "iopub.status.busy": "2024-08-17T13:54:19.998993Z",
     "iopub.status.idle": "2024-08-17T13:54:23.795595Z",
     "shell.execute_reply": "2024-08-17T13:54:23.793637Z",
     "shell.execute_reply.started": "2024-08-17T13:54:19.999565Z"
    }
   },
   "outputs": [
    {
     "name": "stdout",
     "output_type": "stream",
     "text": [
      "The agent action is tool='random_number' tool_input={'input': 'Give me a random number'} log=\"\\nInvoking: `random_number` with `{'input': 'Give me a random number'}`\\n\\n\\n\" message_log=[AIMessage(content='', additional_kwargs={'function_call': {'arguments': '{\"input\":\"Give me a random number\"}', 'name': 'random_number'}}, response_metadata={'finish_reason': 'function_call', 'model_name': 'gpt-4o-2024-05-13', 'system_fingerprint': 'fp_3aa7262c27'}, id='run-37b6ccdc-77c5-4af3-bdbf-874d0506622a-0')]\n",
      "The tool result is: 13\n",
      "The agent action is tool='upper_case' tool_input={'input': 'thirteen'} log=\"\\nInvoking: `upper_case` with `{'input': 'thirteen'}`\\n\\n\\n\" message_log=[AIMessage(content='', additional_kwargs={'function_call': {'arguments': '{\"input\":\"thirteen\"}', 'name': 'upper_case'}}, response_metadata={'finish_reason': 'function_call', 'model_name': 'gpt-4o-2024-05-13', 'system_fingerprint': 'fp_3aa7262c27'}, id='run-d159f4d6-7805-46f4-8029-41c9eaa0e699-0')]\n",
      "The tool result is: THIRTEEN\n"
     ]
    }
   ],
   "source": [
    "inputs = {\"input\": \"give me a random number and then write in words and make it upper case\", \"chat_history\": []}\n",
    "\n",
    "output = graph.invoke(inputs)"
   ]
  },
  {
   "cell_type": "code",
   "execution_count": 40,
   "id": "c9881b70-1341-45e0-82c5-da57b0a66bc0",
   "metadata": {
    "execution": {
     "iopub.execute_input": "2024-08-17T13:54:27.975426Z",
     "iopub.status.busy": "2024-08-17T13:54:27.974790Z",
     "iopub.status.idle": "2024-08-17T13:54:27.986820Z",
     "shell.execute_reply": "2024-08-17T13:54:27.984803Z",
     "shell.execute_reply.started": "2024-08-17T13:54:27.975373Z"
    }
   },
   "outputs": [
    {
     "data": {
      "text/plain": [
       "{'input': 'give me a random number and then write in words and make it upper case',\n",
       " 'chat_history': [],\n",
       " 'agent_outcome': AgentFinish(return_values={'output': 'The random number is 13, which in words is: THIRTEEN'}, log='The random number is 13, which in words is: THIRTEEN'),\n",
       " 'intermediate_steps': [(AgentActionMessageLog(tool='random_number', tool_input={'input': 'Give me a random number'}, log=\"\\nInvoking: `random_number` with `{'input': 'Give me a random number'}`\\n\\n\\n\", message_log=[AIMessage(content='', additional_kwargs={'function_call': {'arguments': '{\"input\":\"Give me a random number\"}', 'name': 'random_number'}}, response_metadata={'finish_reason': 'function_call', 'model_name': 'gpt-4o-2024-05-13', 'system_fingerprint': 'fp_3aa7262c27'}, id='run-37b6ccdc-77c5-4af3-bdbf-874d0506622a-0')]),\n",
       "   '13'),\n",
       "  (AgentActionMessageLog(tool='upper_case', tool_input={'input': 'thirteen'}, log=\"\\nInvoking: `upper_case` with `{'input': 'thirteen'}`\\n\\n\\n\", message_log=[AIMessage(content='', additional_kwargs={'function_call': {'arguments': '{\"input\":\"thirteen\"}', 'name': 'upper_case'}}, response_metadata={'finish_reason': 'function_call', 'model_name': 'gpt-4o-2024-05-13', 'system_fingerprint': 'fp_3aa7262c27'}, id='run-d159f4d6-7805-46f4-8029-41c9eaa0e699-0')]),\n",
       "   'THIRTEEN')]}"
      ]
     },
     "execution_count": 40,
     "metadata": {},
     "output_type": "execute_result"
    }
   ],
   "source": [
    "output"
   ]
  },
  {
   "cell_type": "code",
   "execution_count": 41,
   "id": "8b11a72c-a47d-4523-9add-d367c1c5e590",
   "metadata": {
    "execution": {
     "iopub.execute_input": "2024-08-17T13:54:30.394131Z",
     "iopub.status.busy": "2024-08-17T13:54:30.393404Z",
     "iopub.status.idle": "2024-08-17T13:54:30.404773Z",
     "shell.execute_reply": "2024-08-17T13:54:30.402864Z",
     "shell.execute_reply.started": "2024-08-17T13:54:30.394075Z"
    }
   },
   "outputs": [
    {
     "data": {
      "text/plain": [
       "AgentFinish(return_values={'output': 'The random number is 13, which in words is: THIRTEEN'}, log='The random number is 13, which in words is: THIRTEEN')"
      ]
     },
     "execution_count": 41,
     "metadata": {},
     "output_type": "execute_result"
    }
   ],
   "source": [
    "output.get('agent_outcome')"
   ]
  },
  {
   "cell_type": "code",
   "execution_count": 42,
   "id": "c299fe0e-1e67-4ba8-a63b-35ee4a331c1e",
   "metadata": {
    "execution": {
     "iopub.execute_input": "2024-08-17T13:54:32.058001Z",
     "iopub.status.busy": "2024-08-17T13:54:32.057330Z",
     "iopub.status.idle": "2024-08-17T13:54:32.069862Z",
     "shell.execute_reply": "2024-08-17T13:54:32.068379Z",
     "shell.execute_reply.started": "2024-08-17T13:54:32.057949Z"
    }
   },
   "outputs": [
    {
     "data": {
      "text/plain": [
       "'The random number is 13, which in words is: THIRTEEN'"
      ]
     },
     "execution_count": 42,
     "metadata": {},
     "output_type": "execute_result"
    }
   ],
   "source": [
    "output.get('agent_outcome').return_values['output']"
   ]
  },
  {
   "cell_type": "code",
   "execution_count": 43,
   "id": "cf569ed5-0f2a-4492-a3dd-ca16a806e959",
   "metadata": {
    "execution": {
     "iopub.execute_input": "2024-08-17T13:54:34.251056Z",
     "iopub.status.busy": "2024-08-17T13:54:34.250431Z",
     "iopub.status.idle": "2024-08-17T13:54:34.263482Z",
     "shell.execute_reply": "2024-08-17T13:54:34.261273Z",
     "shell.execute_reply.started": "2024-08-17T13:54:34.251005Z"
    }
   },
   "outputs": [
    {
     "data": {
      "text/plain": [
       "[(AgentActionMessageLog(tool='random_number', tool_input={'input': 'Give me a random number'}, log=\"\\nInvoking: `random_number` with `{'input': 'Give me a random number'}`\\n\\n\\n\", message_log=[AIMessage(content='', additional_kwargs={'function_call': {'arguments': '{\"input\":\"Give me a random number\"}', 'name': 'random_number'}}, response_metadata={'finish_reason': 'function_call', 'model_name': 'gpt-4o-2024-05-13', 'system_fingerprint': 'fp_3aa7262c27'}, id='run-37b6ccdc-77c5-4af3-bdbf-874d0506622a-0')]),\n",
       "  '13'),\n",
       " (AgentActionMessageLog(tool='upper_case', tool_input={'input': 'thirteen'}, log=\"\\nInvoking: `upper_case` with `{'input': 'thirteen'}`\\n\\n\\n\", message_log=[AIMessage(content='', additional_kwargs={'function_call': {'arguments': '{\"input\":\"thirteen\"}', 'name': 'upper_case'}}, response_metadata={'finish_reason': 'function_call', 'model_name': 'gpt-4o-2024-05-13', 'system_fingerprint': 'fp_3aa7262c27'}, id='run-d159f4d6-7805-46f4-8029-41c9eaa0e699-0')]),\n",
       "  'THIRTEEN')]"
      ]
     },
     "execution_count": 43,
     "metadata": {},
     "output_type": "execute_result"
    }
   ],
   "source": [
    "output['intermediate_steps']"
   ]
  },
  {
   "cell_type": "markdown",
   "id": "82bdde06-9f24-4a32-97d2-6cda0eb5cfa1",
   "metadata": {},
   "source": [
    "## example 2: Chat Executor"
   ]
  },
  {
   "cell_type": "code",
   "execution_count": 27,
   "id": "b1c8de74-86a4-4b92-bb01-d5136adff338",
   "metadata": {
    "execution": {
     "iopub.execute_input": "2024-08-17T13:53:40.704307Z",
     "iopub.status.busy": "2024-08-17T13:53:40.703795Z",
     "iopub.status.idle": "2024-08-17T13:53:40.712175Z",
     "shell.execute_reply": "2024-08-17T13:53:40.710365Z",
     "shell.execute_reply.started": "2024-08-17T13:53:40.704259Z"
    }
   },
   "outputs": [],
   "source": [
    "os.environ[\"LANGCHAIN_PROJECT\"] = \"lg_02_chat_executor\""
   ]
  },
  {
   "cell_type": "code",
   "execution_count": 28,
   "id": "fd3d34e7-fefa-4a55-9bcb-cf3da4ddcecd",
   "metadata": {
    "execution": {
     "iopub.execute_input": "2024-08-17T13:53:40.714885Z",
     "iopub.status.busy": "2024-08-17T13:53:40.714339Z",
     "iopub.status.idle": "2024-08-17T13:53:40.809681Z",
     "shell.execute_reply": "2024-08-17T13:53:40.808139Z",
     "shell.execute_reply.started": "2024-08-17T13:53:40.714836Z"
    }
   },
   "outputs": [],
   "source": [
    "llm = ChatOpenAI(model=\"gpt-4o\", streaming=True)"
   ]
  },
  {
   "cell_type": "code",
   "execution_count": 29,
   "id": "f8f4868b-32d9-4926-a8e5-5a7e2bd6eae8",
   "metadata": {
    "execution": {
     "iopub.execute_input": "2024-08-17T13:53:40.810564Z",
     "iopub.status.busy": "2024-08-17T13:53:40.810357Z",
     "iopub.status.idle": "2024-08-17T13:53:40.817589Z",
     "shell.execute_reply": "2024-08-17T13:53:40.816511Z",
     "shell.execute_reply.started": "2024-08-17T13:53:40.810546Z"
    }
   },
   "outputs": [],
   "source": [
    "functions = [convert_to_openai_function(t) for t in tools]\n",
    "llm = llm.bind_functions(functions)"
   ]
  },
  {
   "cell_type": "code",
   "execution_count": 30,
   "id": "fd9ff1fb-958b-49f0-aadb-d4f04f04a7e9",
   "metadata": {
    "execution": {
     "iopub.execute_input": "2024-08-17T13:53:40.818829Z",
     "iopub.status.busy": "2024-08-17T13:53:40.818624Z",
     "iopub.status.idle": "2024-08-17T13:53:40.827845Z",
     "shell.execute_reply": "2024-08-17T13:53:40.826800Z",
     "shell.execute_reply.started": "2024-08-17T13:53:40.818810Z"
    }
   },
   "outputs": [
    {
     "data": {
      "text/plain": [
       "[{'name': 'upper_case',\n",
       "  'description': 'Returns the input as all upper case.',\n",
       "  'parameters': {'type': 'object',\n",
       "   'properties': {'input': {'type': 'string'}},\n",
       "   'required': ['input']}},\n",
       " {'name': 'random_number',\n",
       "  'description': 'Returns a random number between 0-100.',\n",
       "  'parameters': {'type': 'object',\n",
       "   'properties': {'input': {'type': 'string'}},\n",
       "   'required': ['input']}}]"
      ]
     },
     "execution_count": 30,
     "metadata": {},
     "output_type": "execute_result"
    }
   ],
   "source": [
    "functions"
   ]
  },
  {
   "cell_type": "markdown",
   "id": "fc735271-2a2c-4ed1-8099-7730f455fbe9",
   "metadata": {},
   "source": [
    "### agent state"
   ]
  },
  {
   "cell_type": "code",
   "execution_count": 31,
   "id": "f8d5f05d-a592-4187-8244-639bed6cdb65",
   "metadata": {
    "execution": {
     "iopub.execute_input": "2024-08-17T13:53:40.828678Z",
     "iopub.status.busy": "2024-08-17T13:53:40.828477Z",
     "iopub.status.idle": "2024-08-17T13:53:40.837269Z",
     "shell.execute_reply": "2024-08-17T13:53:40.835700Z",
     "shell.execute_reply.started": "2024-08-17T13:53:40.828661Z"
    }
   },
   "outputs": [],
   "source": [
    "class AgentState(TypedDict):\n",
    "    # 不断追加和传递\n",
    "    messages: Annotated[Sequence[BaseMessage], operator.add]"
   ]
  },
  {
   "cell_type": "markdown",
   "id": "6ce3aca0-08ac-4f37-bdc9-f57be9c38a4f",
   "metadata": {},
   "source": [
    "### nodes"
   ]
  },
  {
   "cell_type": "code",
   "execution_count": 32,
   "id": "27d54c02-71c3-4698-bd03-d295abe5a125",
   "metadata": {
    "execution": {
     "iopub.execute_input": "2024-08-17T13:53:40.838755Z",
     "iopub.status.busy": "2024-08-17T13:53:40.838526Z",
     "iopub.status.idle": "2024-08-17T13:53:40.847629Z",
     "shell.execute_reply": "2024-08-17T13:53:40.846020Z",
     "shell.execute_reply.started": "2024-08-17T13:53:40.838736Z"
    }
   },
   "outputs": [],
   "source": [
    "def should_continue(state):\n",
    "    messages = state['messages']\n",
    "    last_message = messages[-1]\n",
    "    if \"function_call\" not in last_message.additional_kwargs:\n",
    "        return \"end\"\n",
    "    return \"continue\"\n",
    "\n",
    "def call_model(state):\n",
    "    messages = state['messages']\n",
    "    response = llm.invoke(messages)\n",
    "    return {\"messages\": [response]}\n",
    "\n",
    "def call_tool(state):\n",
    "    messages = state['messages']\n",
    "    last_message = messages[-1]\n",
    "    action = ToolInvocation(\n",
    "        tool=last_message.additional_kwargs[\"function_call\"][\"name\"],\n",
    "        tool_input=json.loads(last_message.additional_kwargs[\"function_call\"][\"arguments\"]),\n",
    "    )\n",
    "    print(f\"The agent action is {action}\")\n",
    "    response = tool_executor.invoke(action)\n",
    "    print(f\"The tool result is: {response}\")\n",
    "    function_message = FunctionMessage(content=str(response), name=action.tool)\n",
    "    return {\"messages\": [function_message]}"
   ]
  },
  {
   "cell_type": "markdown",
   "id": "275c656f-3f10-4b40-b0d2-6c6fd5263a51",
   "metadata": {},
   "source": [
    "### graph"
   ]
  },
  {
   "cell_type": "code",
   "execution_count": 33,
   "id": "1bdf1b85-c547-4894-b693-caf3c3f6d591",
   "metadata": {
    "execution": {
     "iopub.execute_input": "2024-08-17T13:53:40.849766Z",
     "iopub.status.busy": "2024-08-17T13:53:40.849333Z",
     "iopub.status.idle": "2024-08-17T13:53:40.861578Z",
     "shell.execute_reply": "2024-08-17T13:53:40.860175Z",
     "shell.execute_reply.started": "2024-08-17T13:53:40.849730Z"
    }
   },
   "outputs": [],
   "source": [
    "workflow = StateGraph(AgentState)\n",
    "workflow.add_node(\"agent\", call_model)\n",
    "workflow.add_node(\"action\", call_tool)\n",
    "workflow.set_entry_point(\"agent\")\n",
    "workflow.add_conditional_edges(\n",
    "    \"agent\",\n",
    "    should_continue,\n",
    "    {\n",
    "        \"continue\": \"action\",\n",
    "        \"end\": END\n",
    "    }\n",
    ")\n",
    "workflow.add_edge('action', 'agent')\n",
    "graph2 = workflow.compile()"
   ]
  },
  {
   "cell_type": "code",
   "execution_count": 34,
   "id": "fcd110d8-50e1-4f48-adfe-9fb747032e45",
   "metadata": {
    "execution": {
     "iopub.execute_input": "2024-08-17T13:53:40.863356Z",
     "iopub.status.busy": "2024-08-17T13:53:40.862971Z",
     "iopub.status.idle": "2024-08-17T13:53:41.795912Z",
     "shell.execute_reply": "2024-08-17T13:53:41.794001Z",
     "shell.execute_reply.started": "2024-08-17T13:53:40.863322Z"
    }
   },
   "outputs": [
    {
     "data": {
      "image/jpeg": "[encoded data removed]",
      "text/plain": [
       "<IPython.core.display.Image object>"
      ]
     },
     "metadata": {},
     "output_type": "display_data"
    }
   ],
   "source": [
    "try:\n",
    "    display(Image(graph2.get_graph().draw_mermaid_png()))\n",
    "except Exception:\n",
    "    # This requires some extra dependencies and is optional\n",
    "    pass"
   ]
  },
  {
   "cell_type": "code",
   "execution_count": 44,
   "id": "d343967b-8bc9-4456-99d9-2257fea8b434",
   "metadata": {
    "execution": {
     "iopub.execute_input": "2024-08-17T13:54:44.762413Z",
     "iopub.status.busy": "2024-08-17T13:54:44.761767Z",
     "iopub.status.idle": "2024-08-17T13:54:44.771993Z",
     "shell.execute_reply": "2024-08-17T13:54:44.769988Z",
     "shell.execute_reply.started": "2024-08-17T13:54:44.762362Z"
    }
   },
   "outputs": [],
   "source": [
    "system_message = SystemMessage(content=\"you are a helpful assistant\")\n",
    "user_q1 = HumanMessage(content=\"give me a random number and then write in words and make it upper case\")\n",
    "inputs = {\"messages\": [system_message, user_q1]}"
   ]
  },
  {
   "cell_type": "code",
   "execution_count": 45,
   "id": "d4ae6f6e-1f3e-4fc4-ab95-bf0f711ecc55",
   "metadata": {
    "execution": {
     "iopub.execute_input": "2024-08-17T13:54:45.941167Z",
     "iopub.status.busy": "2024-08-17T13:54:45.940525Z",
     "iopub.status.idle": "2024-08-17T13:54:49.126605Z",
     "shell.execute_reply": "2024-08-17T13:54:49.124470Z",
     "shell.execute_reply.started": "2024-08-17T13:54:45.941116Z"
    }
   },
   "outputs": [
    {
     "name": "stderr",
     "output_type": "stream",
     "text": [
      "/tmp/ipykernel_1802818/3059577378.py:16: LangGraphDeprecationWarning: ToolInvocation is deprecated as of version 0.2.0 and will be removed in 0.3.0. Use langgraph.prebuilt.ToolNode instead.\n",
      "  action = ToolInvocation(\n"
     ]
    },
    {
     "name": "stdout",
     "output_type": "stream",
     "text": [
      "The agent action is tool='random_number' tool_input={'input': 'random'}\n",
      "The tool result is: 17\n"
     ]
    },
    {
     "name": "stderr",
     "output_type": "stream",
     "text": [
      "/tmp/ipykernel_1802818/3059577378.py:16: LangGraphDeprecationWarning: ToolInvocation is deprecated as of version 0.2.0 and will be removed in 0.3.0. Use langgraph.prebuilt.ToolNode instead.\n",
      "  action = ToolInvocation(\n"
     ]
    },
    {
     "name": "stdout",
     "output_type": "stream",
     "text": [
      "The agent action is tool='upper_case' tool_input={'input': 'seventeen'}\n",
      "The tool result is: SEVENTEEN\n"
     ]
    }
   ],
   "source": [
    "output = graph2.invoke(inputs)"
   ]
  },
  {
   "cell_type": "code",
   "execution_count": 37,
   "id": "1830ff82-1c66-42c7-b15a-54d7bb470878",
   "metadata": {
    "execution": {
     "iopub.execute_input": "2024-08-17T13:53:45.148484Z",
     "iopub.status.busy": "2024-08-17T13:53:45.147959Z",
     "iopub.status.idle": "2024-08-17T13:53:45.155284Z",
     "shell.execute_reply": "2024-08-17T13:53:45.153401Z",
     "shell.execute_reply.started": "2024-08-17T13:53:45.148435Z"
    }
   },
   "outputs": [],
   "source": [
    "# type(output), isinstance(output, AgentState)"
   ]
  },
  {
   "cell_type": "code",
   "execution_count": 46,
   "id": "cfc89ca9-9581-4638-94d9-979daab9fdd5",
   "metadata": {
    "execution": {
     "iopub.execute_input": "2024-08-17T13:54:51.477392Z",
     "iopub.status.busy": "2024-08-17T13:54:51.476756Z",
     "iopub.status.idle": "2024-08-17T13:54:51.489236Z",
     "shell.execute_reply": "2024-08-17T13:54:51.487365Z",
     "shell.execute_reply.started": "2024-08-17T13:54:51.477342Z"
    }
   },
   "outputs": [
    {
     "data": {
      "text/plain": [
       "{'messages': [SystemMessage(content='you are a helpful assistant'),\n",
       "  HumanMessage(content='give me a random number and then write in words and make it upper case'),\n",
       "  AIMessage(content='', additional_kwargs={'function_call': {'arguments': '{\"input\":\"random\"}', 'name': 'random_number'}}, response_metadata={'finish_reason': 'function_call', 'model_name': 'gpt-4o-2024-05-13', 'system_fingerprint': 'fp_3aa7262c27'}, id='run-333b0a51-c40c-4e58-958a-b649b684f96e-0'),\n",
       "  FunctionMessage(content='17', name='random_number'),\n",
       "  AIMessage(content='', additional_kwargs={'function_call': {'arguments': '{\"input\":\"seventeen\"}', 'name': 'upper_case'}}, response_metadata={'finish_reason': 'function_call', 'model_name': 'gpt-4o-2024-05-13', 'system_fingerprint': 'fp_3aa7262c27'}, id='run-6eae1c13-d9b0-4041-a39f-bd3c2b64e825-0'),\n",
       "  FunctionMessage(content='SEVENTEEN', name='upper_case'),\n",
       "  AIMessage(content='Your random number is **17**, which in words is **SEVENTEEN**.', response_metadata={'finish_reason': 'stop', 'model_name': 'gpt-4o-2024-05-13', 'system_fingerprint': 'fp_3aa7262c27'}, id='run-68762761-d744-473f-866a-da87f6a52371-0')]}"
      ]
     },
     "execution_count": 46,
     "metadata": {},
     "output_type": "execute_result"
    }
   ],
   "source": [
    "output"
   ]
  },
  {
   "cell_type": "code",
   "execution_count": null,
   "id": "395363cb-6e0e-4566-be6c-8cec25751567",
   "metadata": {},
   "outputs": [],
   "source": []
  }
 ],
 "metadata": {
  "kernelspec": {
   "display_name": "agent",
   "language": "python",
   "name": "agent"
  },
  "language_info": {
   "codemirror_mode": {
    "name": "ipython",
    "version": 3
   },
   "file_extension": ".py",
   "mimetype": "text/x-python",
   "name": "python",
   "nbconvert_exporter": "python",
   "pygments_lexer": "ipython3",
   "version": "3.12.2"
  }
 },
 "nbformat": 4,
 "nbformat_minor": 5
}
