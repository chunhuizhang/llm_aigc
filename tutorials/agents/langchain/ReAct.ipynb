{
 "cells": [
  {
   "cell_type": "code",
   "execution_count": 1,
   "id": "283c021d-6217-44bf-94c3-6a32bbd60585",
   "metadata": {
    "execution": {
     "iopub.execute_input": "2024-08-07T16:05:30.070300Z",
     "iopub.status.busy": "2024-08-07T16:05:30.069959Z",
     "iopub.status.idle": "2024-08-07T16:05:30.514429Z",
     "shell.execute_reply": "2024-08-07T16:05:30.513554Z",
     "shell.execute_reply.started": "2024-08-07T16:05:30.070275Z"
    }
   },
   "outputs": [],
   "source": [
    "from langchain import hub"
   ]
  },
  {
   "cell_type": "code",
   "execution_count": 2,
   "id": "098601d0-9398-46ee-97dc-3a339f178ee6",
   "metadata": {
    "execution": {
     "iopub.execute_input": "2024-08-07T16:05:31.764404Z",
     "iopub.status.busy": "2024-08-07T16:05:31.764095Z",
     "iopub.status.idle": "2024-08-07T16:05:34.509073Z",
     "shell.execute_reply": "2024-08-07T16:05:34.507736Z",
     "shell.execute_reply.started": "2024-08-07T16:05:31.764386Z"
    }
   },
   "outputs": [],
   "source": [
    "prompt = hub.pull(\"hwchase17/react\")"
   ]
  },
  {
   "cell_type": "code",
   "execution_count": 5,
   "id": "29414418-129f-4bfa-96c3-508f80901c7e",
   "metadata": {
    "execution": {
     "iopub.execute_input": "2024-08-07T16:05:53.131518Z",
     "iopub.status.busy": "2024-08-07T16:05:53.130291Z",
     "iopub.status.idle": "2024-08-07T16:05:53.138006Z",
     "shell.execute_reply": "2024-08-07T16:05:53.136763Z",
     "shell.execute_reply.started": "2024-08-07T16:05:53.131474Z"
    }
   },
   "outputs": [
    {
     "name": "stdout",
     "output_type": "stream",
     "text": [
      "Answer the following questions as best you can. You have access to the following tools:\n",
      "\n",
      "{tools}\n",
      "\n",
      "Use the following format:\n",
      "\n",
      "Question: the input question you must answer\n",
      "Thought: you should always think about what to do\n",
      "Action: the action to take, should be one of [{tool_names}]\n",
      "Action Input: the input to the action\n",
      "Observation: the result of the action\n",
      "... (this Thought/Action/Action Input/Observation can repeat N times)\n",
      "Thought: I now know the final answer\n",
      "Final Answer: the final answer to the original input question\n",
      "\n",
      "Begin!\n",
      "\n",
      "Question: {input}\n",
      "Thought:{agent_scratchpad}\n"
     ]
    }
   ],
   "source": [
    "print(prompt.template)"
   ]
  }
 ],
 "metadata": {
  "kernelspec": {
   "display_name": "Python 3 (ipykernel)",
   "language": "python",
   "name": "python3"
  },
  "language_info": {
   "codemirror_mode": {
    "name": "ipython",
    "version": 3
   },
   "file_extension": ".py",
   "mimetype": "text/x-python",
   "name": "python",
   "nbconvert_exporter": "python",
   "pygments_lexer": "ipython3",
   "version": "3.10.13"
  }
 },
 "nbformat": 4,
 "nbformat_minor": 5
}
