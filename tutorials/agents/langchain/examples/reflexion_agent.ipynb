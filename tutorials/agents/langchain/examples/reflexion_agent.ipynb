{
 "cells": [
  {
   "cell_type": "markdown",
   "id": "e616fd0a-1ecf-47dd-bdbd-67c5c3c998d9",
   "metadata": {},
   "source": [
    "https://blog.langchain.dev/reflection-agents/"
   ]
  },
  {
   "cell_type": "code",
   "execution_count": 1,
   "id": "d4cbb222-b4f8-4dd1-8a5c-0426939fbc13",
   "metadata": {
    "execution": {
     "iopub.execute_input": "2024-11-10T03:10:57.236045Z",
     "iopub.status.busy": "2024-11-10T03:10:57.235474Z",
     "iopub.status.idle": "2024-11-10T03:10:57.246335Z",
     "shell.execute_reply": "2024-11-10T03:10:57.244574Z",
     "shell.execute_reply.started": "2024-11-10T03:10:57.235996Z"
    }
   },
   "outputs": [],
   "source": [
    "from IPython.display import Image"
   ]
  },
  {
   "cell_type": "markdown",
   "id": "b292cbf4-8d3a-4aed-9bb2-bb0488ea1120",
   "metadata": {},
   "source": [
    "- Andrew NG, agentic reasoing\n",
    "- reflexion agent\n",
    "    - reflect on and critique its past actions,\n",
    "    - sometimes incorporating additional external information such as tool observations.\n",
    "        - execution\n",
    "-  \"System 1\" vs. \"System 2\" thinking,\n",
    "    - where System 1 is reactive or instinctive （fast thinking）\n",
    "    - System 2 is more methodical and reflective （slow thinking）\n",
    "        - o1\n",
    "    - reflection can help LLM systems break out of purely System 1 \"thinking\" patterns and closer to something exhibiting System 2-like behavior."
   ]
  },
  {
   "cell_type": "code",
   "execution_count": 3,
   "id": "293123e4-6f1b-4d0d-9764-305e52554030",
   "metadata": {
    "execution": {
     "iopub.execute_input": "2024-11-10T03:12:46.697049Z",
     "iopub.status.busy": "2024-11-10T03:12:46.696474Z",
     "iopub.status.idle": "2024-11-10T03:12:46.708795Z",
     "shell.execute_reply": "2024-11-10T03:12:46.706740Z",
     "shell.execute_reply.started": "2024-11-10T03:12:46.697001Z"
    }
   },
   "outputs": [
    {
     "data": {
      "text/html": [
       "<img src=\"https://miro.medium.com/v2/resize:fit:4800/format:webp/0*2CQ5PdQGvmvdg1P2.png\" width=\"400\"/>"
      ],
      "text/plain": [
       "<IPython.core.display.Image object>"
      ]
     },
     "execution_count": 3,
     "metadata": {},
     "output_type": "execute_result"
    }
   ],
   "source": [
    "Image(url='https://miro.medium.com/v2/resize:fit:4800/format:webp/0*2CQ5PdQGvmvdg1P2.png', width=400)"
   ]
  },
  {
   "cell_type": "code",
   "execution_count": 2,
   "id": "0ed1c886-86c3-416f-b1b1-daa0ec77b45d",
   "metadata": {
    "execution": {
     "iopub.execute_input": "2024-11-10T03:11:11.778314Z",
     "iopub.status.busy": "2024-11-10T03:11:11.777968Z",
     "iopub.status.idle": "2024-11-10T03:11:11.790825Z",
     "shell.execute_reply": "2024-11-10T03:11:11.788739Z",
     "shell.execute_reply.started": "2024-11-10T03:11:11.778287Z"
    }
   },
   "outputs": [
    {
     "data": {
      "text/html": [
       "<img src=\"https://neurofied.com/wp-content/uploads/2022/05/System-12-White-1.png\" width=\"400\"/>"
      ],
      "text/plain": [
       "<IPython.core.display.Image object>"
      ]
     },
     "execution_count": 2,
     "metadata": {},
     "output_type": "execute_result"
    }
   ],
   "source": [
    "Image(url='https://neurofied.com/wp-content/uploads/2022/05/System-12-White-1.png', width=400)"
   ]
  },
  {
   "cell_type": "markdown",
   "id": "7f19dfff-2906-475d-9f91-abaf3d46d086",
   "metadata": {},
   "source": [
    "### basic reflection"
   ]
  },
  {
   "cell_type": "code",
   "execution_count": 4,
   "id": "2a827ef4-c14f-44c6-b74e-324500ae49d5",
   "metadata": {
    "execution": {
     "iopub.execute_input": "2024-11-10T03:16:54.532871Z",
     "iopub.status.busy": "2024-11-10T03:16:54.532327Z",
     "iopub.status.idle": "2024-11-10T03:16:54.544444Z",
     "shell.execute_reply": "2024-11-10T03:16:54.542509Z",
     "shell.execute_reply.started": "2024-11-10T03:16:54.532825Z"
    }
   },
   "outputs": [
    {
     "data": {
      "text/html": [
       "<img src=\"https://blog.langchain.dev/content/images/size/w1000/2024/02/reflection.png\" width=\"400\"/>"
      ],
      "text/plain": [
       "<IPython.core.display.Image object>"
      ]
     },
     "execution_count": 4,
     "metadata": {},
     "output_type": "execute_result"
    }
   ],
   "source": [
    "Image(url='https://blog.langchain.dev/content/images/size/w1000/2024/02/reflection.png', width=400)"
   ]
  },
  {
   "cell_type": "code",
   "execution_count": 5,
   "id": "880ffd58-1841-47c9-901d-5c388c095d35",
   "metadata": {
    "execution": {
     "iopub.execute_input": "2024-11-10T03:19:08.515318Z",
     "iopub.status.busy": "2024-11-10T03:19:08.514745Z",
     "iopub.status.idle": "2024-11-10T03:19:08.536174Z",
     "shell.execute_reply": "2024-11-10T03:19:08.534110Z",
     "shell.execute_reply.started": "2024-11-10T03:19:08.515268Z"
    }
   },
   "outputs": [],
   "source": [
    "from dotenv import load_dotenv\n",
    "assert load_dotenv()"
   ]
  },
  {
   "cell_type": "markdown",
   "id": "d7a759ad-ff38-4ee6-b0a5-19ceabba5636",
   "metadata": {},
   "source": [
    "#### generate"
   ]
  },
  {
   "cell_type": "code",
   "execution_count": 9,
   "id": "7e723f77-8360-4ab0-a670-b0ee6a6c03b5",
   "metadata": {
    "execution": {
     "iopub.execute_input": "2024-11-10T03:20:59.846298Z",
     "iopub.status.busy": "2024-11-10T03:20:59.845845Z",
     "iopub.status.idle": "2024-11-10T03:20:59.854893Z",
     "shell.execute_reply": "2024-11-10T03:20:59.852814Z",
     "shell.execute_reply.started": "2024-11-10T03:20:59.846261Z"
    }
   },
   "outputs": [],
   "source": [
    "from langchain_core.messages import AIMessage, BaseMessage, HumanMessage\n",
    "from langchain_core.prompts import ChatPromptTemplate, MessagesPlaceholder\n",
    "from langchain_openai import ChatOpenAI"
   ]
  },
  {
   "cell_type": "code",
   "execution_count": 7,
   "id": "87523a51-9432-4162-9c2f-9ec72c6763ed",
   "metadata": {
    "execution": {
     "iopub.execute_input": "2024-11-10T03:20:16.011791Z",
     "iopub.status.busy": "2024-11-10T03:20:16.011381Z",
     "iopub.status.idle": "2024-11-10T03:20:16.019284Z",
     "shell.execute_reply": "2024-11-10T03:20:16.017741Z",
     "shell.execute_reply.started": "2024-11-10T03:20:16.011767Z"
    }
   },
   "outputs": [],
   "source": [
    "prompt = ChatPromptTemplate.from_messages(\n",
    "    [\n",
    "        (\n",
    "            \"system\",\n",
    "            \"You are an essay assistant tasked with writing excellent 5-paragraph essays.\"\n",
    "            \" Generate the best essay possible for the user's request.\"\n",
    "            \" If the user provides critique, respond with a revised version of your previous attempts.\",\n",
    "        ),\n",
    "        MessagesPlaceholder(variable_name=\"messages\"),\n",
    "    ]\n",
    ")"
   ]
  },
  {
   "cell_type": "code",
   "execution_count": 8,
   "id": "a547dab9-1f55-4515-8775-5f6653d8dab2",
   "metadata": {
    "execution": {
     "iopub.execute_input": "2024-11-10T03:20:23.427266Z",
     "iopub.status.busy": "2024-11-10T03:20:23.425646Z",
     "iopub.status.idle": "2024-11-10T03:20:23.435430Z",
     "shell.execute_reply": "2024-11-10T03:20:23.433732Z",
     "shell.execute_reply.started": "2024-11-10T03:20:23.427200Z"
    }
   },
   "outputs": [
    {
     "name": "stdout",
     "output_type": "stream",
     "text": [
      "================================\u001b[1m System Message \u001b[0m================================\n",
      "\n",
      "You are an essay assistant tasked with writing excellent 5-paragraph essays. Generate the best essay possible for the user's request. If the user provides critique, respond with a revised version of your previous attempts.\n",
      "\n",
      "=============================\u001b[1m Messages Placeholder \u001b[0m=============================\n",
      "\n",
      "\u001b[33;1m\u001b[1;3m{messages}\u001b[0m\n"
     ]
    }
   ],
   "source": [
    "prompt.pretty_print()"
   ]
  },
  {
   "cell_type": "code",
   "execution_count": 10,
   "id": "f64d5741-f9b1-4d8a-81c5-e5b9cf69738b",
   "metadata": {
    "execution": {
     "iopub.execute_input": "2024-11-10T03:21:21.467469Z",
     "iopub.status.busy": "2024-11-10T03:21:21.466838Z",
     "iopub.status.idle": "2024-11-10T03:21:21.579478Z",
     "shell.execute_reply": "2024-11-10T03:21:21.577736Z",
     "shell.execute_reply.started": "2024-11-10T03:21:21.467418Z"
    }
   },
   "outputs": [],
   "source": [
    "llm = ChatOpenAI(model='gpt-4o-2024-08-06')"
   ]
  },
  {
   "cell_type": "code",
   "execution_count": 11,
   "id": "e4ce5ac0-2d1b-49eb-8968-292126888128",
   "metadata": {
    "execution": {
     "iopub.execute_input": "2024-11-10T03:21:27.252210Z",
     "iopub.status.busy": "2024-11-10T03:21:27.251906Z",
     "iopub.status.idle": "2024-11-10T03:21:27.259203Z",
     "shell.execute_reply": "2024-11-10T03:21:27.257318Z",
     "shell.execute_reply.started": "2024-11-10T03:21:27.252187Z"
    }
   },
   "outputs": [],
   "source": [
    "generate = prompt | llm"
   ]
  },
  {
   "cell_type": "code",
   "execution_count": 14,
   "id": "8c825902-1fbe-4d1f-8ef2-6366c933ff22",
   "metadata": {
    "execution": {
     "iopub.execute_input": "2024-11-10T03:22:42.348546Z",
     "iopub.status.busy": "2024-11-10T03:22:42.347752Z",
     "iopub.status.idle": "2024-11-10T03:22:49.656802Z",
     "shell.execute_reply": "2024-11-10T03:22:49.654678Z",
     "shell.execute_reply.started": "2024-11-10T03:22:42.348492Z"
    }
   },
   "outputs": [],
   "source": [
    "resp = generate.invoke({'messages': \n",
    "                        [HumanMessage(content='write an essay on why the little prince is relevant in modern childhood')]})"
   ]
  },
  {
   "cell_type": "code",
   "execution_count": 17,
   "id": "aaacf60c-32c5-43c9-9956-ca2473475e86",
   "metadata": {
    "execution": {
     "iopub.execute_input": "2024-11-10T03:23:02.456801Z",
     "iopub.status.busy": "2024-11-10T03:23:02.456163Z",
     "iopub.status.idle": "2024-11-10T03:23:02.466484Z",
     "shell.execute_reply": "2024-11-10T03:23:02.464343Z",
     "shell.execute_reply.started": "2024-11-10T03:23:02.456752Z"
    }
   },
   "outputs": [
    {
     "name": "stdout",
     "output_type": "stream",
     "text": [
      "\"The Little Prince,\" written by Antoine de Saint-Exupéry, continues to hold a significant place in modern childhood, transcending the boundaries of time and culture. Despite being published in 1943, the novella's themes resonate deeply with contemporary issues faced by children today. Through its exploration of imagination, the essence of relationships, and the value of seeing beyond the superficial, \"The Little Prince\" offers timeless lessons that are crucial for nurturing the minds and hearts of young readers.\n",
      "\n",
      "Firstly, \"The Little Prince\" underscores the importance of imagination and creativity, vital components of childhood that are often overshadowed by today's technology-driven world. In an era where digital devices and structured activities dominate children's lives, the story's emphasis on imagination encourages young readers to explore their creativity and view the world with wonder. The Little Prince's journey across different planets, meeting eccentric characters, highlights the beauty of curiosity and the boundless potential of imaginative play. By engaging with the imaginative world of the Little Prince, children are reminded of the joy and freedom that comes from creative thinking, an essential skill for problem-solving and innovation in the modern age.\n",
      "\n",
      "Secondly, the novella delves into the essence of relationships and the importance of human connections, a theme that remains profoundly relevant in today's society. The Little Prince's interactions with the fox, the rose, and the narrator illustrate the significance of forming meaningful bonds with others. In a time where social interactions are increasingly mediated by screens, \"The Little Prince\" serves as a poignant reminder of the value of genuine relationships. It teaches children that love and friendship require effort, understanding, and time, concepts that are fundamental to personal development and emotional well-being. The story encourages young readers to appreciate the people in their lives and to cultivate empathy and kindness, qualities that are essential for building a compassionate society.\n",
      "\n",
      "Lastly, \"The Little Prince\" challenges readers to look beyond the superficial and to seek deeper truths, a lesson that is crucial in a world saturated with materialism and appearances. The story's critique of adult preoccupations with wealth, power, and status prompts children to question societal norms and to prioritize what truly matters. This message is particularly relevant in today's consumer-driven culture, where children are often bombarded with messages equating happiness with possessions. Through the eyes of the Little Prince, children learn to value inner beauty, authenticity, and the intangibles that bring true joy and fulfillment.\n",
      "\n",
      "In conclusion, \"The Little Prince\" remains a beacon of wisdom for modern childhood, offering lessons that are as relevant today as they were when the book was first published. By celebrating imagination, emphasizing the importance of relationships, and encouraging a deeper understanding of the world, the novella provides children with the tools they need to navigate the complexities of contemporary life. As young readers embark on their own journeys of discovery, \"The Little Prince\" serves as a timeless guide, inspiring them to see with their hearts and to cherish the simple, yet profound, truths of existence.\n"
     ]
    }
   ],
   "source": [
    "print(resp.content)"
   ]
  }
 ],
 "metadata": {
  "kernelspec": {
   "display_name": "Python 3 (ipykernel)",
   "language": "python",
   "name": "python3"
  },
  "language_info": {
   "codemirror_mode": {
    "name": "ipython",
    "version": 3
   },
   "file_extension": ".py",
   "mimetype": "text/x-python",
   "name": "python",
   "nbconvert_exporter": "python",
   "pygments_lexer": "ipython3",
   "version": "3.10.13"
  }
 },
 "nbformat": 4,
 "nbformat_minor": 5
}
