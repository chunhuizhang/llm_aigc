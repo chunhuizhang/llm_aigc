{
 "cells": [
  {
   "cell_type": "markdown",
   "id": "2d251fac-b9d7-497a-ad62-bc61c7755b5c",
   "metadata": {},
   "source": [
    "- https://github.com/langchain-ai/langgraph/blob/main/examples/multi_agent/agent_supervisor.ipynb"
   ]
  },
  {
   "cell_type": "code",
   "execution_count": 1,
   "id": "2f2fa2b5-0061-4072-b731-d19e8e0b4e6e",
   "metadata": {
    "execution": {
     "iopub.execute_input": "2024-09-11T15:19:27.906574Z",
     "iopub.status.busy": "2024-09-11T15:19:27.905959Z",
     "iopub.status.idle": "2024-09-11T15:19:27.915578Z",
     "shell.execute_reply": "2024-09-11T15:19:27.913487Z",
     "shell.execute_reply.started": "2024-09-11T15:19:27.906515Z"
    }
   },
   "outputs": [],
   "source": [
    "from IPython.display import Image"
   ]
  },
  {
   "cell_type": "code",
   "execution_count": 2,
   "id": "1e0f1975-12d5-4515-93d0-e5736ac9fc2d",
   "metadata": {
    "execution": {
     "iopub.execute_input": "2024-09-11T15:19:36.157443Z",
     "iopub.status.busy": "2024-09-11T15:19:36.157075Z",
     "iopub.status.idle": "2024-09-11T15:19:36.171055Z",
     "shell.execute_reply": "2024-09-11T15:19:36.169076Z",
     "shell.execute_reply.started": "2024-09-11T15:19:36.157412Z"
    }
   },
   "outputs": [
    {
     "data": {
      "text/html": [
       "<img src=\"https://raw.githubusercontent.com/langchain-ai/langgraph/f3b5d804ab72a1e7485dbc172ea73957efb268c1/examples/multi_agent/img/supervisor-diagram.png\" width=\"500\"/>"
      ],
      "text/plain": [
       "<IPython.core.display.Image object>"
      ]
     },
     "execution_count": 2,
     "metadata": {},
     "output_type": "execute_result"
    }
   ],
   "source": [
    "Image(url='https://raw.githubusercontent.com/langchain-ai/langgraph/f3b5d804ab72a1e7485dbc172ea73957efb268c1/examples/multi_agent/img/supervisor-diagram.png', width=500)"
   ]
  },
  {
   "cell_type": "markdown",
   "id": "dffe6a47-7ab4-4699-872e-70597171fe1d",
   "metadata": {},
   "source": [
    "- multi agents\n",
    "    - as a team/group\n",
    "- 三条边指向 supervisor\n",
    "    - `{agent1, agent2, agent3} => supervisor`\n",
    "    ```\n",
    "    for agent in ['agent 1', 'agent 2', 'agent 3']:\n",
    "        # We want our workers to ALWAYS \"report back\" to the supervisor when done\n",
    "        workflow.add_edge(agent, \"supervisor\")\n",
    "    ```\n",
    "- share state\n",
    "    - global state of the graph\n",
    "- message type\n",
    "    - langchain_core.messages.ai.AIMessage,\n",
    "    - langchain_core.messages.human.HumanMessage,\n",
    "    - langchain_core.messages.chat.ChatMessage,\n",
    "    - langchain_core.messages.system.SystemMessage,\n",
    "    - langchain_core.messages.function.FunctionMessage,\n",
    "    - langchain_core.messages.tool.ToolMessage"
   ]
  },
  {
   "cell_type": "code",
   "execution_count": 5,
   "id": "c0de5649-d036-4b09-8051-347dc0e77986",
   "metadata": {
    "execution": {
     "iopub.execute_input": "2024-09-11T15:20:40.927754Z",
     "iopub.status.busy": "2024-09-11T15:20:40.927132Z",
     "iopub.status.idle": "2024-09-11T15:20:40.939512Z",
     "shell.execute_reply": "2024-09-11T15:20:40.937614Z",
     "shell.execute_reply.started": "2024-09-11T15:20:40.927697Z"
    }
   },
   "outputs": [],
   "source": [
    "from dotenv import load_dotenv\n",
    "assert load_dotenv()"
   ]
  },
  {
   "cell_type": "code",
   "execution_count": 12,
   "id": "55bc9a98-fe35-4064-8595-1f4151fc06a9",
   "metadata": {
    "execution": {
     "iopub.execute_input": "2024-09-11T15:24:01.395748Z",
     "iopub.status.busy": "2024-09-11T15:24:01.395152Z",
     "iopub.status.idle": "2024-09-11T15:24:02.045956Z",
     "shell.execute_reply": "2024-09-11T15:24:02.044837Z",
     "shell.execute_reply.started": "2024-09-11T15:24:01.395694Z"
    }
   },
   "outputs": [],
   "source": [
    "from typing import Annotated\n",
    "\n",
    "from langchain_community.tools.tavily_search import TavilySearchResults\n",
    "from langchain_experimental.tools import PythonREPLTool\n",
    "from langchain_core.messages import HumanMessage\n",
    "\n",
    "from langchain_core.prompts import ChatPromptTemplate, MessagesPlaceholder\n",
    "from langchain_openai import ChatOpenAI\n",
    "from pydantic import BaseModel\n",
    "from typing import Literal"
   ]
  },
  {
   "cell_type": "markdown",
   "id": "ee5c4485-117f-4eda-bbb2-b651d5794e44",
   "metadata": {},
   "source": [
    "### tools"
   ]
  },
  {
   "cell_type": "code",
   "execution_count": 9,
   "id": "b474c376-893d-40d2-ac8d-833f992db072",
   "metadata": {
    "execution": {
     "iopub.execute_input": "2024-09-11T15:21:13.282241Z",
     "iopub.status.busy": "2024-09-11T15:21:13.281532Z",
     "iopub.status.idle": "2024-09-11T15:21:13.291841Z",
     "shell.execute_reply": "2024-09-11T15:21:13.289928Z",
     "shell.execute_reply.started": "2024-09-11T15:21:13.282188Z"
    }
   },
   "outputs": [],
   "source": [
    "tavily_tool = TavilySearchResults(max_results=5)\n",
    "# This executes code locally, which can be unsafe\n",
    "python_repl_tool = PythonREPLTool()"
   ]
  },
  {
   "cell_type": "markdown",
   "id": "264ff956-fc28-4c69-9946-cda7d2fcba60",
   "metadata": {},
   "source": [
    "### helper utilities"
   ]
  },
  {
   "cell_type": "code",
   "execution_count": 11,
   "id": "31e1e7f5-54aa-4523-8d21-fd240a22ff49",
   "metadata": {
    "execution": {
     "iopub.execute_input": "2024-09-11T15:23:44.209832Z",
     "iopub.status.busy": "2024-09-11T15:23:44.209163Z",
     "iopub.status.idle": "2024-09-11T15:23:44.218862Z",
     "shell.execute_reply": "2024-09-11T15:23:44.216531Z",
     "shell.execute_reply.started": "2024-09-11T15:23:44.209774Z"
    }
   },
   "outputs": [],
   "source": [
    "# convert the agent response to a human message\n",
    "def agent_node(state, agent, name):\n",
    "    result = agent.invoke(state)\n",
    "    return {\"messages\": [HumanMessage(content=result[\"messages\"][-1].content, name=name)]}"
   ]
  },
  {
   "cell_type": "markdown",
   "id": "8e4421ef-9060-4996-9a02-eeb08b83235d",
   "metadata": {},
   "source": [
    "### agent supervisor (node of the graph)"
   ]
  },
  {
   "cell_type": "code",
   "execution_count": 14,
   "id": "8cab4815-5b32-48c6-a24c-3da87199a828",
   "metadata": {
    "execution": {
     "iopub.execute_input": "2024-09-11T15:28:25.589646Z",
     "iopub.status.busy": "2024-09-11T15:28:25.588861Z",
     "iopub.status.idle": "2024-09-11T15:28:25.595494Z",
     "shell.execute_reply": "2024-09-11T15:28:25.594601Z",
     "shell.execute_reply.started": "2024-09-11T15:28:25.589590Z"
    }
   },
   "outputs": [],
   "source": [
    "members = [\"Researcher\", \"Coder\"]\n",
    "#  variables: members\n",
    "system_prompt = (\n",
    "    \"You are a supervisor tasked with managing a conversation between the\"\n",
    "    \" following workers:  {members}. Given the following user request,\"\n",
    "    \" respond with the worker to act next. Each worker will perform a\"\n",
    "    \" task and respond with their results and status. When finished,\"\n",
    "    \" respond with FINISH.\"\n",
    ")\n",
    "\n",
    "# Our team supervisor is an LLM node. It just picks the next agent to process\n",
    "# and decides when the work is completed\n",
    "options = [\"FINISH\"] + members"
   ]
  },
  {
   "cell_type": "code",
   "execution_count": 16,
   "id": "4d27385c-f419-477e-981e-064c697241bd",
   "metadata": {
    "execution": {
     "iopub.execute_input": "2024-09-11T15:29:44.275473Z",
     "iopub.status.busy": "2024-09-11T15:29:44.274852Z",
     "iopub.status.idle": "2024-09-11T15:29:44.284271Z",
     "shell.execute_reply": "2024-09-11T15:29:44.283208Z",
     "shell.execute_reply.started": "2024-09-11T15:29:44.275421Z"
    }
   },
   "outputs": [
    {
     "data": {
      "text/plain": [
       "\"['FINISH', 'Researcher', 'Coder']\""
      ]
     },
     "execution_count": 16,
     "metadata": {},
     "output_type": "execute_result"
    }
   ],
   "source": [
    "str(options)"
   ]
  },
  {
   "cell_type": "code",
   "execution_count": 15,
   "id": "d2e51836-551c-4562-8da5-179f57fd4d98",
   "metadata": {
    "execution": {
     "iopub.execute_input": "2024-09-11T15:28:33.374331Z",
     "iopub.status.busy": "2024-09-11T15:28:33.373658Z",
     "iopub.status.idle": "2024-09-11T15:28:33.383908Z",
     "shell.execute_reply": "2024-09-11T15:28:33.382779Z",
     "shell.execute_reply.started": "2024-09-11T15:28:33.374276Z"
    }
   },
   "outputs": [],
   "source": [
    "class RouteResponse(BaseModel):\n",
    "    next: Literal[*options]"
   ]
  },
  {
   "cell_type": "code",
   "execution_count": 17,
   "id": "e638fcc1-1211-410c-b493-81930bd66f04",
   "metadata": {
    "execution": {
     "iopub.execute_input": "2024-09-11T15:29:59.178935Z",
     "iopub.status.busy": "2024-09-11T15:29:59.178346Z",
     "iopub.status.idle": "2024-09-11T15:29:59.187751Z",
     "shell.execute_reply": "2024-09-11T15:29:59.186637Z",
     "shell.execute_reply.started": "2024-09-11T15:29:59.178884Z"
    }
   },
   "outputs": [],
   "source": [
    "prompt = ChatPromptTemplate.from_messages(\n",
    "    [\n",
    "        (\"system\", system_prompt),\n",
    "        MessagesPlaceholder(variable_name=\"messages\"),\n",
    "        (\n",
    "            \"system\",\n",
    "            \"Given the conversation above, who should act next?\"\n",
    "            \" Or should we FINISH? Select one of: {options}\",\n",
    "        ),\n",
    "    ]\n",
    ").partial(options=str(options), members=\", \".join(members))"
   ]
  },
  {
   "cell_type": "code",
   "execution_count": 18,
   "id": "f4fb76a5-04f7-4c1d-be4d-1803c83078a9",
   "metadata": {
    "execution": {
     "iopub.execute_input": "2024-09-11T15:30:05.636600Z",
     "iopub.status.busy": "2024-09-11T15:30:05.636013Z",
     "iopub.status.idle": "2024-09-11T15:30:05.645963Z",
     "shell.execute_reply": "2024-09-11T15:30:05.644055Z",
     "shell.execute_reply.started": "2024-09-11T15:30:05.636565Z"
    }
   },
   "outputs": [
    {
     "name": "stdout",
     "output_type": "stream",
     "text": [
      "================================\u001b[1m System Message \u001b[0m================================\n",
      "\n",
      "You are a supervisor tasked with managing a conversation between the following workers:  \u001b[33;1m\u001b[1;3m{members}\u001b[0m. Given the following user request, respond with the worker to act next. Each worker will perform a task and respond with their results and status. When finished, respond with FINISH.\n",
      "\n",
      "=============================\u001b[1m Messages Placeholder \u001b[0m=============================\n",
      "\n",
      "\u001b[33;1m\u001b[1;3m{messages}\u001b[0m\n",
      "\n",
      "================================\u001b[1m System Message \u001b[0m================================\n",
      "\n",
      "Given the conversation above, who should act next? Or should we FINISH? Select one of: \u001b[33;1m\u001b[1;3m{options}\u001b[0m\n"
     ]
    }
   ],
   "source": [
    "prompt.pretty_print()"
   ]
  },
  {
   "cell_type": "code",
   "execution_count": 20,
   "id": "3dd99e0a-f331-434e-a565-6a20c702756f",
   "metadata": {
    "execution": {
     "iopub.execute_input": "2024-09-11T15:30:27.948483Z",
     "iopub.status.busy": "2024-09-11T15:30:27.947867Z",
     "iopub.status.idle": "2024-09-11T15:30:27.959022Z",
     "shell.execute_reply": "2024-09-11T15:30:27.957955Z",
     "shell.execute_reply.started": "2024-09-11T15:30:27.948430Z"
    }
   },
   "outputs": [
    {
     "data": {
      "text/plain": [
       "ChatPromptTemplate(input_variables=['messages'], input_types={'messages': typing.List[typing.Union[langchain_core.messages.ai.AIMessage, langchain_core.messages.human.HumanMessage, langchain_core.messages.chat.ChatMessage, langchain_core.messages.system.SystemMessage, langchain_core.messages.function.FunctionMessage, langchain_core.messages.tool.ToolMessage]]}, partial_variables={'options': \"['FINISH', 'Researcher', 'Coder']\", 'members': 'Researcher, Coder'}, messages=[SystemMessagePromptTemplate(prompt=PromptTemplate(input_variables=['members'], template='You are a supervisor tasked with managing a conversation between the following workers:  {members}. Given the following user request, respond with the worker to act next. Each worker will perform a task and respond with their results and status. When finished, respond with FINISH.')), MessagesPlaceholder(variable_name='messages'), SystemMessagePromptTemplate(prompt=PromptTemplate(input_variables=['options'], template='Given the conversation above, who should act next? Or should we FINISH? Select one of: {options}'))])"
      ]
     },
     "execution_count": 20,
     "metadata": {},
     "output_type": "execute_result"
    }
   ],
   "source": [
    "prompt"
   ]
  },
  {
   "cell_type": "code",
   "execution_count": 21,
   "id": "7f05bd64-e5ed-44de-acc2-5723515ff6d6",
   "metadata": {
    "execution": {
     "iopub.execute_input": "2024-09-11T15:32:00.501765Z",
     "iopub.status.busy": "2024-09-11T15:32:00.501094Z",
     "iopub.status.idle": "2024-09-11T15:32:00.607432Z",
     "shell.execute_reply": "2024-09-11T15:32:00.606234Z",
     "shell.execute_reply.started": "2024-09-11T15:32:00.501710Z"
    }
   },
   "outputs": [],
   "source": [
    "llm = ChatOpenAI(model=\"gpt-4o\")"
   ]
  },
  {
   "cell_type": "code",
   "execution_count": 23,
   "id": "c5ce8afe-ba84-42cf-9774-9299e91c8a41",
   "metadata": {
    "execution": {
     "iopub.execute_input": "2024-09-11T15:32:30.366043Z",
     "iopub.status.busy": "2024-09-11T15:32:30.365413Z",
     "iopub.status.idle": "2024-09-11T15:32:30.374367Z",
     "shell.execute_reply": "2024-09-11T15:32:30.372496Z",
     "shell.execute_reply.started": "2024-09-11T15:32:30.365990Z"
    }
   },
   "outputs": [],
   "source": [
    "def supervisor_agent(state):\n",
    "    supervisor_chain = (\n",
    "        prompt\n",
    "        | llm.with_structured_output(RouteResponse)\n",
    "    )\n",
    "    return supervisor_chain.invoke(state)"
   ]
  },
  {
   "cell_type": "markdown",
   "id": "64167689-9d50-47cc-b12f-957a4cd3dcc1",
   "metadata": {},
   "source": [
    "### nodes & graph"
   ]
  },
  {
   "cell_type": "code",
   "execution_count": 24,
   "id": "52fa3ef8-6a27-485e-b719-d8fffb7171eb",
   "metadata": {
    "execution": {
     "iopub.execute_input": "2024-09-11T15:35:30.536665Z",
     "iopub.status.busy": "2024-09-11T15:35:30.536063Z",
     "iopub.status.idle": "2024-09-11T15:35:30.624661Z",
     "shell.execute_reply": "2024-09-11T15:35:30.623504Z",
     "shell.execute_reply.started": "2024-09-11T15:35:30.536613Z"
    }
   },
   "outputs": [],
   "source": [
    "import functools\n",
    "import operator\n",
    "from typing import Sequence, TypedDict\n",
    "\n",
    "from langchain_core.messages import BaseMessage\n",
    "\n",
    "from langgraph.graph import END, StateGraph, START\n",
    "from langgraph.prebuilt import create_react_agent"
   ]
  },
  {
   "cell_type": "code",
   "execution_count": 25,
   "id": "1c894331-16c5-4705-95ad-5c161e775796",
   "metadata": {
    "execution": {
     "iopub.execute_input": "2024-09-11T15:35:38.632826Z",
     "iopub.status.busy": "2024-09-11T15:35:38.632328Z",
     "iopub.status.idle": "2024-09-11T15:35:38.641477Z",
     "shell.execute_reply": "2024-09-11T15:35:38.639576Z",
     "shell.execute_reply.started": "2024-09-11T15:35:38.632784Z"
    }
   },
   "outputs": [],
   "source": [
    "# The agent state is the input to each node in the graph\n",
    "class AgentState(TypedDict):\n",
    "    # The annotation tells the graph that new messages will always\n",
    "    # be added to the current states\n",
    "    messages: Annotated[Sequence[BaseMessage], operator.add]\n",
    "    # The 'next' field indicates where to route to next\n",
    "    next: str"
   ]
  },
  {
   "cell_type": "code",
   "execution_count": 26,
   "id": "f2788dfe-5980-4ded-8b62-e5785848217b",
   "metadata": {
    "execution": {
     "iopub.execute_input": "2024-09-11T15:35:45.835704Z",
     "iopub.status.busy": "2024-09-11T15:35:45.834947Z",
     "iopub.status.idle": "2024-09-11T15:35:45.983805Z",
     "shell.execute_reply": "2024-09-11T15:35:45.982078Z",
     "shell.execute_reply.started": "2024-09-11T15:35:45.835651Z"
    }
   },
   "outputs": [],
   "source": [
    "research_agent = create_react_agent(llm, tools=[tavily_tool])\n",
    "research_node = functools.partial(agent_node, agent=research_agent, name=\"Researcher\")"
   ]
  },
  {
   "cell_type": "code",
   "execution_count": 27,
   "id": "43ffdcf5-46cc-4823-b27c-d73084533a41",
   "metadata": {
    "execution": {
     "iopub.execute_input": "2024-09-11T15:35:54.721176Z",
     "iopub.status.busy": "2024-09-11T15:35:54.720817Z",
     "iopub.status.idle": "2024-09-11T15:35:54.742691Z",
     "shell.execute_reply": "2024-09-11T15:35:54.740773Z",
     "shell.execute_reply.started": "2024-09-11T15:35:54.721148Z"
    }
   },
   "outputs": [],
   "source": [
    "code_agent = create_react_agent(llm, tools=[python_repl_tool])\n",
    "code_node = functools.partial(agent_node, agent=code_agent, name=\"Coder\")"
   ]
  },
  {
   "cell_type": "code",
   "execution_count": 28,
   "id": "0b304768-8423-44b0-9ec5-a7193c4af7d5",
   "metadata": {
    "execution": {
     "iopub.execute_input": "2024-09-11T15:36:04.446020Z",
     "iopub.status.busy": "2024-09-11T15:36:04.445369Z",
     "iopub.status.idle": "2024-09-11T15:36:04.457222Z",
     "shell.execute_reply": "2024-09-11T15:36:04.455135Z",
     "shell.execute_reply.started": "2024-09-11T15:36:04.445967Z"
    }
   },
   "outputs": [],
   "source": [
    "workflow = StateGraph(AgentState)\n",
    "workflow.add_node(\"Researcher\", research_node)\n",
    "workflow.add_node(\"Coder\", code_node)\n",
    "workflow.add_node(\"supervisor\", supervisor_agent)"
   ]
  },
  {
   "cell_type": "code",
   "execution_count": 29,
   "id": "c96e3bda-4249-4fb1-aa0f-0597c0f0fb17",
   "metadata": {
    "execution": {
     "iopub.execute_input": "2024-09-11T15:36:22.108393Z",
     "iopub.status.busy": "2024-09-11T15:36:22.107767Z",
     "iopub.status.idle": "2024-09-11T15:36:22.116852Z",
     "shell.execute_reply": "2024-09-11T15:36:22.114693Z",
     "shell.execute_reply.started": "2024-09-11T15:36:22.108340Z"
    }
   },
   "outputs": [],
   "source": [
    "for member in members:\n",
    "    # We want our workers to ALWAYS \"report back\" to the supervisor when done\n",
    "    workflow.add_edge(member, \"supervisor\")"
   ]
  },
  {
   "cell_type": "code",
   "execution_count": 30,
   "id": "12a6e5d6-d024-406b-8975-5780bc090497",
   "metadata": {
    "execution": {
     "iopub.execute_input": "2024-09-11T15:38:11.714802Z",
     "iopub.status.busy": "2024-09-11T15:38:11.714175Z",
     "iopub.status.idle": "2024-09-11T15:38:11.724613Z",
     "shell.execute_reply": "2024-09-11T15:38:11.722762Z",
     "shell.execute_reply.started": "2024-09-11T15:38:11.714749Z"
    }
   },
   "outputs": [],
   "source": [
    "# The supervisor populates the \"next\" field in the graph state\n",
    "# which routes to a node or finishes\n",
    "conditional_map = {k: k for k in members}\n",
    "conditional_map[\"FINISH\"] = END\n",
    "workflow.add_conditional_edges(\"supervisor\", lambda x: x[\"next\"], conditional_map)"
   ]
  },
  {
   "cell_type": "code",
   "execution_count": 33,
   "id": "ffd0c1d9-d5bf-475e-934e-616141eaab49",
   "metadata": {
    "execution": {
     "iopub.execute_input": "2024-09-11T15:39:25.931365Z",
     "iopub.status.busy": "2024-09-11T15:39:25.930745Z",
     "iopub.status.idle": "2024-09-11T15:39:25.941905Z",
     "shell.execute_reply": "2024-09-11T15:39:25.939903Z",
     "shell.execute_reply.started": "2024-09-11T15:39:25.931312Z"
    }
   },
   "outputs": [
    {
     "data": {
      "text/plain": [
       "{'Researcher': 'Researcher', 'Coder': 'Coder', 'FINISH': '__end__'}"
      ]
     },
     "execution_count": 33,
     "metadata": {},
     "output_type": "execute_result"
    }
   ],
   "source": [
    "conditional_map"
   ]
  },
  {
   "cell_type": "code",
   "execution_count": 31,
   "id": "d244d48e-71c8-4d88-8f9f-9d512f9597d0",
   "metadata": {
    "execution": {
     "iopub.execute_input": "2024-09-11T15:38:16.927485Z",
     "iopub.status.busy": "2024-09-11T15:38:16.926863Z",
     "iopub.status.idle": "2024-09-11T15:38:16.939598Z",
     "shell.execute_reply": "2024-09-11T15:38:16.937696Z",
     "shell.execute_reply.started": "2024-09-11T15:38:16.927435Z"
    }
   },
   "outputs": [],
   "source": [
    "# Finally, add entrypoint\n",
    "workflow.add_edge(START, \"supervisor\")\n",
    "\n",
    "graph = workflow.compile()"
   ]
  },
  {
   "cell_type": "code",
   "execution_count": 32,
   "id": "b7c31796-2a46-402b-b16e-954e4bb2d944",
   "metadata": {
    "execution": {
     "iopub.execute_input": "2024-09-11T15:38:30.270174Z",
     "iopub.status.busy": "2024-09-11T15:38:30.269503Z",
     "iopub.status.idle": "2024-09-11T15:38:32.340499Z",
     "shell.execute_reply": "2024-09-11T15:38:32.338562Z",
     "shell.execute_reply.started": "2024-09-11T15:38:30.270122Z"
    }
   },
   "outputs": [
    {
     "data": {
      "image/jpeg": "[encoded data removed]",
      "text/plain": [
       "<IPython.core.display.Image object>"
      ]
     },
     "metadata": {},
     "output_type": "display_data"
    }
   ],
   "source": [
    "from IPython.display import Image, display\n",
    "\n",
    "try:\n",
    "    display(Image(graph.get_graph().draw_mermaid_png()))\n",
    "except Exception:\n",
    "    # This requires some extra dependencies and is optional\n",
    "    pass"
   ]
  },
  {
   "cell_type": "markdown",
   "id": "11871a89-f07e-434a-beaa-65dbc0ecb08f",
   "metadata": {},
   "source": [
    "### Invoke the team"
   ]
  },
  {
   "cell_type": "code",
   "execution_count": 34,
   "id": "83ec08b1-38d0-407b-85fa-bcbced8a186f",
   "metadata": {
    "execution": {
     "iopub.execute_input": "2024-09-11T15:41:05.851116Z",
     "iopub.status.busy": "2024-09-11T15:41:05.850486Z",
     "iopub.status.idle": "2024-09-11T15:41:09.749496Z",
     "shell.execute_reply": "2024-09-11T15:41:09.748274Z",
     "shell.execute_reply.started": "2024-09-11T15:41:05.851063Z"
    }
   },
   "outputs": [
    {
     "name": "stdout",
     "output_type": "stream",
     "text": [
      "{'supervisor': {'next': 'Coder'}}\n",
      "----\n"
     ]
    },
    {
     "name": "stderr",
     "output_type": "stream",
     "text": [
      "Python REPL can execute arbitrary code. Use with caution.\n"
     ]
    },
    {
     "name": "stdout",
     "output_type": "stream",
     "text": [
      "{'Coder': {'messages': [HumanMessage(content='The code executed successfully and printed the following output to the terminal:\\n\\n```\\nHello, World!\\n```', name='Coder')]}}\n",
      "----\n",
      "{'supervisor': {'next': 'FINISH'}}\n",
      "----\n"
     ]
    }
   ],
   "source": [
    "for s in graph.stream(\n",
    "    {\n",
    "        \"messages\": [\n",
    "            HumanMessage(content=\"Code hello world and print it to the terminal\")\n",
    "        ]\n",
    "    }\n",
    "):\n",
    "    # if \"__end__\" not in s:\n",
    "    print(s)\n",
    "    print(\"----\")"
   ]
  },
  {
   "cell_type": "code",
   "execution_count": 36,
   "id": "44285483-801e-4185-9229-625342e2c77e",
   "metadata": {
    "execution": {
     "iopub.execute_input": "2024-09-11T15:43:08.100957Z",
     "iopub.status.busy": "2024-09-11T15:43:08.100356Z",
     "iopub.status.idle": "2024-09-11T15:43:24.456519Z",
     "shell.execute_reply": "2024-09-11T15:43:24.454681Z",
     "shell.execute_reply.started": "2024-09-11T15:43:08.100905Z"
    }
   },
   "outputs": [
    {
     "name": "stdout",
     "output_type": "stream",
     "text": [
      "{'supervisor': {'next': 'Researcher'}}\n",
      "----\n",
      "{'Researcher': {'messages': [HumanMessage(content='### Research Report on Pikas\\n\\n#### Introduction\\nPikas are small, mountain-dwelling mammals of the family Ochotonidae, closely related to rabbits and hares. These creatures are known for their distinctive high-pitched calls and their adaptation to cold, alpine environments. They are primarily found in North America and Asia.\\n\\n#### Habitat and Behavior\\nPikas typically inhabit rocky slopes and talus fields in mountainous regions, where they can find crevices for shelter and abundant vegetation for food. They are active throughout the year and do not hibernate. Instead, they engage in a behavior known as \"haying,\" where they gather and store dried plant materials in caches to sustain themselves through the winter months.\\n\\nPikas are highly sensitive to temperature changes and prefer foraging in cooler conditions, generally below 25°C (77°F). With rising temperatures due to climate change, pikas are forced to move to higher elevations to find suitable habitats, leading to a reduction in their available foraging time.\\n\\n#### Diet\\nPikas primarily consume a variety of plant materials, including grasses, sedges, and forbs. During the summer, they engage in two types of foraging: direct consumption of food and the collection of plants to store in haypiles for winter use. This dual strategy ensures they have a continuous food supply even when vegetation is scarce during colder months.\\n\\n#### Reproduction\\nPika species exhibit different reproductive behaviors, often influenced by their specific habitat and social structure. Most talus-dwelling pikas are monogamous or polygynous. They have multiple breeding seasons during the warmer months, allowing them to produce several litters per year. The young are typically born in nests hidden within the rocky terrain, where they are protected from predators and harsh weather.\\n\\n#### Conservation and Threats\\nPikas are considered an indicator species for climate change effects due to their sensitivity to temperature variations. Recent studies have shown that some pika populations are declining, particularly in areas where temperatures are rising. The American pika, for example, has experienced significant range retractions and local extirpations in lower elevation habitats, which are becoming warmer and drier.\\n\\nConservation efforts are focused on monitoring pika populations and understanding the impacts of climate change on their habitats. Protected areas like Glacier National Park have become crucial for long-term pika monitoring and public education on climate change impacts.\\n\\n#### Conclusion\\nPikas are fascinating creatures with unique behaviors and adaptations that allow them to thrive in harsh alpine environments. However, their future is uncertain due to the ongoing challenges posed by global warming. Continued research and conservation efforts are essential to ensure the survival of these small but significant mammals.', name='Researcher')]}}\n",
      "----\n",
      "{'supervisor': {'next': 'FINISH'}}\n",
      "----\n"
     ]
    }
   ],
   "source": [
    "for s in graph.stream(\n",
    "    {\"messages\": [HumanMessage(content=\"Write a brief research report on pikas.\")]},\n",
    "    {\"recursion_limit\": 10},\n",
    "):\n",
    "    # if \"__end__\" not in s:\n",
    "    print(s)\n",
    "    print(\"----\")"
   ]
  },
  {
   "cell_type": "code",
   "execution_count": null,
   "id": "12b54340-5f15-4e2c-b1ff-df507eef796f",
   "metadata": {},
   "outputs": [],
   "source": []
  }
 ],
 "metadata": {
  "kernelspec": {
   "display_name": "agent",
   "language": "python",
   "name": "agent"
  },
  "language_info": {
   "codemirror_mode": {
    "name": "ipython",
    "version": 3
   },
   "file_extension": ".py",
   "mimetype": "text/x-python",
   "name": "python",
   "nbconvert_exporter": "python",
   "pygments_lexer": "ipython3",
   "version": "3.12.2"
  }
 },
 "nbformat": 4,
 "nbformat_minor": 5
}
