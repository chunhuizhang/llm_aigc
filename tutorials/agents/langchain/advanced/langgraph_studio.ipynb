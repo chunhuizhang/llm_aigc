{
 "cells": [
  {
   "cell_type": "markdown",
   "id": "cefc3aa1-0f6a-4546-9f60-a769abfaed65",
   "metadata": {},
   "source": [
    "- https://langchain-ai.github.io/langgraph/concepts/langgraph_studio/\n",
    "    - https://langchain-ai.github.io/langgraph/concepts/application_structure/\n",
    "    - LangGraph Studio: connect to a locally running agent"
   ]
  },
  {
   "cell_type": "markdown",
   "id": "5d49cb42-dde8-41f0-8620-bdef52b5bf3a",
   "metadata": {},
   "source": [
    "### application structure"
   ]
  },
  {
   "cell_type": "markdown",
   "id": "0842856d-ddae-46d1-bac5-e17033eb1030",
   "metadata": {},
   "source": [
    "- A LangGraph application consists of one or more graphs, a configuration file (`langgraph.json`), a file that specifies dependencies, and an optional .env file that specifies environment variables.\n",
    "    - 约定优于配置；\n",
    "```json\n",
    "{\n",
    "  \"dependencies\": [\".\"],\n",
    "  \"graphs\": {\n",
    "    \"agent\": \"./src/agent/graph.py:graph\"\n",
    "  },\n",
    "  \"http\": {\n",
    "    \"app\": \"./src/agent/app.py:app\"\n",
    "  },\n",
    "  \"env\": \".env\"\n",
    "}\n",
    "\n",
    "```"
   ]
  },
  {
   "cell_type": "markdown",
   "id": "73585d6a-b250-4fd4-82b1-58f8b90dea0b",
   "metadata": {},
   "source": [
    "### `langgraph dev`"
   ]
  },
  {
   "cell_type": "markdown",
   "id": "1e262401-2d5f-45e7-8017-c23a491b6053",
   "metadata": {},
   "source": [
    "- The backend API will be available at `http://127.0.0.1:2024`"
   ]
  }
 ],
 "metadata": {
  "kernelspec": {
   "display_name": "Python 3 (ipykernel)",
   "language": "python",
   "name": "python3"
  },
  "language_info": {
   "codemirror_mode": {
    "name": "ipython",
    "version": 3
   },
   "file_extension": ".py",
   "mimetype": "text/x-python",
   "name": "python",
   "nbconvert_exporter": "python",
   "pygments_lexer": "ipython3",
   "version": "3.10.0"
  }
 },
 "nbformat": 4,
 "nbformat_minor": 5
}
