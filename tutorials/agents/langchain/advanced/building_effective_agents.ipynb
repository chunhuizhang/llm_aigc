{
 "cells": [
  {
   "cell_type": "code",
   "execution_count": 1,
   "id": "ac08f754-53d0-4323-a1df-f8f785bb7484",
   "metadata": {},
   "outputs": [],
   "source": [
    "from IPython.display import Image"
   ]
  },
  {
   "cell_type": "markdown",
   "id": "0e537a4e-893a-4cd2-b2ba-bc6d554f10d3",
   "metadata": {},
   "source": [
    "- https://www.anthropic.com/engineering/building-effective-agents\n",
    "    - https://mirror-feeling-d80.notion.site/Workflow-And-Agents-17e808527b1780d792a0d934ce62bee6\n",
    "        - https://langchain-ai.github.io/langgraph/tutorials/workflows/\n",
    "        - https://www.youtube.com/watch?v=aHCDrAbH_go\n",
    "- AlphaEvolve: coding agent\n",
    "    - llm 作为核心算子实现遗传算法；\n",
    "    - 适用于可以自动评估的环境；& 大量脚手架类似的工作；\n",
    "- https://github.com/google-gemini/gemini-fullstack-langgraph-quickstart/tree/main\n",
    "    - 基于 langgraph 编排工作流实现 deepresearch\n",
    "        - 不同的节点用不同的 gemini models\n",
    "        - pro：deep，flash：width\n",
    "- sota llms (gemini 2.5 pro, openai o3) + 精心设计的 workflow（脚手架，scaffolding）能解决非常多非常复杂的问题；\n",
    "    - 基础模型实在是越来越powerful了"
   ]
  },
  {
   "cell_type": "code",
   "execution_count": 2,
   "id": "54e0cc6b-eb8c-468a-b128-fbdcce6de19d",
   "metadata": {},
   "outputs": [
    {
     "data": {
      "text/html": [
       "<img src=\"https://mirror-feeling-d80.notion.site/image/https%3A%2F%2Fprod-files-secure.s3.us-west-2.amazonaws.com%2Fc2810b1e-a85a-492f-bc51-5aa2decfa5ac%2Ffb35bebb-2ad8-48d5-ad83-b93dd3f6e6b8%2Fimage.png?table=block&id=18080852-7b17-8024-82ab-d5bd13b9ff42&spaceId=c2810b1e-a85a-492f-bc51-5aa2decfa5ac&width=1420&userId=&cache=v2\" width=\"800\"/>"
      ],
      "text/plain": [
       "<IPython.core.display.Image object>"
      ]
     },
     "execution_count": 2,
     "metadata": {},
     "output_type": "execute_result"
    }
   ],
   "source": [
    "Image(url='https://mirror-feeling-d80.notion.site/image/https%3A%2F%2Fprod-files-secure.s3.us-west-2.amazonaws.com%2Fc2810b1e-a85a-492f-bc51-5aa2decfa5ac%2Ffb35bebb-2ad8-48d5-ad83-b93dd3f6e6b8%2Fimage.png?table=block&id=18080852-7b17-8024-82ab-d5bd13b9ff42&spaceId=c2810b1e-a85a-492f-bc51-5aa2decfa5ac&width=1420&userId=&cache=v2', \n",
    "      width=800)"
   ]
  },
  {
   "cell_type": "markdown",
   "id": "41490ee8-605f-4b68-ac46-f2f382a41dbf",
   "metadata": {},
   "source": [
    "- workflows\n",
    "    - Create a scaffolding of predefined code paths around llm calls\n",
    "    - LLMs directs control flow through predefined code paths\n",
    "- Agen: remove this scaffolding (LLM directs its own actions, responds to feedback)"
   ]
  },
  {
   "cell_type": "code",
   "execution_count": 3,
   "id": "e064d92b-c0f1-41b7-8ae9-855ab735b575",
   "metadata": {},
   "outputs": [],
   "source": [
    "from langchain_openai import ChatOpenAI\n",
    "from dotenv import load_dotenv\n",
    "assert load_dotenv()\n",
    "llm = ChatOpenAI(model='gpt-4o-mini')"
   ]
  },
  {
   "cell_type": "markdown",
   "id": "21058ea9-1b52-4bb1-8cac-f7028a119124",
   "metadata": {},
   "source": [
    "### Augmented LLM"
   ]
  },
  {
   "cell_type": "markdown",
   "id": "a0994830-9f8e-4b1d-8d79-323617b0fbcc",
   "metadata": {},
   "source": [
    "- Augment the LLM with schema for structured output\n",
    "- Augment the LLM with tools"
   ]
  },
  {
   "cell_type": "code",
   "execution_count": 6,
   "id": "9616d82b-b6a7-47f8-818a-c03883bd0e1b",
   "metadata": {},
   "outputs": [
    {
     "data": {
      "text/html": [
       "<img src=\"https://langchain-ai.github.io/langgraph/tutorials/workflows/img/augmented_llm.png\" width=\"500\"/>"
      ],
      "text/plain": [
       "<IPython.core.display.Image object>"
      ]
     },
     "execution_count": 6,
     "metadata": {},
     "output_type": "execute_result"
    }
   ],
   "source": [
    "Image(url='https://langchain-ai.github.io/langgraph/tutorials/workflows/img/augmented_llm.png', width=500)"
   ]
  },
  {
   "cell_type": "code",
   "execution_count": 7,
   "id": "fb085d49-946a-4143-ba65-c6446351dba2",
   "metadata": {},
   "outputs": [],
   "source": [
    "# Schema for structured output => output schema\n",
    "from pydantic import BaseModel, Field\n",
    "\n",
    "class SearchQuery(BaseModel):\n",
    "    search_query: str = Field(None, description=\"Query that is optimized web search.\")\n",
    "    justification: str = Field(\n",
    "        None, description=\"Why this query is relevant to the user's request.\"\n",
    "    )\n",
    "\n",
    "# Augment the LLM with schema for structured output\n",
    "structured_llm = llm.with_structured_output(SearchQuery)"
   ]
  },
  {
   "cell_type": "code",
   "execution_count": 8,
   "id": "ea47cfdc-332e-44ee-a86a-b533d24d679a",
   "metadata": {},
   "outputs": [],
   "source": [
    "# Invoke the augmented LLM\n",
    "output = structured_llm.invoke(\"How does Calcium CT score relate to high cholesterol?\")"
   ]
  },
  {
   "cell_type": "code",
   "execution_count": 9,
   "id": "a1e415a1-cc98-4408-862c-0638552ec494",
   "metadata": {},
   "outputs": [
    {
     "data": {
      "text/plain": [
       "SearchQuery(search_query='Calcium CT score high cholesterol relationship', justification='This query targets the relationship between calcium CT scores and cholesterol levels, which may help in understanding cardiovascular risk assessment.')"
      ]
     },
     "execution_count": 9,
     "metadata": {},
     "output_type": "execute_result"
    }
   ],
   "source": [
    "output"
   ]
  },
  {
   "cell_type": "code",
   "execution_count": 10,
   "id": "dd0616fa-2f57-4a2e-9ad3-71d32f86e7de",
   "metadata": {},
   "outputs": [
    {
     "data": {
      "text/plain": [
       "SearchQuery(search_query='2023年高考 新闻 相关报道', justification='搜索2023年高考的相关新闻，以获取该年度高考的最新动态、政策变化及新闻事件等信息，符合用户对今年高考的关注。')"
      ]
     },
     "execution_count": 10,
     "metadata": {},
     "output_type": "execute_result"
    }
   ],
   "source": [
    "structured_llm.invoke(\"今年高考新闻\")"
   ]
  },
  {
   "cell_type": "code",
   "execution_count": 11,
   "id": "3b9e8095-160c-4aa6-9c43-10899d9ad3fa",
   "metadata": {},
   "outputs": [],
   "source": [
    "# Define a tool\n",
    "def multiply(a: float, b: float) -> float:\n",
    "    return a * b\n",
    "def sigmoid(a: float) -> float:\n",
    "    return 1./(1+np.exp(-a))"
   ]
  },
  {
   "cell_type": "code",
   "execution_count": 12,
   "id": "6dfa03b0-1659-4a05-a6aa-607cdd5ae42f",
   "metadata": {},
   "outputs": [],
   "source": [
    "# Augment the LLM with tools\n",
    "llm_with_tools = llm.bind_tools([multiply, sigmoid])"
   ]
  },
  {
   "cell_type": "code",
   "execution_count": 94,
   "id": "5e2d2597-6e02-4416-8830-70b55209d26c",
   "metadata": {},
   "outputs": [],
   "source": [
    "# Invoke the LLM with input that triggers the tool call\n",
    "msg = llm_with_tools.invoke(\"What is derivative of sigmoid(5)\")"
   ]
  },
  {
   "cell_type": "code",
   "execution_count": 95,
   "id": "9cf78041-3088-4e10-86ab-fd5808db4f6c",
   "metadata": {},
   "outputs": [
    {
     "data": {
      "text/plain": [
       "[{'name': 'sigmoid',\n",
       "  'args': {'a': 5},\n",
       "  'id': 'call_PBKMYMxZjU0x8IP9TxMHuE8Y',\n",
       "  'type': 'tool_call'}]"
      ]
     },
     "execution_count": 95,
     "metadata": {},
     "output_type": "execute_result"
    }
   ],
   "source": [
    "msg.tool_calls"
   ]
  },
  {
   "cell_type": "code",
   "execution_count": 96,
   "id": "34c71451-70c3-482a-ab25-eb4f0620813e",
   "metadata": {},
   "outputs": [
    {
     "data": {
      "text/plain": [
       "AIMessage(content='', additional_kwargs={'tool_calls': [{'id': 'call_PBKMYMxZjU0x8IP9TxMHuE8Y', 'function': {'arguments': '{\"a\":5}', 'name': 'sigmoid'}, 'type': 'function'}], 'refusal': None}, response_metadata={'token_usage': {'completion_tokens': 14, 'prompt_tokens': 194, 'total_tokens': 208, 'completion_tokens_details': {'accepted_prediction_tokens': 0, 'audio_tokens': 0, 'reasoning_tokens': 0, 'rejected_prediction_tokens': 0}, 'prompt_tokens_details': {'audio_tokens': 0, 'cached_tokens': 0}}, 'model_name': 'gpt-4o-mini-2024-07-18', 'system_fingerprint': 'fp_34a54ae93c', 'id': 'chatcmpl-BiJpUWnwANEG7bDWV9FR6mXp5vHj1', 'service_tier': 'default', 'finish_reason': 'tool_calls', 'logprobs': None}, id='run--ac1635ef-b4cd-4526-af25-f1ba23e22ed7-0', tool_calls=[{'name': 'sigmoid', 'args': {'a': 5}, 'id': 'call_PBKMYMxZjU0x8IP9TxMHuE8Y', 'type': 'tool_call'}], usage_metadata={'input_tokens': 194, 'output_tokens': 14, 'total_tokens': 208, 'input_token_details': {'audio': 0, 'cache_read': 0}, 'output_token_details': {'audio': 0, 'reasoning': 0}})"
      ]
     },
     "execution_count": 96,
     "metadata": {},
     "output_type": "execute_result"
    }
   ],
   "source": [
    "msg"
   ]
  },
  {
   "cell_type": "code",
   "execution_count": 68,
   "id": "aadfe4bc-c8c1-45d0-aa7c-fc34e9e4095f",
   "metadata": {},
   "outputs": [
    {
     "data": {
      "text/html": [
       "<img src=\"https://python.langchain.com/assets/images/with_structured_output-4fd0fdc94f644554d52c6a8dee96ea21.png\" width=\"500\"/>"
      ],
      "text/plain": [
       "<IPython.core.display.Image object>"
      ]
     },
     "execution_count": 68,
     "metadata": {},
     "output_type": "execute_result"
    }
   ],
   "source": [
    "Image(url='https://python.langchain.com/assets/images/with_structured_output-4fd0fdc94f644554d52c6a8dee96ea21.png', width=500)"
   ]
  },
  {
   "cell_type": "markdown",
   "id": "d6d13a54-1268-4b0f-9877-681dab4875d1",
   "metadata": {},
   "source": [
    "### Prompt chaining"
   ]
  },
  {
   "cell_type": "code",
   "execution_count": 16,
   "id": "84c317b5-acd0-4581-9959-b7a5d7c55b98",
   "metadata": {},
   "outputs": [
    {
     "data": {
      "text/html": [
       "<img src=\"https://langchain-ai.github.io/langgraph/tutorials/workflows/img/prompt_chain.png\" width=\"500\"/>"
      ],
      "text/plain": [
       "<IPython.core.display.Image object>"
      ]
     },
     "execution_count": 16,
     "metadata": {},
     "output_type": "execute_result"
    }
   ],
   "source": [
    "Image(url='https://langchain-ai.github.io/langgraph/tutorials/workflows/img/prompt_chain.png', width=500)"
   ]
  },
  {
   "cell_type": "code",
   "execution_count": 17,
   "id": "90afec82-abf5-4dfe-8813-b47544007c59",
   "metadata": {},
   "outputs": [],
   "source": [
    "from typing_extensions import TypedDict\n",
    "from langgraph.graph import StateGraph, START, END\n",
    "from IPython.display import Image, display"
   ]
  },
  {
   "cell_type": "code",
   "execution_count": 18,
   "id": "c128252b-4ac7-4f40-b1d3-fce4048e195d",
   "metadata": {},
   "outputs": [],
   "source": [
    "# Graph state\n",
    "class State(TypedDict):\n",
    "    topic: str\n",
    "    joke: str\n",
    "    improved_joke: str\n",
    "    final_joke: str"
   ]
  },
  {
   "cell_type": "code",
   "execution_count": 19,
   "id": "f391b4f9-78ec-410a-b269-7c8a3b59aec5",
   "metadata": {},
   "outputs": [],
   "source": [
    "# Nodes\n",
    "def generate_joke(state: State):\n",
    "    \"\"\"First LLM call to generate initial joke\"\"\"\n",
    "\n",
    "    msg = llm.invoke(f\"Write a short joke about {state['topic']}\")\n",
    "    return {\"joke\": msg.content}\n",
    "\n",
    "\n",
    "def check_punchline(state: State):\n",
    "    \"\"\"Gate function to check if the joke has a punchline\"\"\"\n",
    "\n",
    "    # Simple check - does the joke contain \"?\" or \"!\"\n",
    "    if \"?\" in state[\"joke\"] or \"!\" in state[\"joke\"]:\n",
    "        return \"Pass\"\n",
    "    return \"Fail\"\n",
    "\n",
    "\n",
    "def improve_joke(state: State):\n",
    "    \"\"\"Second LLM call to improve the joke\"\"\"\n",
    "    # wordplay: 俏皮话/双关语\n",
    "    msg = llm.invoke(f\"Make this joke funnier by adding wordplay: {state['joke']}\")\n",
    "    return {\"improved_joke\": msg.content}\n",
    "\n",
    "\n",
    "def polish_joke(state: State):\n",
    "    \"\"\"Third LLM call for final polish\"\"\"\n",
    "\n",
    "    msg = llm.invoke(f\"Add a surprising twist to this joke: {state['improved_joke']}\")\n",
    "    return {\"final_joke\": msg.content}\n"
   ]
  },
  {
   "cell_type": "code",
   "execution_count": 20,
   "id": "300bc490-7dc8-40e7-8255-8588d72a94c2",
   "metadata": {},
   "outputs": [],
   "source": [
    "# Build workflow\n",
    "workflow = StateGraph(State)\n",
    "\n",
    "# Add nodes\n",
    "workflow.add_node(\"generate_joke\", generate_joke)\n",
    "workflow.add_node(\"improve_joke\", improve_joke)\n",
    "workflow.add_node(\"polish_joke\", polish_joke)\n",
    "\n",
    "# Add edges to connect nodes\n",
    "workflow.add_edge(START, \"generate_joke\")\n",
    "workflow.add_conditional_edges(\n",
    "    \"generate_joke\", check_punchline, {\"Fail\": \"improve_joke\", \"Pass\": END}\n",
    ")\n",
    "workflow.add_edge(\"improve_joke\", \"polish_joke\")\n",
    "workflow.add_edge(\"polish_joke\", END)\n",
    "\n",
    "# Compile\n",
    "chain = workflow.compile()\n"
   ]
  },
  {
   "cell_type": "code",
   "execution_count": 21,
   "id": "77ef2adc-40c6-4f8e-8649-96ed7e1f8ebf",
   "metadata": {},
   "outputs": [
    {
     "data": {
      "image/png": "[encoded data removed]",
      "text/plain": [
       "<IPython.core.display.Image object>"
      ]
     },
     "metadata": {},
     "output_type": "display_data"
    }
   ],
   "source": [
    "# Show workflow\n",
    "display(Image(chain.get_graph().draw_mermaid_png()))"
   ]
  },
  {
   "cell_type": "code",
   "execution_count": 22,
   "id": "14e428d2-dfa5-4021-8e9c-a66ea233743b",
   "metadata": {},
   "outputs": [],
   "source": [
    "state = chain.invoke({\"topic\": \"cats\"})"
   ]
  },
  {
   "cell_type": "code",
   "execution_count": 23,
   "id": "f61f8f56-f168-46ea-9d5f-516d51a5b870",
   "metadata": {},
   "outputs": [
    {
     "data": {
      "text/plain": [
       "{'topic': 'cats',\n",
       " 'joke': 'Why did the cat sit on the computer?\\n\\nBecause it wanted to keep an eye on the mouse!'}"
      ]
     },
     "execution_count": 23,
     "metadata": {},
     "output_type": "execute_result"
    }
   ],
   "source": [
    "state"
   ]
  },
  {
   "cell_type": "code",
   "execution_count": 24,
   "id": "a0e196ec-8aff-4b6e-ac83-51d9a8f8fcb4",
   "metadata": {},
   "outputs": [
    {
     "name": "stdout",
     "output_type": "stream",
     "text": [
      "{'generate_joke': {'joke': \"Why did the dog sit in the shade? \\n\\nBecause he didn't want to become a hot dog!\"}}\n"
     ]
    }
   ],
   "source": [
    "for step in chain.stream({\"topic\": \"dogs\"}):\n",
    "    print(step)"
   ]
  },
  {
   "cell_type": "markdown",
   "id": "64fb8256-7672-42a5-a88f-ca969fac0724",
   "metadata": {},
   "source": [
    "### Parallelization"
   ]
  },
  {
   "cell_type": "markdown",
   "id": "8daa38e4-8b85-467b-874b-e09399cbab93",
   "metadata": {},
   "source": [
    "- LLMs can sometimes work **simultaneously** on a task and have their outputs **aggregated** programmatically. This workflow, parallelization, manifests in two key variations:\n",
    "    - Sectioning: Breaking a task into independent subtasks run in parallel.\n",
    "    - Aggregator(Voting): Running the same task multiple times to get diverse outputs."
   ]
  },
  {
   "cell_type": "code",
   "execution_count": 25,
   "id": "92f045f1-7126-4b7d-8b21-d7e4789c451e",
   "metadata": {},
   "outputs": [
    {
     "data": {
      "text/html": [
       "<img src=\"https://langchain-ai.github.io/langgraph/tutorials/workflows/img/parallelization.png\" width=\"500\"/>"
      ],
      "text/plain": [
       "<IPython.core.display.Image object>"
      ]
     },
     "execution_count": 25,
     "metadata": {},
     "output_type": "execute_result"
    }
   ],
   "source": [
    "Image(url='https://langchain-ai.github.io/langgraph/tutorials/workflows/img/parallelization.png', width=500)"
   ]
  },
  {
   "cell_type": "code",
   "execution_count": 26,
   "id": "70700f22-a5a2-4e29-9782-94402aec8594",
   "metadata": {},
   "outputs": [],
   "source": [
    "# Graph state\n",
    "class State(TypedDict):\n",
    "    topic: str\n",
    "    joke: str\n",
    "    story: str\n",
    "    poem: str\n",
    "    combined_output: str\n",
    "\n",
    "\n",
    "# Nodes\n",
    "def call_llm_1(state: State):\n",
    "    \"\"\"First LLM call to generate initial joke\"\"\"\n",
    "\n",
    "    msg = llm.invoke(f\"Write a joke about {state['topic']}\")\n",
    "    return {\"joke\": msg.content}\n",
    "\n",
    "\n",
    "def call_llm_2(state: State):\n",
    "    \"\"\"Second LLM call to generate story\"\"\"\n",
    "\n",
    "    msg = llm.invoke(f\"Write a story about {state['topic']}\")\n",
    "    return {\"story\": msg.content}\n",
    "\n",
    "\n",
    "def call_llm_3(state: State):\n",
    "    \"\"\"Third LLM call to generate poem\"\"\"\n",
    "\n",
    "    msg = llm.invoke(f\"Write a poem about {state['topic']}\")\n",
    "    return {\"poem\": msg.content}\n",
    "\n",
    "\n",
    "def aggregator(state: State):\n",
    "    \"\"\"Combine the joke and story into a single output\"\"\"\n",
    "\n",
    "    combined = f\"Here's a story, joke, and poem about {state['topic']}!\\n\\n\"\n",
    "    combined += f\"STORY:\\n{state['story']}\\n\\n\"\n",
    "    combined += f\"JOKE:\\n{state['joke']}\\n\\n\"\n",
    "    combined += f\"POEM:\\n{state['poem']}\"\n",
    "    return {\"combined_output\": combined}\n"
   ]
  },
  {
   "cell_type": "code",
   "execution_count": 27,
   "id": "9f88613f-5fc9-457c-9cd3-aa76d62d2d71",
   "metadata": {},
   "outputs": [],
   "source": [
    "# Build workflow\n",
    "parallel_builder = StateGraph(State)\n",
    "\n",
    "# Add nodes\n",
    "parallel_builder.add_node(\"call_llm_1\", call_llm_1)\n",
    "parallel_builder.add_node(\"call_llm_2\", call_llm_2)\n",
    "parallel_builder.add_node(\"call_llm_3\", call_llm_3)\n",
    "parallel_builder.add_node(\"aggregator\", aggregator)\n",
    "\n",
    "# Add edges to connect nodes\n",
    "parallel_builder.add_edge(START, \"call_llm_1\")\n",
    "parallel_builder.add_edge(START, \"call_llm_2\")\n",
    "parallel_builder.add_edge(START, \"call_llm_3\")\n",
    "parallel_builder.add_edge(\"call_llm_1\", \"aggregator\")\n",
    "parallel_builder.add_edge(\"call_llm_2\", \"aggregator\")\n",
    "parallel_builder.add_edge(\"call_llm_3\", \"aggregator\")\n",
    "parallel_builder.add_edge(\"aggregator\", END)\n",
    "parallel_workflow = parallel_builder.compile()\n"
   ]
  },
  {
   "cell_type": "code",
   "execution_count": 28,
   "id": "4a9e4acd-d513-465a-beef-1e721a87cc70",
   "metadata": {},
   "outputs": [
    {
     "data": {
      "image/png": "[encoded data removed]",
      "text/plain": [
       "<IPython.core.display.Image object>"
      ]
     },
     "metadata": {},
     "output_type": "display_data"
    }
   ],
   "source": [
    "# Show workflow\n",
    "display(Image(parallel_workflow.get_graph().draw_mermaid_png()))"
   ]
  },
  {
   "cell_type": "code",
   "execution_count": 29,
   "id": "d258065e-e770-40ef-aa1a-133603349cee",
   "metadata": {},
   "outputs": [
    {
     "data": {
      "image/png": "[encoded data removed]",
      "text/plain": [
       "<IPython.core.display.Image object>"
      ]
     },
     "metadata": {},
     "output_type": "display_data"
    }
   ],
   "source": [
    "# Invoke\n",
    "state = parallel_workflow.invoke({\"topic\": \"cats\"})"
   ]
  },
  {
   "cell_type": "code",
   "execution_count": 31,
   "id": "67992fe2-ad7b-46a4-9c07-66d40a8805b6",
   "metadata": {},
   "outputs": [
    {
     "data": {
      "text/plain": [
       "dict_keys(['topic', 'joke', 'story', 'poem', 'combined_output'])"
      ]
     },
     "execution_count": 31,
     "metadata": {},
     "output_type": "execute_result"
    }
   ],
   "source": [
    "state.keys()"
   ]
  },
  {
   "cell_type": "code",
   "execution_count": 34,
   "id": "14a0710f-302c-45b3-a426-93279a683841",
   "metadata": {},
   "outputs": [],
   "source": [
    "# print(state['combined_output'])"
   ]
  },
  {
   "cell_type": "markdown",
   "id": "80dfba10-1773-48a8-b605-2d79b8c98972",
   "metadata": {},
   "source": [
    "### Routing"
   ]
  },
  {
   "cell_type": "code",
   "execution_count": 35,
   "id": "02e13ea2-62c0-4361-9936-2f58195cecfe",
   "metadata": {},
   "outputs": [
    {
     "data": {
      "text/html": [
       "<img src=\"https://langchain-ai.github.io/langgraph/tutorials/workflows/img/routing.png\" width=\"500\"/>"
      ],
      "text/plain": [
       "<IPython.core.display.Image object>"
      ]
     },
     "execution_count": 35,
     "metadata": {},
     "output_type": "execute_result"
    }
   ],
   "source": [
    "Image(url='https://langchain-ai.github.io/langgraph/tutorials/workflows/img/routing.png', width=500)"
   ]
  },
  {
   "cell_type": "markdown",
   "id": "8cb3d2d0-ff21-46e3-a59c-618fbd0b46e8",
   "metadata": {},
   "source": [
    "- Routing classifies an input and directs it to a specialized followup task. This workflow allows for **separation** of concerns, and building more specialized prompts. Without this workflow, optimizing for one kind of input can hurt performance on other inputs.\n",
    "- When to use this workflow: Routing works well for **complex tasks** where there are **distinct categories** that are better handled separately, and where classification can be handled accurately, either by an LLM or a more traditional classification model/algorithm.\n",
    "    - distinct models (fast non-reasoning model, powerful reasoning model)"
   ]
  },
  {
   "cell_type": "code",
   "execution_count": 36,
   "id": "b9b48b16-c2c9-4c8f-bd84-c5714eff64dc",
   "metadata": {},
   "outputs": [],
   "source": [
    "from typing_extensions import Literal\n",
    "from langchain_core.messages import HumanMessage, SystemMessage"
   ]
  },
  {
   "cell_type": "code",
   "execution_count": 37,
   "id": "52664bcf-6e37-4389-89c1-e5e2b5d50916",
   "metadata": {},
   "outputs": [],
   "source": [
    "# Schema for structured output to use as routing logic\n",
    "class Route(BaseModel):\n",
    "    step: Literal[\"poem\", \"story\", \"joke\"] = Field(\n",
    "        None, description=\"The next step in the routing process\"\n",
    "    )\n",
    "\n",
    "\n",
    "# Augment the LLM with schema for structured output\n",
    "router = llm.with_structured_output(Route)"
   ]
  },
  {
   "cell_type": "code",
   "execution_count": 38,
   "id": "87d90e85-1c79-44c3-89cb-2ab0060f643a",
   "metadata": {},
   "outputs": [],
   "source": [
    "# State\n",
    "class State(TypedDict):\n",
    "    input: str\n",
    "    decision: str\n",
    "    output: str"
   ]
  },
  {
   "cell_type": "code",
   "execution_count": 39,
   "id": "f55f37e6-36da-4158-924d-a86d2b2cb520",
   "metadata": {},
   "outputs": [],
   "source": [
    "# Nodes\n",
    "def llm_call_1(state: State):\n",
    "    \"\"\"Write a story\"\"\"\n",
    "\n",
    "    result = llm.invoke(state[\"input\"])\n",
    "    return {\"output\": result.content}\n",
    "\n",
    "\n",
    "def llm_call_2(state: State):\n",
    "    \"\"\"Write a joke\"\"\"\n",
    "\n",
    "    result = llm.invoke(state[\"input\"])\n",
    "    return {\"output\": result.content}\n",
    "\n",
    "\n",
    "def llm_call_3(state: State):\n",
    "    \"\"\"Write a poem\"\"\"\n",
    "\n",
    "    result = llm.invoke(state[\"input\"])\n",
    "    return {\"output\": result.content}\n"
   ]
  },
  {
   "cell_type": "code",
   "execution_count": 40,
   "id": "2c53df88-88d1-48a7-ada2-3d93fcf615b5",
   "metadata": {},
   "outputs": [],
   "source": [
    "def llm_call_router(state: State):\n",
    "    \"\"\"Route the input to the appropriate node\"\"\"\n",
    "\n",
    "    # Run the augmented LLM with structured output to serve as routing logic\n",
    "    decision = router.invoke(\n",
    "        [\n",
    "            SystemMessage(\n",
    "                content=\"Route the input to story, joke, or poem based on the user's request.\"\n",
    "            ),\n",
    "            HumanMessage(content=state[\"input\"]),\n",
    "        ]\n",
    "    )\n",
    "\n",
    "    return {\"decision\": decision.step}"
   ]
  },
  {
   "cell_type": "code",
   "execution_count": 41,
   "id": "7123ffa7-060f-4a6f-aa7b-ac97c98b38e8",
   "metadata": {},
   "outputs": [],
   "source": [
    "# Conditional edge function to route to the appropriate node\n",
    "def route_decision(state: State):\n",
    "    # Return the node name you want to visit next\n",
    "    if state[\"decision\"] == \"story\":\n",
    "        return \"llm_call_1\"\n",
    "    elif state[\"decision\"] == \"joke\":\n",
    "        return \"llm_call_2\"\n",
    "    elif state[\"decision\"] == \"poem\":\n",
    "        return \"llm_call_3\""
   ]
  },
  {
   "cell_type": "code",
   "execution_count": 42,
   "id": "517925c7-2887-4c83-8deb-4a9b11c29c8e",
   "metadata": {},
   "outputs": [],
   "source": [
    "# Build workflow\n",
    "router_builder = StateGraph(State)\n",
    "\n",
    "# Add nodes\n",
    "router_builder.add_node(\"llm_call_1\", llm_call_1)\n",
    "router_builder.add_node(\"llm_call_2\", llm_call_2)\n",
    "router_builder.add_node(\"llm_call_3\", llm_call_3)\n",
    "router_builder.add_node(\"llm_call_router\", llm_call_router)\n",
    "\n",
    "# Add edges to connect nodes\n",
    "router_builder.add_edge(START, \"llm_call_router\")\n",
    "router_builder.add_conditional_edges(\n",
    "    \"llm_call_router\",\n",
    "    route_decision,\n",
    "    {  # Name returned by route_decision : Name of next node to visit\n",
    "        \"llm_call_1\": \"llm_call_1\",\n",
    "        \"llm_call_2\": \"llm_call_2\",\n",
    "        \"llm_call_3\": \"llm_call_3\",\n",
    "    },\n",
    ")\n",
    "router_builder.add_edge(\"llm_call_1\", END)\n",
    "router_builder.add_edge(\"llm_call_2\", END)\n",
    "router_builder.add_edge(\"llm_call_3\", END)\n",
    "\n",
    "# Compile workflow\n",
    "router_workflow = router_builder.compile()"
   ]
  },
  {
   "cell_type": "code",
   "execution_count": 43,
   "id": "e8a5e5d6-6d97-459e-9ed9-fdb883ef2030",
   "metadata": {},
   "outputs": [
    {
     "data": {
      "image/png": "[encoded data removed]",
      "text/plain": [
       "<IPython.core.display.Image object>"
      ]
     },
     "metadata": {},
     "output_type": "display_data"
    }
   ],
   "source": [
    "display(Image(router_workflow.get_graph().draw_mermaid_png()))\n"
   ]
  },
  {
   "cell_type": "code",
   "execution_count": 44,
   "id": "296a0164-8e2f-4094-aa90-f8aff58d95b2",
   "metadata": {},
   "outputs": [],
   "source": [
    "state = router_workflow.invoke({\"input\": \"Write me a joke about cats\"})"
   ]
  },
  {
   "cell_type": "code",
   "execution_count": 45,
   "id": "2a503563-5641-4472-b585-29f39b929229",
   "metadata": {},
   "outputs": [
    {
     "name": "stdout",
     "output_type": "stream",
     "text": [
      "{'llm_call_router': {'decision': 'joke'}}\n",
      "{'llm_call_2': {'output': 'Why was the cat sitting on the computer?\\n\\nBecause it wanted to keep an eye on the mouse!'}}\n"
     ]
    }
   ],
   "source": [
    "for step in router_workflow.stream({\"input\": \"Write me a joke about cats\"}):\n",
    "    print(step)"
   ]
  },
  {
   "cell_type": "code",
   "execution_count": 46,
   "id": "bbbadb86-bb1c-4f4f-bf40-c1b978866294",
   "metadata": {},
   "outputs": [
    {
     "name": "stdout",
     "output_type": "stream",
     "text": [
      "{'llm_call_router': {'decision': 'poem'}}\n",
      "{'llm_call_3': {'output': 'In sunlit corners, shadows play,  \\nWhere whispers of the feline sway,  \\nWith graceful poise and silent tread,  \\nThe world’s a kingdom, theirs to thread.  \\n\\nA tapestry of fur like night,  \\nWith emerald eyes that pierce the light,  \\nThey leap as if on dreams they dance,  \\nIn elegant arcs, a fleeting glance.  \\n\\nA soft purr hums, a gentle song,  \\nA lullaby where hearts belong,  \\nWith velvet paws on wooden floors,  \\nThey weave their magic, open doors.  \\n\\nEach flick of tail, a tale to tell,  \\nOf mischief, grace, and worlds that dwell  \\nIn boxes, sunbeams, every fold,  \\nAdventures vast, and secrets bold.  \\n\\nThey curl like commas, snug and warm,  \\nIn every lap, their soft charm forms,  \\nA soothing presence, quiet, wise,  \\nWith knowing hearts and ageless sighs.  \\n\\nOh, creatures of the night and day,  \\nIn your soft wisdom, we find our way,  \\nWith tender gazes, you understand,  \\nThe joys and sorrows of this land.  \\n\\nSo here’s to cats, our quaintest friends,  \\nWith every whisker, affection lends,  \\nIn their elusive, gentle grace,  \\nWe find a home, a purr-fect place.'}}\n"
     ]
    }
   ],
   "source": [
    "for step in router_workflow.stream({\"input\": \"Write me a poem about cats\"}):\n",
    "    print(step)"
   ]
  },
  {
   "cell_type": "markdown",
   "id": "25bb63a6-c711-4dd6-a696-e98f46a32524",
   "metadata": {},
   "source": [
    "### Orchestrator-Worker (协调器-工作器)"
   ]
  },
  {
   "cell_type": "code",
   "execution_count": 47,
   "id": "1e2c09fe-fd72-4519-a647-370f5b23fa33",
   "metadata": {},
   "outputs": [
    {
     "data": {
      "text/html": [
       "<img src=\"https://langchain-ai.github.io/langgraph/tutorials/workflows/img/worker.png\" width=\"500\"/>"
      ],
      "text/plain": [
       "<IPython.core.display.Image object>"
      ]
     },
     "execution_count": 47,
     "metadata": {},
     "output_type": "execute_result"
    }
   ],
   "source": [
    "Image(url='https://langchain-ai.github.io/langgraph/tutorials/workflows/img/worker.png', width=500)"
   ]
  },
  {
   "cell_type": "markdown",
   "id": "c8cec7e8-ed6d-4bed-be75-449ad3071beb",
   "metadata": {},
   "source": [
    "- an orchestrator breaks down a task and delegates each sub-task to workers.\n",
    "    - In the orchestrator-workers workflow, a central LLM dynamically **breaks down tasks**, **delegates them to worker LLMs**, and **synthesizes their results**.\n",
    "    - When to use this workflow: This workflow is well-suited for complex tasks where you can’t predict the subtasks needed (in coding, for example, the number of files that need to be changed and the nature of the change in each file likely depend on the task). Whereas it’s topographically similar, the key difference from parallelization is its flexibility—subtasks aren't pre-defined, but determined by the orchestrator based on the specific input."
   ]
  },
  {
   "cell_type": "code",
   "execution_count": 48,
   "id": "65090cca-f739-4121-b8ab-e40adb7c146c",
   "metadata": {},
   "outputs": [],
   "source": [
    "from typing import Annotated, List\n",
    "import operator\n",
    "\n",
    "\n",
    "# Schema for structured output to use in planning\n",
    "class Section(BaseModel):\n",
    "    name: str = Field(\n",
    "        description=\"Name for this section of the report.\",\n",
    "    )\n",
    "    description: str = Field(\n",
    "        description=\"Brief overview of the main topics and concepts to be covered in this section.\",\n",
    "    )\n",
    "\n",
    "\n",
    "class Sections(BaseModel):\n",
    "    sections: List[Section] = Field(\n",
    "        description=\"Sections of the report.\",\n",
    "    )\n",
    "\n",
    "\n",
    "# Augment the LLM with schema for structured output\n",
    "planner = llm.with_structured_output(Sections)"
   ]
  },
  {
   "cell_type": "code",
   "execution_count": 49,
   "id": "10c023a9-7fc5-4a5e-8524-a317b177be3f",
   "metadata": {},
   "outputs": [],
   "source": [
    "from langgraph.constants import Send\n",
    "\n",
    "\n",
    "# Graph state\n",
    "class State(TypedDict):\n",
    "    topic: str  # Report topic\n",
    "    sections: list[Section]  # List of report sections\n",
    "    completed_sections: Annotated[\n",
    "        list, operator.add\n",
    "    ]  # All workers write to this key in parallel\n",
    "    final_report: str  # Final report\n",
    "\n",
    "\n",
    "# Worker state\n",
    "class WorkerState(TypedDict):\n",
    "    section: Section\n",
    "    completed_sections: Annotated[list, operator.add]"
   ]
  },
  {
   "cell_type": "code",
   "execution_count": 50,
   "id": "67a9970b-bc03-4aeb-b96b-0ae3f1723631",
   "metadata": {},
   "outputs": [],
   "source": [
    "# Nodes\n",
    "def orchestrator(state: State):\n",
    "    \"\"\"Orchestrator that generates a plan for the report\"\"\"\n",
    "\n",
    "    # Generate queries\n",
    "    report_sections = planner.invoke(\n",
    "        [\n",
    "            SystemMessage(content=\"Generate a plan for the report.\"),\n",
    "            HumanMessage(content=f\"Here is the report topic: {state['topic']}\"),\n",
    "        ]\n",
    "    )\n",
    "\n",
    "    return {\"sections\": report_sections.sections}"
   ]
  },
  {
   "cell_type": "code",
   "execution_count": 51,
   "id": "43fadef9-e8d6-4202-b191-f2fc731db5a0",
   "metadata": {},
   "outputs": [],
   "source": [
    "def llm_call(state: WorkerState):\n",
    "    \"\"\"Worker writes a section of the report\"\"\"\n",
    "\n",
    "    # Generate section\n",
    "    section = llm.invoke(\n",
    "        [\n",
    "            SystemMessage(\n",
    "                content=\"Write a report section following the provided name and description. Include no preamble for each section. Use markdown formatting.\"\n",
    "            ),\n",
    "            HumanMessage(\n",
    "                content=f\"Here is the section name: {state['section'].name} and description: {state['section'].description}\"\n",
    "            ),\n",
    "        ]\n",
    "    )\n",
    "\n",
    "    # Write the updated section to completed sections\n",
    "    return {\"completed_sections\": [section.content]}"
   ]
  },
  {
   "cell_type": "code",
   "execution_count": 52,
   "id": "4fa28176-5c82-4681-a0fe-9fd5a646e5ae",
   "metadata": {},
   "outputs": [],
   "source": [
    "\n",
    "def synthesizer(state: State):\n",
    "    \"\"\"Synthesize full report from sections\"\"\"\n",
    "\n",
    "    # List of completed sections\n",
    "    completed_sections = state[\"completed_sections\"]\n",
    "\n",
    "    # Format completed section to str to use as context for final sections\n",
    "    completed_report_sections = \"\\n\\n---\\n\\n\".join(completed_sections)\n",
    "\n",
    "    return {\"final_report\": completed_report_sections}\n"
   ]
  },
  {
   "cell_type": "code",
   "execution_count": 53,
   "id": "dd9c481e-659b-4ad3-8e2f-fecdbd55f6dd",
   "metadata": {},
   "outputs": [],
   "source": [
    "# Conditional edge function to create llm_call workers that each write a section of the report\n",
    "def assign_workers(state: State):\n",
    "    \"\"\"Assign a worker to each section in the plan\"\"\"\n",
    "\n",
    "    # Kick off section writing in parallel via Send() API\n",
    "    return [Send(\"llm_call\", {\"section\": s}) for s in state[\"sections\"]]"
   ]
  },
  {
   "cell_type": "code",
   "execution_count": 54,
   "id": "242068a3-bf1b-46f1-b52e-b09b4b8fe2d1",
   "metadata": {},
   "outputs": [
    {
     "data": {
      "image/png": "[encoded data removed]",
      "text/plain": [
       "<IPython.core.display.Image object>"
      ]
     },
     "metadata": {},
     "output_type": "display_data"
    }
   ],
   "source": [
    "# Build workflow\n",
    "orchestrator_worker_builder = StateGraph(State)\n",
    "\n",
    "# Add the nodes\n",
    "orchestrator_worker_builder.add_node(\"orchestrator\", orchestrator)\n",
    "orchestrator_worker_builder.add_node(\"llm_call\", llm_call)\n",
    "orchestrator_worker_builder.add_node(\"synthesizer\", synthesizer)\n",
    "\n",
    "# Add edges to connect nodes\n",
    "orchestrator_worker_builder.add_edge(START, \"orchestrator\")\n",
    "orchestrator_worker_builder.add_conditional_edges(\n",
    "    \"orchestrator\", assign_workers, [\"llm_call\"]\n",
    ")\n",
    "orchestrator_worker_builder.add_edge(\"llm_call\", \"synthesizer\")\n",
    "orchestrator_worker_builder.add_edge(\"synthesizer\", END)\n",
    "\n",
    "# Compile the workflow\n",
    "orchestrator_worker = orchestrator_worker_builder.compile()\n",
    "\n",
    "# Show the workflow\n",
    "display(Image(orchestrator_worker.get_graph().draw_mermaid_png()))"
   ]
  },
  {
   "cell_type": "code",
   "execution_count": 93,
   "id": "5274e662-6477-4247-9547-15bb4c385abe",
   "metadata": {},
   "outputs": [],
   "source": [
    "state = orchestrator_worker.invoke({\"topic\": \"Create a report on LLM scaling laws\"})\n",
    "\n",
    "from IPython.display import Markdown\n",
    "# Markdown(state[\"final_report\"])"
   ]
  },
  {
   "cell_type": "code",
   "execution_count": 58,
   "id": "2bfda291-5077-4895-830b-0be53daba818",
   "metadata": {},
   "outputs": [],
   "source": [
    "# for step in orchestrator_worker.stream({\"topic\": \"Create a report on LLM scaling laws\"}):\n",
    "#     print(step)"
   ]
  },
  {
   "cell_type": "markdown",
   "id": "10a62e7f-6a67-44cb-a111-0173fbf5ab5e",
   "metadata": {},
   "source": [
    "### Evaluator-optimizer (Actor-Critic)"
   ]
  },
  {
   "cell_type": "code",
   "execution_count": 59,
   "id": "ff6ccea7-1db0-4603-9e73-e2db06694f84",
   "metadata": {},
   "outputs": [
    {
     "data": {
      "text/html": [
       "<img src=\"https://langchain-ai.github.io/langgraph/tutorials/workflows/img/evaluator_optimizer.png\" width=\"500\"/>"
      ],
      "text/plain": [
       "<IPython.core.display.Image object>"
      ]
     },
     "execution_count": 59,
     "metadata": {},
     "output_type": "execute_result"
    }
   ],
   "source": [
    "Image(url='https://langchain-ai.github.io/langgraph/tutorials/workflows/img/evaluator_optimizer.png', width=500)"
   ]
  },
  {
   "cell_type": "markdown",
   "id": "dfe782f1-467b-4f34-9013-d8db7f1b0302",
   "metadata": {},
   "source": [
    "- In the evaluator-optimizer workflow, one LLM call generates a response while another provides evaluation and feedback in a loop.\n",
    "- When to use this workflow: This workflow is particularly effective when we have **clear evaluation criteria**, and when iterative refinement provides measurable value. The two signs of good fit are, first, that LLM responses can be demonstrably improved when a human articulates their feedback; and second, that the LLM can provide such feedback. This is analogous to the iterative writing process a human writer might go through when producing a polished document."
   ]
  },
  {
   "cell_type": "code",
   "execution_count": 60,
   "id": "69e8ddb9-8cd7-407b-9137-c89de5f9f665",
   "metadata": {},
   "outputs": [],
   "source": [
    "# Graph state\n",
    "class State(TypedDict):\n",
    "    joke: str\n",
    "    topic: str\n",
    "    feedback: str\n",
    "    funny_or_not: str\n",
    "\n",
    "\n",
    "# Schema for structured output to use in evaluation\n",
    "class Feedback(BaseModel):\n",
    "    grade: Literal[\"funny\", \"not funny\"] = Field(\n",
    "        description=\"Decide if the joke is funny or not.\",\n",
    "    )\n",
    "    feedback: str = Field(\n",
    "        description=\"If the joke is not funny, provide feedback on how to improve it.\",\n",
    "    )"
   ]
  },
  {
   "cell_type": "code",
   "execution_count": 61,
   "id": "8c196092-06c3-4c67-a847-ec86ed30af70",
   "metadata": {},
   "outputs": [],
   "source": [
    "# Augment the LLM with schema for structured output\n",
    "evaluator = llm.with_structured_output(Feedback)"
   ]
  },
  {
   "cell_type": "code",
   "execution_count": 62,
   "id": "bcc15e81-81fe-40b6-a460-37e9103e49c5",
   "metadata": {},
   "outputs": [],
   "source": [
    "def llm_call_generator(state: State):\n",
    "    \"\"\"LLM generates a joke\"\"\"\n",
    "\n",
    "    if state.get(\"feedback\"):\n",
    "        msg = llm.invoke(\n",
    "            f\"Write a joke about {state['topic']} but take into account the feedback: {state['feedback']}\"\n",
    "        )\n",
    "    else:\n",
    "        msg = llm.invoke(f\"Write a joke about {state['topic']}\")\n",
    "    return {\"joke\": msg.content}\n"
   ]
  },
  {
   "cell_type": "code",
   "execution_count": 63,
   "id": "21698a43-91f6-400d-8342-5717a33e791a",
   "metadata": {},
   "outputs": [],
   "source": [
    "def llm_call_evaluator(state: State):\n",
    "    \"\"\"LLM evaluates the joke\"\"\"\n",
    "\n",
    "    grade = evaluator.invoke(f\"Grade the joke {state['joke']}\")\n",
    "    return {\"funny_or_not\": grade.grade, \"feedback\": grade.feedback}"
   ]
  },
  {
   "cell_type": "code",
   "execution_count": 64,
   "id": "3f609fed-769b-4dbe-b950-cefba92234b2",
   "metadata": {},
   "outputs": [],
   "source": [
    "# Conditional edge function to route back to joke generator or end based upon feedback from the evaluator\n",
    "def route_joke(state: State):\n",
    "    \"\"\"Route back to joke generator or end based upon feedback from the evaluator\"\"\"\n",
    "\n",
    "    if state[\"funny_or_not\"] == \"funny\":\n",
    "        return \"Accepted\"\n",
    "    elif state[\"funny_or_not\"] == \"not funny\":\n",
    "        return \"Rejected + Feedback\""
   ]
  },
  {
   "cell_type": "code",
   "execution_count": 65,
   "id": "48c7ec0a-e20f-4a70-8f38-f72dd555f318",
   "metadata": {},
   "outputs": [],
   "source": [
    "# Build workflow\n",
    "optimizer_builder = StateGraph(State)\n",
    "\n",
    "# Add the nodes\n",
    "optimizer_builder.add_node(\"llm_call_generator\", llm_call_generator)\n",
    "optimizer_builder.add_node(\"llm_call_evaluator\", llm_call_evaluator)\n",
    "\n",
    "# Add edges to connect nodes\n",
    "optimizer_builder.add_edge(START, \"llm_call_generator\")\n",
    "optimizer_builder.add_edge(\"llm_call_generator\", \"llm_call_evaluator\")\n",
    "optimizer_builder.add_conditional_edges(\n",
    "    \"llm_call_evaluator\",\n",
    "    route_joke,\n",
    "    {  # Name returned by route_joke : Name of next node to visit\n",
    "        \"Accepted\": END,\n",
    "        \"Rejected + Feedback\": \"llm_call_generator\",\n",
    "    },\n",
    ")\n",
    "\n",
    "# Compile the workflow\n",
    "optimizer_workflow = optimizer_builder.compile()"
   ]
  },
  {
   "cell_type": "code",
   "execution_count": 66,
   "id": "f897a32f-9aa8-4502-9988-15c3c6176cb4",
   "metadata": {},
   "outputs": [
    {
     "data": {
      "image/png": "[encoded data removed]",
      "text/plain": [
       "<IPython.core.display.Image object>"
      ]
     },
     "metadata": {},
     "output_type": "display_data"
    }
   ],
   "source": [
    "display(Image(optimizer_workflow.get_graph().draw_mermaid_png()))"
   ]
  },
  {
   "cell_type": "code",
   "execution_count": 67,
   "id": "e1e0c0ad-2c4b-493b-af96-a52b77d36b6b",
   "metadata": {},
   "outputs": [
    {
     "name": "stdout",
     "output_type": "stream",
     "text": [
      "{'llm_call_generator': {'joke': 'Why was the cat sitting on the computer?\\n\\nBecause it wanted to keep an eye on the mouse!'}}\n",
      "{'llm_call_evaluator': {'funny_or_not': 'funny', 'feedback': ''}}\n"
     ]
    }
   ],
   "source": [
    "for step in optimizer_workflow.stream({\"topic\": \"Cats\"}):\n",
    "    print(step)"
   ]
  },
  {
   "cell_type": "markdown",
   "id": "2093a9ff-6f71-4269-aa9c-c870144e8750",
   "metadata": {},
   "source": [
    "### Agent"
   ]
  },
  {
   "cell_type": "markdown",
   "id": "f1fff939-f869-4dc9-a0e2-388fd19bf005",
   "metadata": {},
   "source": [
    "- Environment 接受 Action 返回 feedback"
   ]
  },
  {
   "cell_type": "code",
   "execution_count": 69,
   "id": "57e9abbf-d6fa-46db-976f-5d0426219e4d",
   "metadata": {},
   "outputs": [
    {
     "data": {
      "text/html": [
       "<img src=\"https://langchain-ai.github.io/langgraph/tutorials/workflows/img/agent.png\" width=\"500\"/>"
      ],
      "text/plain": [
       "<IPython.core.display.Image object>"
      ]
     },
     "execution_count": 69,
     "metadata": {},
     "output_type": "execute_result"
    }
   ],
   "source": [
    "Image(url='https://langchain-ai.github.io/langgraph/tutorials/workflows/img/agent.png', width=500)"
   ]
  },
  {
   "cell_type": "code",
   "execution_count": 75,
   "id": "9b8ba482-0797-49e4-a182-2f0f89d9d4fc",
   "metadata": {},
   "outputs": [
    {
     "data": {
      "text/html": [
       "<img src=\"https://www.ibm.com/content/dam/connectedassets-adobe-cms/worldwide-content/creative-assets/s-migr/ul/g/8f/5e/reinforcement-learning-figure-1.png\" width=\"500\"/>"
      ],
      "text/plain": [
       "<IPython.core.display.Image object>"
      ]
     },
     "execution_count": 75,
     "metadata": {},
     "output_type": "execute_result"
    }
   ],
   "source": [
    "Image(url='https://www.ibm.com/content/dam/connectedassets-adobe-cms/worldwide-content/creative-assets/s-migr/ul/g/8f/5e/reinforcement-learning-figure-1.png', width=500)"
   ]
  },
  {
   "cell_type": "code",
   "execution_count": 85,
   "id": "491915e4-2dcb-40ce-9ef8-e4f61beb286b",
   "metadata": {},
   "outputs": [],
   "source": [
    "import numpy as np"
   ]
  },
  {
   "cell_type": "code",
   "execution_count": 90,
   "id": "1f2c41d0-5041-4920-89fc-3b2fba4cc565",
   "metadata": {},
   "outputs": [],
   "source": [
    "from langchain_core.tools import tool\n",
    "\n",
    "\n",
    "# Define tools\n",
    "@tool\n",
    "def multiply(a: float, b: float) -> float:\n",
    "    \"\"\"Multiply a and b.\n",
    "\n",
    "    Args:\n",
    "        a: first float\n",
    "        b: second float\n",
    "    \"\"\"\n",
    "    return a * b\n",
    "\n",
    "\n",
    "@tool\n",
    "def add(a: float, b: float) -> float:\n",
    "    \"\"\"Adds a and b.\n",
    "\n",
    "    Args:\n",
    "        a: first float\n",
    "        b: second float\n",
    "    \"\"\"\n",
    "    return a + b\n",
    "\n",
    "@tool\n",
    "def subtract(a: float, b: float) -> float:\n",
    "    \"\"\"subtract a from b.\n",
    "\n",
    "    Args:\n",
    "        a: first float\n",
    "        b: second float\n",
    "    \"\"\"\n",
    "    return a - b\n",
    "\n",
    "@tool\n",
    "def divide(a: float, b: float) -> float:\n",
    "    \"\"\"Divide a and b.\n",
    "\n",
    "    Args:\n",
    "        a: first float\n",
    "        b: second float\n",
    "    \"\"\"\n",
    "    return a / b\n",
    "\n",
    "@tool\n",
    "def sigmoid(a: float) -> float:\n",
    "    \"\"\"sigmoid(a)\n",
    "    Args: \n",
    "        a: first float\n",
    "    \"\"\"\n",
    "    return 1./(1+np.exp(-a))\n",
    "\n",
    "\n",
    "# Augment the LLM with tools\n",
    "tools = [add, subtract, multiply, divide, sigmoid]\n",
    "tools_by_name = {tool.name: tool for tool in tools}\n",
    "llm_with_tools = llm.bind_tools(tools)"
   ]
  },
  {
   "cell_type": "code",
   "execution_count": 91,
   "id": "44b7adc4-443a-4c81-bb31-72496a708d4a",
   "metadata": {},
   "outputs": [
    {
     "data": {
      "image/png": "[encoded data removed]",
      "text/plain": [
       "<IPython.core.display.Image object>"
      ]
     },
     "metadata": {},
     "output_type": "display_data"
    }
   ],
   "source": [
    "from langgraph.graph import MessagesState\n",
    "from langchain_core.messages import SystemMessage, HumanMessage, ToolMessage\n",
    "\n",
    "\n",
    "# Nodes\n",
    "def llm_call(state: MessagesState):\n",
    "    \"\"\"LLM decides whether to call a tool or not\"\"\"\n",
    "\n",
    "    return {\n",
    "        \"messages\": [\n",
    "            llm_with_tools.invoke(\n",
    "                [\n",
    "                    SystemMessage(\n",
    "                        content=\"You are a helpful assistant tasked with performing arithmetic on a set of inputs.\"\n",
    "                    )\n",
    "                ]\n",
    "                + state[\"messages\"]\n",
    "            )\n",
    "        ]\n",
    "    }\n",
    "\n",
    "\n",
    "def tool_node(state: dict):\n",
    "    \"\"\"Performs the tool call\"\"\"\n",
    "\n",
    "    result = []\n",
    "    for tool_call in state[\"messages\"][-1].tool_calls:\n",
    "        tool = tools_by_name[tool_call[\"name\"]]\n",
    "        observation = tool.invoke(tool_call[\"args\"])\n",
    "        result.append(ToolMessage(content=observation, tool_call_id=tool_call[\"id\"]))\n",
    "    return {\"messages\": result}\n",
    "\n",
    "\n",
    "# Conditional edge function to route to the tool node or end based upon whether the LLM made a tool call\n",
    "def should_continue(state: MessagesState) -> Literal[\"environment\", END]:\n",
    "    \"\"\"Decide if we should continue the loop or stop based upon whether the LLM made a tool call\"\"\"\n",
    "\n",
    "    messages = state[\"messages\"]\n",
    "    last_message = messages[-1]\n",
    "    # If the LLM makes a tool call, then perform an action\n",
    "    if last_message.tool_calls:\n",
    "        return \"Action\"\n",
    "    # Otherwise, we stop (reply to the user)\n",
    "    return END\n",
    "\n",
    "\n",
    "# Build workflow\n",
    "agent_builder = StateGraph(MessagesState)\n",
    "\n",
    "# Add nodes\n",
    "agent_builder.add_node(\"llm_call\", llm_call)\n",
    "agent_builder.add_node(\"environment\", tool_node)\n",
    "\n",
    "# Add edges to connect nodes\n",
    "agent_builder.add_edge(START, \"llm_call\")\n",
    "agent_builder.add_conditional_edges(\n",
    "    \"llm_call\",\n",
    "    should_continue,\n",
    "    {\n",
    "        # Name returned by should_continue : Name of next node to visit\n",
    "        \"Action\": \"environment\",\n",
    "        END: END,\n",
    "    },\n",
    ")\n",
    "agent_builder.add_edge(\"environment\", \"llm_call\")\n",
    "\n",
    "# Compile the agent\n",
    "agent = agent_builder.compile()\n",
    "\n",
    "# Show the agent\n",
    "display(Image(agent.get_graph(xray=True).draw_mermaid_png()))"
   ]
  },
  {
   "cell_type": "code",
   "execution_count": 92,
   "id": "4f69bd4a-f91a-40ec-b84a-978257dd573e",
   "metadata": {},
   "outputs": [
    {
     "name": "stdout",
     "output_type": "stream",
     "text": [
      "================================\u001b[1m Human Message \u001b[0m=================================\n",
      "\n",
      "calculate derivative of sigmoid(5)\n",
      "==================================\u001b[1m Ai Message \u001b[0m==================================\n",
      "Tool Calls:\n",
      "  sigmoid (call_yhe0L1h0iirYx86Oc4tGbHHm)\n",
      " Call ID: call_yhe0L1h0iirYx86Oc4tGbHHm\n",
      "  Args:\n",
      "    a: 5\n",
      "=================================\u001b[1m Tool Message \u001b[0m=================================\n",
      "\n",
      "0.9933071490757153\n",
      "==================================\u001b[1m Ai Message \u001b[0m==================================\n",
      "Tool Calls:\n",
      "  multiply (call_eepwJz1ggN5uMOU3hCNOir1V)\n",
      " Call ID: call_eepwJz1ggN5uMOU3hCNOir1V\n",
      "  Args:\n",
      "    a: 0.9933071490757153\n",
      "    b: 0.006692850924284857\n",
      "=================================\u001b[1m Tool Message \u001b[0m=================================\n",
      "\n",
      "0.006648056670790157\n",
      "==================================\u001b[1m Ai Message \u001b[0m==================================\n",
      "\n",
      "The derivative of the sigmoid function at \\( \\text{sigmoid}(5) \\) is approximately \\( 0.00665 \\).\n"
     ]
    }
   ],
   "source": [
    "\n",
    "# Invoke\n",
    "messages = [HumanMessage(content=\"calculate derivative of sigmoid(5)\")]\n",
    "messages = agent.invoke({\"messages\": messages})\n",
    "for m in messages[\"messages\"]:\n",
    "    m.pretty_print()"
   ]
  },
  {
   "cell_type": "code",
   "execution_count": null,
   "id": "4511ec93-e6f6-412c-a1c1-3ed730d65542",
   "metadata": {},
   "outputs": [],
   "source": []
  },
  {
   "cell_type": "code",
   "execution_count": null,
   "id": "e334123b-f95a-48bc-8e42-a4df2163e212",
   "metadata": {},
   "outputs": [],
   "source": []
  }
 ],
 "metadata": {
  "kernelspec": {
   "display_name": "Python 3 (ipykernel)",
   "language": "python",
   "name": "python3"
  },
  "language_info": {
   "codemirror_mode": {
    "name": "ipython",
    "version": 3
   },
   "file_extension": ".py",
   "mimetype": "text/x-python",
   "name": "python",
   "nbconvert_exporter": "python",
   "pygments_lexer": "ipython3",
   "version": "3.10.0"
  }
 },
 "nbformat": 4,
 "nbformat_minor": 5
}
