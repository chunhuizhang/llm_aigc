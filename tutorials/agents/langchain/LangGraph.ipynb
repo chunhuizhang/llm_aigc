{
 "cells": [
  {
   "cell_type": "markdown",
   "id": "eb55ec85-c676-4e82-afca-9592a1a28bcb",
   "metadata": {},
   "source": [
    "- langgraph studio\n",
    "    - https://www.youtube.com/watch?v=pLPJoFvq4_M\n",
    "- https://github.com/langchain-ai/langgraph/blob/main/examples/reflexion/reflexion.ipynb"
   ]
  },
  {
   "cell_type": "code",
   "execution_count": 2,
   "id": "7c1155e5-b90a-4431-9112-b25b9c3a0892",
   "metadata": {
    "execution": {
     "iopub.execute_input": "2024-08-14T15:18:28.434174Z",
     "iopub.status.busy": "2024-08-14T15:18:28.433767Z",
     "iopub.status.idle": "2024-08-14T15:18:28.870157Z",
     "shell.execute_reply": "2024-08-14T15:18:28.868592Z",
     "shell.execute_reply.started": "2024-08-14T15:18:28.434143Z"
    }
   },
   "outputs": [],
   "source": [
    "from langgraph.graph import StateGraph, END, MessagesState"
   ]
  },
  {
   "cell_type": "markdown",
   "id": "2cdc889f-8c1f-4dec-a06a-764238a1c9e0",
   "metadata": {},
   "source": [
    "## core concepts"
   ]
  },
  {
   "cell_type": "markdown",
   "id": "81f3b684-f801-47b7-bed4-1afb50cbf58e",
   "metadata": {},
   "source": [
    "- state/node\n",
    "- edge"
   ]
  },
  {
   "cell_type": "markdown",
   "id": "613565d5-68d7-462d-8688-d9413e6456d8",
   "metadata": {},
   "source": [
    "## examples 1"
   ]
  },
  {
   "cell_type": "code",
   "execution_count": 4,
   "id": "0d6a86fe-367f-4f60-8490-55fde882e317",
   "metadata": {
    "execution": {
     "iopub.execute_input": "2024-08-14T15:27:10.192669Z",
     "iopub.status.busy": "2024-08-14T15:27:10.192009Z",
     "iopub.status.idle": "2024-08-14T15:27:10.206506Z",
     "shell.execute_reply": "2024-08-14T15:27:10.205034Z",
     "shell.execute_reply.started": "2024-08-14T15:27:10.192616Z"
    }
   },
   "outputs": [
    {
     "data": {
      "text/plain": [
       "True"
      ]
     },
     "execution_count": 4,
     "metadata": {},
     "output_type": "execute_result"
    }
   ],
   "source": [
    "import os\n",
    "from dotenv import load_dotenv\n",
    "load_dotenv()"
   ]
  },
  {
   "cell_type": "code",
   "execution_count": 7,
   "id": "ea06613c-fa46-4b25-ad66-e0fda94cce84",
   "metadata": {
    "execution": {
     "iopub.execute_input": "2024-08-14T15:27:55.085398Z",
     "iopub.status.busy": "2024-08-14T15:27:55.084755Z",
     "iopub.status.idle": "2024-08-14T15:27:55.199243Z",
     "shell.execute_reply": "2024-08-14T15:27:55.198677Z",
     "shell.execute_reply.started": "2024-08-14T15:27:55.085344Z"
    }
   },
   "outputs": [],
   "source": [
    "from langchain_openai import ChatOpenAI\n",
    "llm = ChatOpenAI(model='gpt-4o')"
   ]
  },
  {
   "cell_type": "code",
   "execution_count": 8,
   "id": "176e11d6-7d5c-4c70-b1f7-413de8b750c9",
   "metadata": {
    "execution": {
     "iopub.execute_input": "2024-08-14T15:28:03.435754Z",
     "iopub.status.busy": "2024-08-14T15:28:03.435349Z",
     "iopub.status.idle": "2024-08-14T15:28:03.658887Z",
     "shell.execute_reply": "2024-08-14T15:28:03.658315Z",
     "shell.execute_reply.started": "2024-08-14T15:28:03.435722Z"
    }
   },
   "outputs": [],
   "source": [
    "from langchain_community.tools.tavily_search import TavilySearchResults\n",
    "from langchain_community.utilities.tavily_search import TavilySearchAPIWrapper\n",
    "\n",
    "search = TavilySearchAPIWrapper()\n",
    "tavily_tool = TavilySearchResults(api_wrapper=search, max_results=5)"
   ]
  },
  {
   "cell_type": "code",
   "execution_count": null,
   "id": "08341b08-4ace-4ce1-b3c4-7f1bfe2d0009",
   "metadata": {},
   "outputs": [],
   "source": []
  }
 ],
 "metadata": {
  "kernelspec": {
   "display_name": "agent",
   "language": "python",
   "name": "agent"
  },
  "language_info": {
   "codemirror_mode": {
    "name": "ipython",
    "version": 3
   },
   "file_extension": ".py",
   "mimetype": "text/x-python",
   "name": "python",
   "nbconvert_exporter": "python",
   "pygments_lexer": "ipython3",
   "version": "3.12.2"
  }
 },
 "nbformat": 4,
 "nbformat_minor": 5
}
