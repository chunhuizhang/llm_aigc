{
 "cells": [
  {
   "cell_type": "markdown",
   "id": "130abbd4-795a-4ffb-86d6-1d6e65cbb6fa",
   "metadata": {},
   "source": [
    "https://github.com/XinyueZ/chat-your-doc/blob/master/notebooks/langchain_agent_scratch.ipynb"
   ]
  },
  {
   "cell_type": "markdown",
   "id": "a40cb3a9-baff-4fa6-9119-2a317e8f2398",
   "metadata": {},
   "source": [
    "\n",
    "- llm 的 invoke 本身也可以作为 tool\n",
    "\n",
    "    ```\n",
    "    @tool\n",
    "    def translate(string: str) -> str:\n",
    "        \"\"\"Translate the string into Chinese.\"\"\"\n",
    "        # model: BaseOpenAI = OpenAI(openai_api_key=OPENAI_API_KEY, temperature=0)\n",
    "        # res = model.predict(f\"Translate {string} into Chinese, only return the result.\")\n",
    "        # return res.strip()\n",
    "        chat_template = ChatPromptTemplate.from_messages(\n",
    "            [\n",
    "                (\n",
    "                    \"system\",\n",
    "                    \"\"\"You're an translator to translate text into Chinese, only return the result.\n",
    "                    \"\"\",\n",
    "                ),\n",
    "                (\n",
    "                    \"human\",\n",
    "                    string,\n",
    "                ),\n",
    "            ]\n",
    "        )\n",
    "        llm = Ollama(\n",
    "            base_url=\"http://localhost:11434\",\n",
    "            model=\"gemma:2b-instruct\",\n",
    "            temperature=0.0,\n",
    "        )\n",
    "    \n",
    "        return (chat_template | llm | StrOutputParser()).invoke({\"string\": string})\n",
    "    ```"
   ]
  }
 ],
 "metadata": {
  "kernelspec": {
   "display_name": "Python 3 (ipykernel)",
   "language": "python",
   "name": "python3"
  },
  "language_info": {
   "codemirror_mode": {
    "name": "ipython",
    "version": 3
   },
   "file_extension": ".py",
   "mimetype": "text/x-python",
   "name": "python",
   "nbconvert_exporter": "python",
   "pygments_lexer": "ipython3",
   "version": "3.10.13"
  }
 },
 "nbformat": 4,
 "nbformat_minor": 5
}
