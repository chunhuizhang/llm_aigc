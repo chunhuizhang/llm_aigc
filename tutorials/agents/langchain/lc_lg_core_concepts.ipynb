{
 "cells": [
  {
   "cell_type": "code",
   "execution_count": 1,
   "id": "42ed00c1-b5b8-4243-a8f1-c3324fd89339",
   "metadata": {
    "execution": {
     "iopub.execute_input": "2024-09-12T12:10:59.016992Z",
     "iopub.status.busy": "2024-09-12T12:10:59.016347Z",
     "iopub.status.idle": "2024-09-12T12:10:59.026871Z",
     "shell.execute_reply": "2024-09-12T12:10:59.024813Z",
     "shell.execute_reply.started": "2024-09-12T12:10:59.016935Z"
    }
   },
   "outputs": [],
   "source": [
    "from IPython.display import Image"
   ]
  },
  {
   "cell_type": "markdown",
   "id": "61faecb3-75f9-4b5b-96b0-2936c9d1fb14",
   "metadata": {},
   "source": [
    "- DAG: Directed Acyclic Graph\n",
    "    - 有向无环图；\n",
    "        - 环：means cycle back；\n",
    "    - formalized workflow for transitioning data\n",
    "    - 一个节点可以有多个出边，即有多条 outgoing 的路径；"
   ]
  },
  {
   "cell_type": "code",
   "execution_count": 3,
   "id": "07367f35-f509-43b6-b0d0-6eb02d34b3b0",
   "metadata": {
    "execution": {
     "iopub.execute_input": "2024-09-12T12:11:13.154425Z",
     "iopub.status.busy": "2024-09-12T12:11:13.153808Z",
     "iopub.status.idle": "2024-09-12T12:11:13.165664Z",
     "shell.execute_reply": "2024-09-12T12:11:13.163849Z",
     "shell.execute_reply.started": "2024-09-12T12:11:13.154373Z"
    }
   },
   "outputs": [
    {
     "data": {
      "text/html": [
       "<img src=\"./dag.png\" width=\"300\"/>"
      ],
      "text/plain": [
       "<IPython.core.display.Image object>"
      ]
     },
     "execution_count": 3,
     "metadata": {},
     "output_type": "execute_result"
    }
   ],
   "source": [
    "Image(url='./dag.png', width=300)"
   ]
  },
  {
   "cell_type": "markdown",
   "id": "b36203a1-f6a3-4570-9825-1c63d693a233",
   "metadata": {},
   "source": [
    "### prompt template"
   ]
  },
  {
   "cell_type": "markdown",
   "id": "c1666685-ad84-40a1-9123-8d5798ecfea9",
   "metadata": {},
   "source": [
    "- https://api.python.langchain.com/en/latest/agents/langchain.agents.react.agent.create_react_agent.html"
   ]
  },
  {
   "cell_type": "code",
   "execution_count": 1,
   "id": "55448ad9-1973-4c19-9cd7-a5e7b3bd0bd5",
   "metadata": {
    "execution": {
     "iopub.execute_input": "2024-09-10T16:02:50.460560Z",
     "iopub.status.busy": "2024-09-10T16:02:50.459527Z",
     "iopub.status.idle": "2024-09-10T16:02:50.979365Z",
     "shell.execute_reply": "2024-09-10T16:02:50.977684Z",
     "shell.execute_reply.started": "2024-09-10T16:02:50.460501Z"
    }
   },
   "outputs": [],
   "source": [
    "from langchain_core.prompts import PromptTemplate\n",
    "\n",
    "template = '''Answer the following questions as best you can. You have access to the following tools:\n",
    "\n",
    "{tools}\n",
    "\n",
    "Use the following format:\n",
    "\n",
    "Question: the input question you must answer\n",
    "Thought: you should always think about what to do\n",
    "Action: the action to take, should be one of [{tool_names}]\n",
    "Action Input: the input to the action\n",
    "Observation: the result of the action\n",
    "... (this Thought/Action/Action Input/Observation can repeat N times)\n",
    "Thought: I now know the final answer\n",
    "Final Answer: the final answer to the original input question\n",
    "\n",
    "Begin!\n",
    "\n",
    "Question: {input}\n",
    "Thought:{agent_scratchpad}'''\n",
    "\n",
    "prompt = PromptTemplate.from_template(template)"
   ]
  },
  {
   "cell_type": "code",
   "execution_count": null,
   "id": "94fed31e-a005-4cc4-9ede-2f06122d3b6d",
   "metadata": {},
   "outputs": [],
   "source": []
  }
 ],
 "metadata": {
  "kernelspec": {
   "display_name": "agent",
   "language": "python",
   "name": "agent"
  },
  "language_info": {
   "codemirror_mode": {
    "name": "ipython",
    "version": 3
   },
   "file_extension": ".py",
   "mimetype": "text/x-python",
   "name": "python",
   "nbconvert_exporter": "python",
   "pygments_lexer": "ipython3",
   "version": "3.12.2"
  }
 },
 "nbformat": 4,
 "nbformat_minor": 5
}
