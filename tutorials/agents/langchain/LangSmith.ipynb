{
 "cells": [
  {
   "cell_type": "code",
   "execution_count": 1,
   "id": "91ca12cf-d580-4cac-9700-755b8b786907",
   "metadata": {
    "execution": {
     "iopub.execute_input": "2024-08-03T04:35:55.989174Z",
     "iopub.status.busy": "2024-08-03T04:35:55.988599Z",
     "iopub.status.idle": "2024-08-03T04:35:55.994826Z",
     "shell.execute_reply": "2024-08-03T04:35:55.994062Z",
     "shell.execute_reply.started": "2024-08-03T04:35:55.989119Z"
    }
   },
   "outputs": [],
   "source": [
    "import os"
   ]
  },
  {
   "cell_type": "code",
   "execution_count": 2,
   "id": "6bf770cd-58e8-45f0-bb78-4fb5cfdf6b03",
   "metadata": {
    "execution": {
     "iopub.execute_input": "2024-08-03T04:35:57.269696Z",
     "iopub.status.busy": "2024-08-03T04:35:57.268966Z",
     "iopub.status.idle": "2024-08-03T04:35:57.294027Z",
     "shell.execute_reply": "2024-08-03T04:35:57.292956Z",
     "shell.execute_reply.started": "2024-08-03T04:35:57.269614Z"
    }
   },
   "outputs": [
    {
     "data": {
      "text/plain": [
       "True"
      ]
     },
     "execution_count": 2,
     "metadata": {},
     "output_type": "execute_result"
    }
   ],
   "source": [
    "from dotenv import load_dotenv\n",
    "load_dotenv()"
   ]
  },
  {
   "cell_type": "markdown",
   "id": "74d43b0c-d681-4726-a9b5-442b7bb3c802",
   "metadata": {},
   "source": [
    "### 配置环境变量即可关联 langsmith 后台"
   ]
  },
  {
   "cell_type": "code",
   "execution_count": 3,
   "id": "93d1504d-d26f-4ff6-acd8-ce0e53d10cb4",
   "metadata": {
    "execution": {
     "iopub.execute_input": "2024-08-03T04:40:35.684973Z",
     "iopub.status.busy": "2024-08-03T04:40:35.684590Z",
     "iopub.status.idle": "2024-08-03T04:40:35.689162Z",
     "shell.execute_reply": "2024-08-03T04:40:35.688436Z",
     "shell.execute_reply.started": "2024-08-03T04:40:35.684949Z"
    }
   },
   "outputs": [],
   "source": [
    "import os\n",
    "os.environ['LANGCHAIN_TRACING_V2'] = 'true'\n",
    "os.environ['LANGCHAIN_API_KEY'] = 'xx'"
   ]
  },
  {
   "cell_type": "markdown",
   "id": "defa3ce8-eb39-4791-a500-a099457d2a89",
   "metadata": {},
   "source": [
    "### basics"
   ]
  },
  {
   "cell_type": "markdown",
   "id": "ebebc66e-905a-4f21-85f4-6e73b4a7b961",
   "metadata": {},
   "source": [
    "- workflow 中间每一步过程的展示\n",
    "    - input 是什么，output 是什么\n",
    "- evaluation"
   ]
  }
 ],
 "metadata": {
  "kernelspec": {
   "display_name": "agent",
   "language": "python",
   "name": "agent"
  },
  "language_info": {
   "codemirror_mode": {
    "name": "ipython",
    "version": 3
   },
   "file_extension": ".py",
   "mimetype": "text/x-python",
   "name": "python",
   "nbconvert_exporter": "python",
   "pygments_lexer": "ipython3",
   "version": "3.12.4"
  }
 },
 "nbformat": 4,
 "nbformat_minor": 5
}
