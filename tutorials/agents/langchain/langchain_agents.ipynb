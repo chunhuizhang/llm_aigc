{
 "cells": [
  {
   "cell_type": "markdown",
   "id": "04e27741-355e-4200-918a-318467eca523",
   "metadata": {},
   "source": [
    "- https://ai.plainenglish.io/understanding-large-language-model-based-agents-27bee5c82cec"
   ]
  },
  {
   "cell_type": "code",
   "execution_count": 4,
   "id": "658ce0a5-ef6a-42a0-b83e-497a9fb3aae9",
   "metadata": {
    "execution": {
     "iopub.execute_input": "2024-08-03T04:38:31.827491Z",
     "iopub.status.busy": "2024-08-03T04:38:31.827149Z",
     "iopub.status.idle": "2024-08-03T04:38:31.833444Z",
     "shell.execute_reply": "2024-08-03T04:38:31.832794Z",
     "shell.execute_reply.started": "2024-08-03T04:38:31.827476Z"
    }
   },
   "outputs": [
    {
     "data": {
      "text/plain": [
       "True"
      ]
     },
     "execution_count": 4,
     "metadata": {},
     "output_type": "execute_result"
    }
   ],
   "source": [
    "import os\n",
    "from dotenv import load_dotenv\n",
    "load_dotenv()"
   ]
  },
  {
   "cell_type": "markdown",
   "id": "e42756b9-8126-44ba-a327-96abf12cead3",
   "metadata": {},
   "source": [
    "## LCEL (LangChain Expression Language)"
   ]
  },
  {
   "cell_type": "code",
   "execution_count": 5,
   "id": "16236eca-6eeb-4c73-89b8-8fcf54ad345d",
   "metadata": {
    "execution": {
     "iopub.execute_input": "2024-08-03T04:38:32.910985Z",
     "iopub.status.busy": "2024-08-03T04:38:32.910797Z",
     "iopub.status.idle": "2024-08-03T04:38:34.249394Z",
     "shell.execute_reply": "2024-08-03T04:38:34.248708Z",
     "shell.execute_reply.started": "2024-08-03T04:38:32.910971Z"
    }
   },
   "outputs": [
    {
     "data": {
      "text/plain": [
       "'Why did the ice cream truck break down?\\n\\nBecause it had too many sundaes!'"
      ]
     },
     "execution_count": 5,
     "metadata": {},
     "output_type": "execute_result"
    }
   ],
   "source": [
    "from langchain_openai import ChatOpenAI\n",
    "from langchain_core.prompts import ChatPromptTemplate\n",
    "from langchain_core.output_parsers import StrOutputParser\n",
    "from langchain_core.runnables import RunnablePassthrough\n",
    "\n",
    "\n",
    "prompt = ChatPromptTemplate.from_template(\n",
    "    \"Tell me a short joke about {topic}\"\n",
    ")\n",
    "output_parser = StrOutputParser()\n",
    "model = ChatOpenAI(model=\"gpt-3.5-turbo\")\n",
    "chain = (\n",
    "    {\"topic\": RunnablePassthrough()} \n",
    "    | prompt\n",
    "    | model\n",
    "    | output_parser\n",
    ")\n",
    "\n",
    "chain.invoke(\"ice cream\")"
   ]
  },
  {
   "cell_type": "markdown",
   "id": "073a42e6-cf81-456b-b517-5e6adf9c75e6",
   "metadata": {},
   "source": [
    "## Tool uses"
   ]
  }
 ],
 "metadata": {
  "kernelspec": {
   "display_name": "agent",
   "language": "python",
   "name": "agent"
  },
  "language_info": {
   "codemirror_mode": {
    "name": "ipython",
    "version": 3
   },
   "file_extension": ".py",
   "mimetype": "text/x-python",
   "name": "python",
   "nbconvert_exporter": "python",
   "pygments_lexer": "ipython3",
   "version": "3.12.4"
  }
 },
 "nbformat": 4,
 "nbformat_minor": 5
}
