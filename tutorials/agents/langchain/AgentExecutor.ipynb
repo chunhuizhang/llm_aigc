{
 "cells": [
  {
   "cell_type": "markdown",
   "id": "8e2c3134-2979-4780-bc0b-f08ea57587f7",
   "metadata": {},
   "source": [
    "- https://myapollo.com.tw/blog/langchain-tutorial-agent/"
   ]
  },
  {
   "cell_type": "code",
   "execution_count": 8,
   "id": "a022e734-c24f-4625-b2aa-8a80e1adf0e0",
   "metadata": {
    "execution": {
     "iopub.execute_input": "2024-09-24T13:25:23.520933Z",
     "iopub.status.busy": "2024-09-24T13:25:23.520616Z",
     "iopub.status.idle": "2024-09-24T13:25:23.529089Z",
     "shell.execute_reply": "2024-09-24T13:25:23.527264Z",
     "shell.execute_reply.started": "2024-09-24T13:25:23.520905Z"
    }
   },
   "outputs": [],
   "source": [
    "import requests\n",
    "import os\n",
    "from langchain_openai import ChatOpenAI\n",
    "from langchain_core.prompts import ChatPromptTemplate\n",
    "from langchain_core.prompts import MessagesPlaceholder\n",
    "from langchain.agents.format_scratchpad.openai_tools import (\n",
    "    format_to_openai_tool_messages,\n",
    ")\n",
    "from langchain.agents.output_parsers.openai_tools import OpenAIToolsAgentOutputParser\n",
    "from langchain.agents import tool\n",
    "from langchain.agents import AgentExecutor"
   ]
  },
  {
   "cell_type": "code",
   "execution_count": 3,
   "id": "eb30ed42-4685-40d5-8b0c-e1d4aab0add5",
   "metadata": {
    "execution": {
     "iopub.execute_input": "2024-09-24T13:24:26.971684Z",
     "iopub.status.busy": "2024-09-24T13:24:26.971090Z",
     "iopub.status.idle": "2024-09-24T13:24:26.983588Z",
     "shell.execute_reply": "2024-09-24T13:24:26.981646Z",
     "shell.execute_reply.started": "2024-09-24T13:24:26.971631Z"
    }
   },
   "outputs": [],
   "source": [
    "from dotenv import load_dotenv\n",
    "assert load_dotenv()"
   ]
  },
  {
   "cell_type": "code",
   "execution_count": 9,
   "id": "d5d149f1-6e24-4c3e-b5b6-5c4cb39f7099",
   "metadata": {
    "execution": {
     "iopub.execute_input": "2024-09-24T13:25:28.649626Z",
     "iopub.status.busy": "2024-09-24T13:25:28.649020Z",
     "iopub.status.idle": "2024-09-24T13:25:28.658562Z",
     "shell.execute_reply": "2024-09-24T13:25:28.656701Z",
     "shell.execute_reply.started": "2024-09-24T13:25:28.649573Z"
    }
   },
   "outputs": [],
   "source": [
    "os.environ[\"LANGCHAIN_PROJECT\"] = \"0924\""
   ]
  },
  {
   "cell_type": "code",
   "execution_count": 10,
   "id": "35ada6a3-daf5-4d3c-b145-33086b7bbc66",
   "metadata": {
    "execution": {
     "iopub.execute_input": "2024-09-24T13:25:30.224217Z",
     "iopub.status.busy": "2024-09-24T13:25:30.223618Z",
     "iopub.status.idle": "2024-09-24T13:25:30.254777Z",
     "shell.execute_reply": "2024-09-24T13:25:30.253140Z",
     "shell.execute_reply.started": "2024-09-24T13:25:30.224162Z"
    }
   },
   "outputs": [],
   "source": [
    "@tool\n",
    "def check_site_alive(site: str) -> bool:\n",
    "    \"\"\"Check a site is alive or not.\"\"\"\n",
    "    try:\n",
    "        resp = requests.get(f'https://{site}')\n",
    "        resp.raise_for_status()\n",
    "        return True\n",
    "    except Exception:\n",
    "        return False"
   ]
  },
  {
   "cell_type": "code",
   "execution_count": 11,
   "id": "2ca588b6-f039-4105-83d0-08b61809ea79",
   "metadata": {
    "execution": {
     "iopub.execute_input": "2024-09-24T13:25:31.742335Z",
     "iopub.status.busy": "2024-09-24T13:25:31.741771Z",
     "iopub.status.idle": "2024-09-24T13:25:31.846286Z",
     "shell.execute_reply": "2024-09-24T13:25:31.845095Z",
     "shell.execute_reply.started": "2024-09-24T13:25:31.742286Z"
    }
   },
   "outputs": [],
   "source": [
    "tools = [check_site_alive, ]\n",
    "\n",
    "\n",
    "llm = ChatOpenAI(model=\"gpt-3.5-turbo\", temperature=0)\n",
    "llm_with_tools = llm.bind_tools(tools)"
   ]
  },
  {
   "cell_type": "code",
   "execution_count": 12,
   "id": "da5bd9d1-c784-4241-b84f-f50658f1d89d",
   "metadata": {
    "execution": {
     "iopub.execute_input": "2024-09-24T13:25:33.823131Z",
     "iopub.status.busy": "2024-09-24T13:25:33.822748Z",
     "iopub.status.idle": "2024-09-24T13:25:33.833113Z",
     "shell.execute_reply": "2024-09-24T13:25:33.831471Z",
     "shell.execute_reply.started": "2024-09-24T13:25:33.823098Z"
    }
   },
   "outputs": [],
   "source": [
    "prompt = ChatPromptTemplate.from_messages([\n",
    "    (\n",
    "        \"system\",\n",
    "        \"You are very powerful assistant, but don't know current events\",\n",
    "    ),\n",
    "    (\"user\", \"{input}\"),\n",
    "    MessagesPlaceholder(variable_name=\"agent_scratchpad\"),\n",
    "])\n",
    "\n",
    "agent = (\n",
    "    {\n",
    "        \"input\": lambda x: x[\"input\"],\n",
    "        \"agent_scratchpad\": lambda x: format_to_openai_tool_messages(\n",
    "            x[\"intermediate_steps\"]\n",
    "        ),\n",
    "    }\n",
    "    | prompt\n",
    "    | llm_with_tools\n",
    "    | OpenAIToolsAgentOutputParser()\n",
    ")\n",
    "agent_executor = AgentExecutor(agent=agent, tools=tools, verbose=True)"
   ]
  },
  {
   "cell_type": "markdown",
   "id": "f315f638-f65c-4cb4-a8b3-1239fb5fd12d",
   "metadata": {},
   "source": [
    "- `x[\"intermediate_steps\"]` 是由 AgentExecutor 产生并给到 agent 执行的；\n",
    "-  AgentExecutor 把 agent 与 tools 组成 Agent Executor;\n",
    "-  The agent executor is the runtime for an agent. This is what actually calls the agent, executes the actions it chooses, passes the action outputs back to the agent, and repeats. "
   ]
  },
  {
   "cell_type": "code",
   "execution_count": 17,
   "id": "795ab505-d892-4475-b75a-06ebf0b460a8",
   "metadata": {
    "execution": {
     "iopub.execute_input": "2024-09-24T13:27:15.545958Z",
     "iopub.status.busy": "2024-09-24T13:27:15.545381Z",
     "iopub.status.idle": "2024-09-24T13:27:15.559542Z",
     "shell.execute_reply": "2024-09-24T13:27:15.557637Z",
     "shell.execute_reply.started": "2024-09-24T13:27:15.545905Z"
    }
   },
   "outputs": [
    {
     "data": {
      "text/plain": [
       "AgentExecutor(verbose=True, agent=RunnableMultiActionAgent(runnable={\n",
       "  input: RunnableLambda(...),\n",
       "  agent_scratchpad: RunnableLambda(...)\n",
       "}\n",
       "| ChatPromptTemplate(input_variables=['agent_scratchpad', 'input'], input_types={'agent_scratchpad': typing.List[typing.Union[langchain_core.messages.ai.AIMessage, langchain_core.messages.human.HumanMessage, langchain_core.messages.chat.ChatMessage, langchain_core.messages.system.SystemMessage, langchain_core.messages.function.FunctionMessage, langchain_core.messages.tool.ToolMessage]]}, messages=[SystemMessagePromptTemplate(prompt=PromptTemplate(input_variables=[], template=\"You are very powerful assistant, but don't know current events\")), HumanMessagePromptTemplate(prompt=PromptTemplate(input_variables=['input'], template='{input}')), MessagesPlaceholder(variable_name='agent_scratchpad')])\n",
       "| RunnableBinding(bound=ChatOpenAI(client=<openai.resources.chat.completions.Completions object at 0x7f5a4c163920>, async_client=<openai.resources.chat.completions.AsyncCompletions object at 0x7f5a4c0f2f90>, temperature=0.0, openai_api_key=SecretStr('**********'), openai_proxy=''), kwargs={'tools': [{'type': 'function', 'function': {'name': 'check_site_alive', 'description': 'Check a site is alive or not.', 'parameters': {'type': 'object', 'properties': {'site': {'type': 'string'}}, 'required': ['site']}}}]})\n",
       "| OpenAIToolsAgentOutputParser(), input_keys_arg=[], return_keys_arg=[], stream_runnable=True), tools=[StructuredTool(name='check_site_alive', description='Check a site is alive or not.', args_schema=<class 'pydantic.v1.main.check_site_aliveSchema'>, func=<function check_site_alive at 0x7f5a43f04900>)])"
      ]
     },
     "execution_count": 17,
     "metadata": {},
     "output_type": "execute_result"
    }
   ],
   "source": [
    "agent_executor"
   ]
  },
  {
   "cell_type": "code",
   "execution_count": 13,
   "id": "ac3d2ca3-dd74-4486-9aae-248ab7191c1f",
   "metadata": {
    "execution": {
     "iopub.execute_input": "2024-09-24T13:25:41.816136Z",
     "iopub.status.busy": "2024-09-24T13:25:41.815555Z",
     "iopub.status.idle": "2024-09-24T13:25:44.475106Z",
     "shell.execute_reply": "2024-09-24T13:25:44.473153Z",
     "shell.execute_reply.started": "2024-09-24T13:25:41.816084Z"
    }
   },
   "outputs": [
    {
     "name": "stdout",
     "output_type": "stream",
     "text": [
      "\n",
      "\n",
      "\u001b[1m> Entering new AgentExecutor chain...\u001b[0m\n",
      "\u001b[32;1m\u001b[1;3m\n",
      "Invoking: `check_site_alive` with `{'site': 'example.com'}`\n",
      "\n",
      "\n",
      "\u001b[0m\u001b[36;1m\u001b[1;3mTrue\u001b[0m\u001b[32;1m\u001b[1;3mYes, example.com is alive.\u001b[0m\n",
      "\n",
      "\u001b[1m> Finished chain.\u001b[0m\n"
     ]
    }
   ],
   "source": [
    "response = agent_executor.invoke({\n",
    "    'input': 'is example.com alive?',\n",
    "})"
   ]
  },
  {
   "cell_type": "code",
   "execution_count": 14,
   "id": "3877beb4-3aa7-409d-a7d9-fe8f4819b2fd",
   "metadata": {
    "execution": {
     "iopub.execute_input": "2024-09-24T13:25:50.457176Z",
     "iopub.status.busy": "2024-09-24T13:25:50.456576Z",
     "iopub.status.idle": "2024-09-24T13:25:50.474799Z",
     "shell.execute_reply": "2024-09-24T13:25:50.472787Z",
     "shell.execute_reply.started": "2024-09-24T13:25:50.457123Z"
    }
   },
   "outputs": [
    {
     "data": {
      "text/plain": [
       "{'input': 'is example.com alive?', 'output': 'Yes, example.com is alive.'}"
      ]
     },
     "execution_count": 14,
     "metadata": {},
     "output_type": "execute_result"
    }
   ],
   "source": [
    "response"
   ]
  },
  {
   "cell_type": "code",
   "execution_count": null,
   "id": "275962dc-1b07-4c36-9607-93e2ff791ab7",
   "metadata": {},
   "outputs": [],
   "source": []
  }
 ],
 "metadata": {
  "kernelspec": {
   "display_name": "agent",
   "language": "python",
   "name": "agent"
  },
  "language_info": {
   "codemirror_mode": {
    "name": "ipython",
    "version": 3
   },
   "file_extension": ".py",
   "mimetype": "text/x-python",
   "name": "python",
   "nbconvert_exporter": "python",
   "pygments_lexer": "ipython3",
   "version": "3.12.2"
  }
 },
 "nbformat": 4,
 "nbformat_minor": 5
}
