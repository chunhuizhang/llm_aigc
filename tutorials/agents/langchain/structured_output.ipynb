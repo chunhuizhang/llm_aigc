{
 "cells": [
  {
   "cell_type": "markdown",
   "id": "ffe85c98-30f4-474b-8b92-dae4c0785664",
   "metadata": {},
   "source": [
    "https://langchain-ai.github.io/langgraph/how-tos/react-agent-structured-output/"
   ]
  },
  {
   "cell_type": "code",
   "execution_count": 17,
   "id": "f1f5f370-432d-451d-92da-dd3adf0423b6",
   "metadata": {
    "execution": {
     "iopub.execute_input": "2024-09-25T14:23:31.078743Z",
     "iopub.status.busy": "2024-09-25T14:23:31.078073Z",
     "iopub.status.idle": "2024-09-25T14:23:31.086508Z",
     "shell.execute_reply": "2024-09-25T14:23:31.084590Z",
     "shell.execute_reply.started": "2024-09-25T14:23:31.078680Z"
    }
   },
   "outputs": [],
   "source": [
    "# !pip install -U langchain\n",
    "# !pip install -U langchain-openai\n",
    "# !pip install -U langgraph\n",
    "# !pip install -U openai"
   ]
  },
  {
   "cell_type": "code",
   "execution_count": 1,
   "id": "bb6b1f09-13cb-4924-a813-0ca4e505e061",
   "metadata": {
    "execution": {
     "iopub.execute_input": "2024-09-29T13:06:46.092962Z",
     "iopub.status.busy": "2024-09-29T13:06:46.092306Z",
     "iopub.status.idle": "2024-09-29T13:06:46.102061Z",
     "shell.execute_reply": "2024-09-29T13:06:46.100077Z",
     "shell.execute_reply.started": "2024-09-29T13:06:46.092903Z"
    }
   },
   "outputs": [],
   "source": [
    "from IPython.display import Image"
   ]
  },
  {
   "cell_type": "code",
   "execution_count": 2,
   "id": "3cc537ce-ad92-44bf-b4c9-91bc34536b6d",
   "metadata": {
    "execution": {
     "iopub.execute_input": "2024-09-25T14:23:37.809902Z",
     "iopub.status.busy": "2024-09-25T14:23:37.809336Z",
     "iopub.status.idle": "2024-09-25T14:23:38.916088Z",
     "shell.execute_reply": "2024-09-25T14:23:38.915389Z",
     "shell.execute_reply.started": "2024-09-25T14:23:37.809852Z"
    }
   },
   "outputs": [],
   "source": [
    "from pydantic import BaseModel, Field\n",
    "from typing import  Literal\n",
    "from langchain_core.tools import tool\n",
    "from langchain_openai import ChatOpenAI\n",
    "from langgraph.graph import MessagesState"
   ]
  },
  {
   "cell_type": "code",
   "execution_count": 3,
   "id": "5ad05a6f-7952-41dc-891d-8244b8aadc3a",
   "metadata": {
    "execution": {
     "iopub.execute_input": "2024-09-25T14:23:39.296136Z",
     "iopub.status.busy": "2024-09-25T14:23:39.295976Z",
     "iopub.status.idle": "2024-09-25T14:23:39.304752Z",
     "shell.execute_reply": "2024-09-25T14:23:39.304011Z",
     "shell.execute_reply.started": "2024-09-25T14:23:39.296123Z"
    }
   },
   "outputs": [],
   "source": [
    "from dotenv import load_dotenv\n",
    "assert load_dotenv()"
   ]
  },
  {
   "cell_type": "code",
   "execution_count": 4,
   "id": "a3aa5683-fbb5-4039-ab0e-835b10f04485",
   "metadata": {
    "execution": {
     "iopub.execute_input": "2024-09-25T14:23:41.614883Z",
     "iopub.status.busy": "2024-09-25T14:23:41.613778Z",
     "iopub.status.idle": "2024-09-25T14:23:41.627811Z",
     "shell.execute_reply": "2024-09-25T14:23:41.626787Z",
     "shell.execute_reply.started": "2024-09-25T14:23:41.614822Z"
    }
   },
   "outputs": [
    {
     "data": {
      "text/html": [
       "<img src=\"./react-output.png\" width=\"500\"/>"
      ],
      "text/plain": [
       "<IPython.core.display.Image object>"
      ]
     },
     "execution_count": 4,
     "metadata": {},
     "output_type": "execute_result"
    }
   ],
   "source": [
    "Image(url='./react-output.png', width=500)"
   ]
  },
  {
   "cell_type": "markdown",
   "id": "3829d503-1ad7-40de-b5d7-cac5c683b960",
   "metadata": {},
   "source": [
    "- 增加一个 respond 节点，做结构化的输出处理；"
   ]
  },
  {
   "cell_type": "code",
   "execution_count": 5,
   "id": "a7cde72e-2eb5-408b-921c-fcbc1cab0716",
   "metadata": {
    "execution": {
     "iopub.execute_input": "2024-09-25T14:23:43.538217Z",
     "iopub.status.busy": "2024-09-25T14:23:43.537650Z",
     "iopub.status.idle": "2024-09-25T14:23:43.549013Z",
     "shell.execute_reply": "2024-09-25T14:23:43.547891Z",
     "shell.execute_reply.started": "2024-09-25T14:23:43.538165Z"
    }
   },
   "outputs": [],
   "source": [
    "class WeatherResponse(BaseModel):\n",
    "    \"\"\"Respond to the user with this\"\"\"\n",
    "    temperature: float = Field(description=\"The temperature in fahrenheit\")\n",
    "    wind_directon: str = Field(description=\"The direction of the wind in abbreviated form\")\n",
    "    wind_speed: float = Field(description=\"The speed of the wind in km/h\")"
   ]
  },
  {
   "cell_type": "code",
   "execution_count": 6,
   "id": "6953cbe8-026b-4c30-b4fb-824464479aea",
   "metadata": {
    "execution": {
     "iopub.execute_input": "2024-09-25T14:23:45.259511Z",
     "iopub.status.busy": "2024-09-25T14:23:45.258966Z",
     "iopub.status.idle": "2024-09-25T14:23:45.265672Z",
     "shell.execute_reply": "2024-09-25T14:23:45.264428Z",
     "shell.execute_reply.started": "2024-09-25T14:23:45.259463Z"
    }
   },
   "outputs": [],
   "source": [
    "# Inherit 'messages' key from MessagesState, which is a list of chat messages \n",
    "class AgentState(MessagesState):\n",
    "    # Final structured response from the agent\n",
    "    final_response: WeatherResponse"
   ]
  },
  {
   "cell_type": "code",
   "execution_count": 7,
   "id": "7a92931c-767c-4dc7-aaef-842720d8be3e",
   "metadata": {
    "execution": {
     "iopub.execute_input": "2024-09-25T14:23:46.918188Z",
     "iopub.status.busy": "2024-09-25T14:23:46.917619Z",
     "iopub.status.idle": "2024-09-25T14:23:46.925797Z",
     "shell.execute_reply": "2024-09-25T14:23:46.923890Z",
     "shell.execute_reply.started": "2024-09-25T14:23:46.918121Z"
    }
   },
   "outputs": [],
   "source": [
    "from typing import get_type_hints"
   ]
  },
  {
   "cell_type": "code",
   "execution_count": 8,
   "id": "5ef324a6-cf97-4447-87af-b8742bc2e5c2",
   "metadata": {
    "execution": {
     "iopub.execute_input": "2024-09-25T14:23:48.032102Z",
     "iopub.status.busy": "2024-09-25T14:23:48.031562Z",
     "iopub.status.idle": "2024-09-25T14:23:48.043291Z",
     "shell.execute_reply": "2024-09-25T14:23:48.041550Z",
     "shell.execute_reply.started": "2024-09-25T14:23:48.032055Z"
    }
   },
   "outputs": [
    {
     "data": {
      "text/plain": [
       "{'messages': list[typing.Union[langchain_core.messages.ai.AIMessage, langchain_core.messages.human.HumanMessage, langchain_core.messages.chat.ChatMessage, langchain_core.messages.system.SystemMessage, langchain_core.messages.function.FunctionMessage, langchain_core.messages.tool.ToolMessage, langchain_core.messages.ai.AIMessageChunk, langchain_core.messages.human.HumanMessageChunk, langchain_core.messages.chat.ChatMessageChunk, langchain_core.messages.system.SystemMessageChunk, langchain_core.messages.function.FunctionMessageChunk, langchain_core.messages.tool.ToolMessageChunk]],\n",
       " 'final_response': __main__.WeatherResponse}"
      ]
     },
     "execution_count": 8,
     "metadata": {},
     "output_type": "execute_result"
    }
   ],
   "source": [
    "get_type_hints(AgentState)"
   ]
  },
  {
   "cell_type": "code",
   "execution_count": 9,
   "id": "39c2b335-21d7-4803-8741-21c81c6bec96",
   "metadata": {
    "execution": {
     "iopub.execute_input": "2024-09-25T14:23:49.595775Z",
     "iopub.status.busy": "2024-09-25T14:23:49.595237Z",
     "iopub.status.idle": "2024-09-25T14:23:49.615593Z",
     "shell.execute_reply": "2024-09-25T14:23:49.613765Z",
     "shell.execute_reply.started": "2024-09-25T14:23:49.595726Z"
    }
   },
   "outputs": [],
   "source": [
    "@tool\n",
    "def get_weather(city: Literal[\"nyc\", \"sf\"]):\n",
    "    \"\"\"Use this to get weather information.\"\"\"\n",
    "    if city == \"nyc\":\n",
    "        return \"It is cloudy in NYC, with 5 mph winds in the North-East direction and a temperature of 70 degrees\"\n",
    "    elif city == \"sf\":\n",
    "        return \"It is 75 degrees and sunny in SF, with 3 mph winds in the South-East direction\"\n",
    "    else:\n",
    "        raise AssertionError(\"Unknown city\")"
   ]
  },
  {
   "cell_type": "code",
   "execution_count": 10,
   "id": "bdc28b75-9e1e-4218-baec-1a17cc3d0abc",
   "metadata": {
    "execution": {
     "iopub.execute_input": "2024-09-25T14:23:52.352618Z",
     "iopub.status.busy": "2024-09-25T14:23:52.352048Z",
     "iopub.status.idle": "2024-09-25T14:23:52.359670Z",
     "shell.execute_reply": "2024-09-25T14:23:52.358038Z",
     "shell.execute_reply.started": "2024-09-25T14:23:52.352569Z"
    }
   },
   "outputs": [],
   "source": [
    "tools = [get_weather]"
   ]
  },
  {
   "cell_type": "code",
   "execution_count": 11,
   "id": "47d948f0-59a1-4890-b2b2-87c52f054914",
   "metadata": {
    "execution": {
     "iopub.execute_input": "2024-09-25T14:23:53.363790Z",
     "iopub.status.busy": "2024-09-25T14:23:53.363244Z",
     "iopub.status.idle": "2024-09-25T14:23:53.470241Z",
     "shell.execute_reply": "2024-09-25T14:23:53.469739Z",
     "shell.execute_reply.started": "2024-09-25T14:23:53.363742Z"
    }
   },
   "outputs": [],
   "source": [
    "model = ChatOpenAI(model=\"gpt-3.5-turbo\")"
   ]
  },
  {
   "cell_type": "code",
   "execution_count": 12,
   "id": "b2a6b2ca-b934-4e9c-9864-354cb7752b6f",
   "metadata": {
    "execution": {
     "iopub.execute_input": "2024-09-25T14:23:54.325930Z",
     "iopub.status.busy": "2024-09-25T14:23:54.325622Z",
     "iopub.status.idle": "2024-09-25T14:23:54.468568Z",
     "shell.execute_reply": "2024-09-25T14:23:54.467982Z",
     "shell.execute_reply.started": "2024-09-25T14:23:54.325903Z"
    }
   },
   "outputs": [],
   "source": [
    "model_w_tools = model.bind_tools(tools)\n",
    "model_w_output = model.with_structured_output(WeatherResponse)"
   ]
  },
  {
   "cell_type": "code",
   "execution_count": 13,
   "id": "38daf7fb-6525-4dc4-88d5-fd68bf21445c",
   "metadata": {
    "execution": {
     "iopub.execute_input": "2024-09-25T14:23:56.392034Z",
     "iopub.status.busy": "2024-09-25T14:23:56.391784Z",
     "iopub.status.idle": "2024-09-25T14:23:57.797612Z",
     "shell.execute_reply": "2024-09-25T14:23:57.795946Z",
     "shell.execute_reply.started": "2024-09-25T14:23:56.392013Z"
    }
   },
   "outputs": [
    {
     "data": {
      "text/plain": [
       "WeatherResponse(temperature=65.0, wind_directon='NW', wind_speed=10.0)"
      ]
     },
     "execution_count": 13,
     "metadata": {},
     "output_type": "execute_result"
    }
   ],
   "source": [
    "model_w_output.invoke(\"what's the weather in SF?\")"
   ]
  },
  {
   "cell_type": "code",
   "execution_count": 14,
   "id": "cae3253a-3b73-4f06-ab08-00261aed0e04",
   "metadata": {
    "execution": {
     "iopub.execute_input": "2024-09-25T14:23:59.152761Z",
     "iopub.status.busy": "2024-09-25T14:23:59.152041Z",
     "iopub.status.idle": "2024-09-25T14:23:59.169710Z",
     "shell.execute_reply": "2024-09-25T14:23:59.167790Z",
     "shell.execute_reply.started": "2024-09-25T14:23:59.152705Z"
    }
   },
   "outputs": [],
   "source": [
    "model_w_tools = model.bind_tools(tools)\n",
    "# update langchain-openai 等\n",
    "model_w_output = model.with_structured_output(WeatherResponse, strict=True)"
   ]
  },
  {
   "cell_type": "code",
   "execution_count": 15,
   "id": "f8c253ef-0a62-4356-a56e-540b2fb1c2f4",
   "metadata": {
    "execution": {
     "iopub.execute_input": "2024-09-25T14:24:02.917133Z",
     "iopub.status.busy": "2024-09-25T14:24:02.916551Z",
     "iopub.status.idle": "2024-09-25T14:24:08.354916Z",
     "shell.execute_reply": "2024-09-25T14:24:08.353024Z",
     "shell.execute_reply.started": "2024-09-25T14:24:02.917083Z"
    }
   },
   "outputs": [
    {
     "data": {
      "text/plain": [
       "WeatherResponse(temperature=70.0, wind_directon='NW', wind_speed=10.0)"
      ]
     },
     "execution_count": 15,
     "metadata": {},
     "output_type": "execute_result"
    }
   ],
   "source": [
    "model_w_output.invoke(\"what's the weather in SF?\")"
   ]
  },
  {
   "cell_type": "code",
   "execution_count": 21,
   "id": "87d97158-7272-433f-a507-3d9c6870977a",
   "metadata": {
    "execution": {
     "iopub.execute_input": "2024-09-25T14:26:51.702661Z",
     "iopub.status.busy": "2024-09-25T14:26:51.702082Z",
     "iopub.status.idle": "2024-09-25T14:26:52.915840Z",
     "shell.execute_reply": "2024-09-25T14:26:52.913765Z",
     "shell.execute_reply.started": "2024-09-25T14:26:51.702612Z"
    }
   },
   "outputs": [
    {
     "data": {
      "text/plain": [
       "WeatherResponse(temperature=65.0, wind_directon='NW', wind_speed=10.0)"
      ]
     },
     "execution_count": 21,
     "metadata": {},
     "output_type": "execute_result"
    }
   ],
   "source": [
    "model_w_output.invoke(('Human', \"what's the weather in SF?\"))"
   ]
  },
  {
   "cell_type": "markdown",
   "id": "e519ca33-c7e2-400f-8ffb-c5e4353050c0",
   "metadata": {},
   "source": [
    "### bind output as tool"
   ]
  },
  {
   "cell_type": "code",
   "execution_count": 2,
   "id": "01d584f0-4727-4633-9104-db2d872577da",
   "metadata": {
    "execution": {
     "iopub.execute_input": "2024-09-29T13:10:17.357900Z",
     "iopub.status.busy": "2024-09-29T13:10:17.357275Z",
     "iopub.status.idle": "2024-09-29T13:10:17.375500Z",
     "shell.execute_reply": "2024-09-29T13:10:17.373718Z",
     "shell.execute_reply.started": "2024-09-29T13:10:17.357841Z"
    }
   },
   "outputs": [
    {
     "data": {
      "text/html": [
       "<img src=\"./imgs/structure_output_option1.png\" width=\"500\"/>"
      ],
      "text/plain": [
       "<IPython.core.display.Image object>"
      ]
     },
     "execution_count": 2,
     "metadata": {},
     "output_type": "execute_result"
    }
   ],
   "source": [
    "Image(url='./imgs/structure_output_option1.png', width=500)"
   ]
  },
  {
   "cell_type": "code",
   "execution_count": 3,
   "id": "0c5fa8fc-445f-428f-810e-4aa81efb4cf3",
   "metadata": {
    "execution": {
     "iopub.execute_input": "2024-09-29T13:10:24.825415Z",
     "iopub.status.busy": "2024-09-29T13:10:24.824792Z",
     "iopub.status.idle": "2024-09-29T13:10:24.837192Z",
     "shell.execute_reply": "2024-09-29T13:10:24.835008Z",
     "shell.execute_reply.started": "2024-09-29T13:10:24.825360Z"
    }
   },
   "outputs": [
    {
     "data": {
      "text/html": [
       "<img src=\"./imgs/structure_output_option2.png\" width=\"500\"/>"
      ],
      "text/plain": [
       "<IPython.core.display.Image object>"
      ]
     },
     "execution_count": 3,
     "metadata": {},
     "output_type": "execute_result"
    }
   ],
   "source": [
    "Image(url='./imgs/structure_output_option2.png', width=500)"
   ]
  },
  {
   "cell_type": "code",
   "execution_count": 13,
   "id": "4cfd02eb-1ffb-4fca-af27-9b31142befbb",
   "metadata": {
    "execution": {
     "iopub.execute_input": "2024-09-25T14:14:32.485801Z",
     "iopub.status.busy": "2024-09-25T14:14:32.485686Z",
     "iopub.status.idle": "2024-09-25T14:14:32.492984Z",
     "shell.execute_reply": "2024-09-25T14:14:32.492384Z",
     "shell.execute_reply.started": "2024-09-25T14:14:32.485790Z"
    }
   },
   "outputs": [],
   "source": [
    "from langgraph.graph import StateGraph, END\n",
    "from langgraph.prebuilt import ToolNode\n",
    "\n",
    "tools = [get_weather, WeatherResponse]"
   ]
  },
  {
   "cell_type": "code",
   "execution_count": 14,
   "id": "9e8612bf-68fd-4e9e-bd20-72141e151aa0",
   "metadata": {
    "execution": {
     "iopub.execute_input": "2024-09-25T14:14:32.493536Z",
     "iopub.status.busy": "2024-09-25T14:14:32.493418Z",
     "iopub.status.idle": "2024-09-25T14:14:32.503210Z",
     "shell.execute_reply": "2024-09-25T14:14:32.502589Z",
     "shell.execute_reply.started": "2024-09-25T14:14:32.493525Z"
    }
   },
   "outputs": [],
   "source": [
    "# Force the model to use tools by passing tool_choice=\"any\"    \n",
    "model_with_response_tool = model.bind_tools(tools, tool_choice=\"any\")"
   ]
  },
  {
   "cell_type": "code",
   "execution_count": 15,
   "id": "55fb6b22-8f4b-4e6a-a158-d245bb8e718f",
   "metadata": {
    "execution": {
     "iopub.execute_input": "2024-09-25T14:14:32.503860Z",
     "iopub.status.busy": "2024-09-25T14:14:32.503731Z",
     "iopub.status.idle": "2024-09-25T14:14:32.512928Z",
     "shell.execute_reply": "2024-09-25T14:14:32.512322Z",
     "shell.execute_reply.started": "2024-09-25T14:14:32.503848Z"
    }
   },
   "outputs": [],
   "source": [
    "# Define the function that calls the model\n",
    "def call_model(state: AgentState):\n",
    "    response = model_with_response_tool.invoke(state['messages'])\n",
    "    # We return a list, because this will get added to the existing list\n",
    "    return {\"messages\": [response]}"
   ]
  },
  {
   "cell_type": "code",
   "execution_count": 16,
   "id": "28c9117a-e768-4fac-a22b-6f23bf5b0478",
   "metadata": {
    "execution": {
     "iopub.execute_input": "2024-09-25T14:14:32.513617Z",
     "iopub.status.busy": "2024-09-25T14:14:32.513477Z",
     "iopub.status.idle": "2024-09-25T14:14:32.524626Z",
     "shell.execute_reply": "2024-09-25T14:14:32.523967Z",
     "shell.execute_reply.started": "2024-09-25T14:14:32.513604Z"
    }
   },
   "outputs": [],
   "source": [
    "# Define the function that responds to the user\n",
    "def respond(state: AgentState):\n",
    "    # Construct the final answer from the arguments of the last tool call\n",
    "    response = WeatherResponse(**state['messages'][-1].tool_calls[0]['args'])\n",
    "    # We return the final answer\n",
    "    return {\"final_response\": response}"
   ]
  },
  {
   "cell_type": "code",
   "execution_count": 17,
   "id": "18aec5a0-6a13-4f58-b201-b4bb8c89b00b",
   "metadata": {
    "execution": {
     "iopub.execute_input": "2024-09-25T14:14:32.525353Z",
     "iopub.status.busy": "2024-09-25T14:14:32.525185Z",
     "iopub.status.idle": "2024-09-25T14:14:32.533304Z",
     "shell.execute_reply": "2024-09-25T14:14:32.532625Z",
     "shell.execute_reply.started": "2024-09-25T14:14:32.525338Z"
    }
   },
   "outputs": [],
   "source": [
    "# Define the function that determines whether to continue or not\n",
    "def should_continue(state: AgentState):\n",
    "    messages = state[\"messages\"]\n",
    "    last_message = messages[-1]\n",
    "    # If there is only one tool call and it is the response tool call we respond to the user\n",
    "    if len(last_message.tool_calls) == 1 and last_message.tool_calls[0]['name'] == \"WeatherResponse\":\n",
    "        return \"respond\"\n",
    "    # Otherwise we will use the tool node again\n",
    "    else:\n",
    "        return \"continue\""
   ]
  },
  {
   "cell_type": "code",
   "execution_count": 18,
   "id": "63cf07df-5427-41e8-93fb-27daed86248b",
   "metadata": {
    "execution": {
     "iopub.execute_input": "2024-09-25T14:14:32.534157Z",
     "iopub.status.busy": "2024-09-25T14:14:32.533970Z",
     "iopub.status.idle": "2024-09-25T14:14:32.545859Z",
     "shell.execute_reply": "2024-09-25T14:14:32.545081Z",
     "shell.execute_reply.started": "2024-09-25T14:14:32.534138Z"
    }
   },
   "outputs": [],
   "source": [
    "# Define a new graph\n",
    "workflow = StateGraph(AgentState)\n",
    "\n",
    "# Define the two nodes we will cycle between\n",
    "workflow.add_node(\"agent\", call_model)\n",
    "workflow.add_node(\"respond\", respond)\n",
    "workflow.add_node(\"tools\", ToolNode(tools))"
   ]
  },
  {
   "cell_type": "code",
   "execution_count": 19,
   "id": "716591e1-93c2-4f6a-a538-89dabf0a1f0a",
   "metadata": {
    "execution": {
     "iopub.execute_input": "2024-09-25T14:14:32.546830Z",
     "iopub.status.busy": "2024-09-25T14:14:32.546618Z",
     "iopub.status.idle": "2024-09-25T14:14:32.555903Z",
     "shell.execute_reply": "2024-09-25T14:14:32.555190Z",
     "shell.execute_reply.started": "2024-09-25T14:14:32.546809Z"
    }
   },
   "outputs": [],
   "source": [
    "# Set the entrypoint as `agent`\n",
    "# This means that this node is the first one called\n",
    "workflow.set_entry_point(\"agent\")\n",
    "\n",
    "# We now add a conditional edge\n",
    "workflow.add_conditional_edges(\n",
    "    \"agent\",\n",
    "    should_continue,\n",
    "    {\n",
    "        \"continue\": \"tools\",\n",
    "        \"respond\": \"respond\",\n",
    "    },\n",
    ")\n",
    "\n",
    "workflow.add_edge(\"tools\", \"agent\")\n",
    "workflow.add_edge(\"respond\", END)\n",
    "graph = workflow.compile()"
   ]
  },
  {
   "cell_type": "code",
   "execution_count": 20,
   "id": "8ed5c23f-ca9a-48e6-9ee2-75d263f264be",
   "metadata": {
    "execution": {
     "iopub.execute_input": "2024-09-25T14:14:32.556804Z",
     "iopub.status.busy": "2024-09-25T14:14:32.556594Z",
     "iopub.status.idle": "2024-09-25T14:14:32.569531Z",
     "shell.execute_reply": "2024-09-25T14:14:32.568807Z",
     "shell.execute_reply.started": "2024-09-25T14:14:32.556784Z"
    }
   },
   "outputs": [
    {
     "data": {
      "text/plain": [
       "[Edge(source='__start__', target='agent', data=None, conditional=False),\n",
       " Edge(source='respond', target='__end__', data=None, conditional=False),\n",
       " Edge(source='tools', target='agent', data=None, conditional=False),\n",
       " Edge(source='agent', target='tools', data='continue', conditional=True),\n",
       " Edge(source='agent', target='respond', data=None, conditional=True)]"
      ]
     },
     "execution_count": 20,
     "metadata": {},
     "output_type": "execute_result"
    }
   ],
   "source": [
    "graph.get_graph().edges"
   ]
  },
  {
   "cell_type": "code",
   "execution_count": 21,
   "id": "54bd4a19-e309-4343-a9ef-f387de632961",
   "metadata": {
    "execution": {
     "iopub.execute_input": "2024-09-25T14:14:32.572598Z",
     "iopub.status.busy": "2024-09-25T14:14:32.572346Z",
     "iopub.status.idle": "2024-09-25T14:14:34.414920Z",
     "shell.execute_reply": "2024-09-25T14:14:34.413888Z",
     "shell.execute_reply.started": "2024-09-25T14:14:32.572574Z"
    }
   },
   "outputs": [
    {
     "data": {
      "image/jpeg": "[encoded data removed]",
      "text/plain": [
       "<IPython.core.display.Image object>"
      ]
     },
     "metadata": {},
     "output_type": "display_data"
    }
   ],
   "source": [
    "from IPython.display import Image, display\n",
    "\n",
    "try:\n",
    "    display(Image(graph.get_graph().draw_mermaid_png()))\n",
    "except Exception:\n",
    "    # This requires some extra dependencies and is optional\n",
    "    pass"
   ]
  },
  {
   "cell_type": "code",
   "execution_count": 22,
   "id": "70912068-e192-4c54-85dd-9422de5f63ae",
   "metadata": {
    "execution": {
     "iopub.execute_input": "2024-09-25T14:14:34.417102Z",
     "iopub.status.busy": "2024-09-25T14:14:34.416484Z",
     "iopub.status.idle": "2024-09-25T14:14:37.390423Z",
     "shell.execute_reply": "2024-09-25T14:14:37.389251Z",
     "shell.execute_reply.started": "2024-09-25T14:14:34.417055Z"
    }
   },
   "outputs": [],
   "source": [
    "results = graph.invoke(input={\"messages\": [(\"human\", \"what's the weather in SF?\")]})"
   ]
  },
  {
   "cell_type": "code",
   "execution_count": 23,
   "id": "ae34b19a-e7a4-4226-9a72-38af46716dd3",
   "metadata": {
    "execution": {
     "iopub.execute_input": "2024-09-25T14:14:37.392787Z",
     "iopub.status.busy": "2024-09-25T14:14:37.392118Z",
     "iopub.status.idle": "2024-09-25T14:14:37.400679Z",
     "shell.execute_reply": "2024-09-25T14:14:37.399654Z",
     "shell.execute_reply.started": "2024-09-25T14:14:37.392737Z"
    }
   },
   "outputs": [
    {
     "data": {
      "text/plain": [
       "[{'name': 'WeatherResponse',\n",
       "  'args': {'temperature': 75, 'wind_directon': 'SE', 'wind_speed': 3},\n",
       "  'id': 'call_UYNGeOzmaqiCH9aL5hNpH9t6',\n",
       "  'type': 'tool_call'}]"
      ]
     },
     "execution_count": 23,
     "metadata": {},
     "output_type": "execute_result"
    }
   ],
   "source": [
    "results['messages'][-1].tool_calls"
   ]
  },
  {
   "cell_type": "code",
   "execution_count": 24,
   "id": "34b08aa4-8b66-46e7-baf0-531a46514dfd",
   "metadata": {
    "execution": {
     "iopub.execute_input": "2024-09-25T14:14:37.402980Z",
     "iopub.status.busy": "2024-09-25T14:14:37.402251Z",
     "iopub.status.idle": "2024-09-25T14:14:37.426246Z",
     "shell.execute_reply": "2024-09-25T14:14:37.425173Z",
     "shell.execute_reply.started": "2024-09-25T14:14:37.402932Z"
    }
   },
   "outputs": [
    {
     "data": {
      "text/plain": [
       "HumanMessage(content=\"what's the weather in SF?\", id='9471da80-7e2e-4501-92fd-572d2cd5bd51')"
      ]
     },
     "execution_count": 24,
     "metadata": {},
     "output_type": "execute_result"
    }
   ],
   "source": [
    "results['messages'][0]"
   ]
  },
  {
   "cell_type": "code",
   "execution_count": 25,
   "id": "1dc0b200-7f33-46ca-9eae-f5814289a879",
   "metadata": {
    "execution": {
     "iopub.execute_input": "2024-09-25T14:14:37.428448Z",
     "iopub.status.busy": "2024-09-25T14:14:37.427808Z",
     "iopub.status.idle": "2024-09-25T14:14:37.436766Z",
     "shell.execute_reply": "2024-09-25T14:14:37.435746Z",
     "shell.execute_reply.started": "2024-09-25T14:14:37.428401Z"
    },
    "scrolled": true
   },
   "outputs": [
    {
     "data": {
      "text/plain": [
       "AIMessage(content='', additional_kwargs={'tool_calls': [{'id': 'call_7XFIRlmNdITonrRYQaEbTU4A', 'function': {'arguments': '{\"city\":\"sf\"}', 'name': 'get_weather'}, 'type': 'function'}]}, response_metadata={'token_usage': {'completion_tokens': 12, 'prompt_tokens': 122, 'total_tokens': 134, 'completion_tokens_details': {'reasoning_tokens': 0}}, 'model_name': 'gpt-3.5-turbo-0125', 'system_fingerprint': None, 'finish_reason': 'stop', 'logprobs': None}, id='run-afee47df-ee13-4811-a285-83468f38b2ce-0', tool_calls=[{'name': 'get_weather', 'args': {'city': 'sf'}, 'id': 'call_7XFIRlmNdITonrRYQaEbTU4A', 'type': 'tool_call'}], usage_metadata={'input_tokens': 122, 'output_tokens': 12, 'total_tokens': 134})"
      ]
     },
     "execution_count": 25,
     "metadata": {},
     "output_type": "execute_result"
    }
   ],
   "source": [
    "results['messages'][1]"
   ]
  },
  {
   "cell_type": "code",
   "execution_count": 26,
   "id": "60e7c88a-99af-4664-99fa-ea31d3286139",
   "metadata": {
    "execution": {
     "iopub.execute_input": "2024-09-25T14:14:37.439316Z",
     "iopub.status.busy": "2024-09-25T14:14:37.438829Z",
     "iopub.status.idle": "2024-09-25T14:14:37.456025Z",
     "shell.execute_reply": "2024-09-25T14:14:37.454501Z",
     "shell.execute_reply.started": "2024-09-25T14:14:37.439271Z"
    }
   },
   "outputs": [
    {
     "data": {
      "text/plain": [
       "[{'id': 'call_7XFIRlmNdITonrRYQaEbTU4A',\n",
       "  'function': {'arguments': '{\"city\":\"sf\"}', 'name': 'get_weather'},\n",
       "  'type': 'function'}]"
      ]
     },
     "execution_count": 26,
     "metadata": {},
     "output_type": "execute_result"
    }
   ],
   "source": [
    "results['messages'][1].additional_kwargs['tool_calls']"
   ]
  },
  {
   "cell_type": "code",
   "execution_count": 27,
   "id": "a0be8e51-bb57-477d-aa81-fe13557c9618",
   "metadata": {
    "execution": {
     "iopub.execute_input": "2024-09-25T14:14:37.460190Z",
     "iopub.status.busy": "2024-09-25T14:14:37.459694Z",
     "iopub.status.idle": "2024-09-25T14:14:37.471487Z",
     "shell.execute_reply": "2024-09-25T14:14:37.470439Z",
     "shell.execute_reply.started": "2024-09-25T14:14:37.460142Z"
    }
   },
   "outputs": [
    {
     "data": {
      "text/plain": [
       "ToolMessage(content='It is 75 degrees and sunny in SF, with 3 mph winds in the South-East direction', name='get_weather', id='c3154fa3-a968-480a-b9e7-ee269def7eb8', tool_call_id='call_7XFIRlmNdITonrRYQaEbTU4A')"
      ]
     },
     "execution_count": 27,
     "metadata": {},
     "output_type": "execute_result"
    }
   ],
   "source": [
    "results['messages'][2]"
   ]
  },
  {
   "cell_type": "code",
   "execution_count": 28,
   "id": "f1022729-b036-4de6-8a94-4cac9c37eb3d",
   "metadata": {
    "execution": {
     "iopub.execute_input": "2024-09-25T14:14:37.473823Z",
     "iopub.status.busy": "2024-09-25T14:14:37.473065Z",
     "iopub.status.idle": "2024-09-25T14:14:37.481513Z",
     "shell.execute_reply": "2024-09-25T14:14:37.480500Z",
     "shell.execute_reply.started": "2024-09-25T14:14:37.473774Z"
    }
   },
   "outputs": [
    {
     "data": {
      "text/plain": [
       "AIMessage(content='', additional_kwargs={'tool_calls': [{'id': 'call_UYNGeOzmaqiCH9aL5hNpH9t6', 'function': {'arguments': '{\"temperature\":75,\"wind_directon\":\"SE\",\"wind_speed\":3}', 'name': 'WeatherResponse'}, 'type': 'function'}]}, response_metadata={'token_usage': {'completion_tokens': 24, 'prompt_tokens': 164, 'total_tokens': 188, 'completion_tokens_details': {'reasoning_tokens': 0}}, 'model_name': 'gpt-3.5-turbo-0125', 'system_fingerprint': None, 'finish_reason': 'stop', 'logprobs': None}, id='run-7897888a-b6a1-4433-afa6-a6ba6ba88344-0', tool_calls=[{'name': 'WeatherResponse', 'args': {'temperature': 75, 'wind_directon': 'SE', 'wind_speed': 3}, 'id': 'call_UYNGeOzmaqiCH9aL5hNpH9t6', 'type': 'tool_call'}], usage_metadata={'input_tokens': 164, 'output_tokens': 24, 'total_tokens': 188})"
      ]
     },
     "execution_count": 28,
     "metadata": {},
     "output_type": "execute_result"
    }
   ],
   "source": [
    "results['messages'][3]"
   ]
  },
  {
   "cell_type": "markdown",
   "id": "10a921cd-7356-4d14-9197-478836143f32",
   "metadata": {},
   "source": [
    "### `strict=True`"
   ]
  },
  {
   "cell_type": "markdown",
   "id": "ab3258b8-80e8-4cb9-b2ba-9c8028c5e3e0",
   "metadata": {},
   "source": [
    "- openai official：https://openai.com/index/introducing-structured-outputs-in-the-api/\n",
    "    - August 6, 2024\n",
    "    - gpt-4o-2024-08-06\n",
    "- langchain 兼容\n",
    "    - https://api.python.langchain.com/en/latest/chat_models/langchain_openai.chat_models.base.ChatOpenAI.html\n",
    "    - `llm.bind_tools([GetWeather, GetPopulation], strict = True)`\n",
    "        -  enforce tool args schema is respected\n",
    "    -  `llm.with_structured_output`"
   ]
  },
  {
   "cell_type": "code",
   "execution_count": 22,
   "id": "0a8f275c-d773-4354-8833-be7c954f0178",
   "metadata": {
    "execution": {
     "iopub.execute_input": "2024-09-25T14:35:48.138996Z",
     "iopub.status.busy": "2024-09-25T14:35:48.138391Z",
     "iopub.status.idle": "2024-09-25T14:35:48.147148Z",
     "shell.execute_reply": "2024-09-25T14:35:48.145270Z",
     "shell.execute_reply.started": "2024-09-25T14:35:48.138945Z"
    }
   },
   "outputs": [],
   "source": [
    "from enum import Enum\n",
    "from typing import Union\n",
    "\n",
    "from pydantic import BaseModel\n",
    "\n",
    "import openai\n",
    "from openai import OpenAI"
   ]
  },
  {
   "cell_type": "code",
   "execution_count": 24,
   "id": "6654b1e3-6c24-43d0-908b-6ef614f4aae4",
   "metadata": {
    "execution": {
     "iopub.execute_input": "2024-09-25T14:36:34.783745Z",
     "iopub.status.busy": "2024-09-25T14:36:34.783065Z",
     "iopub.status.idle": "2024-09-25T14:36:34.830146Z",
     "shell.execute_reply": "2024-09-25T14:36:34.828507Z",
     "shell.execute_reply.started": "2024-09-25T14:36:34.783682Z"
    }
   },
   "outputs": [],
   "source": [
    "class Table(str, Enum):\n",
    "    orders = \"orders\"\n",
    "    customers = \"customers\"\n",
    "    products = \"products\"\n",
    "\n",
    "class Column(str, Enum):\n",
    "    id = \"id\"\n",
    "    status = \"status\"\n",
    "    expected_delivery_date = \"expected_delivery_date\"\n",
    "    delivered_at = \"delivered_at\"\n",
    "    shipped_at = \"shipped_at\"\n",
    "    ordered_at = \"ordered_at\"\n",
    "    canceled_at = \"canceled_at\"\n",
    "\n",
    "class Operator(str, Enum):\n",
    "    eq = \"=\"\n",
    "    gt = \">\"\n",
    "    lt = \"<\"\n",
    "    le = \"<=\"\n",
    "    ge = \">=\"\n",
    "    ne = \"!=\"\n",
    "\n",
    "class OrderBy(str, Enum):\n",
    "    asc = \"asc\"\n",
    "    desc = \"desc\"\n",
    "\n",
    "class DynamicValue(BaseModel):\n",
    "    column_name: str\n",
    "\n",
    "class Condition(BaseModel):\n",
    "    column: str\n",
    "    operator: Operator\n",
    "    value: Union[str, int, DynamicValue]\n",
    "\n",
    "class Query(BaseModel):\n",
    "    table_name: Table\n",
    "    columns: list[Column]\n",
    "    conditions: list[Condition]\n",
    "    order_by: OrderBy"
   ]
  },
  {
   "cell_type": "code",
   "execution_count": 25,
   "id": "7370999b-eff6-47c8-b603-241a3ed5d6b8",
   "metadata": {
    "execution": {
     "iopub.execute_input": "2024-09-25T14:37:08.002015Z",
     "iopub.status.busy": "2024-09-25T14:37:08.001393Z",
     "iopub.status.idle": "2024-09-25T14:37:10.505818Z",
     "shell.execute_reply": "2024-09-25T14:37:10.503985Z",
     "shell.execute_reply.started": "2024-09-25T14:37:08.001964Z"
    }
   },
   "outputs": [],
   "source": [
    "client = OpenAI()\n",
    "\n",
    "completion = client.beta.chat.completions.parse(\n",
    "    model=\"gpt-4o-2024-08-06\",\n",
    "    messages=[\n",
    "        {\n",
    "            \"role\": \"system\",\n",
    "            \"content\": \"You are a helpful assistant. The current date is August 6, 2024. You help users query for the data they are looking for by calling the query function.\",\n",
    "        },\n",
    "        {\n",
    "            \"role\": \"user\",\n",
    "            \"content\": \"look up all my orders in may of last year that were fulfilled but not delivered on time\",\n",
    "        },\n",
    "    ],\n",
    "    tools=[\n",
    "        # model as a tool\n",
    "        openai.pydantic_function_tool(Query),\n",
    "    ],\n",
    ")"
   ]
  },
  {
   "cell_type": "code",
   "execution_count": 27,
   "id": "e63dec58-68ee-48a6-b169-5f85f20e52d6",
   "metadata": {
    "execution": {
     "iopub.execute_input": "2024-09-25T14:38:04.068938Z",
     "iopub.status.busy": "2024-09-25T14:38:04.068352Z",
     "iopub.status.idle": "2024-09-25T14:38:04.076511Z",
     "shell.execute_reply": "2024-09-25T14:38:04.074856Z",
     "shell.execute_reply.started": "2024-09-25T14:38:04.068887Z"
    }
   },
   "outputs": [],
   "source": [
    "from rich.pretty import pprint"
   ]
  },
  {
   "cell_type": "code",
   "execution_count": 28,
   "id": "7763630f-7916-4e7a-a8cd-1f89a07d9b20",
   "metadata": {
    "execution": {
     "iopub.execute_input": "2024-09-25T14:38:10.531741Z",
     "iopub.status.busy": "2024-09-25T14:38:10.531130Z",
     "iopub.status.idle": "2024-09-25T14:38:10.583712Z",
     "shell.execute_reply": "2024-09-25T14:38:10.581824Z",
     "shell.execute_reply.started": "2024-09-25T14:38:10.531689Z"
    }
   },
   "outputs": [
    {
     "data": {
      "text/html": [
       "<pre style=\"white-space:pre;overflow-x:auto;line-height:normal;font-family:Menlo,'DejaVu Sans Mono',consolas,'Courier New',monospace\">ParsedChatCompletion<span style=\"font-weight: bold\">[</span>NoneType<span style=\"font-weight: bold\">](</span>\n",
       "<span style=\"color: #7fbf7f; text-decoration-color: #7fbf7f\">│   </span><span style=\"color: #808000; text-decoration-color: #808000\">id</span>=<span style=\"color: #008000; text-decoration-color: #008000\">'chatcmpl-ABNQammDTsYCpQb7isHqe9JucjIlW'</span>,\n",
       "<span style=\"color: #7fbf7f; text-decoration-color: #7fbf7f\">│   </span><span style=\"color: #808000; text-decoration-color: #808000\">choices</span>=<span style=\"font-weight: bold\">[</span>\n",
       "<span style=\"color: #7fbf7f; text-decoration-color: #7fbf7f\">│   │   </span>ParsedChoice<span style=\"font-weight: bold\">[</span>NoneType<span style=\"font-weight: bold\">](</span>\n",
       "<span style=\"color: #7fbf7f; text-decoration-color: #7fbf7f\">│   │   │   </span><span style=\"color: #808000; text-decoration-color: #808000\">finish_reason</span>=<span style=\"color: #008000; text-decoration-color: #008000\">'tool_calls'</span>,\n",
       "<span style=\"color: #7fbf7f; text-decoration-color: #7fbf7f\">│   │   │   </span><span style=\"color: #808000; text-decoration-color: #808000\">index</span>=<span style=\"color: #008080; text-decoration-color: #008080; font-weight: bold\">0</span>,\n",
       "<span style=\"color: #7fbf7f; text-decoration-color: #7fbf7f\">│   │   │   </span><span style=\"color: #808000; text-decoration-color: #808000\">logprobs</span>=<span style=\"color: #800080; text-decoration-color: #800080; font-style: italic\">None</span>,\n",
       "<span style=\"color: #7fbf7f; text-decoration-color: #7fbf7f\">│   │   │   </span><span style=\"color: #808000; text-decoration-color: #808000\">message</span>=<span style=\"color: #800080; text-decoration-color: #800080\">ParsedChatCompletionMessage</span><span style=\"font-weight: bold\">[</span>NoneType<span style=\"font-weight: bold\">](</span>\n",
       "<span style=\"color: #7fbf7f; text-decoration-color: #7fbf7f\">│   │   │   │   </span><span style=\"color: #808000; text-decoration-color: #808000\">content</span>=<span style=\"color: #800080; text-decoration-color: #800080; font-style: italic\">None</span>,\n",
       "<span style=\"color: #7fbf7f; text-decoration-color: #7fbf7f\">│   │   │   │   </span><span style=\"color: #808000; text-decoration-color: #808000\">refusal</span>=<span style=\"color: #800080; text-decoration-color: #800080; font-style: italic\">None</span>,\n",
       "<span style=\"color: #7fbf7f; text-decoration-color: #7fbf7f\">│   │   │   │   </span><span style=\"color: #808000; text-decoration-color: #808000\">role</span>=<span style=\"color: #008000; text-decoration-color: #008000\">'assistant'</span>,\n",
       "<span style=\"color: #7fbf7f; text-decoration-color: #7fbf7f\">│   │   │   │   </span><span style=\"color: #808000; text-decoration-color: #808000\">function_call</span>=<span style=\"color: #800080; text-decoration-color: #800080; font-style: italic\">None</span>,\n",
       "<span style=\"color: #7fbf7f; text-decoration-color: #7fbf7f\">│   │   │   │   </span><span style=\"color: #808000; text-decoration-color: #808000\">tool_calls</span>=<span style=\"font-weight: bold\">[</span>\n",
       "<span style=\"color: #7fbf7f; text-decoration-color: #7fbf7f\">│   │   │   │   │   </span><span style=\"color: #800080; text-decoration-color: #800080; font-weight: bold\">ParsedFunctionToolCall</span><span style=\"font-weight: bold\">(</span>\n",
       "<span style=\"color: #7fbf7f; text-decoration-color: #7fbf7f\">│   │   │   │   │   │   </span><span style=\"color: #808000; text-decoration-color: #808000\">id</span>=<span style=\"color: #008000; text-decoration-color: #008000\">'call_wpjw5jKecUVXyVQbkyTXZSnU'</span>,\n",
       "<span style=\"color: #7fbf7f; text-decoration-color: #7fbf7f\">│   │   │   │   │   │   </span><span style=\"color: #808000; text-decoration-color: #808000\">function</span>=<span style=\"color: #800080; text-decoration-color: #800080; font-weight: bold\">ParsedFunction</span><span style=\"font-weight: bold\">(</span>\n",
       "<span style=\"color: #7fbf7f; text-decoration-color: #7fbf7f\">│   │   │   │   │   │   │   </span><span style=\"color: #808000; text-decoration-color: #808000\">arguments</span>=<span style=\"color: #008000; text-decoration-color: #008000\">'{\"table_name\":\"orders\",\"columns\":[\"id\"],\"conditions\":[{\"column\":\"status\",\"operator\":\"=\",\"value\":\"fulfilled\"},{\"column\":\"ordered_at\",\"operator\":\"&gt;=\",\"value\":\"2023-05-01\"},{\"column\":\"ordered_at\",\"operator\":\"&lt;=\",\"value\":\"2023-05-31\"},{\"column\":\"expected_delivery_date\",\"operator\":\"&lt;\",\"value\":{\"column_name\":\"delivered_at\"}}],\"order_by\":\"asc\"}'</span><span style=\"color: #000000; text-decoration-color: #000000\">,</span>\n",
       "<span style=\"color: #7fbf7f; text-decoration-color: #7fbf7f\">│   │   │   │   │   │   │   </span><span style=\"color: #808000; text-decoration-color: #808000\">name</span><span style=\"color: #000000; text-decoration-color: #000000\">=</span><span style=\"color: #008000; text-decoration-color: #008000\">'Query'</span><span style=\"color: #000000; text-decoration-color: #000000\">,</span>\n",
       "<span style=\"color: #7fbf7f; text-decoration-color: #7fbf7f\">│   │   │   │   │   │   │   </span><span style=\"color: #808000; text-decoration-color: #808000\">parsed_arguments</span><span style=\"color: #000000; text-decoration-color: #000000\">=</span><span style=\"color: #800080; text-decoration-color: #800080; font-weight: bold\">Query</span><span style=\"color: #000000; text-decoration-color: #000000; font-weight: bold\">(</span>\n",
       "<span style=\"color: #7fbf7f; text-decoration-color: #7fbf7f\">│   │   │   │   │   │   │   │   </span><span style=\"color: #808000; text-decoration-color: #808000\">table_name</span><span style=\"color: #000000; text-decoration-color: #000000\">=&lt;Table.orders: </span><span style=\"color: #008000; text-decoration-color: #008000\">'orders'</span><span style=\"color: #000000; text-decoration-color: #000000\">&gt;,</span>\n",
       "<span style=\"color: #7fbf7f; text-decoration-color: #7fbf7f\">│   │   │   │   │   │   │   │   </span><span style=\"color: #808000; text-decoration-color: #808000\">columns</span><span style=\"color: #000000; text-decoration-color: #000000\">=</span><span style=\"color: #000000; text-decoration-color: #000000; font-weight: bold\">[</span><span style=\"color: #000000; text-decoration-color: #000000\">&lt;Column.id: </span><span style=\"color: #008000; text-decoration-color: #008000\">'id'</span><span style=\"color: #000000; text-decoration-color: #000000\">&gt;</span><span style=\"color: #000000; text-decoration-color: #000000; font-weight: bold\">]</span><span style=\"color: #000000; text-decoration-color: #000000\">,</span>\n",
       "<span style=\"color: #7fbf7f; text-decoration-color: #7fbf7f\">│   │   │   │   │   │   │   │   </span><span style=\"color: #808000; text-decoration-color: #808000\">conditions</span><span style=\"color: #000000; text-decoration-color: #000000\">=</span><span style=\"color: #000000; text-decoration-color: #000000; font-weight: bold\">[</span>\n",
       "<span style=\"color: #7fbf7f; text-decoration-color: #7fbf7f\">│   │   │   │   │   │   │   │   │   </span><span style=\"color: #800080; text-decoration-color: #800080; font-weight: bold\">Condition</span><span style=\"color: #000000; text-decoration-color: #000000; font-weight: bold\">(</span><span style=\"color: #808000; text-decoration-color: #808000\">column</span><span style=\"color: #000000; text-decoration-color: #000000\">=</span><span style=\"color: #008000; text-decoration-color: #008000\">'status'</span><span style=\"color: #000000; text-decoration-color: #000000\">, </span><span style=\"color: #808000; text-decoration-color: #808000\">operator</span><span style=\"color: #000000; text-decoration-color: #000000\">=&lt;Operator.eq: </span><span style=\"color: #008000; text-decoration-color: #008000\">'='</span><span style=\"color: #000000; text-decoration-color: #000000\">&gt;, </span><span style=\"color: #808000; text-decoration-color: #808000\">value</span><span style=\"color: #000000; text-decoration-color: #000000\">=</span><span style=\"color: #008000; text-decoration-color: #008000\">'fulfilled'</span><span style=\"color: #000000; text-decoration-color: #000000; font-weight: bold\">)</span><span style=\"color: #000000; text-decoration-color: #000000\">,</span>\n",
       "<span style=\"color: #7fbf7f; text-decoration-color: #7fbf7f\">│   │   │   │   │   │   │   │   │   </span><span style=\"color: #800080; text-decoration-color: #800080; font-weight: bold\">Condition</span><span style=\"color: #000000; text-decoration-color: #000000; font-weight: bold\">(</span>\n",
       "<span style=\"color: #7fbf7f; text-decoration-color: #7fbf7f\">│   │   │   │   │   │   │   │   │   │   </span><span style=\"color: #808000; text-decoration-color: #808000\">column</span><span style=\"color: #000000; text-decoration-color: #000000\">=</span><span style=\"color: #008000; text-decoration-color: #008000\">'ordered_at'</span><span style=\"color: #000000; text-decoration-color: #000000\">,</span>\n",
       "<span style=\"color: #7fbf7f; text-decoration-color: #7fbf7f\">│   │   │   │   │   │   │   │   │   │   </span><span style=\"color: #808000; text-decoration-color: #808000\">operator</span><span style=\"color: #000000; text-decoration-color: #000000\">=&lt;Operator.ge: </span><span style=\"color: #008000; text-decoration-color: #008000\">'&gt;='</span><span style=\"color: #000000; text-decoration-color: #000000\">&gt;,</span>\n",
       "<span style=\"color: #7fbf7f; text-decoration-color: #7fbf7f\">│   │   │   │   │   │   │   │   │   │   </span><span style=\"color: #808000; text-decoration-color: #808000\">value</span><span style=\"color: #000000; text-decoration-color: #000000\">=</span><span style=\"color: #008000; text-decoration-color: #008000\">'2023-05-01'</span>\n",
       "<span style=\"color: #7fbf7f; text-decoration-color: #7fbf7f\">│   │   │   │   │   │   │   │   │   </span><span style=\"color: #000000; text-decoration-color: #000000; font-weight: bold\">)</span><span style=\"color: #000000; text-decoration-color: #000000\">,</span>\n",
       "<span style=\"color: #7fbf7f; text-decoration-color: #7fbf7f\">│   │   │   │   │   │   │   │   │   </span><span style=\"color: #800080; text-decoration-color: #800080; font-weight: bold\">Condition</span><span style=\"color: #000000; text-decoration-color: #000000; font-weight: bold\">(</span>\n",
       "<span style=\"color: #7fbf7f; text-decoration-color: #7fbf7f\">│   │   │   │   │   │   │   │   │   │   </span><span style=\"color: #808000; text-decoration-color: #808000\">column</span><span style=\"color: #000000; text-decoration-color: #000000\">=</span><span style=\"color: #008000; text-decoration-color: #008000\">'ordered_at'</span><span style=\"color: #000000; text-decoration-color: #000000\">,</span>\n",
       "<span style=\"color: #7fbf7f; text-decoration-color: #7fbf7f\">│   │   │   │   │   │   │   │   │   │   </span><span style=\"color: #808000; text-decoration-color: #808000\">operator</span><span style=\"color: #000000; text-decoration-color: #000000\">=&lt;Operator.le: </span><span style=\"color: #008000; text-decoration-color: #008000\">'&lt;='</span><span style=\"color: #000000; text-decoration-color: #000000\">&gt;,</span>\n",
       "<span style=\"color: #7fbf7f; text-decoration-color: #7fbf7f\">│   │   │   │   │   │   │   │   │   │   </span><span style=\"color: #808000; text-decoration-color: #808000\">value</span><span style=\"color: #000000; text-decoration-color: #000000\">=</span><span style=\"color: #008000; text-decoration-color: #008000\">'2023-05-31'</span>\n",
       "<span style=\"color: #7fbf7f; text-decoration-color: #7fbf7f\">│   │   │   │   │   │   │   │   │   </span><span style=\"color: #000000; text-decoration-color: #000000; font-weight: bold\">)</span><span style=\"color: #000000; text-decoration-color: #000000\">,</span>\n",
       "<span style=\"color: #7fbf7f; text-decoration-color: #7fbf7f\">│   │   │   │   │   │   │   │   │   </span><span style=\"color: #800080; text-decoration-color: #800080; font-weight: bold\">Condition</span><span style=\"color: #000000; text-decoration-color: #000000; font-weight: bold\">(</span>\n",
       "<span style=\"color: #7fbf7f; text-decoration-color: #7fbf7f\">│   │   │   │   │   │   │   │   │   │   </span><span style=\"color: #808000; text-decoration-color: #808000\">column</span><span style=\"color: #000000; text-decoration-color: #000000\">=</span><span style=\"color: #008000; text-decoration-color: #008000\">'expected_delivery_date'</span><span style=\"color: #000000; text-decoration-color: #000000\">,</span>\n",
       "<span style=\"color: #7fbf7f; text-decoration-color: #7fbf7f\">│   │   │   │   │   │   │   │   │   │   </span><span style=\"color: #808000; text-decoration-color: #808000\">operator</span><span style=\"color: #000000; text-decoration-color: #000000\">=&lt;Operator.lt: </span><span style=\"color: #008000; text-decoration-color: #008000\">'&lt;'</span><span style=\"color: #000000; text-decoration-color: #000000\">&gt;,</span>\n",
       "<span style=\"color: #7fbf7f; text-decoration-color: #7fbf7f\">│   │   │   │   │   │   │   │   │   │   </span><span style=\"color: #808000; text-decoration-color: #808000\">value</span><span style=\"color: #000000; text-decoration-color: #000000\">=</span><span style=\"color: #800080; text-decoration-color: #800080; font-weight: bold\">DynamicValue</span><span style=\"color: #000000; text-decoration-color: #000000; font-weight: bold\">(</span><span style=\"color: #808000; text-decoration-color: #808000\">column_name</span><span style=\"color: #000000; text-decoration-color: #000000\">=</span><span style=\"color: #008000; text-decoration-color: #008000\">'delivered_at'</span><span style=\"color: #000000; text-decoration-color: #000000; font-weight: bold\">)</span>\n",
       "<span style=\"color: #7fbf7f; text-decoration-color: #7fbf7f\">│   │   │   │   │   │   │   │   │   </span><span style=\"color: #000000; text-decoration-color: #000000; font-weight: bold\">)</span>\n",
       "<span style=\"color: #7fbf7f; text-decoration-color: #7fbf7f\">│   │   │   │   │   │   │   │   </span><span style=\"color: #000000; text-decoration-color: #000000; font-weight: bold\">]</span><span style=\"color: #000000; text-decoration-color: #000000\">,</span>\n",
       "<span style=\"color: #7fbf7f; text-decoration-color: #7fbf7f\">│   │   │   │   │   │   │   │   </span><span style=\"color: #808000; text-decoration-color: #808000\">order_by</span><span style=\"color: #000000; text-decoration-color: #000000\">=&lt;OrderBy.asc: </span><span style=\"color: #008000; text-decoration-color: #008000\">'asc'</span><span style=\"font-weight: bold\">&gt;</span>\n",
       "<span style=\"color: #7fbf7f; text-decoration-color: #7fbf7f\">│   │   │   │   │   │   │   </span><span style=\"font-weight: bold\">)</span>\n",
       "<span style=\"color: #7fbf7f; text-decoration-color: #7fbf7f\">│   │   │   │   │   │   </span><span style=\"font-weight: bold\">)</span>,\n",
       "<span style=\"color: #7fbf7f; text-decoration-color: #7fbf7f\">│   │   │   │   │   │   </span><span style=\"color: #808000; text-decoration-color: #808000\">type</span>=<span style=\"color: #008000; text-decoration-color: #008000\">'function'</span>\n",
       "<span style=\"color: #7fbf7f; text-decoration-color: #7fbf7f\">│   │   │   │   │   </span><span style=\"font-weight: bold\">)</span>\n",
       "<span style=\"color: #7fbf7f; text-decoration-color: #7fbf7f\">│   │   │   │   </span><span style=\"font-weight: bold\">]</span>,\n",
       "<span style=\"color: #7fbf7f; text-decoration-color: #7fbf7f\">│   │   │   │   </span><span style=\"color: #808000; text-decoration-color: #808000\">parsed</span>=<span style=\"color: #800080; text-decoration-color: #800080; font-style: italic\">None</span>\n",
       "<span style=\"color: #7fbf7f; text-decoration-color: #7fbf7f\">│   │   │   </span><span style=\"font-weight: bold\">)</span>\n",
       "<span style=\"color: #7fbf7f; text-decoration-color: #7fbf7f\">│   │   </span><span style=\"font-weight: bold\">)</span>\n",
       "<span style=\"color: #7fbf7f; text-decoration-color: #7fbf7f\">│   </span><span style=\"font-weight: bold\">]</span>,\n",
       "<span style=\"color: #7fbf7f; text-decoration-color: #7fbf7f\">│   </span><span style=\"color: #808000; text-decoration-color: #808000\">created</span>=<span style=\"color: #008080; text-decoration-color: #008080; font-weight: bold\">1727275028</span>,\n",
       "<span style=\"color: #7fbf7f; text-decoration-color: #7fbf7f\">│   </span><span style=\"color: #808000; text-decoration-color: #808000\">model</span>=<span style=\"color: #008000; text-decoration-color: #008000\">'gpt-4o-2024-08-06'</span>,\n",
       "<span style=\"color: #7fbf7f; text-decoration-color: #7fbf7f\">│   </span><span style=\"color: #808000; text-decoration-color: #808000\">object</span>=<span style=\"color: #008000; text-decoration-color: #008000\">'chat.completion'</span>,\n",
       "<span style=\"color: #7fbf7f; text-decoration-color: #7fbf7f\">│   </span><span style=\"color: #808000; text-decoration-color: #808000\">service_tier</span>=<span style=\"color: #800080; text-decoration-color: #800080; font-style: italic\">None</span>,\n",
       "<span style=\"color: #7fbf7f; text-decoration-color: #7fbf7f\">│   </span><span style=\"color: #808000; text-decoration-color: #808000\">system_fingerprint</span>=<span style=\"color: #008000; text-decoration-color: #008000\">'fp_5050236cbd'</span>,\n",
       "<span style=\"color: #7fbf7f; text-decoration-color: #7fbf7f\">│   </span><span style=\"color: #808000; text-decoration-color: #808000\">usage</span>=<span style=\"color: #800080; text-decoration-color: #800080; font-weight: bold\">CompletionUsage</span><span style=\"font-weight: bold\">(</span>\n",
       "<span style=\"color: #7fbf7f; text-decoration-color: #7fbf7f\">│   │   </span><span style=\"color: #808000; text-decoration-color: #808000\">completion_tokens</span>=<span style=\"color: #008080; text-decoration-color: #008080; font-weight: bold\">97</span>,\n",
       "<span style=\"color: #7fbf7f; text-decoration-color: #7fbf7f\">│   │   </span><span style=\"color: #808000; text-decoration-color: #808000\">prompt_tokens</span>=<span style=\"color: #008080; text-decoration-color: #008080; font-weight: bold\">230</span>,\n",
       "<span style=\"color: #7fbf7f; text-decoration-color: #7fbf7f\">│   │   </span><span style=\"color: #808000; text-decoration-color: #808000\">total_tokens</span>=<span style=\"color: #008080; text-decoration-color: #008080; font-weight: bold\">327</span>,\n",
       "<span style=\"color: #7fbf7f; text-decoration-color: #7fbf7f\">│   │   </span><span style=\"color: #808000; text-decoration-color: #808000\">completion_tokens_details</span>=<span style=\"font-weight: bold\">{</span><span style=\"color: #008000; text-decoration-color: #008000\">'reasoning_tokens'</span>: <span style=\"color: #008080; text-decoration-color: #008080; font-weight: bold\">0</span><span style=\"font-weight: bold\">}</span>\n",
       "<span style=\"color: #7fbf7f; text-decoration-color: #7fbf7f\">│   </span><span style=\"font-weight: bold\">)</span>\n",
       "<span style=\"font-weight: bold\">)</span>\n",
       "</pre>\n"
      ],
      "text/plain": [
       "ParsedChatCompletion\u001b[1m[\u001b[0mNoneType\u001b[1m]\u001b[0m\u001b[1m(\u001b[0m\n",
       "\u001b[2;32m│   \u001b[0m\u001b[33mid\u001b[0m=\u001b[32m'chatcmpl-ABNQammDTsYCpQb7isHqe9JucjIlW'\u001b[0m,\n",
       "\u001b[2;32m│   \u001b[0m\u001b[33mchoices\u001b[0m=\u001b[1m[\u001b[0m\n",
       "\u001b[2;32m│   │   \u001b[0mParsedChoice\u001b[1m[\u001b[0mNoneType\u001b[1m]\u001b[0m\u001b[1m(\u001b[0m\n",
       "\u001b[2;32m│   │   │   \u001b[0m\u001b[33mfinish_reason\u001b[0m=\u001b[32m'tool_calls'\u001b[0m,\n",
       "\u001b[2;32m│   │   │   \u001b[0m\u001b[33mindex\u001b[0m=\u001b[1;36m0\u001b[0m,\n",
       "\u001b[2;32m│   │   │   \u001b[0m\u001b[33mlogprobs\u001b[0m=\u001b[3;35mNone\u001b[0m,\n",
       "\u001b[2;32m│   │   │   \u001b[0m\u001b[33mmessage\u001b[0m=\u001b[35mParsedChatCompletionMessage\u001b[0m\u001b[1m[\u001b[0mNoneType\u001b[1m]\u001b[0m\u001b[1m(\u001b[0m\n",
       "\u001b[2;32m│   │   │   │   \u001b[0m\u001b[33mcontent\u001b[0m=\u001b[3;35mNone\u001b[0m,\n",
       "\u001b[2;32m│   │   │   │   \u001b[0m\u001b[33mrefusal\u001b[0m=\u001b[3;35mNone\u001b[0m,\n",
       "\u001b[2;32m│   │   │   │   \u001b[0m\u001b[33mrole\u001b[0m=\u001b[32m'assistant'\u001b[0m,\n",
       "\u001b[2;32m│   │   │   │   \u001b[0m\u001b[33mfunction_call\u001b[0m=\u001b[3;35mNone\u001b[0m,\n",
       "\u001b[2;32m│   │   │   │   \u001b[0m\u001b[33mtool_calls\u001b[0m=\u001b[1m[\u001b[0m\n",
       "\u001b[2;32m│   │   │   │   │   \u001b[0m\u001b[1;35mParsedFunctionToolCall\u001b[0m\u001b[1m(\u001b[0m\n",
       "\u001b[2;32m│   │   │   │   │   │   \u001b[0m\u001b[33mid\u001b[0m=\u001b[32m'call_wpjw5jKecUVXyVQbkyTXZSnU'\u001b[0m,\n",
       "\u001b[2;32m│   │   │   │   │   │   \u001b[0m\u001b[33mfunction\u001b[0m=\u001b[1;35mParsedFunction\u001b[0m\u001b[1m(\u001b[0m\n",
       "\u001b[2;32m│   │   │   │   │   │   │   \u001b[0m\u001b[33marguments\u001b[0m=\u001b[32m'\u001b[0m\u001b[32m{\u001b[0m\u001b[32m\"table_name\":\"orders\",\"columns\":\u001b[0m\u001b[32m[\u001b[0m\u001b[32m\"id\"\u001b[0m\u001b[32m]\u001b[0m\u001b[32m,\"conditions\":\u001b[0m\u001b[32m[\u001b[0m\u001b[32m{\u001b[0m\u001b[32m\"column\":\"status\",\"operator\":\"=\",\"value\":\"fulfilled\"\u001b[0m\u001b[32m}\u001b[0m\u001b[32m,\u001b[0m\u001b[32m{\u001b[0m\u001b[32m\"column\":\"ordered_at\",\"operator\":\">=\",\"value\":\"2023-05-01\"\u001b[0m\u001b[32m}\u001b[0m\u001b[32m,\u001b[0m\u001b[32m{\u001b[0m\u001b[32m\"column\":\"ordered_at\",\"operator\":\"\u001b[0m\u001b[32m<\u001b[0m\u001b[32m=\",\"value\":\"2023-05-31\"\u001b[0m\u001b[32m}\u001b[0m\u001b[32m,\u001b[0m\u001b[32m{\u001b[0m\u001b[32m\"column\":\"expected_delivery_date\",\"operator\":\"<\",\"value\":\u001b[0m\u001b[32m{\u001b[0m\u001b[32m\"column_name\":\"delivered_at\"\u001b[0m\u001b[32m}\u001b[0m\u001b[32m}\u001b[0m\u001b[32m]\u001b[0m\u001b[32m,\"order_by\":\"asc\"\u001b[0m\u001b[32m}\u001b[0m\u001b[32m'\u001b[0m\u001b[39m,\u001b[0m\n",
       "\u001b[2;32m│   │   │   │   │   │   │   \u001b[0m\u001b[33mname\u001b[0m\u001b[39m=\u001b[0m\u001b[32m'Query'\u001b[0m\u001b[39m,\u001b[0m\n",
       "\u001b[2;32m│   │   │   │   │   │   │   \u001b[0m\u001b[33mparsed_arguments\u001b[0m\u001b[39m=\u001b[0m\u001b[1;35mQuery\u001b[0m\u001b[1;39m(\u001b[0m\n",
       "\u001b[2;32m│   │   │   │   │   │   │   │   \u001b[0m\u001b[33mtable_name\u001b[0m\u001b[39m=<Table.orders: \u001b[0m\u001b[32m'orders'\u001b[0m\u001b[39m>,\u001b[0m\n",
       "\u001b[2;32m│   │   │   │   │   │   │   │   \u001b[0m\u001b[33mcolumns\u001b[0m\u001b[39m=\u001b[0m\u001b[1;39m[\u001b[0m\u001b[39m<Column.id: \u001b[0m\u001b[32m'id'\u001b[0m\u001b[39m>\u001b[0m\u001b[1;39m]\u001b[0m\u001b[39m,\u001b[0m\n",
       "\u001b[2;32m│   │   │   │   │   │   │   │   \u001b[0m\u001b[33mconditions\u001b[0m\u001b[39m=\u001b[0m\u001b[1;39m[\u001b[0m\n",
       "\u001b[2;32m│   │   │   │   │   │   │   │   │   \u001b[0m\u001b[1;35mCondition\u001b[0m\u001b[1;39m(\u001b[0m\u001b[33mcolumn\u001b[0m\u001b[39m=\u001b[0m\u001b[32m'status'\u001b[0m\u001b[39m, \u001b[0m\u001b[33moperator\u001b[0m\u001b[39m=<Operator.eq: \u001b[0m\u001b[32m'='\u001b[0m\u001b[39m>, \u001b[0m\u001b[33mvalue\u001b[0m\u001b[39m=\u001b[0m\u001b[32m'fulfilled'\u001b[0m\u001b[1;39m)\u001b[0m\u001b[39m,\u001b[0m\n",
       "\u001b[2;32m│   │   │   │   │   │   │   │   │   \u001b[0m\u001b[1;35mCondition\u001b[0m\u001b[1;39m(\u001b[0m\n",
       "\u001b[2;32m│   │   │   │   │   │   │   │   │   │   \u001b[0m\u001b[33mcolumn\u001b[0m\u001b[39m=\u001b[0m\u001b[32m'ordered_at'\u001b[0m\u001b[39m,\u001b[0m\n",
       "\u001b[2;32m│   │   │   │   │   │   │   │   │   │   \u001b[0m\u001b[33moperator\u001b[0m\u001b[39m=<Operator.ge: \u001b[0m\u001b[32m'>='\u001b[0m\u001b[39m>,\u001b[0m\n",
       "\u001b[2;32m│   │   │   │   │   │   │   │   │   │   \u001b[0m\u001b[33mvalue\u001b[0m\u001b[39m=\u001b[0m\u001b[32m'2023-05-01'\u001b[0m\n",
       "\u001b[2;32m│   │   │   │   │   │   │   │   │   \u001b[0m\u001b[1;39m)\u001b[0m\u001b[39m,\u001b[0m\n",
       "\u001b[2;32m│   │   │   │   │   │   │   │   │   \u001b[0m\u001b[1;35mCondition\u001b[0m\u001b[1;39m(\u001b[0m\n",
       "\u001b[2;32m│   │   │   │   │   │   │   │   │   │   \u001b[0m\u001b[33mcolumn\u001b[0m\u001b[39m=\u001b[0m\u001b[32m'ordered_at'\u001b[0m\u001b[39m,\u001b[0m\n",
       "\u001b[2;32m│   │   │   │   │   │   │   │   │   │   \u001b[0m\u001b[33moperator\u001b[0m\u001b[39m=<Operator.le: \u001b[0m\u001b[32m'<='\u001b[0m\u001b[39m>,\u001b[0m\n",
       "\u001b[2;32m│   │   │   │   │   │   │   │   │   │   \u001b[0m\u001b[33mvalue\u001b[0m\u001b[39m=\u001b[0m\u001b[32m'2023-05-31'\u001b[0m\n",
       "\u001b[2;32m│   │   │   │   │   │   │   │   │   \u001b[0m\u001b[1;39m)\u001b[0m\u001b[39m,\u001b[0m\n",
       "\u001b[2;32m│   │   │   │   │   │   │   │   │   \u001b[0m\u001b[1;35mCondition\u001b[0m\u001b[1;39m(\u001b[0m\n",
       "\u001b[2;32m│   │   │   │   │   │   │   │   │   │   \u001b[0m\u001b[33mcolumn\u001b[0m\u001b[39m=\u001b[0m\u001b[32m'expected_delivery_date'\u001b[0m\u001b[39m,\u001b[0m\n",
       "\u001b[2;32m│   │   │   │   │   │   │   │   │   │   \u001b[0m\u001b[33moperator\u001b[0m\u001b[39m=<Operator.lt: \u001b[0m\u001b[32m'<'\u001b[0m\u001b[39m>,\u001b[0m\n",
       "\u001b[2;32m│   │   │   │   │   │   │   │   │   │   \u001b[0m\u001b[33mvalue\u001b[0m\u001b[39m=\u001b[0m\u001b[1;35mDynamicValue\u001b[0m\u001b[1;39m(\u001b[0m\u001b[33mcolumn_name\u001b[0m\u001b[39m=\u001b[0m\u001b[32m'delivered_at'\u001b[0m\u001b[1;39m)\u001b[0m\n",
       "\u001b[2;32m│   │   │   │   │   │   │   │   │   \u001b[0m\u001b[1;39m)\u001b[0m\n",
       "\u001b[2;32m│   │   │   │   │   │   │   │   \u001b[0m\u001b[1;39m]\u001b[0m\u001b[39m,\u001b[0m\n",
       "\u001b[2;32m│   │   │   │   │   │   │   │   \u001b[0m\u001b[33morder_by\u001b[0m\u001b[39m=<OrderBy.asc: \u001b[0m\u001b[32m'asc'\u001b[0m\u001b[1m>\u001b[0m\n",
       "\u001b[2;32m│   │   │   │   │   │   │   \u001b[0m\u001b[1m)\u001b[0m\n",
       "\u001b[2;32m│   │   │   │   │   │   \u001b[0m\u001b[1m)\u001b[0m,\n",
       "\u001b[2;32m│   │   │   │   │   │   \u001b[0m\u001b[33mtype\u001b[0m=\u001b[32m'function'\u001b[0m\n",
       "\u001b[2;32m│   │   │   │   │   \u001b[0m\u001b[1m)\u001b[0m\n",
       "\u001b[2;32m│   │   │   │   \u001b[0m\u001b[1m]\u001b[0m,\n",
       "\u001b[2;32m│   │   │   │   \u001b[0m\u001b[33mparsed\u001b[0m=\u001b[3;35mNone\u001b[0m\n",
       "\u001b[2;32m│   │   │   \u001b[0m\u001b[1m)\u001b[0m\n",
       "\u001b[2;32m│   │   \u001b[0m\u001b[1m)\u001b[0m\n",
       "\u001b[2;32m│   \u001b[0m\u001b[1m]\u001b[0m,\n",
       "\u001b[2;32m│   \u001b[0m\u001b[33mcreated\u001b[0m=\u001b[1;36m1727275028\u001b[0m,\n",
       "\u001b[2;32m│   \u001b[0m\u001b[33mmodel\u001b[0m=\u001b[32m'gpt-4o-2024-08-06'\u001b[0m,\n",
       "\u001b[2;32m│   \u001b[0m\u001b[33mobject\u001b[0m=\u001b[32m'chat.completion'\u001b[0m,\n",
       "\u001b[2;32m│   \u001b[0m\u001b[33mservice_tier\u001b[0m=\u001b[3;35mNone\u001b[0m,\n",
       "\u001b[2;32m│   \u001b[0m\u001b[33msystem_fingerprint\u001b[0m=\u001b[32m'fp_5050236cbd'\u001b[0m,\n",
       "\u001b[2;32m│   \u001b[0m\u001b[33musage\u001b[0m=\u001b[1;35mCompletionUsage\u001b[0m\u001b[1m(\u001b[0m\n",
       "\u001b[2;32m│   │   \u001b[0m\u001b[33mcompletion_tokens\u001b[0m=\u001b[1;36m97\u001b[0m,\n",
       "\u001b[2;32m│   │   \u001b[0m\u001b[33mprompt_tokens\u001b[0m=\u001b[1;36m230\u001b[0m,\n",
       "\u001b[2;32m│   │   \u001b[0m\u001b[33mtotal_tokens\u001b[0m=\u001b[1;36m327\u001b[0m,\n",
       "\u001b[2;32m│   │   \u001b[0m\u001b[33mcompletion_tokens_details\u001b[0m=\u001b[1m{\u001b[0m\u001b[32m'reasoning_tokens'\u001b[0m: \u001b[1;36m0\u001b[0m\u001b[1m}\u001b[0m\n",
       "\u001b[2;32m│   \u001b[0m\u001b[1m)\u001b[0m\n",
       "\u001b[1m)\u001b[0m\n"
      ]
     },
     "metadata": {},
     "output_type": "display_data"
    }
   ],
   "source": [
    "pprint(completion)"
   ]
  },
  {
   "cell_type": "code",
   "execution_count": 30,
   "id": "02e075bc-c9cc-4aab-b662-413b11853105",
   "metadata": {
    "execution": {
     "iopub.execute_input": "2024-09-25T14:38:45.737991Z",
     "iopub.status.busy": "2024-09-25T14:38:45.737422Z",
     "iopub.status.idle": "2024-09-25T14:38:45.749629Z",
     "shell.execute_reply": "2024-09-25T14:38:45.747699Z",
     "shell.execute_reply.started": "2024-09-25T14:38:45.737941Z"
    }
   },
   "outputs": [
    {
     "data": {
      "text/plain": [
       "Query(table_name=<Table.orders: 'orders'>, columns=[<Column.id: 'id'>], conditions=[Condition(column='status', operator=<Operator.eq: '='>, value='fulfilled'), Condition(column='ordered_at', operator=<Operator.ge: '>='>, value='2023-05-01'), Condition(column='ordered_at', operator=<Operator.le: '<='>, value='2023-05-31'), Condition(column='expected_delivery_date', operator=<Operator.lt: '<'>, value=DynamicValue(column_name='delivered_at'))], order_by=<OrderBy.asc: 'asc'>)"
      ]
     },
     "execution_count": 30,
     "metadata": {},
     "output_type": "execute_result"
    }
   ],
   "source": [
    "completion.choices[0].message.tool_calls[0].function.parsed_arguments"
   ]
  },
  {
   "cell_type": "markdown",
   "id": "088fd1cc-bdde-4016-9512-33ff812aa7a9",
   "metadata": {},
   "source": [
    "#### case 2"
   ]
  },
  {
   "cell_type": "code",
   "execution_count": 31,
   "id": "66079bda-489e-410f-9325-9453675889b3",
   "metadata": {
    "execution": {
     "iopub.execute_input": "2024-09-25T14:44:42.708769Z",
     "iopub.status.busy": "2024-09-25T14:44:42.708152Z",
     "iopub.status.idle": "2024-09-25T14:44:42.723471Z",
     "shell.execute_reply": "2024-09-25T14:44:42.721538Z",
     "shell.execute_reply.started": "2024-09-25T14:44:42.708718Z"
    }
   },
   "outputs": [],
   "source": [
    "class Step(BaseModel):\n",
    "    explanation: str\n",
    "    output: str\n",
    "\n",
    "class MathResponse(BaseModel):\n",
    "    steps: list[Step]\n",
    "    final_answer: str"
   ]
  },
  {
   "cell_type": "code",
   "execution_count": 32,
   "id": "4f23a1d2-4877-402e-942e-3fbc66d982ba",
   "metadata": {
    "execution": {
     "iopub.execute_input": "2024-09-25T14:44:51.899133Z",
     "iopub.status.busy": "2024-09-25T14:44:51.898534Z",
     "iopub.status.idle": "2024-09-25T14:44:55.556677Z",
     "shell.execute_reply": "2024-09-25T14:44:55.555523Z",
     "shell.execute_reply.started": "2024-09-25T14:44:51.899081Z"
    }
   },
   "outputs": [],
   "source": [
    "client = OpenAI()\n",
    "\n",
    "completion = client.beta.chat.completions.parse(\n",
    "    model=\"gpt-4o-2024-08-06\",\n",
    "    messages=[\n",
    "        {\"role\": \"system\", \"content\": \"You are a helpful math tutor.\"},\n",
    "        {\"role\": \"user\", \"content\": \"solve 8x + 31 = 2\"},\n",
    "    ],\n",
    "    response_format=MathResponse,\n",
    ")"
   ]
  },
  {
   "cell_type": "code",
   "execution_count": 33,
   "id": "6762252c-548d-460a-881c-e2ab6ee7fdac",
   "metadata": {
    "execution": {
     "iopub.execute_input": "2024-09-25T14:45:08.418432Z",
     "iopub.status.busy": "2024-09-25T14:45:08.417868Z",
     "iopub.status.idle": "2024-09-25T14:45:08.450395Z",
     "shell.execute_reply": "2024-09-25T14:45:08.448321Z",
     "shell.execute_reply.started": "2024-09-25T14:45:08.418382Z"
    }
   },
   "outputs": [
    {
     "data": {
      "text/html": [
       "<pre style=\"white-space:pre;overflow-x:auto;line-height:normal;font-family:Menlo,'DejaVu Sans Mono',consolas,'Courier New',monospace\">ParsedChatCompletion<span style=\"font-weight: bold\">[</span>MathResponse<span style=\"font-weight: bold\">](</span>\n",
       "<span style=\"color: #7fbf7f; text-decoration-color: #7fbf7f\">│   </span><span style=\"color: #808000; text-decoration-color: #808000\">id</span>=<span style=\"color: #008000; text-decoration-color: #008000\">'chatcmpl-ABNY4eHyFm5VNB5FgMCaavNalUAuq'</span>,\n",
       "<span style=\"color: #7fbf7f; text-decoration-color: #7fbf7f\">│   </span><span style=\"color: #808000; text-decoration-color: #808000\">choices</span>=<span style=\"font-weight: bold\">[</span>\n",
       "<span style=\"color: #7fbf7f; text-decoration-color: #7fbf7f\">│   │   </span>ParsedChoice<span style=\"font-weight: bold\">[</span>MathResponse<span style=\"font-weight: bold\">](</span>\n",
       "<span style=\"color: #7fbf7f; text-decoration-color: #7fbf7f\">│   │   │   </span><span style=\"color: #808000; text-decoration-color: #808000\">finish_reason</span>=<span style=\"color: #008000; text-decoration-color: #008000\">'stop'</span>,\n",
       "<span style=\"color: #7fbf7f; text-decoration-color: #7fbf7f\">│   │   │   </span><span style=\"color: #808000; text-decoration-color: #808000\">index</span>=<span style=\"color: #008080; text-decoration-color: #008080; font-weight: bold\">0</span>,\n",
       "<span style=\"color: #7fbf7f; text-decoration-color: #7fbf7f\">│   │   │   </span><span style=\"color: #808000; text-decoration-color: #808000\">logprobs</span>=<span style=\"color: #800080; text-decoration-color: #800080; font-style: italic\">None</span>,\n",
       "<span style=\"color: #7fbf7f; text-decoration-color: #7fbf7f\">│   │   │   </span><span style=\"color: #808000; text-decoration-color: #808000\">message</span>=<span style=\"color: #800080; text-decoration-color: #800080\">ParsedChatCompletionMessage</span><span style=\"font-weight: bold\">[</span>MathResponse<span style=\"font-weight: bold\">](</span>\n",
       "<span style=\"color: #7fbf7f; text-decoration-color: #7fbf7f\">│   │   │   │   </span><span style=\"color: #808000; text-decoration-color: #808000\">content</span>=<span style=\"color: #008000; text-decoration-color: #008000\">'{\"steps\":[{\"explanation\":\"Start with the equation 8x + 31 = 2.\",\"output\":\"8x + 31 = 2\"},{\"explanation\":\"Subtract 31 from both sides to isolate the term with x.\",\"output\":\"8x = 2 - 31\"},{\"explanation\":\"Calculate the right side: 2 - 31 equals -29.\",\"output\":\"8x = -29\"},{\"explanation\":\"Divide both sides by 8 to solve for x.\",\"output\":\"x = \\\\\\\\frac{-29}{8}\"}],\"final_answer\":\"x = -\\\\\\\\frac{29}{8}\"}'</span>,\n",
       "<span style=\"color: #7fbf7f; text-decoration-color: #7fbf7f\">│   │   │   │   </span><span style=\"color: #808000; text-decoration-color: #808000\">refusal</span>=<span style=\"color: #800080; text-decoration-color: #800080; font-style: italic\">None</span>,\n",
       "<span style=\"color: #7fbf7f; text-decoration-color: #7fbf7f\">│   │   │   │   </span><span style=\"color: #808000; text-decoration-color: #808000\">role</span>=<span style=\"color: #008000; text-decoration-color: #008000\">'assistant'</span>,\n",
       "<span style=\"color: #7fbf7f; text-decoration-color: #7fbf7f\">│   │   │   │   </span><span style=\"color: #808000; text-decoration-color: #808000\">function_call</span>=<span style=\"color: #800080; text-decoration-color: #800080; font-style: italic\">None</span>,\n",
       "<span style=\"color: #7fbf7f; text-decoration-color: #7fbf7f\">│   │   │   │   </span><span style=\"color: #808000; text-decoration-color: #808000\">tool_calls</span>=<span style=\"font-weight: bold\">[]</span>,\n",
       "<span style=\"color: #7fbf7f; text-decoration-color: #7fbf7f\">│   │   │   │   </span><span style=\"color: #808000; text-decoration-color: #808000\">parsed</span>=<span style=\"color: #800080; text-decoration-color: #800080; font-weight: bold\">MathResponse</span><span style=\"font-weight: bold\">(</span>\n",
       "<span style=\"color: #7fbf7f; text-decoration-color: #7fbf7f\">│   │   │   │   │   </span><span style=\"color: #808000; text-decoration-color: #808000\">steps</span>=<span style=\"font-weight: bold\">[</span>\n",
       "<span style=\"color: #7fbf7f; text-decoration-color: #7fbf7f\">│   │   │   │   │   │   </span><span style=\"color: #800080; text-decoration-color: #800080; font-weight: bold\">Step</span><span style=\"font-weight: bold\">(</span><span style=\"color: #808000; text-decoration-color: #808000\">explanation</span>=<span style=\"color: #008000; text-decoration-color: #008000\">'Start with the equation 8x + 31 = 2.'</span>, <span style=\"color: #808000; text-decoration-color: #808000\">output</span>=<span style=\"color: #008000; text-decoration-color: #008000\">'8x + 31 = 2'</span><span style=\"font-weight: bold\">)</span>,\n",
       "<span style=\"color: #7fbf7f; text-decoration-color: #7fbf7f\">│   │   │   │   │   │   </span><span style=\"color: #800080; text-decoration-color: #800080; font-weight: bold\">Step</span><span style=\"font-weight: bold\">(</span>\n",
       "<span style=\"color: #7fbf7f; text-decoration-color: #7fbf7f\">│   │   │   │   │   │   │   </span><span style=\"color: #808000; text-decoration-color: #808000\">explanation</span>=<span style=\"color: #008000; text-decoration-color: #008000\">'Subtract 31 from both sides to isolate the term with x.'</span>,\n",
       "<span style=\"color: #7fbf7f; text-decoration-color: #7fbf7f\">│   │   │   │   │   │   │   </span><span style=\"color: #808000; text-decoration-color: #808000\">output</span>=<span style=\"color: #008000; text-decoration-color: #008000\">'8x = 2 - 31'</span>\n",
       "<span style=\"color: #7fbf7f; text-decoration-color: #7fbf7f\">│   │   │   │   │   │   </span><span style=\"font-weight: bold\">)</span>,\n",
       "<span style=\"color: #7fbf7f; text-decoration-color: #7fbf7f\">│   │   │   │   │   │   </span><span style=\"color: #800080; text-decoration-color: #800080; font-weight: bold\">Step</span><span style=\"font-weight: bold\">(</span><span style=\"color: #808000; text-decoration-color: #808000\">explanation</span>=<span style=\"color: #008000; text-decoration-color: #008000\">'Calculate the right side: 2 - 31 equals -29.'</span>, <span style=\"color: #808000; text-decoration-color: #808000\">output</span>=<span style=\"color: #008000; text-decoration-color: #008000\">'8x = -29'</span><span style=\"font-weight: bold\">)</span>,\n",
       "<span style=\"color: #7fbf7f; text-decoration-color: #7fbf7f\">│   │   │   │   │   │   </span><span style=\"color: #800080; text-decoration-color: #800080; font-weight: bold\">Step</span><span style=\"font-weight: bold\">(</span><span style=\"color: #808000; text-decoration-color: #808000\">explanation</span>=<span style=\"color: #008000; text-decoration-color: #008000\">'Divide both sides by 8 to solve for x.'</span>, <span style=\"color: #808000; text-decoration-color: #808000\">output</span>=<span style=\"color: #008000; text-decoration-color: #008000\">'x = \\\\frac{-29}{8}'</span><span style=\"font-weight: bold\">)</span>\n",
       "<span style=\"color: #7fbf7f; text-decoration-color: #7fbf7f\">│   │   │   │   │   </span><span style=\"font-weight: bold\">]</span>,\n",
       "<span style=\"color: #7fbf7f; text-decoration-color: #7fbf7f\">│   │   │   │   │   </span><span style=\"color: #808000; text-decoration-color: #808000\">final_answer</span>=<span style=\"color: #008000; text-decoration-color: #008000\">'x = -\\\\frac{29}{8}'</span>\n",
       "<span style=\"color: #7fbf7f; text-decoration-color: #7fbf7f\">│   │   │   │   </span><span style=\"font-weight: bold\">)</span>\n",
       "<span style=\"color: #7fbf7f; text-decoration-color: #7fbf7f\">│   │   │   </span><span style=\"font-weight: bold\">)</span>\n",
       "<span style=\"color: #7fbf7f; text-decoration-color: #7fbf7f\">│   │   </span><span style=\"font-weight: bold\">)</span>\n",
       "<span style=\"color: #7fbf7f; text-decoration-color: #7fbf7f\">│   </span><span style=\"font-weight: bold\">]</span>,\n",
       "<span style=\"color: #7fbf7f; text-decoration-color: #7fbf7f\">│   </span><span style=\"color: #808000; text-decoration-color: #808000\">created</span>=<span style=\"color: #008080; text-decoration-color: #008080; font-weight: bold\">1727275492</span>,\n",
       "<span style=\"color: #7fbf7f; text-decoration-color: #7fbf7f\">│   </span><span style=\"color: #808000; text-decoration-color: #808000\">model</span>=<span style=\"color: #008000; text-decoration-color: #008000\">'gpt-4o-2024-08-06'</span>,\n",
       "<span style=\"color: #7fbf7f; text-decoration-color: #7fbf7f\">│   </span><span style=\"color: #808000; text-decoration-color: #808000\">object</span>=<span style=\"color: #008000; text-decoration-color: #008000\">'chat.completion'</span>,\n",
       "<span style=\"color: #7fbf7f; text-decoration-color: #7fbf7f\">│   </span><span style=\"color: #808000; text-decoration-color: #808000\">service_tier</span>=<span style=\"color: #800080; text-decoration-color: #800080; font-style: italic\">None</span>,\n",
       "<span style=\"color: #7fbf7f; text-decoration-color: #7fbf7f\">│   </span><span style=\"color: #808000; text-decoration-color: #808000\">system_fingerprint</span>=<span style=\"color: #008000; text-decoration-color: #008000\">'fp_b40fb1c6fb'</span>,\n",
       "<span style=\"color: #7fbf7f; text-decoration-color: #7fbf7f\">│   </span><span style=\"color: #808000; text-decoration-color: #808000\">usage</span>=<span style=\"color: #800080; text-decoration-color: #800080; font-weight: bold\">CompletionUsage</span><span style=\"font-weight: bold\">(</span>\n",
       "<span style=\"color: #7fbf7f; text-decoration-color: #7fbf7f\">│   │   </span><span style=\"color: #808000; text-decoration-color: #808000\">completion_tokens</span>=<span style=\"color: #008080; text-decoration-color: #008080; font-weight: bold\">125</span>,\n",
       "<span style=\"color: #7fbf7f; text-decoration-color: #7fbf7f\">│   │   </span><span style=\"color: #808000; text-decoration-color: #808000\">prompt_tokens</span>=<span style=\"color: #008080; text-decoration-color: #008080; font-weight: bold\">127</span>,\n",
       "<span style=\"color: #7fbf7f; text-decoration-color: #7fbf7f\">│   │   </span><span style=\"color: #808000; text-decoration-color: #808000\">total_tokens</span>=<span style=\"color: #008080; text-decoration-color: #008080; font-weight: bold\">252</span>,\n",
       "<span style=\"color: #7fbf7f; text-decoration-color: #7fbf7f\">│   │   </span><span style=\"color: #808000; text-decoration-color: #808000\">completion_tokens_details</span>=<span style=\"font-weight: bold\">{</span><span style=\"color: #008000; text-decoration-color: #008000\">'reasoning_tokens'</span>: <span style=\"color: #008080; text-decoration-color: #008080; font-weight: bold\">0</span><span style=\"font-weight: bold\">}</span>\n",
       "<span style=\"color: #7fbf7f; text-decoration-color: #7fbf7f\">│   </span><span style=\"font-weight: bold\">)</span>\n",
       "<span style=\"font-weight: bold\">)</span>\n",
       "</pre>\n"
      ],
      "text/plain": [
       "ParsedChatCompletion\u001b[1m[\u001b[0mMathResponse\u001b[1m]\u001b[0m\u001b[1m(\u001b[0m\n",
       "\u001b[2;32m│   \u001b[0m\u001b[33mid\u001b[0m=\u001b[32m'chatcmpl-ABNY4eHyFm5VNB5FgMCaavNalUAuq'\u001b[0m,\n",
       "\u001b[2;32m│   \u001b[0m\u001b[33mchoices\u001b[0m=\u001b[1m[\u001b[0m\n",
       "\u001b[2;32m│   │   \u001b[0mParsedChoice\u001b[1m[\u001b[0mMathResponse\u001b[1m]\u001b[0m\u001b[1m(\u001b[0m\n",
       "\u001b[2;32m│   │   │   \u001b[0m\u001b[33mfinish_reason\u001b[0m=\u001b[32m'stop'\u001b[0m,\n",
       "\u001b[2;32m│   │   │   \u001b[0m\u001b[33mindex\u001b[0m=\u001b[1;36m0\u001b[0m,\n",
       "\u001b[2;32m│   │   │   \u001b[0m\u001b[33mlogprobs\u001b[0m=\u001b[3;35mNone\u001b[0m,\n",
       "\u001b[2;32m│   │   │   \u001b[0m\u001b[33mmessage\u001b[0m=\u001b[35mParsedChatCompletionMessage\u001b[0m\u001b[1m[\u001b[0mMathResponse\u001b[1m]\u001b[0m\u001b[1m(\u001b[0m\n",
       "\u001b[2;32m│   │   │   │   \u001b[0m\u001b[33mcontent\u001b[0m=\u001b[32m'\u001b[0m\u001b[32m{\u001b[0m\u001b[32m\"steps\":\u001b[0m\u001b[32m[\u001b[0m\u001b[32m{\u001b[0m\u001b[32m\"explanation\":\"Start with the equation 8x + 31 = 2.\",\"output\":\"8x + 31 = 2\"\u001b[0m\u001b[32m}\u001b[0m\u001b[32m,\u001b[0m\u001b[32m{\u001b[0m\u001b[32m\"explanation\":\"Subtract 31 from both sides to isolate the term with x.\",\"output\":\"8x = 2 - 31\"\u001b[0m\u001b[32m}\u001b[0m\u001b[32m,\u001b[0m\u001b[32m{\u001b[0m\u001b[32m\"explanation\":\"Calculate the right side: 2 - 31 equals -29.\",\"output\":\"8x = -29\"\u001b[0m\u001b[32m}\u001b[0m\u001b[32m,\u001b[0m\u001b[32m{\u001b[0m\u001b[32m\"explanation\":\"Divide both sides by 8 to solve for x.\",\"output\":\"x = \\\\\\\\frac\u001b[0m\u001b[32m{\u001b[0m\u001b[32m-29\u001b[0m\u001b[32m}\u001b[0m\u001b[32m{\u001b[0m\u001b[32m8\u001b[0m\u001b[32m}\u001b[0m\u001b[32m\"\u001b[0m\u001b[32m}\u001b[0m\u001b[32m]\u001b[0m\u001b[32m,\"final_answer\":\"x = -\\\\\\\\frac\u001b[0m\u001b[32m{\u001b[0m\u001b[32m29\u001b[0m\u001b[32m}\u001b[0m\u001b[32m{\u001b[0m\u001b[32m8\u001b[0m\u001b[32m}\u001b[0m\u001b[32m\"\u001b[0m\u001b[32m}\u001b[0m\u001b[32m'\u001b[0m,\n",
       "\u001b[2;32m│   │   │   │   \u001b[0m\u001b[33mrefusal\u001b[0m=\u001b[3;35mNone\u001b[0m,\n",
       "\u001b[2;32m│   │   │   │   \u001b[0m\u001b[33mrole\u001b[0m=\u001b[32m'assistant'\u001b[0m,\n",
       "\u001b[2;32m│   │   │   │   \u001b[0m\u001b[33mfunction_call\u001b[0m=\u001b[3;35mNone\u001b[0m,\n",
       "\u001b[2;32m│   │   │   │   \u001b[0m\u001b[33mtool_calls\u001b[0m=\u001b[1m[\u001b[0m\u001b[1m]\u001b[0m,\n",
       "\u001b[2;32m│   │   │   │   \u001b[0m\u001b[33mparsed\u001b[0m=\u001b[1;35mMathResponse\u001b[0m\u001b[1m(\u001b[0m\n",
       "\u001b[2;32m│   │   │   │   │   \u001b[0m\u001b[33msteps\u001b[0m=\u001b[1m[\u001b[0m\n",
       "\u001b[2;32m│   │   │   │   │   │   \u001b[0m\u001b[1;35mStep\u001b[0m\u001b[1m(\u001b[0m\u001b[33mexplanation\u001b[0m=\u001b[32m'Start with the equation 8x + 31 = 2.'\u001b[0m, \u001b[33moutput\u001b[0m=\u001b[32m'8x + 31 = 2'\u001b[0m\u001b[1m)\u001b[0m,\n",
       "\u001b[2;32m│   │   │   │   │   │   \u001b[0m\u001b[1;35mStep\u001b[0m\u001b[1m(\u001b[0m\n",
       "\u001b[2;32m│   │   │   │   │   │   │   \u001b[0m\u001b[33mexplanation\u001b[0m=\u001b[32m'Subtract 31 from both sides to isolate the term with x.'\u001b[0m,\n",
       "\u001b[2;32m│   │   │   │   │   │   │   \u001b[0m\u001b[33moutput\u001b[0m=\u001b[32m'8x = 2 - 31'\u001b[0m\n",
       "\u001b[2;32m│   │   │   │   │   │   \u001b[0m\u001b[1m)\u001b[0m,\n",
       "\u001b[2;32m│   │   │   │   │   │   \u001b[0m\u001b[1;35mStep\u001b[0m\u001b[1m(\u001b[0m\u001b[33mexplanation\u001b[0m=\u001b[32m'Calculate the right side: 2 - 31 equals -29.'\u001b[0m, \u001b[33moutput\u001b[0m=\u001b[32m'8x = -29'\u001b[0m\u001b[1m)\u001b[0m,\n",
       "\u001b[2;32m│   │   │   │   │   │   \u001b[0m\u001b[1;35mStep\u001b[0m\u001b[1m(\u001b[0m\u001b[33mexplanation\u001b[0m=\u001b[32m'Divide both sides by 8 to solve for x.'\u001b[0m, \u001b[33moutput\u001b[0m=\u001b[32m'x = \\\\frac\u001b[0m\u001b[32m{\u001b[0m\u001b[32m-29\u001b[0m\u001b[32m}\u001b[0m\u001b[32m{\u001b[0m\u001b[32m8\u001b[0m\u001b[32m}\u001b[0m\u001b[32m'\u001b[0m\u001b[1m)\u001b[0m\n",
       "\u001b[2;32m│   │   │   │   │   \u001b[0m\u001b[1m]\u001b[0m,\n",
       "\u001b[2;32m│   │   │   │   │   \u001b[0m\u001b[33mfinal_answer\u001b[0m=\u001b[32m'x = -\\\\frac\u001b[0m\u001b[32m{\u001b[0m\u001b[32m29\u001b[0m\u001b[32m}\u001b[0m\u001b[32m{\u001b[0m\u001b[32m8\u001b[0m\u001b[32m}\u001b[0m\u001b[32m'\u001b[0m\n",
       "\u001b[2;32m│   │   │   │   \u001b[0m\u001b[1m)\u001b[0m\n",
       "\u001b[2;32m│   │   │   \u001b[0m\u001b[1m)\u001b[0m\n",
       "\u001b[2;32m│   │   \u001b[0m\u001b[1m)\u001b[0m\n",
       "\u001b[2;32m│   \u001b[0m\u001b[1m]\u001b[0m,\n",
       "\u001b[2;32m│   \u001b[0m\u001b[33mcreated\u001b[0m=\u001b[1;36m1727275492\u001b[0m,\n",
       "\u001b[2;32m│   \u001b[0m\u001b[33mmodel\u001b[0m=\u001b[32m'gpt-4o-2024-08-06'\u001b[0m,\n",
       "\u001b[2;32m│   \u001b[0m\u001b[33mobject\u001b[0m=\u001b[32m'chat.completion'\u001b[0m,\n",
       "\u001b[2;32m│   \u001b[0m\u001b[33mservice_tier\u001b[0m=\u001b[3;35mNone\u001b[0m,\n",
       "\u001b[2;32m│   \u001b[0m\u001b[33msystem_fingerprint\u001b[0m=\u001b[32m'fp_b40fb1c6fb'\u001b[0m,\n",
       "\u001b[2;32m│   \u001b[0m\u001b[33musage\u001b[0m=\u001b[1;35mCompletionUsage\u001b[0m\u001b[1m(\u001b[0m\n",
       "\u001b[2;32m│   │   \u001b[0m\u001b[33mcompletion_tokens\u001b[0m=\u001b[1;36m125\u001b[0m,\n",
       "\u001b[2;32m│   │   \u001b[0m\u001b[33mprompt_tokens\u001b[0m=\u001b[1;36m127\u001b[0m,\n",
       "\u001b[2;32m│   │   \u001b[0m\u001b[33mtotal_tokens\u001b[0m=\u001b[1;36m252\u001b[0m,\n",
       "\u001b[2;32m│   │   \u001b[0m\u001b[33mcompletion_tokens_details\u001b[0m=\u001b[1m{\u001b[0m\u001b[32m'reasoning_tokens'\u001b[0m: \u001b[1;36m0\u001b[0m\u001b[1m}\u001b[0m\n",
       "\u001b[2;32m│   \u001b[0m\u001b[1m)\u001b[0m\n",
       "\u001b[1m)\u001b[0m\n"
      ]
     },
     "metadata": {},
     "output_type": "display_data"
    }
   ],
   "source": [
    "pprint(completion)"
   ]
  },
  {
   "cell_type": "code",
   "execution_count": 34,
   "id": "28ec93da-d375-44fb-a2b8-ad3755d1a0a4",
   "metadata": {
    "execution": {
     "iopub.execute_input": "2024-09-25T14:45:34.244340Z",
     "iopub.status.busy": "2024-09-25T14:45:34.243731Z",
     "iopub.status.idle": "2024-09-25T14:45:34.252460Z",
     "shell.execute_reply": "2024-09-25T14:45:34.251214Z",
     "shell.execute_reply.started": "2024-09-25T14:45:34.244289Z"
    }
   },
   "outputs": [
    {
     "name": "stdout",
     "output_type": "stream",
     "text": [
      "[Step(explanation='Start with the equation 8x + 31 = 2.', output='8x + 31 = 2'), Step(explanation='Subtract 31 from both sides to isolate the term with x.', output='8x = 2 - 31'), Step(explanation='Calculate the right side: 2 - 31 equals -29.', output='8x = -29'), Step(explanation='Divide both sides by 8 to solve for x.', output='x = \\\\frac{-29}{8}')]\n",
      "x = -\\frac{29}{8}\n"
     ]
    }
   ],
   "source": [
    "message = completion.choices[0].message\n",
    "if message.parsed:\n",
    "    print(message.parsed.steps)\n",
    "    print(message.parsed.final_answer)\n",
    "else:\n",
    "    print(message.refusal)"
   ]
  },
  {
   "cell_type": "code",
   "execution_count": null,
   "id": "2fb4d2e2-c42a-475a-86f9-f78f04542681",
   "metadata": {},
   "outputs": [],
   "source": []
  }
 ],
 "metadata": {
  "kernelspec": {
   "display_name": "agent",
   "language": "python",
   "name": "agent"
  },
  "language_info": {
   "codemirror_mode": {
    "name": "ipython",
    "version": 3
   },
   "file_extension": ".py",
   "mimetype": "text/x-python",
   "name": "python",
   "nbconvert_exporter": "python",
   "pygments_lexer": "ipython3",
   "version": "3.12.2"
  }
 },
 "nbformat": 4,
 "nbformat_minor": 5
}
