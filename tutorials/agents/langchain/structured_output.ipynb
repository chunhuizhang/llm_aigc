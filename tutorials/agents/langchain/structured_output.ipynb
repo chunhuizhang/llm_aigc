{
 "cells": [
  {
   "cell_type": "code",
   "execution_count": 1,
   "id": "3cc537ce-ad92-44bf-b4c9-91bc34536b6d",
   "metadata": {
    "execution": {
     "iopub.execute_input": "2024-09-12T13:14:32.114271Z",
     "iopub.status.busy": "2024-09-12T13:14:32.113594Z",
     "iopub.status.idle": "2024-09-12T13:14:32.203623Z",
     "shell.execute_reply": "2024-09-12T13:14:32.202072Z",
     "shell.execute_reply.started": "2024-09-12T13:14:32.114215Z"
    }
   },
   "outputs": [],
   "source": [
    "from pydantic import BaseModel, Field\n",
    "from typing import  Literal\n",
    "from langchain_core.tools import tool\n",
    "from langchain_openai import ChatOpenAI\n",
    "from langgraph.graph import MessagesState"
   ]
  },
  {
   "cell_type": "code",
   "execution_count": 2,
   "id": "a7cde72e-2eb5-408b-921c-fcbc1cab0716",
   "metadata": {
    "execution": {
     "iopub.execute_input": "2024-09-12T13:14:51.948547Z",
     "iopub.status.busy": "2024-09-12T13:14:51.948127Z",
     "iopub.status.idle": "2024-09-12T13:14:51.959105Z",
     "shell.execute_reply": "2024-09-12T13:14:51.957393Z",
     "shell.execute_reply.started": "2024-09-12T13:14:51.948510Z"
    }
   },
   "outputs": [],
   "source": [
    "class WeatherResponse(BaseModel):\n",
    "    \"\"\"Respond to the user with this\"\"\"\n",
    "    temperature: float = Field(description=\"The temperature in fahrenheit\")\n",
    "    wind_directon: str = Field(description=\"The direction of the wind in abbreviated form\")\n",
    "    wind_speed: float = Field(description=\"The speed of the wind in km/h\")"
   ]
  },
  {
   "cell_type": "code",
   "execution_count": 3,
   "id": "6953cbe8-026b-4c30-b4fb-824464479aea",
   "metadata": {
    "execution": {
     "iopub.execute_input": "2024-09-12T13:15:03.198893Z",
     "iopub.status.busy": "2024-09-12T13:15:03.197917Z",
     "iopub.status.idle": "2024-09-12T13:15:03.206017Z",
     "shell.execute_reply": "2024-09-12T13:15:03.204471Z",
     "shell.execute_reply.started": "2024-09-12T13:15:03.198842Z"
    }
   },
   "outputs": [],
   "source": [
    "# Inherit 'messages' key from MessagesState, which is a list of chat messages \n",
    "class AgentState(MessagesState):\n",
    "    # Final structured response from the agent\n",
    "    final_response: WeatherResponse"
   ]
  },
  {
   "cell_type": "code",
   "execution_count": 11,
   "id": "7a92931c-767c-4dc7-aaef-842720d8be3e",
   "metadata": {
    "execution": {
     "iopub.execute_input": "2024-09-12T13:21:53.853290Z",
     "iopub.status.busy": "2024-09-12T13:21:53.852699Z",
     "iopub.status.idle": "2024-09-12T13:21:53.860373Z",
     "shell.execute_reply": "2024-09-12T13:21:53.858899Z",
     "shell.execute_reply.started": "2024-09-12T13:21:53.853239Z"
    }
   },
   "outputs": [],
   "source": [
    "from typing import get_type_hints"
   ]
  },
  {
   "cell_type": "code",
   "execution_count": 12,
   "id": "5ef324a6-cf97-4447-87af-b8742bc2e5c2",
   "metadata": {
    "execution": {
     "iopub.execute_input": "2024-09-12T13:22:00.319837Z",
     "iopub.status.busy": "2024-09-12T13:22:00.319214Z",
     "iopub.status.idle": "2024-09-12T13:22:00.331021Z",
     "shell.execute_reply": "2024-09-12T13:22:00.329294Z",
     "shell.execute_reply.started": "2024-09-12T13:22:00.319783Z"
    }
   },
   "outputs": [
    {
     "data": {
      "text/plain": [
       "{'messages': list[typing.Union[langchain_core.messages.ai.AIMessage, langchain_core.messages.human.HumanMessage, langchain_core.messages.chat.ChatMessage, langchain_core.messages.system.SystemMessage, langchain_core.messages.function.FunctionMessage, langchain_core.messages.tool.ToolMessage]],\n",
       " 'final_response': __main__.WeatherResponse}"
      ]
     },
     "execution_count": 12,
     "metadata": {},
     "output_type": "execute_result"
    }
   ],
   "source": [
    "get_type_hints(AgentState)"
   ]
  },
  {
   "cell_type": "code",
   "execution_count": null,
   "id": "39c2b335-21d7-4803-8741-21c81c6bec96",
   "metadata": {},
   "outputs": [],
   "source": []
  }
 ],
 "metadata": {
  "kernelspec": {
   "display_name": "agent",
   "language": "python",
   "name": "agent"
  },
  "language_info": {
   "codemirror_mode": {
    "name": "ipython",
    "version": 3
   },
   "file_extension": ".py",
   "mimetype": "text/x-python",
   "name": "python",
   "nbconvert_exporter": "python",
   "pygments_lexer": "ipython3",
   "version": "3.12.2"
  }
 },
 "nbformat": 4,
 "nbformat_minor": 5
}
