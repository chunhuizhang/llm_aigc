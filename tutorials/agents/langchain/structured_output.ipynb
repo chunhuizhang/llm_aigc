{
 "cells": [
  {
   "cell_type": "code",
   "execution_count": 42,
   "id": "bb6b1f09-13cb-4924-a813-0ca4e505e061",
   "metadata": {
    "execution": {
     "iopub.execute_input": "2024-09-16T11:23:43.645223Z",
     "iopub.status.busy": "2024-09-16T11:23:43.644632Z",
     "iopub.status.idle": "2024-09-16T11:23:43.652226Z",
     "shell.execute_reply": "2024-09-16T11:23:43.650766Z",
     "shell.execute_reply.started": "2024-09-16T11:23:43.645175Z"
    }
   },
   "outputs": [],
   "source": [
    "from IPython.display import Image"
   ]
  },
  {
   "cell_type": "code",
   "execution_count": 13,
   "id": "3cc537ce-ad92-44bf-b4c9-91bc34536b6d",
   "metadata": {
    "execution": {
     "iopub.execute_input": "2024-09-16T11:06:38.454794Z",
     "iopub.status.busy": "2024-09-16T11:06:38.454183Z",
     "iopub.status.idle": "2024-09-16T11:06:38.464555Z",
     "shell.execute_reply": "2024-09-16T11:06:38.462668Z",
     "shell.execute_reply.started": "2024-09-16T11:06:38.454742Z"
    }
   },
   "outputs": [],
   "source": [
    "from pydantic import BaseModel, Field\n",
    "from typing import  Literal\n",
    "from langchain_core.tools import tool\n",
    "from langchain_openai import ChatOpenAI\n",
    "from langgraph.graph import MessagesState"
   ]
  },
  {
   "cell_type": "code",
   "execution_count": 17,
   "id": "5ad05a6f-7952-41dc-891d-8244b8aadc3a",
   "metadata": {
    "execution": {
     "iopub.execute_input": "2024-09-16T11:08:22.675896Z",
     "iopub.status.busy": "2024-09-16T11:08:22.675267Z",
     "iopub.status.idle": "2024-09-16T11:08:22.687479Z",
     "shell.execute_reply": "2024-09-16T11:08:22.685594Z",
     "shell.execute_reply.started": "2024-09-16T11:08:22.675845Z"
    }
   },
   "outputs": [],
   "source": [
    "from dotenv import load_dotenv\n",
    "assert load_dotenv()"
   ]
  },
  {
   "cell_type": "code",
   "execution_count": 44,
   "id": "a3aa5683-fbb5-4039-ab0e-835b10f04485",
   "metadata": {
    "execution": {
     "iopub.execute_input": "2024-09-16T11:24:09.004679Z",
     "iopub.status.busy": "2024-09-16T11:24:09.004077Z",
     "iopub.status.idle": "2024-09-16T11:24:09.014153Z",
     "shell.execute_reply": "2024-09-16T11:24:09.013073Z",
     "shell.execute_reply.started": "2024-09-16T11:24:09.004629Z"
    }
   },
   "outputs": [
    {
     "data": {
      "text/html": [
       "<img src=\"./react-output.png\" width=\"500\"/>"
      ],
      "text/plain": [
       "<IPython.core.display.Image object>"
      ]
     },
     "execution_count": 44,
     "metadata": {},
     "output_type": "execute_result"
    }
   ],
   "source": [
    "Image(url='./react-output.png', width=500)"
   ]
  },
  {
   "cell_type": "markdown",
   "id": "3829d503-1ad7-40de-b5d7-cac5c683b960",
   "metadata": {},
   "source": [
    "- 增加一个 respond 节点，做结构化的输出处理；"
   ]
  },
  {
   "cell_type": "code",
   "execution_count": 2,
   "id": "a7cde72e-2eb5-408b-921c-fcbc1cab0716",
   "metadata": {
    "execution": {
     "iopub.execute_input": "2024-09-12T13:14:51.948547Z",
     "iopub.status.busy": "2024-09-12T13:14:51.948127Z",
     "iopub.status.idle": "2024-09-12T13:14:51.959105Z",
     "shell.execute_reply": "2024-09-12T13:14:51.957393Z",
     "shell.execute_reply.started": "2024-09-12T13:14:51.948510Z"
    }
   },
   "outputs": [],
   "source": [
    "class WeatherResponse(BaseModel):\n",
    "    \"\"\"Respond to the user with this\"\"\"\n",
    "    temperature: float = Field(description=\"The temperature in fahrenheit\")\n",
    "    wind_directon: str = Field(description=\"The direction of the wind in abbreviated form\")\n",
    "    wind_speed: float = Field(description=\"The speed of the wind in km/h\")"
   ]
  },
  {
   "cell_type": "code",
   "execution_count": 3,
   "id": "6953cbe8-026b-4c30-b4fb-824464479aea",
   "metadata": {
    "execution": {
     "iopub.execute_input": "2024-09-12T13:15:03.198893Z",
     "iopub.status.busy": "2024-09-12T13:15:03.197917Z",
     "iopub.status.idle": "2024-09-12T13:15:03.206017Z",
     "shell.execute_reply": "2024-09-12T13:15:03.204471Z",
     "shell.execute_reply.started": "2024-09-12T13:15:03.198842Z"
    }
   },
   "outputs": [],
   "source": [
    "# Inherit 'messages' key from MessagesState, which is a list of chat messages \n",
    "class AgentState(MessagesState):\n",
    "    # Final structured response from the agent\n",
    "    final_response: WeatherResponse"
   ]
  },
  {
   "cell_type": "code",
   "execution_count": 11,
   "id": "7a92931c-767c-4dc7-aaef-842720d8be3e",
   "metadata": {
    "execution": {
     "iopub.execute_input": "2024-09-12T13:21:53.853290Z",
     "iopub.status.busy": "2024-09-12T13:21:53.852699Z",
     "iopub.status.idle": "2024-09-12T13:21:53.860373Z",
     "shell.execute_reply": "2024-09-12T13:21:53.858899Z",
     "shell.execute_reply.started": "2024-09-12T13:21:53.853239Z"
    }
   },
   "outputs": [],
   "source": [
    "from typing import get_type_hints"
   ]
  },
  {
   "cell_type": "code",
   "execution_count": 12,
   "id": "5ef324a6-cf97-4447-87af-b8742bc2e5c2",
   "metadata": {
    "execution": {
     "iopub.execute_input": "2024-09-12T13:22:00.319837Z",
     "iopub.status.busy": "2024-09-12T13:22:00.319214Z",
     "iopub.status.idle": "2024-09-12T13:22:00.331021Z",
     "shell.execute_reply": "2024-09-12T13:22:00.329294Z",
     "shell.execute_reply.started": "2024-09-12T13:22:00.319783Z"
    }
   },
   "outputs": [
    {
     "data": {
      "text/plain": [
       "{'messages': list[typing.Union[langchain_core.messages.ai.AIMessage, langchain_core.messages.human.HumanMessage, langchain_core.messages.chat.ChatMessage, langchain_core.messages.system.SystemMessage, langchain_core.messages.function.FunctionMessage, langchain_core.messages.tool.ToolMessage]],\n",
       " 'final_response': __main__.WeatherResponse}"
      ]
     },
     "execution_count": 12,
     "metadata": {},
     "output_type": "execute_result"
    }
   ],
   "source": [
    "get_type_hints(AgentState)"
   ]
  },
  {
   "cell_type": "code",
   "execution_count": 14,
   "id": "39c2b335-21d7-4803-8741-21c81c6bec96",
   "metadata": {
    "execution": {
     "iopub.execute_input": "2024-09-16T11:07:48.235630Z",
     "iopub.status.busy": "2024-09-16T11:07:48.235020Z",
     "iopub.status.idle": "2024-09-16T11:07:48.256005Z",
     "shell.execute_reply": "2024-09-16T11:07:48.254109Z",
     "shell.execute_reply.started": "2024-09-16T11:07:48.235581Z"
    }
   },
   "outputs": [],
   "source": [
    "@tool\n",
    "def get_weather(city: Literal[\"nyc\", \"sf\"]):\n",
    "    \"\"\"Use this to get weather information.\"\"\"\n",
    "    if city == \"nyc\":\n",
    "        return \"It is cloudy in NYC, with 5 mph winds in the North-East direction and a temperature of 70 degrees\"\n",
    "    elif city == \"sf\":\n",
    "        return \"It is 75 degrees and sunny in SF, with 3 mph winds in the South-East direction\"\n",
    "    else:\n",
    "        raise AssertionError(\"Unknown city\")"
   ]
  },
  {
   "cell_type": "code",
   "execution_count": 15,
   "id": "bdc28b75-9e1e-4218-baec-1a17cc3d0abc",
   "metadata": {
    "execution": {
     "iopub.execute_input": "2024-09-16T11:08:04.047670Z",
     "iopub.status.busy": "2024-09-16T11:08:04.047049Z",
     "iopub.status.idle": "2024-09-16T11:08:04.056042Z",
     "shell.execute_reply": "2024-09-16T11:08:04.054197Z",
     "shell.execute_reply.started": "2024-09-16T11:08:04.047618Z"
    }
   },
   "outputs": [],
   "source": [
    "tools = [get_weather]"
   ]
  },
  {
   "cell_type": "code",
   "execution_count": 18,
   "id": "47d948f0-59a1-4890-b2b2-87c52f054914",
   "metadata": {
    "execution": {
     "iopub.execute_input": "2024-09-16T11:08:37.010959Z",
     "iopub.status.busy": "2024-09-16T11:08:37.010321Z",
     "iopub.status.idle": "2024-09-16T11:08:37.129613Z",
     "shell.execute_reply": "2024-09-16T11:08:37.128031Z",
     "shell.execute_reply.started": "2024-09-16T11:08:37.010908Z"
    }
   },
   "outputs": [],
   "source": [
    "model = ChatOpenAI(model=\"gpt-3.5-turbo\")"
   ]
  },
  {
   "cell_type": "code",
   "execution_count": 20,
   "id": "b2a6b2ca-b934-4e9c-9864-354cb7752b6f",
   "metadata": {
    "execution": {
     "iopub.execute_input": "2024-09-16T11:09:42.751699Z",
     "iopub.status.busy": "2024-09-16T11:09:42.751333Z",
     "iopub.status.idle": "2024-09-16T11:09:42.762843Z",
     "shell.execute_reply": "2024-09-16T11:09:42.761955Z",
     "shell.execute_reply.started": "2024-09-16T11:09:42.751681Z"
    }
   },
   "outputs": [],
   "source": [
    "model_w_tools = model.bind_tools(tools)\n",
    "model_w_output = model.with_structured_output(WeatherResponse)"
   ]
  },
  {
   "cell_type": "markdown",
   "id": "e519ca33-c7e2-400f-8ffb-c5e4353050c0",
   "metadata": {},
   "source": [
    "### bind output as tool"
   ]
  },
  {
   "cell_type": "code",
   "execution_count": 21,
   "id": "4cfd02eb-1ffb-4fca-af27-9b31142befbb",
   "metadata": {
    "execution": {
     "iopub.execute_input": "2024-09-16T11:10:52.112539Z",
     "iopub.status.busy": "2024-09-16T11:10:52.111955Z",
     "iopub.status.idle": "2024-09-16T11:10:52.144811Z",
     "shell.execute_reply": "2024-09-16T11:10:52.142864Z",
     "shell.execute_reply.started": "2024-09-16T11:10:52.112489Z"
    }
   },
   "outputs": [],
   "source": [
    "from langgraph.graph import StateGraph, END\n",
    "from langgraph.prebuilt import ToolNode\n",
    "\n",
    "tools = [get_weather, WeatherResponse]"
   ]
  },
  {
   "cell_type": "code",
   "execution_count": 23,
   "id": "9e8612bf-68fd-4e9e-bd20-72141e151aa0",
   "metadata": {
    "execution": {
     "iopub.execute_input": "2024-09-16T11:11:07.340185Z",
     "iopub.status.busy": "2024-09-16T11:11:07.339565Z",
     "iopub.status.idle": "2024-09-16T11:11:07.351377Z",
     "shell.execute_reply": "2024-09-16T11:11:07.350177Z",
     "shell.execute_reply.started": "2024-09-16T11:11:07.340135Z"
    }
   },
   "outputs": [],
   "source": [
    "# Force the model to use tools by passing tool_choice=\"any\"    \n",
    "model_with_response_tool = model.bind_tools(tools, tool_choice=\"any\")"
   ]
  },
  {
   "cell_type": "code",
   "execution_count": 24,
   "id": "55fb6b22-8f4b-4e6a-a158-d245bb8e718f",
   "metadata": {
    "execution": {
     "iopub.execute_input": "2024-09-16T11:11:47.529527Z",
     "iopub.status.busy": "2024-09-16T11:11:47.528927Z",
     "iopub.status.idle": "2024-09-16T11:11:47.537460Z",
     "shell.execute_reply": "2024-09-16T11:11:47.535978Z",
     "shell.execute_reply.started": "2024-09-16T11:11:47.529477Z"
    }
   },
   "outputs": [],
   "source": [
    "# Define the function that calls the model\n",
    "def call_model(state: AgentState):\n",
    "    response = model_with_response_tool.invoke(state['messages'])\n",
    "    # We return a list, because this will get added to the existing list\n",
    "    return {\"messages\": [response]}"
   ]
  },
  {
   "cell_type": "code",
   "execution_count": 25,
   "id": "28c9117a-e768-4fac-a22b-6f23bf5b0478",
   "metadata": {
    "execution": {
     "iopub.execute_input": "2024-09-16T11:11:51.864624Z",
     "iopub.status.busy": "2024-09-16T11:11:51.863882Z",
     "iopub.status.idle": "2024-09-16T11:11:51.871221Z",
     "shell.execute_reply": "2024-09-16T11:11:51.870146Z",
     "shell.execute_reply.started": "2024-09-16T11:11:51.864573Z"
    }
   },
   "outputs": [],
   "source": [
    "# Define the function that responds to the user\n",
    "def respond(state: AgentState):\n",
    "    # Construct the final answer from the arguments of the last tool call\n",
    "    response = WeatherResponse(**state['messages'][-1].tool_calls[0]['args'])\n",
    "    # We return the final answer\n",
    "    return {\"final_response\": response}"
   ]
  },
  {
   "cell_type": "code",
   "execution_count": 26,
   "id": "18aec5a0-6a13-4f58-b201-b4bb8c89b00b",
   "metadata": {
    "execution": {
     "iopub.execute_input": "2024-09-16T11:12:52.860884Z",
     "iopub.status.busy": "2024-09-16T11:12:52.859590Z",
     "iopub.status.idle": "2024-09-16T11:12:52.867514Z",
     "shell.execute_reply": "2024-09-16T11:12:52.866457Z",
     "shell.execute_reply.started": "2024-09-16T11:12:52.860828Z"
    }
   },
   "outputs": [],
   "source": [
    "# Define the function that determines whether to continue or not\n",
    "def should_continue(state: AgentState):\n",
    "    messages = state[\"messages\"]\n",
    "    last_message = messages[-1]\n",
    "    # If there is only one tool call and it is the response tool call we respond to the user\n",
    "    if len(last_message.tool_calls) == 1 and last_message.tool_calls[0]['name'] == \"WeatherResponse\":\n",
    "        return \"respond\"\n",
    "    # Otherwise we will use the tool node again\n",
    "    else:\n",
    "        return \"continue\""
   ]
  },
  {
   "cell_type": "code",
   "execution_count": 28,
   "id": "63cf07df-5427-41e8-93fb-27daed86248b",
   "metadata": {
    "execution": {
     "iopub.execute_input": "2024-09-16T11:13:19.831436Z",
     "iopub.status.busy": "2024-09-16T11:13:19.830822Z",
     "iopub.status.idle": "2024-09-16T11:13:19.850932Z",
     "shell.execute_reply": "2024-09-16T11:13:19.848963Z",
     "shell.execute_reply.started": "2024-09-16T11:13:19.831385Z"
    }
   },
   "outputs": [],
   "source": [
    "# Define a new graph\n",
    "workflow = StateGraph(AgentState)\n",
    "\n",
    "# Define the two nodes we will cycle between\n",
    "workflow.add_node(\"agent\", call_model)\n",
    "workflow.add_node(\"respond\", respond)\n",
    "workflow.add_node(\"tools\", ToolNode(tools))"
   ]
  },
  {
   "cell_type": "code",
   "execution_count": 29,
   "id": "716591e1-93c2-4f6a-a538-89dabf0a1f0a",
   "metadata": {
    "execution": {
     "iopub.execute_input": "2024-09-16T11:13:26.651773Z",
     "iopub.status.busy": "2024-09-16T11:13:26.651151Z",
     "iopub.status.idle": "2024-09-16T11:13:26.664818Z",
     "shell.execute_reply": "2024-09-16T11:13:26.662766Z",
     "shell.execute_reply.started": "2024-09-16T11:13:26.651720Z"
    }
   },
   "outputs": [],
   "source": [
    "# Set the entrypoint as `agent`\n",
    "# This means that this node is the first one called\n",
    "workflow.set_entry_point(\"agent\")\n",
    "\n",
    "# We now add a conditional edge\n",
    "workflow.add_conditional_edges(\n",
    "    \"agent\",\n",
    "    should_continue,\n",
    "    {\n",
    "        \"continue\": \"tools\",\n",
    "        \"respond\": \"respond\",\n",
    "    },\n",
    ")\n",
    "\n",
    "workflow.add_edge(\"tools\", \"agent\")\n",
    "workflow.add_edge(\"respond\", END)\n",
    "graph = workflow.compile()"
   ]
  },
  {
   "cell_type": "code",
   "execution_count": 33,
   "id": "8ed5c23f-ca9a-48e6-9ee2-75d263f264be",
   "metadata": {
    "execution": {
     "iopub.execute_input": "2024-09-16T11:15:21.222874Z",
     "iopub.status.busy": "2024-09-16T11:15:21.222406Z",
     "iopub.status.idle": "2024-09-16T11:15:21.228578Z",
     "shell.execute_reply": "2024-09-16T11:15:21.227880Z",
     "shell.execute_reply.started": "2024-09-16T11:15:21.222851Z"
    }
   },
   "outputs": [
    {
     "data": {
      "text/plain": [
       "[Edge(source='__start__', target='agent', data=None, conditional=False),\n",
       " Edge(source='respond', target='__end__', data=None, conditional=False),\n",
       " Edge(source='tools', target='agent', data=None, conditional=False),\n",
       " Edge(source='agent', target='tools', data='continue', conditional=True),\n",
       " Edge(source='agent', target='respond', data=None, conditional=True)]"
      ]
     },
     "execution_count": 33,
     "metadata": {},
     "output_type": "execute_result"
    }
   ],
   "source": [
    "graph.get_graph().edges"
   ]
  },
  {
   "cell_type": "code",
   "execution_count": 30,
   "id": "54bd4a19-e309-4343-a9ef-f387de632961",
   "metadata": {
    "execution": {
     "iopub.execute_input": "2024-09-16T11:13:47.041470Z",
     "iopub.status.busy": "2024-09-16T11:13:47.040850Z",
     "iopub.status.idle": "2024-09-16T11:13:49.618618Z",
     "shell.execute_reply": "2024-09-16T11:13:49.616722Z",
     "shell.execute_reply.started": "2024-09-16T11:13:47.041420Z"
    }
   },
   "outputs": [
    {
     "data": {
      "image/jpeg": "[encoded data removed]",
      "text/plain": [
       "<IPython.core.display.Image object>"
      ]
     },
     "metadata": {},
     "output_type": "display_data"
    }
   ],
   "source": [
    "from IPython.display import Image, display\n",
    "\n",
    "try:\n",
    "    display(Image(graph.get_graph().draw_mermaid_png()))\n",
    "except Exception:\n",
    "    # This requires some extra dependencies and is optional\n",
    "    pass"
   ]
  },
  {
   "cell_type": "code",
   "execution_count": 35,
   "id": "70912068-e192-4c54-85dd-9422de5f63ae",
   "metadata": {
    "execution": {
     "iopub.execute_input": "2024-09-16T11:16:10.008235Z",
     "iopub.status.busy": "2024-09-16T11:16:10.007598Z",
     "iopub.status.idle": "2024-09-16T11:16:11.822005Z",
     "shell.execute_reply": "2024-09-16T11:16:11.820165Z",
     "shell.execute_reply.started": "2024-09-16T11:16:10.008182Z"
    }
   },
   "outputs": [],
   "source": [
    "results = graph.invoke(input={\"messages\": [(\"human\", \"what's the weather in SF?\")]})"
   ]
  },
  {
   "cell_type": "code",
   "execution_count": 41,
   "id": "ae34b19a-e7a4-4226-9a72-38af46716dd3",
   "metadata": {
    "execution": {
     "iopub.execute_input": "2024-09-16T11:18:22.314798Z",
     "iopub.status.busy": "2024-09-16T11:18:22.314201Z",
     "iopub.status.idle": "2024-09-16T11:18:22.324911Z",
     "shell.execute_reply": "2024-09-16T11:18:22.323743Z",
     "shell.execute_reply.started": "2024-09-16T11:18:22.314746Z"
    }
   },
   "outputs": [
    {
     "data": {
      "text/plain": [
       "[{'name': 'WeatherResponse',\n",
       "  'args': {'temperature': 75, 'wind_directon': 'South-East', 'wind_speed': 3},\n",
       "  'id': 'call_bjDPgQiypQ1XlkympYzr0frk',\n",
       "  'type': 'tool_call'}]"
      ]
     },
     "execution_count": 41,
     "metadata": {},
     "output_type": "execute_result"
    }
   ],
   "source": [
    "results['messages'][-1].tool_calls"
   ]
  },
  {
   "cell_type": "code",
   "execution_count": 47,
   "id": "34b08aa4-8b66-46e7-baf0-531a46514dfd",
   "metadata": {
    "execution": {
     "iopub.execute_input": "2024-09-16T11:27:10.986310Z",
     "iopub.status.busy": "2024-09-16T11:27:10.985703Z",
     "iopub.status.idle": "2024-09-16T11:27:10.998005Z",
     "shell.execute_reply": "2024-09-16T11:27:10.996252Z",
     "shell.execute_reply.started": "2024-09-16T11:27:10.986258Z"
    }
   },
   "outputs": [
    {
     "data": {
      "text/plain": [
       "HumanMessage(content=\"what's the weather in SF?\", id='7bc3a8f4-f3ef-4ce3-8cca-f6b002addfe3')"
      ]
     },
     "execution_count": 47,
     "metadata": {},
     "output_type": "execute_result"
    }
   ],
   "source": [
    "results['messages'][0]"
   ]
  },
  {
   "cell_type": "code",
   "execution_count": 48,
   "id": "1dc0b200-7f33-46ca-9eae-f5814289a879",
   "metadata": {
    "execution": {
     "iopub.execute_input": "2024-09-16T11:27:15.285082Z",
     "iopub.status.busy": "2024-09-16T11:27:15.284489Z",
     "iopub.status.idle": "2024-09-16T11:27:15.295400Z",
     "shell.execute_reply": "2024-09-16T11:27:15.293976Z",
     "shell.execute_reply.started": "2024-09-16T11:27:15.285032Z"
    },
    "scrolled": true
   },
   "outputs": [
    {
     "data": {
      "text/plain": [
       "AIMessage(content='', additional_kwargs={'tool_calls': [{'id': 'call_Wlkt5oO1snqiL1T6Ikh3LKgA', 'function': {'arguments': '{\"city\":\"sf\"}', 'name': 'get_weather'}, 'type': 'function'}]}, response_metadata={'token_usage': {'completion_tokens': 12, 'prompt_tokens': 122, 'total_tokens': 134, 'completion_tokens_details': {'reasoning_tokens': 0}}, 'model_name': 'gpt-3.5-turbo-0125', 'system_fingerprint': None, 'finish_reason': 'stop', 'logprobs': None}, id='run-e1c46792-7b9f-4d00-af6e-8c1c929b380f-0', tool_calls=[{'name': 'get_weather', 'args': {'city': 'sf'}, 'id': 'call_Wlkt5oO1snqiL1T6Ikh3LKgA', 'type': 'tool_call'}], usage_metadata={'input_tokens': 122, 'output_tokens': 12, 'total_tokens': 134})"
      ]
     },
     "execution_count": 48,
     "metadata": {},
     "output_type": "execute_result"
    }
   ],
   "source": [
    "results['messages'][1]"
   ]
  },
  {
   "cell_type": "code",
   "execution_count": 59,
   "id": "60e7c88a-99af-4664-99fa-ea31d3286139",
   "metadata": {
    "execution": {
     "iopub.execute_input": "2024-09-17T03:50:31.768793Z",
     "iopub.status.busy": "2024-09-17T03:50:31.768037Z",
     "iopub.status.idle": "2024-09-17T03:50:31.776875Z",
     "shell.execute_reply": "2024-09-17T03:50:31.775864Z",
     "shell.execute_reply.started": "2024-09-17T03:50:31.768741Z"
    }
   },
   "outputs": [
    {
     "data": {
      "text/plain": [
       "[{'id': 'call_Wlkt5oO1snqiL1T6Ikh3LKgA',\n",
       "  'function': {'arguments': '{\"city\":\"sf\"}', 'name': 'get_weather'},\n",
       "  'type': 'function'}]"
      ]
     },
     "execution_count": 59,
     "metadata": {},
     "output_type": "execute_result"
    }
   ],
   "source": [
    "results['messages'][1].additional_kwargs['tool_calls']"
   ]
  },
  {
   "cell_type": "code",
   "execution_count": 62,
   "id": "a0be8e51-bb57-477d-aa81-fe13557c9618",
   "metadata": {
    "execution": {
     "iopub.execute_input": "2024-09-17T03:52:58.176389Z",
     "iopub.status.busy": "2024-09-17T03:52:58.175378Z",
     "iopub.status.idle": "2024-09-17T03:52:58.184159Z",
     "shell.execute_reply": "2024-09-17T03:52:58.183116Z",
     "shell.execute_reply.started": "2024-09-17T03:52:58.176337Z"
    }
   },
   "outputs": [
    {
     "data": {
      "text/plain": [
       "ToolMessage(content='It is 75 degrees and sunny in SF, with 3 mph winds in the South-East direction', name='get_weather', id='8daa53c9-3c7f-4739-86ae-c6f3636f765f', tool_call_id='call_Wlkt5oO1snqiL1T6Ikh3LKgA')"
      ]
     },
     "execution_count": 62,
     "metadata": {},
     "output_type": "execute_result"
    }
   ],
   "source": [
    "results['messages'][2]"
   ]
  },
  {
   "cell_type": "code",
   "execution_count": 50,
   "id": "f1022729-b036-4de6-8a94-4cac9c37eb3d",
   "metadata": {
    "execution": {
     "iopub.execute_input": "2024-09-16T11:27:53.463893Z",
     "iopub.status.busy": "2024-09-16T11:27:53.463578Z",
     "iopub.status.idle": "2024-09-16T11:27:53.469661Z",
     "shell.execute_reply": "2024-09-16T11:27:53.469159Z",
     "shell.execute_reply.started": "2024-09-16T11:27:53.463870Z"
    }
   },
   "outputs": [
    {
     "data": {
      "text/plain": [
       "AIMessage(content='', additional_kwargs={'tool_calls': [{'id': 'call_bjDPgQiypQ1XlkympYzr0frk', 'function': {'arguments': '{\"temperature\":75,\"wind_directon\":\"South-East\",\"wind_speed\":3}', 'name': 'WeatherResponse'}, 'type': 'function'}]}, response_metadata={'token_usage': {'completion_tokens': 25, 'prompt_tokens': 164, 'total_tokens': 189, 'completion_tokens_details': {'reasoning_tokens': 0}}, 'model_name': 'gpt-3.5-turbo-0125', 'system_fingerprint': None, 'finish_reason': 'stop', 'logprobs': None}, id='run-b79bf130-ba9e-46c3-8855-204135330107-0', tool_calls=[{'name': 'WeatherResponse', 'args': {'temperature': 75, 'wind_directon': 'South-East', 'wind_speed': 3}, 'id': 'call_bjDPgQiypQ1XlkympYzr0frk', 'type': 'tool_call'}], usage_metadata={'input_tokens': 164, 'output_tokens': 25, 'total_tokens': 189})"
      ]
     },
     "execution_count": 50,
     "metadata": {},
     "output_type": "execute_result"
    }
   ],
   "source": [
    "results['messages'][3]"
   ]
  },
  {
   "cell_type": "code",
   "execution_count": null,
   "id": "42d41c21-fcc8-431b-8386-e7752fd82f54",
   "metadata": {},
   "outputs": [],
   "source": []
  }
 ],
 "metadata": {
  "kernelspec": {
   "display_name": "agent",
   "language": "python",
   "name": "agent"
  },
  "language_info": {
   "codemirror_mode": {
    "name": "ipython",
    "version": 3
   },
   "file_extension": ".py",
   "mimetype": "text/x-python",
   "name": "python",
   "nbconvert_exporter": "python",
   "pygments_lexer": "ipython3",
   "version": "3.12.2"
  }
 },
 "nbformat": 4,
 "nbformat_minor": 5
}
