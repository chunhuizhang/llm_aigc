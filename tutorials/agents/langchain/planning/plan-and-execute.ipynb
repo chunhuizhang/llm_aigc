{
 "cells": [
  {
   "cell_type": "code",
   "execution_count": 1,
   "id": "b3a4e90a-2a39-4617-8664-682c312afc0b",
   "metadata": {},
   "outputs": [],
   "source": [
    "from dotenv import load_dotenv\n",
    "from ast import literal_eval"
   ]
  },
  {
   "cell_type": "code",
   "execution_count": 2,
   "id": "6d5f86b5-a7d9-4f85-8c68-8558711f1cfc",
   "metadata": {},
   "outputs": [],
   "source": [
    "assert load_dotenv()"
   ]
  },
  {
   "cell_type": "code",
   "execution_count": 3,
   "id": "4a0df460-01e2-4973-9c22-47d9d4c2bc98",
   "metadata": {},
   "outputs": [
    {
     "name": "stderr",
     "output_type": "stream",
     "text": [
      "/tmp/ipykernel_2690831/2518516040.py:3: LangChainDeprecationWarning: The class `TavilySearchResults` was deprecated in LangChain 0.3.25 and will be removed in 1.0. An updated version of the class exists in the :class:`~langchain-tavily package and should be used instead. To use it run `pip install -U :class:`~langchain-tavily` and import as `from :class:`~langchain_tavily import TavilySearch``.\n",
      "  tools = [TavilySearchResults(max_results=3)]\n"
     ]
    }
   ],
   "source": [
    "from langchain_community.tools.tavily_search import TavilySearchResults\n",
    "\n",
    "tools = [TavilySearchResults(max_results=3)]"
   ]
  },
  {
   "cell_type": "code",
   "execution_count": 4,
   "id": "9613177b-3b51-4328-aab2-3964f4f92516",
   "metadata": {},
   "outputs": [],
   "source": [
    "from langchain_openai import ChatOpenAI\n",
    "\n",
    "from langgraph.prebuilt import create_react_agent\n",
    "\n",
    "# Choose the LLM that will drive the agent\n",
    "llm = ChatOpenAI(model=\"gpt-4.1-nano\")\n",
    "prompt = \"You are a helpful assistant.\"\n",
    "agent_executor = create_react_agent(llm, tools, prompt=prompt)"
   ]
  },
  {
   "cell_type": "code",
   "execution_count": 5,
   "id": "e045631f-f825-4335-88f4-20c698f973f5",
   "metadata": {},
   "outputs": [],
   "source": [
    "messages = agent_executor.invoke({\"messages\": [(\"user\", \"who is the winnner of the us open\")]})['messages']"
   ]
  },
  {
   "cell_type": "code",
   "execution_count": 6,
   "id": "cf01ea07-219a-4862-ba75-7c99701cbe81",
   "metadata": {},
   "outputs": [
    {
     "name": "stdout",
     "output_type": "stream",
     "text": [
      "human\n",
      "ai\n",
      "tool\n",
      "ai\n"
     ]
    },
    {
     "data": {
      "text/plain": [
       "\"The winner of the most recent US Open in men's singles is Jannik Sinner from Italy, and in women's singles, Aryna Sabalenka.\""
      ]
     },
     "execution_count": 6,
     "metadata": {},
     "output_type": "execute_result"
    }
   ],
   "source": [
    "for msg in messages:\n",
    "    print(msg.type, )\n",
    "messages[-1].content"
   ]
  },
  {
   "cell_type": "code",
   "execution_count": 7,
   "id": "4ebd7e7a-fd44-4ce4-af79-3bb794d55989",
   "metadata": {},
   "outputs": [
    {
     "name": "stdout",
     "output_type": "stream",
     "text": [
      "In the doubles events, Sam Stosur and Shuai Zhang won the women's title, while Rajeev Ram and Joe Salisbury claimed the men's crown. Salisbury also teamed with Desirae Krawczyk and to win the mixed. [...] In 2016, the US Open once again earned its reputation as the toughest two weeks in tennis. From its concrete surface to the weather that alternates between summer and fall, a Flushing fortnight is not for the faint of heart. So it seemed only fitting that two of the game’s most tenacious competitors, Angelique Kerber and Stan Wawrinka, emerged as its champions. [...] championship. Also with the victories, Williams and Nadal each took home a record payday of $3.6 million as the US Open and Emirates Airline US Open Series champions. The US Open year of the veteran extended to doubles as well, where 40-year-old Leander Paes won the men’s doubles title with 34-year-old Radek Stepanek, and 36-year-old Max Mirnyi teamed with relative youngster Andrea Hlavackova, 27, to claim the mixed championship. Hlavackova also won the women’s doubles title, with 28-year-old\n"
     ]
    }
   ],
   "source": [
    "print(literal_eval(messages[2].content)[0]['content'])"
   ]
  },
  {
   "cell_type": "markdown",
   "id": "d7fd15ea-3486-4af4-84ef-e27c34c63a95",
   "metadata": {},
   "source": [
    "### State"
   ]
  },
  {
   "cell_type": "code",
   "execution_count": 8,
   "id": "ae060734-95fb-4ecd-af90-0f421dfd32b0",
   "metadata": {},
   "outputs": [],
   "source": [
    "import operator\n",
    "from typing import Annotated, List, Tuple\n",
    "from typing_extensions import TypedDict\n",
    "\n",
    "\n",
    "class PlanExecute(TypedDict):\n",
    "    input: str\n",
    "    plan: List[str]\n",
    "    past_steps: Annotated[List[Tuple], operator.add]\n",
    "    response: str"
   ]
  },
  {
   "cell_type": "markdown",
   "id": "08fb1971-d83e-48d9-9b13-4bc8bf57106b",
   "metadata": {},
   "source": [
    "### planner"
   ]
  },
  {
   "cell_type": "code",
   "execution_count": 9,
   "id": "01e90017-9d12-4883-8d89-e6367eb1cbcd",
   "metadata": {},
   "outputs": [],
   "source": [
    "from pydantic import BaseModel, Field\n",
    "\n",
    "\n",
    "class Plan(BaseModel):\n",
    "    \"\"\"Plan to follow in future\"\"\"\n",
    "\n",
    "    steps: List[str] = Field(\n",
    "        description=\"different steps to follow, should be in sorted order\"\n",
    "    )"
   ]
  },
  {
   "cell_type": "code",
   "execution_count": 10,
   "id": "cd30695d-32b9-4ef7-b1df-70ebdd880ec2",
   "metadata": {},
   "outputs": [],
   "source": [
    "from langchain_core.prompts import ChatPromptTemplate\n",
    "\n",
    "planner_prompt = ChatPromptTemplate.from_messages(\n",
    "    [\n",
    "        (\n",
    "            \"system\",\n",
    "            \"\"\"For the given objective, come up with a simple step by step plan. \\\n",
    "This plan should involve individual tasks, that if executed correctly will yield the correct answer. Do not add any superfluous steps. \\\n",
    "The result of the final step should be the final answer. Make sure that each step has all the information needed - do not skip steps.\"\"\",\n",
    "        ),\n",
    "        (\"placeholder\", \"{messages}\"),\n",
    "    ]\n",
    ")\n",
    "planner = planner_prompt | ChatOpenAI(\n",
    "    model=\"gpt-4.1\", temperature=0\n",
    ").with_structured_output(Plan)\n"
   ]
  },
  {
   "cell_type": "code",
   "execution_count": 11,
   "id": "eaa2c43e-2b45-4634-b6d2-6bfc13f1dd2a",
   "metadata": {},
   "outputs": [
    {
     "data": {
      "text/plain": [
       "Plan(steps=['Identify the current Australian Open winner (the most recent winner of the tournament).', 'Find the full name of the winner.', 'Look up the hometown or place of birth of the winner.', 'The result from the previous step is the answer.'])"
      ]
     },
     "execution_count": 11,
     "metadata": {},
     "output_type": "execute_result"
    }
   ],
   "source": [
    "planner.invoke(\n",
    "    {\n",
    "        \"messages\": [\n",
    "            (\"user\", \"what is the hometown of the current Australia open winner?\")\n",
    "        ]\n",
    "    }\n",
    ")"
   ]
  },
  {
   "cell_type": "markdown",
   "id": "283a62ea-08aa-44f0-814b-8a259a0ac717",
   "metadata": {},
   "source": [
    "### Re-Plan Step"
   ]
  },
  {
   "cell_type": "markdown",
   "id": "44b0e23f-2606-4cf4-8168-1172930e7e37",
   "metadata": {},
   "source": [
    "- 注意 re-plan 的 context"
   ]
  },
  {
   "cell_type": "code",
   "execution_count": 12,
   "id": "fdd94b64-9b14-4f79-a0c6-0df00febe7b3",
   "metadata": {},
   "outputs": [],
   "source": [
    "from typing import Union\n",
    "\n",
    "\n",
    "class Response(BaseModel):\n",
    "    \"\"\"Response to user.\"\"\"\n",
    "\n",
    "    response: str\n",
    "\n",
    "\n",
    "class Act(BaseModel):\n",
    "    \"\"\"Action to perform.\"\"\"\n",
    "\n",
    "    action: Union[Response, Plan] = Field(\n",
    "        description=\"Action to perform. If you want to respond to user, use Response. \"\n",
    "        \"If you need to further use tools to get the answer, use Plan.\"\n",
    "    )\n",
    "\n",
    "\n",
    "replanner_prompt = ChatPromptTemplate.from_template(\n",
    "    \"\"\"For the given objective, come up with a simple step by step plan. \\\n",
    "This plan should involve individual tasks, that if executed correctly will yield the correct answer. Do not add any superfluous steps. \\\n",
    "The result of the final step should be the final answer. Make sure that each step has all the information needed - do not skip steps.\n",
    "\n",
    "Your objective was this:\n",
    "{input}\n",
    "\n",
    "Your original plan was this:\n",
    "{plan}\n",
    "\n",
    "You have currently done the follow steps:\n",
    "{past_steps}\n",
    "\n",
    "Update your plan accordingly. If no more steps are needed and you can return to the user, then respond with that. Otherwise, fill out the plan. Only add steps to the plan that still NEED to be done. Do not return previously done steps as part of the plan.\"\"\"\n",
    ")\n",
    "\n",
    "\n",
    "replanner = replanner_prompt | ChatOpenAI(\n",
    "    model=\"gpt-4o\", temperature=0\n",
    ").with_structured_output(Act)"
   ]
  },
  {
   "cell_type": "markdown",
   "id": "36738654-19c2-4dc4-8a5d-1df8e04f3b1d",
   "metadata": {},
   "source": [
    "### Graph"
   ]
  },
  {
   "cell_type": "code",
   "execution_count": 13,
   "id": "e5ded958-f05a-4e29-8734-ab0abb478835",
   "metadata": {},
   "outputs": [],
   "source": [
    "from typing import Literal\n",
    "from langgraph.graph import END\n",
    "\n",
    "\n",
    "async def execute_step(state: PlanExecute):\n",
    "    plan = state[\"plan\"]\n",
    "    plan_str = \"\\n\".join(f\"{i+1}. {step}\" for i, step in enumerate(plan))\n",
    "    task = plan[0]\n",
    "    task_formatted = f\"\"\"For the following plan:\n",
    "{plan_str}\\n\\nYou are tasked with executing step {1}, {task}.\"\"\"\n",
    "    agent_response = await agent_executor.ainvoke(\n",
    "        {\"messages\": [(\"user\", task_formatted)]}\n",
    "    )\n",
    "    return {\n",
    "        \"past_steps\": [(task, agent_response[\"messages\"][-1].content)],\n",
    "    }\n",
    "\n",
    "\n",
    "async def plan_step(state: PlanExecute):\n",
    "    plan = await planner.ainvoke({\"messages\": [(\"user\", state[\"input\"])]})\n",
    "    return {\"plan\": plan.steps}\n",
    "\n",
    "\n",
    "async def replan_step(state: PlanExecute):\n",
    "    output = await replanner.ainvoke(state)\n",
    "    if isinstance(output.action, Response):\n",
    "        return {\"response\": output.action.response}\n",
    "    else:\n",
    "        # 替换新的 plan\n",
    "        return {\"plan\": output.action.steps}\n",
    "\n",
    "\n",
    "def should_end(state: PlanExecute):\n",
    "    if \"response\" in state and state[\"response\"]:\n",
    "        return END\n",
    "    else:\n",
    "        return \"agent\""
   ]
  },
  {
   "cell_type": "code",
   "execution_count": 14,
   "id": "f4d990dc-8225-48ee-a1a9-05c8952d8737",
   "metadata": {},
   "outputs": [],
   "source": [
    "from langgraph.graph import StateGraph, START\n",
    "\n",
    "workflow = StateGraph(PlanExecute)\n",
    "\n",
    "# Add the plan node\n",
    "workflow.add_node(\"planner\", plan_step)\n",
    "\n",
    "# Add the execution step\n",
    "workflow.add_node(\"agent\", execute_step)\n",
    "\n",
    "# Add a replan node\n",
    "workflow.add_node(\"replan\", replan_step)\n",
    "\n",
    "workflow.add_edge(START, \"planner\")\n",
    "\n",
    "# From plan we go to agent\n",
    "workflow.add_edge(\"planner\", \"agent\")\n",
    "\n",
    "# From agent, we replan\n",
    "workflow.add_edge(\"agent\", \"replan\")\n",
    "\n",
    "workflow.add_conditional_edges(\n",
    "    \"replan\",\n",
    "    # Next, we pass in the function that will determine which node is called next.\n",
    "    should_end,\n",
    "    [\"agent\", END],\n",
    ")\n",
    "\n",
    "# Finally, we compile it!\n",
    "# This compiles it into a LangChain Runnable,\n",
    "# meaning you can use it as you would any other runnable\n",
    "app = workflow.compile()"
   ]
  },
  {
   "cell_type": "code",
   "execution_count": 15,
   "id": "601a914d-12ed-469b-8237-63863f35f082",
   "metadata": {},
   "outputs": [
    {
     "data": {
      "image/png": "[encoded data removed]",
      "text/plain": [
       "<IPython.core.display.Image object>"
      ]
     },
     "metadata": {},
     "output_type": "display_data"
    }
   ],
   "source": [
    "from IPython.display import Image, display\n",
    "\n",
    "display(Image(app.get_graph(xray=True).draw_mermaid_png()))"
   ]
  },
  {
   "cell_type": "code",
   "execution_count": 16,
   "id": "8f4ec744-67db-42ed-ade3-6181082000d1",
   "metadata": {},
   "outputs": [
    {
     "name": "stdout",
     "output_type": "stream",
     "text": [
      "{'plan': [\"Identify the winner of the men's 2024 Australian Open.\", 'Find the hometown of the identified winner.', 'The result from step 2 is the final answer.']}\n",
      "{'past_steps': [(\"Identify the winner of the men's 2024 Australian Open.\", \"The winner of the men's 2024 Australian Open is Jannik Sinner.\")]}\n",
      "{'plan': [\"Find the hometown of Jannik Sinner, the winner of the men's 2024 Australian Open.\", 'The result from step 1 is the final answer.']}\n",
      "{'past_steps': [(\"Find the hometown of Jannik Sinner, the winner of the men's 2024 Australian Open.\", 'The hometown of Jannik Sinner is Sexten, which is in the region of South Tyrol in Northern Italy.')]}\n",
      "{'response': \"The objective has been successfully completed. The hometown of Jannik Sinner, the winner of the men's 2024 Australian Open, is Sexten, located in the region of South Tyrol in Northern Italy. No further steps are needed.\"}\n"
     ]
    }
   ],
   "source": [
    "config = {\"recursion_limit\": 50}\n",
    "inputs = {\"input\": \"what is the hometown of the mens 2024 Australia open winner?\"}\n",
    "async for event in app.astream(inputs, config=config):\n",
    "    for k, v in event.items():\n",
    "        if k != \"__end__\":\n",
    "            print(v)"
   ]
  },
  {
   "cell_type": "code",
   "execution_count": null,
   "id": "fccbd572-bcfe-46d1-a3ea-3225cce43323",
   "metadata": {},
   "outputs": [],
   "source": []
  }
 ],
 "metadata": {
  "kernelspec": {
   "display_name": "Python 3 (ipykernel)",
   "language": "python",
   "name": "python3"
  },
  "language_info": {
   "codemirror_mode": {
    "name": "ipython",
    "version": 3
   },
   "file_extension": ".py",
   "mimetype": "text/x-python",
   "name": "python",
   "nbconvert_exporter": "python",
   "pygments_lexer": "ipython3",
   "version": "3.10.0"
  }
 },
 "nbformat": 4,
 "nbformat_minor": 5
}
