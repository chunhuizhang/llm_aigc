{
 "cells": [
  {
   "cell_type": "code",
   "execution_count": 25,
   "id": "dad90411-0670-4bec-b867-919220130567",
   "metadata": {
    "execution": {
     "iopub.execute_input": "2024-08-24T09:02:36.486828Z",
     "iopub.status.busy": "2024-08-24T09:02:36.486198Z",
     "iopub.status.idle": "2024-08-24T09:02:36.494682Z",
     "shell.execute_reply": "2024-08-24T09:02:36.493014Z",
     "shell.execute_reply.started": "2024-08-24T09:02:36.486776Z"
    }
   },
   "outputs": [],
   "source": [
    "from IPython.display import Image"
   ]
  },
  {
   "cell_type": "markdown",
   "id": "049bea61-a40c-4f93-b4a4-5b7c2486d8de",
   "metadata": {},
   "source": [
    "LangChain => LangGraph\n",
    "\n",
    "- LangChain 的链（Chain）不具备“循环”能力；\n",
    "- AgentExecutor 调度的Agent运行过于“黑盒”。\n",
    "    - llm with tool executor\n",
    "\n",
    "LangGraph vs. AutoGen\n",
    "\n",
    "- 都是 Multi-agent framework\n",
    "- LangGraph prefers an approach where you explicitly define different agents and transition probabilities, preferring to represent it as a graph\n",
    "- Autogen frames it more as a \"conversation\". \n",
    "- Another key difference between Autogen and LangGraph is that LangGraph is fully integrated into the LangChain ecosystem, meaning you take fully advantage of all the LangChain integrations and LangSmith observability.\n"
   ]
  },
  {
   "cell_type": "markdown",
   "id": "80d54b5f-8e14-40be-bf8e-cdd5e536b1c4",
   "metadata": {},
   "source": [
    "## (Self-Corrective) RAG on LangGraph"
   ]
  },
  {
   "cell_type": "markdown",
   "id": "d9f1347b-9dfd-48b0-9668-cf0054ed1f65",
   "metadata": {
    "execution": {
     "iopub.execute_input": "2024-08-24T08:55:28.421074Z",
     "iopub.status.busy": "2024-08-24T08:55:28.420443Z",
     "iopub.status.idle": "2024-08-24T08:55:28.431232Z",
     "shell.execute_reply": "2024-08-24T08:55:28.429131Z",
     "shell.execute_reply.started": "2024-08-24T08:55:28.421020Z"
    }
   },
   "source": [
    "https://github.com/vbarda/pandas-rag-langgraph/blob/main/demo.ipynb\n",
    "\n",
    "- RAG（Retrieval-Augmented Generation）\n",
    "    - 未被 llm 训练过程覆盖的 domain knowledge 或者新知识；\n",
    "    - 提供确定性的知识作为 context，进一步降低幻觉（hallucinations）\n",
    "        - GROUNDED IN DOCUMENTS\n",
    "- vector database\n",
    "    - Chroma"
   ]
  },
  {
   "cell_type": "markdown",
   "id": "db3009c3-c424-4c60-a8f7-8857755f6a4b",
   "metadata": {},
   "source": [
    "#### RAG chain: developer-defined control flow"
   ]
  },
  {
   "cell_type": "code",
   "execution_count": 26,
   "id": "603f0060-d297-45e3-801b-7d975b356e43",
   "metadata": {
    "execution": {
     "iopub.execute_input": "2024-08-24T09:02:41.457734Z",
     "iopub.status.busy": "2024-08-24T09:02:41.457129Z",
     "iopub.status.idle": "2024-08-24T09:02:41.469241Z",
     "shell.execute_reply": "2024-08-24T09:02:41.467584Z",
     "shell.execute_reply.started": "2024-08-24T09:02:41.457645Z"
    }
   },
   "outputs": [
    {
     "data": {
      "text/html": [
       "<img src=\"../../../imgs/rag-chain.png\" width=\"500\"/>"
      ],
      "text/plain": [
       "<IPython.core.display.Image object>"
      ]
     },
     "execution_count": 26,
     "metadata": {},
     "output_type": "execute_result"
    }
   ],
   "source": [
    "Image(url='../../../imgs/rag-chain.png', width=500)"
   ]
  },
  {
   "cell_type": "markdown",
   "id": "0836e103-bd3f-4e78-98c7-e0223001dd02",
   "metadata": {},
   "source": [
    "#### RAG Agent: LLM-defined control flow"
   ]
  },
  {
   "cell_type": "code",
   "execution_count": 27,
   "id": "20e8b105-27d9-41e7-9fa8-9585c1238d1d",
   "metadata": {
    "execution": {
     "iopub.execute_input": "2024-08-24T09:03:06.937305Z",
     "iopub.status.busy": "2024-08-24T09:03:06.936668Z",
     "iopub.status.idle": "2024-08-24T09:03:06.949334Z",
     "shell.execute_reply": "2024-08-24T09:03:06.947731Z",
     "shell.execute_reply.started": "2024-08-24T09:03:06.937248Z"
    }
   },
   "outputs": [
    {
     "data": {
      "text/html": [
       "<img src=\"../../../imgs/rag-agent.png\" width=\"500\"/>"
      ],
      "text/plain": [
       "<IPython.core.display.Image object>"
      ]
     },
     "execution_count": 27,
     "metadata": {},
     "output_type": "execute_result"
    }
   ],
   "source": [
    "Image(url='../../../imgs/rag-agent.png', width=500)"
   ]
  },
  {
   "cell_type": "markdown",
   "id": "219a8a29-76fe-4ba2-a941-26fa1fe7d5bf",
   "metadata": {},
   "source": [
    "#### Self-Corrective RAG "
   ]
  },
  {
   "cell_type": "code",
   "execution_count": 28,
   "id": "1de5615f-8cc8-4c4c-8890-cba9b31ed32d",
   "metadata": {
    "execution": {
     "iopub.execute_input": "2024-08-24T09:03:42.981874Z",
     "iopub.status.busy": "2024-08-24T09:03:42.981225Z",
     "iopub.status.idle": "2024-08-24T09:03:42.992532Z",
     "shell.execute_reply": "2024-08-24T09:03:42.990730Z",
     "shell.execute_reply.started": "2024-08-24T09:03:42.981820Z"
    }
   },
   "outputs": [
    {
     "data": {
      "text/html": [
       "<img src=\"../../../imgs/self-corrective-rag.png\" width=\"500\"/>"
      ],
      "text/plain": [
       "<IPython.core.display.Image object>"
      ]
     },
     "execution_count": 28,
     "metadata": {},
     "output_type": "execute_result"
    }
   ],
   "source": [
    "Image(url='../../../imgs/self-corrective-rag.png', width=500)"
   ]
  },
  {
   "cell_type": "code",
   "execution_count": 1,
   "id": "3b0b70e0-4bb8-48bd-aae6-112a107ad4b2",
   "metadata": {
    "execution": {
     "iopub.execute_input": "2024-08-24T06:08:41.956293Z",
     "iopub.status.busy": "2024-08-24T06:08:41.955526Z",
     "iopub.status.idle": "2024-08-24T06:08:41.963769Z",
     "shell.execute_reply": "2024-08-24T06:08:41.962205Z",
     "shell.execute_reply.started": "2024-08-24T06:08:41.956239Z"
    }
   },
   "outputs": [],
   "source": [
    "# !pip install langgraph-checkpoint-sqlite\n",
    "# !pip install beautifulsoup4\n",
    "# !pip install chromadb"
   ]
  },
  {
   "cell_type": "code",
   "execution_count": 2,
   "id": "d1a5e63c-cb44-466b-9234-f443b4397013",
   "metadata": {
    "execution": {
     "iopub.execute_input": "2024-08-24T06:08:41.965950Z",
     "iopub.status.busy": "2024-08-24T06:08:41.965245Z",
     "iopub.status.idle": "2024-08-24T06:08:42.774491Z",
     "shell.execute_reply": "2024-08-24T06:08:42.773841Z",
     "shell.execute_reply.started": "2024-08-24T06:08:41.965900Z"
    }
   },
   "outputs": [
    {
     "name": "stderr",
     "output_type": "stream",
     "text": [
      "USER_AGENT environment variable not set, consider setting it to identify your requests.\n"
     ]
    }
   ],
   "source": [
    "import re\n",
    "from typing import Annotated, Iterator, Literal, TypedDict\n",
    "\n",
    "from langchain import hub\n",
    "\n",
    "# llm\n",
    "# from langchain_anthropic import ChatAnthropic\n",
    "from langchain_openai import ChatOpenAI\n",
    "\n",
    "# tool, \n",
    "# https://python.langchain.com/v0.2/docs/integrations/tools/tavily_search/\n",
    "# TAVILY_API_KEY\n",
    "from langchain_community.tools.tavily_search import TavilySearchResults\n",
    "\n",
    "# rag\n",
    "from langchain_community.document_loaders import web_base\n",
    "from langchain_community.vectorstores import Chroma\n",
    "from langchain_core.documents import Document\n",
    "from langchain_openai import OpenAIEmbeddings\n",
    "from langchain_core.retrievers import BaseRetriever\n",
    "\n",
    "# messages & prompts\n",
    "from langchain_core.messages import BaseMessage, AIMessage, convert_to_messages\n",
    "from langchain_core.prompts import ChatPromptTemplate\n",
    "\n",
    "from langchain_core.output_parsers import StrOutputParser\n",
    "from langchain_core.pydantic_v1 import BaseModel, Field\n",
    "from langchain_text_splitters import RecursiveCharacterTextSplitter\n",
    "\n",
    "# langgraph\n",
    "from langgraph.graph import END, StateGraph, add_messages\n",
    "\n",
    "from langgraph.checkpoint.memory import MemorySaver"
   ]
  },
  {
   "cell_type": "code",
   "execution_count": 3,
   "id": "d14c0521-dc53-47e6-a79f-a90aa2bc7525",
   "metadata": {
    "execution": {
     "iopub.execute_input": "2024-08-24T06:08:42.775254Z",
     "iopub.status.busy": "2024-08-24T06:08:42.775081Z",
     "iopub.status.idle": "2024-08-24T06:08:42.784172Z",
     "shell.execute_reply": "2024-08-24T06:08:42.783586Z",
     "shell.execute_reply.started": "2024-08-24T06:08:42.775240Z"
    }
   },
   "outputs": [
    {
     "data": {
      "text/plain": [
       "True"
      ]
     },
     "execution_count": 3,
     "metadata": {},
     "output_type": "execute_result"
    }
   ],
   "source": [
    "import os\n",
    "os.environ['http_proxy'] = 'http://127.0.0.1:7890'\n",
    "os.environ['https_proxy'] = 'http://127.0.0.1:7890'\n",
    "from dotenv import load_dotenv\n",
    "load_dotenv()"
   ]
  },
  {
   "cell_type": "markdown",
   "id": "1c8abdf9-c2bb-4532-b234-7ed2877ea7bb",
   "metadata": {},
   "source": [
    "## model, retriever & tools"
   ]
  },
  {
   "cell_type": "code",
   "execution_count": 4,
   "id": "726aaac9-a161-4cb5-8086-3da0aeaaaa0e",
   "metadata": {
    "execution": {
     "iopub.execute_input": "2024-08-24T06:08:42.784794Z",
     "iopub.status.busy": "2024-08-24T06:08:42.784672Z",
     "iopub.status.idle": "2024-08-24T06:08:42.795961Z",
     "shell.execute_reply": "2024-08-24T06:08:42.795374Z",
     "shell.execute_reply.started": "2024-08-24T06:08:42.784782Z"
    }
   },
   "outputs": [],
   "source": [
    "SOURCE_URLS = [\n",
    "    'https://pandas.pydata.org/docs/user_guide/indexing.html',\n",
    "    'https://pandas.pydata.org/docs/user_guide/groupby.html',\n",
    "    'https://pandas.pydata.org/docs/user_guide/merging.html'\n",
    "]\n",
    "NEWLINE_RE = re.compile(\"\\n+\")\n"
   ]
  },
  {
   "cell_type": "code",
   "execution_count": 5,
   "id": "9915336c-bcc5-4305-a06e-3cbf89381b2c",
   "metadata": {
    "execution": {
     "iopub.execute_input": "2024-08-24T06:08:42.796644Z",
     "iopub.status.busy": "2024-08-24T06:08:42.796517Z",
     "iopub.status.idle": "2024-08-24T06:08:42.805149Z",
     "shell.execute_reply": "2024-08-24T06:08:42.804548Z",
     "shell.execute_reply.started": "2024-08-24T06:08:42.796632Z"
    }
   },
   "outputs": [],
   "source": [
    "class PandasDocsLoader(web_base.WebBaseLoader):\n",
    "    def lazy_load(self) -> Iterator[Document]:\n",
    "        \"\"\"Lazy load text from the url(s) in web_path.\"\"\"\n",
    "        for path in self.web_paths:\n",
    "            soup = self._scrape(path, bs_kwargs=self.bs_kwargs)\n",
    "            text = soup.get_text(**self.bs_get_text_kwargs)\n",
    "            text = NEWLINE_RE.sub(\"\\n\", text)     \n",
    "            metadata = web_base._build_metadata(soup, path)\n",
    "            yield Document(page_content=text, metadata=metadata)"
   ]
  },
  {
   "cell_type": "code",
   "execution_count": 6,
   "id": "4aed5579-cf80-4644-a173-588105fcd1c7",
   "metadata": {
    "execution": {
     "iopub.execute_input": "2024-08-24T06:08:42.806301Z",
     "iopub.status.busy": "2024-08-24T06:08:42.806166Z",
     "iopub.status.idle": "2024-08-24T06:08:42.814861Z",
     "shell.execute_reply": "2024-08-24T06:08:42.814271Z",
     "shell.execute_reply.started": "2024-08-24T06:08:42.806289Z"
    }
   },
   "outputs": [
    {
     "data": {
      "text/plain": [
       "['https://pandas.pydata.org/docs/user_guide/indexing.html',\n",
       " 'https://pandas.pydata.org/docs/user_guide/groupby.html',\n",
       " 'https://pandas.pydata.org/docs/user_guide/merging.html']"
      ]
     },
     "execution_count": 6,
     "metadata": {},
     "output_type": "execute_result"
    }
   ],
   "source": [
    "PandasDocsLoader(SOURCE_URLS).web_paths"
   ]
  },
  {
   "cell_type": "code",
   "execution_count": 7,
   "id": "949ca922-08b0-417e-8cbe-aa4135d0d938",
   "metadata": {
    "execution": {
     "iopub.execute_input": "2024-08-24T06:08:42.815518Z",
     "iopub.status.busy": "2024-08-24T06:08:42.815385Z",
     "iopub.status.idle": "2024-08-24T06:08:42.822283Z",
     "shell.execute_reply": "2024-08-24T06:08:42.821644Z",
     "shell.execute_reply.started": "2024-08-24T06:08:42.815504Z"
    }
   },
   "outputs": [],
   "source": [
    "def prepare_documents(urls: list[str]) -> list[Document]:\n",
    "    text_splitter = RecursiveCharacterTextSplitter(\n",
    "        separators=[\n",
    "            r\"In \\[[0-9]+\\]\",\n",
    "            r\"\\n+\",\n",
    "            r\"\\s+\"\n",
    "        ],\n",
    "        is_separator_regex=True,\n",
    "        chunk_size=1000\n",
    "    )\n",
    "    docs = [PandasDocsLoader(url).load() for url in urls]\n",
    "    docs_list = [item for sublist in docs for item in sublist]\n",
    "    return text_splitter.split_documents(docs_list)"
   ]
  },
  {
   "cell_type": "code",
   "execution_count": 8,
   "id": "6ea55ac6-2c79-49d6-8605-20fc634af230",
   "metadata": {
    "execution": {
     "iopub.execute_input": "2024-08-24T06:08:42.823040Z",
     "iopub.status.busy": "2024-08-24T06:08:42.822878Z",
     "iopub.status.idle": "2024-08-24T06:08:42.833839Z",
     "shell.execute_reply": "2024-08-24T06:08:42.833196Z",
     "shell.execute_reply.started": "2024-08-24T06:08:42.823024Z"
    }
   },
   "outputs": [],
   "source": [
    "def get_retriever() -> BaseRetriever:\n",
    "    documents = prepare_documents(SOURCE_URLS)\n",
    "    vectorstore = Chroma.from_documents(\n",
    "        documents=documents,\n",
    "        collection_name=\"pandas-rag-chroma\",\n",
    "        embedding=OpenAIEmbeddings(),\n",
    "    )\n",
    "    retriever = vectorstore.as_retriever()\n",
    "    return retriever"
   ]
  },
  {
   "cell_type": "code",
   "execution_count": 9,
   "id": "f088d2fc-bb6f-46ba-b73d-ef856ca9a093",
   "metadata": {
    "execution": {
     "iopub.execute_input": "2024-08-24T06:08:42.834702Z",
     "iopub.status.busy": "2024-08-24T06:08:42.834512Z",
     "iopub.status.idle": "2024-08-24T06:08:53.466345Z",
     "shell.execute_reply": "2024-08-24T06:08:53.465455Z",
     "shell.execute_reply.started": "2024-08-24T06:08:42.834683Z"
    }
   },
   "outputs": [],
   "source": [
    "llm = ChatOpenAI(model=\"gpt-4o\", temperature=0)\n",
    "retriever = get_retriever()\n",
    "tavily_search_tool = TavilySearchResults(max_results=3)"
   ]
  },
  {
   "cell_type": "markdown",
   "id": "42ad68a0-0379-470f-bc35-493a1122ffd2",
   "metadata": {},
   "source": [
    "## Graph"
   ]
  },
  {
   "cell_type": "code",
   "execution_count": 43,
   "id": "289a5dca-1716-42c5-8df5-c16ac97b0963",
   "metadata": {
    "execution": {
     "iopub.execute_input": "2024-08-24T10:34:52.252084Z",
     "iopub.status.busy": "2024-08-24T10:34:52.251452Z",
     "iopub.status.idle": "2024-08-24T10:34:52.263327Z",
     "shell.execute_reply": "2024-08-24T10:34:52.261692Z",
     "shell.execute_reply.started": "2024-08-24T10:34:52.252031Z"
    }
   },
   "outputs": [
    {
     "data": {
      "text/html": [
       "<img src=\"../../../imgs/self-corrective-rag.png\" width=\"500\"/>"
      ],
      "text/plain": [
       "<IPython.core.display.Image object>"
      ]
     },
     "execution_count": 43,
     "metadata": {},
     "output_type": "execute_result"
    }
   ],
   "source": [
    "Image(url='../../../imgs/self-corrective-rag.png', width=500)"
   ]
  },
  {
   "cell_type": "markdown",
   "id": "1c863c65-535a-480a-b5a1-88eebe9565b3",
   "metadata": {},
   "source": [
    "- state: graph 中所有 node 的输入\n",
    "    - question: user query\n",
    "    - messages: add\n",
    "    - documents: 基于 `retriever.invoke(question)` or `search_tool`\n",
    "    - candidate_answer: generate\n",
    "    - retries\n",
    "    - web_fallback\n",
    "- nodes: 接收状态，执行动作，产生/改变状态\n",
    "    - rewrite question: 单独的一个重写用户 query 的 llm 调用\n",
    "    - document_search: retriever\n",
    "        - append documents\n",
    "    - generate: llm chain (lcel)\n",
    "        - 提供或者替换 candidate_answer\n",
    "    - web search: search tool\n",
    "        - append documents\n",
    "    - finalize response"
   ]
  },
  {
   "cell_type": "markdown",
   "id": "224a3b17-08a7-407e-a1d3-1d43811e1354",
   "metadata": {},
   "source": [
    "### state"
   ]
  },
  {
   "cell_type": "code",
   "execution_count": 10,
   "id": "4a91005b-47cf-4c73-bdbe-8d8aa8a39fbb",
   "metadata": {
    "execution": {
     "iopub.execute_input": "2024-08-24T08:36:55.295511Z",
     "iopub.status.busy": "2024-08-24T08:36:55.295199Z",
     "iopub.status.idle": "2024-08-24T08:36:55.303247Z",
     "shell.execute_reply": "2024-08-24T08:36:55.301714Z",
     "shell.execute_reply.started": "2024-08-24T08:36:55.295487Z"
    }
   },
   "outputs": [],
   "source": [
    "class GraphState(TypedDict):\n",
    "    messages: Annotated[list[BaseMessage], add_messages]\n",
    "    question: str\n",
    "    documents: list[Document]\n",
    "    candidate_answer: str\n",
    "    retries: int\n",
    "    web_fallback: bool\n",
    "\n",
    "\n",
    "class GraphConfig(TypedDict):\n",
    "    max_retries: int"
   ]
  },
  {
   "cell_type": "code",
   "execution_count": 15,
   "id": "0ec3791b-15d6-46c9-9016-94cafb848334",
   "metadata": {
    "execution": {
     "iopub.execute_input": "2024-08-24T08:38:19.709714Z",
     "iopub.status.busy": "2024-08-24T08:38:19.709038Z",
     "iopub.status.idle": "2024-08-24T08:38:19.717986Z",
     "shell.execute_reply": "2024-08-24T08:38:19.716298Z",
     "shell.execute_reply.started": "2024-08-24T08:38:19.709611Z"
    }
   },
   "outputs": [],
   "source": [
    "MAX_RETRIES = 3\n",
    "VERBOSE = True"
   ]
  },
  {
   "cell_type": "markdown",
   "id": "fac6f777-02a6-4d60-bc29-2243c6db90f1",
   "metadata": {},
   "source": [
    "### nodes"
   ]
  },
  {
   "cell_type": "markdown",
   "id": "733f7bc6-5ce6-44a4-8214-d0a19da5a9db",
   "metadata": {},
   "source": [
    "#### document search node"
   ]
  },
  {
   "cell_type": "code",
   "execution_count": 16,
   "id": "81efd9a8-0f19-4c22-be93-8ac7411e1bd2",
   "metadata": {
    "execution": {
     "iopub.execute_input": "2024-08-24T08:38:27.599973Z",
     "iopub.status.busy": "2024-08-24T08:38:27.599340Z",
     "iopub.status.idle": "2024-08-24T08:38:27.609734Z",
     "shell.execute_reply": "2024-08-24T08:38:27.607877Z",
     "shell.execute_reply.started": "2024-08-24T08:38:27.599920Z"
    }
   },
   "outputs": [],
   "source": [
    "def document_search(state: GraphState):\n",
    "    \"\"\"\n",
    "    Retrieve documents\n",
    "\n",
    "    Args:\n",
    "        state (dict): The current graph state\n",
    "\n",
    "    Returns:\n",
    "        state (dict): New key added to state, documents, that contains retrieved documents\n",
    "    \"\"\"\n",
    "    if VERBOSE:\n",
    "        print(\"---RETRIEVE---\")\n",
    "\n",
    "    question = convert_to_messages(state[\"messages\"])[-1].content\n",
    "\n",
    "    # Retrieval\n",
    "    documents = retriever.invoke(question)\n",
    "    return {\"documents\": documents, \"question\": question, \"web_fallback\": True}"
   ]
  },
  {
   "cell_type": "code",
   "execution_count": 18,
   "id": "2d555ffa-5916-4b50-89e2-055c3f2a75bf",
   "metadata": {
    "execution": {
     "iopub.execute_input": "2024-08-24T08:40:01.783933Z",
     "iopub.status.busy": "2024-08-24T08:40:01.781842Z",
     "iopub.status.idle": "2024-08-24T08:40:02.854696Z",
     "shell.execute_reply": "2024-08-24T08:40:02.852557Z",
     "shell.execute_reply.started": "2024-08-24T08:40:01.783842Z"
    }
   },
   "outputs": [
    {
     "data": {
      "text/plain": [
       "ChatPromptTemplate(input_variables=['context', 'question'], metadata={'lc_hub_owner': 'rlm', 'lc_hub_repo': 'rag-prompt', 'lc_hub_commit_hash': '50442af133e61576e74536c6556cefe1fac147cad032f4377b60c436e6cdcb6e'}, messages=[HumanMessagePromptTemplate(prompt=PromptTemplate(input_variables=['context', 'question'], template=\"You are an assistant for question-answering tasks. Use the following pieces of retrieved context to answer the question. If you don't know the answer, just say that you don't know. Use three sentences maximum and keep the answer concise.\\nQuestion: {question} \\nContext: {context} \\nAnswer:\"))])"
      ]
     },
     "execution_count": 18,
     "metadata": {},
     "output_type": "execute_result"
    }
   ],
   "source": [
    "# https://smith.langchain.com/hub/rlm/rag-prompt\n",
    "# RAG: QA with context, answer the question base the context\n",
    "RAG_PROMPT: ChatPromptTemplate = hub.pull(\"rlm/rag-prompt\")\n",
    "RAG_PROMPT"
   ]
  },
  {
   "cell_type": "markdown",
   "id": "c9dfc1d3-e030-4682-b196-811c103ff4ab",
   "metadata": {},
   "source": [
    "#### generate node"
   ]
  },
  {
   "cell_type": "code",
   "execution_count": 19,
   "id": "d54f850b-da8e-4d28-ace2-60027927aac0",
   "metadata": {
    "execution": {
     "iopub.execute_input": "2024-08-24T08:41:19.260315Z",
     "iopub.status.busy": "2024-08-24T08:41:19.259677Z",
     "iopub.status.idle": "2024-08-24T08:41:19.271431Z",
     "shell.execute_reply": "2024-08-24T08:41:19.269566Z",
     "shell.execute_reply.started": "2024-08-24T08:41:19.260261Z"
    }
   },
   "outputs": [],
   "source": [
    "def generate(state: GraphState):\n",
    "    \"\"\"\n",
    "    Generate answer\n",
    "\n",
    "    Args:\n",
    "        state (dict): The current graph state\n",
    "\n",
    "    Returns:\n",
    "        state (dict): New key added to state, generation, that contains LLM generation\n",
    "    \"\"\"\n",
    "    if VERBOSE:\n",
    "        print(\"---GENERATE---\")\n",
    "    question = state[\"question\"]\n",
    "    documents = state[\"documents\"]\n",
    "    retries = state[\"retries\"] if state.get(\"retries\") is not None else -1\n",
    "\n",
    "    # lcel\n",
    "    rag_chain = RAG_PROMPT | llm | StrOutputParser()\n",
    "    generation = rag_chain.invoke({\"context\": documents, \"question\": question})\n",
    "    return {\"retries\": retries + 1, \"candidate_answer\": generation}"
   ]
  },
  {
   "cell_type": "markdown",
   "id": "8f74fd7e-cd7d-4087-a871-dfe235999f91",
   "metadata": {},
   "source": [
    "#### rewrite question"
   ]
  },
  {
   "cell_type": "code",
   "execution_count": 20,
   "id": "38c6800d-5b53-4213-b2d9-04202d565bad",
   "metadata": {
    "execution": {
     "iopub.execute_input": "2024-08-24T08:45:57.713065Z",
     "iopub.status.busy": "2024-08-24T08:45:57.712428Z",
     "iopub.status.idle": "2024-08-24T08:45:57.723662Z",
     "shell.execute_reply": "2024-08-24T08:45:57.721415Z",
     "shell.execute_reply.started": "2024-08-24T08:45:57.713011Z"
    }
   },
   "outputs": [],
   "source": [
    "QUERY_REWRITER_SYSTEM = (\n",
    "\"\"\"\n",
    "You are a question re-writer that converts an input question to a better version that is optimized for vectorstore retrieval.\n",
    "Look at the input and try to reason about the underlying semantic intent / meaning.\n",
    "\"\"\"\n",
    ")\n",
    "\n",
    "QUERY_REWRITER_PROMPT = ChatPromptTemplate.from_messages(\n",
    "    [\n",
    "        (\"system\", QUERY_REWRITER_SYSTEM),\n",
    "        (\n",
    "            \"human\",\n",
    "            \"Here is the initial question: \\n\\n {question} \\n Formulate an improved question.\",\n",
    "        ),\n",
    "    ]\n",
    ")"
   ]
  },
  {
   "cell_type": "code",
   "execution_count": 21,
   "id": "28a7d287-5383-48c7-a50d-659d43eadfd7",
   "metadata": {
    "execution": {
     "iopub.execute_input": "2024-08-24T08:46:37.796177Z",
     "iopub.status.busy": "2024-08-24T08:46:37.794601Z",
     "iopub.status.idle": "2024-08-24T08:46:37.805150Z",
     "shell.execute_reply": "2024-08-24T08:46:37.803230Z",
     "shell.execute_reply.started": "2024-08-24T08:46:37.796111Z"
    }
   },
   "outputs": [],
   "source": [
    "def transform_query(state: GraphState):\n",
    "    \"\"\"\n",
    "    Transform the query to produce a better question.\n",
    "\n",
    "    Args:\n",
    "        state (dict): The current graph state\n",
    "\n",
    "    Returns:\n",
    "        state (dict): Updates question key with a re-phrased question\n",
    "    \"\"\"\n",
    "    if VERBOSE:\n",
    "        print(\"---TRANSFORM QUERY---\")\n",
    "\n",
    "    question = state[\"question\"]\n",
    "\n",
    "    # Re-write question\n",
    "    query_rewriter = QUERY_REWRITER_PROMPT | llm | StrOutputParser()\n",
    "    better_question = query_rewriter.invoke({\"question\": question})\n",
    "    return {\"question\": better_question}"
   ]
  },
  {
   "cell_type": "markdown",
   "id": "343dba90-a144-4b35-aa03-27303fba8938",
   "metadata": {},
   "source": [
    "#### web search"
   ]
  },
  {
   "cell_type": "code",
   "execution_count": 22,
   "id": "dcf6359b-7833-4787-8f2a-cdf359ca57a8",
   "metadata": {
    "execution": {
     "iopub.execute_input": "2024-08-24T08:49:57.951225Z",
     "iopub.status.busy": "2024-08-24T08:49:57.950603Z",
     "iopub.status.idle": "2024-08-24T08:49:57.962707Z",
     "shell.execute_reply": "2024-08-24T08:49:57.960766Z",
     "shell.execute_reply.started": "2024-08-24T08:49:57.951173Z"
    }
   },
   "outputs": [],
   "source": [
    "def web_search(state: GraphState):\n",
    "    if VERBOSE:\n",
    "        print(\"---RUNNING WEB SEARCH---\")\n",
    "\n",
    "    question = state[\"question\"]\n",
    "    documents = state[\"documents\"]\n",
    "    search_results = tavily_search_tool.invoke(question)\n",
    "    search_content = \"\\n\".join([d[\"content\"] for d in search_results])\n",
    "    documents.append(Document(page_content=search_content, metadata={\"source\": \"websearch\"}))\n",
    "    return {\"documents\": documents, \"web_fallback\": False}"
   ]
  },
  {
   "cell_type": "markdown",
   "id": "f801d17c-7de2-412a-bfee-58558e87575a",
   "metadata": {},
   "source": [
    "#### finalize resp"
   ]
  },
  {
   "cell_type": "code",
   "execution_count": 23,
   "id": "37892afd-2e95-445b-b440-f5e86d52c66d",
   "metadata": {
    "execution": {
     "iopub.execute_input": "2024-08-24T08:53:25.107490Z",
     "iopub.status.busy": "2024-08-24T08:53:25.106861Z",
     "iopub.status.idle": "2024-08-24T08:53:25.115709Z",
     "shell.execute_reply": "2024-08-24T08:53:25.114313Z",
     "shell.execute_reply.started": "2024-08-24T08:53:25.107438Z"
    }
   },
   "outputs": [],
   "source": [
    "def finalize_response(state: GraphState):\n",
    "    if VERBOSE:\n",
    "        print(\"---FINALIZING THE RESPONSE---\")\n",
    "\n",
    "    return {\"messages\": [AIMessage(content=state[\"candidate_answer\"])]}"
   ]
  },
  {
   "cell_type": "markdown",
   "id": "54dfa224-0edb-4a75-8b5b-6830ed475688",
   "metadata": {},
   "source": [
    "### edges & graph"
   ]
  },
  {
   "cell_type": "code",
   "execution_count": 42,
   "id": "df6a64b1-7613-4513-82ad-dcf6980f2a2f",
   "metadata": {
    "execution": {
     "iopub.execute_input": "2024-08-24T10:26:54.627026Z",
     "iopub.status.busy": "2024-08-24T10:26:54.626384Z",
     "iopub.status.idle": "2024-08-24T10:26:54.638907Z",
     "shell.execute_reply": "2024-08-24T10:26:54.637019Z",
     "shell.execute_reply.started": "2024-08-24T10:26:54.626971Z"
    }
   },
   "outputs": [
    {
     "data": {
      "text/html": [
       "<img src=\"../../../imgs/self-corrective-rag.png\" width=\"500\"/>"
      ],
      "text/plain": [
       "<IPython.core.display.Image object>"
      ]
     },
     "execution_count": 42,
     "metadata": {},
     "output_type": "execute_result"
    }
   ],
   "source": [
    "Image(url='../../../imgs/self-corrective-rag.png', width=500)"
   ]
  },
  {
   "cell_type": "markdown",
   "id": "7002eab1-ad1b-4b87-9c6f-1e256cada10f",
   "metadata": {},
   "source": [
    "#### Grade answer"
   ]
  },
  {
   "cell_type": "markdown",
   "id": "33f59c66-4e12-4273-a954-810094d508fb",
   "metadata": {},
   "source": [
    "- Check hallucinations\n",
    "- Check answer relevance"
   ]
  },
  {
   "cell_type": "code",
   "execution_count": 29,
   "id": "7618f755-4902-487e-9098-888a3b6221b2",
   "metadata": {
    "execution": {
     "iopub.execute_input": "2024-08-24T09:10:31.720734Z",
     "iopub.status.busy": "2024-08-24T09:10:31.720103Z",
     "iopub.status.idle": "2024-08-24T09:10:31.736622Z",
     "shell.execute_reply": "2024-08-24T09:10:31.734774Z",
     "shell.execute_reply.started": "2024-08-24T09:10:31.720680Z"
    }
   },
   "outputs": [],
   "source": [
    "class GradeHallucinations(BaseModel):\n",
    "    \"\"\"Binary score for hallucination present in generation answer.\"\"\"\n",
    "\n",
    "    binary_score: str = Field(\n",
    "        description=\"Answer is grounded in the facts, 'yes' or 'no'\"\n",
    "    )\n",
    "\n",
    "\n",
    "HALLUCINATION_GRADER_SYSTEM = (\n",
    "\"\"\"\n",
    "You are a grader assessing whether an LLM generation is grounded in / supported by a set of retrieved facts.\n",
    "Give a binary score 'yes' or 'no', where 'yes' means that the answer is grounded in / supported by the set of facts.\n",
    "\n",
    "IF the generation includes code examples, make sure those examples are FULLY present in the set of facts, otherwise always return score 'no'.\n",
    "\"\"\"\n",
    ")\n",
    "\n",
    "HALLUCINATION_GRADER_PROMPT = ChatPromptTemplate.from_messages(\n",
    "    [\n",
    "        (\"system\", HALLUCINATION_GRADER_SYSTEM),\n",
    "        (\"human\", \"Set of facts: \\n\\n {documents} \\n\\n LLM generation: {generation}\"),\n",
    "    ]\n",
    ")\n",
    "\n",
    "\n",
    "class GradeAnswer(BaseModel):\n",
    "    \"\"\"Binary score to assess answer addresses question.\"\"\"\n",
    "\n",
    "    binary_score: str = Field(\n",
    "        description=\"Answer addresses the question, 'yes' or 'no'\"\n",
    "    )\n",
    "\n",
    "\n",
    "ANSWER_GRADER_SYSTEM = (\n",
    "\"\"\"\n",
    "You are a grader assessing whether an answer addresses / resolves a question.\n",
    "Give a binary score 'yes' or 'no', where 'yes' means that the answer resolves the question.\n",
    "\"\"\"\n",
    ")\n",
    "\n",
    "ANSWER_GRADER_PROMPT = ChatPromptTemplate.from_messages(\n",
    "    [\n",
    "        (\"system\", ANSWER_GRADER_SYSTEM),\n",
    "        (\"human\", \"User question: \\n\\n {question} \\n\\n LLM generation: {generation}\"),\n",
    "    ]\n",
    ")"
   ]
  },
  {
   "cell_type": "code",
   "execution_count": 30,
   "id": "94a25614-efb0-43ef-9771-8c7abce3d193",
   "metadata": {
    "execution": {
     "iopub.execute_input": "2024-08-24T09:11:17.109534Z",
     "iopub.status.busy": "2024-08-24T09:11:17.108899Z",
     "iopub.status.idle": "2024-08-24T09:11:17.126366Z",
     "shell.execute_reply": "2024-08-24T09:11:17.124317Z",
     "shell.execute_reply.started": "2024-08-24T09:11:17.109480Z"
    }
   },
   "outputs": [],
   "source": [
    "def grade_generation_v_documents_and_question(state: GraphState, config) -> Literal[\"generate\", \"transform_query\", \"web_search\", \"finalize_response\"]:\n",
    "    \"\"\"\n",
    "    Determines whether the generation is grounded in the document and answers question.\n",
    "\n",
    "    Args:\n",
    "        state (dict): The current graph state\n",
    "\n",
    "    Returns:\n",
    "        str: Decision for next node to call\n",
    "    \"\"\"\n",
    "    question = state[\"question\"]\n",
    "    documents = state[\"documents\"]\n",
    "    generation = state[\"candidate_answer\"]\n",
    "    web_fallback = state[\"web_fallback\"]\n",
    "    retries = state[\"retries\"] if state.get(\"retries\") is not None else -1\n",
    "    max_retries = config.get(\"configurable\", {}).get(\"max_retries\", MAX_RETRIES)\n",
    "\n",
    "    # this means we've already gone through web fallback and can return to the user\n",
    "    if not web_fallback:\n",
    "        return \"finalize_response\"\n",
    "\n",
    "    if VERBOSE:\n",
    "        print(\"---CHECK HALLUCINATIONS---\")\n",
    "\n",
    "    # llm lcel chain\n",
    "    hallucination_grader = HALLUCINATION_GRADER_PROMPT | llm.with_structured_output(GradeHallucinations)\n",
    "    hallucination_grade: GradeHallucinations = hallucination_grader.invoke(\n",
    "        {\"documents\": documents, \"generation\": generation}\n",
    "    )\n",
    "\n",
    "    # Check hallucination\n",
    "    if hallucination_grade.binary_score == \"no\":\n",
    "        if VERBOSE: print(\"---DECISION: GENERATION IS NOT GROUNDED IN DOCUMENTS, RE-TRY---\")\n",
    "        return \"generate\" if retries < max_retries else \"web_search\"\n",
    "\n",
    "    if VERBOSE:\n",
    "        print(\"---DECISION: GENERATION IS GROUNDED IN DOCUMENTS---\")\n",
    "        print(\"---GRADE GENERATION vs QUESTION---\")\n",
    "\n",
    "    # Check question-answering\n",
    "    answer_grader = ANSWER_GRADER_PROMPT | llm.with_structured_output(GradeAnswer)\n",
    "    answer_grade: GradeAnswer = answer_grader.invoke({\"question\": question, \"generation\": generation})\n",
    "    if answer_grade.binary_score == \"yes\":\n",
    "        if VERBOSE: print(\"---DECISION: GENERATION ADDRESSES QUESTION---\")\n",
    "        return \"finalize_response\"\n",
    "    else:\n",
    "        if VERBOSE: print(\"---DECISION: GENERATION DOES NOT ADDRESS QUESTION---\")\n",
    "        return \"transform_query\" if retries < max_retries else \"web_search\""
   ]
  },
  {
   "cell_type": "markdown",
   "id": "ac8968d7-4e35-4df9-bc1a-2aa5b3874063",
   "metadata": {},
   "source": [
    "条件性跳转（from `generate`），基于的幻觉检测（llm lcel chain invoke）\n",
    "- \"generate\",\n",
    "- \"transform_query\",\n",
    "- \"web_search\",\n",
    "- \"finalize_response\""
   ]
  },
  {
   "cell_type": "markdown",
   "id": "ea7e7b3c-d6de-41e2-8fad-df442c597628",
   "metadata": {},
   "source": [
    "#### build the graph"
   ]
  },
  {
   "cell_type": "code",
   "execution_count": 31,
   "id": "a486639f-9cf4-4b39-a9c3-7599461da73e",
   "metadata": {
    "execution": {
     "iopub.execute_input": "2024-08-24T09:12:23.597041Z",
     "iopub.status.busy": "2024-08-24T09:12:23.596398Z",
     "iopub.status.idle": "2024-08-24T09:12:23.616668Z",
     "shell.execute_reply": "2024-08-24T09:12:23.614534Z",
     "shell.execute_reply.started": "2024-08-24T09:12:23.596986Z"
    }
   },
   "outputs": [],
   "source": [
    "workflow = StateGraph(GraphState, config_schema=GraphConfig)\n",
    "\n",
    "# Define the nodes\n",
    "workflow.add_node(\"document_search\", document_search)\n",
    "workflow.add_node(\"generate\", generate)\n",
    "workflow.add_node(\"transform_query\", transform_query)\n",
    "workflow.add_node(\"web_search\", web_search)\n",
    "workflow.add_node(\"finalize_response\", finalize_response)\n",
    "\n",
    "# Build graph\n",
    "workflow.set_entry_point(\"document_search\")\n",
    "workflow.add_edge(\"document_search\", \"generate\")\n",
    "workflow.add_edge(\"transform_query\", \"document_search\")\n",
    "workflow.add_edge(\"web_search\", \"generate\")\n",
    "workflow.add_edge(\"finalize_response\", END)\n",
    "\n",
    "workflow.add_conditional_edges(\n",
    "    \"generate\",\n",
    "    grade_generation_v_documents_and_question\n",
    ")\n",
    "\n",
    "# Compile\n",
    "graph = workflow.compile()"
   ]
  },
  {
   "cell_type": "code",
   "execution_count": 35,
   "id": "ce35861d-30c8-4590-af40-35f2aa8c8a16",
   "metadata": {
    "execution": {
     "iopub.execute_input": "2024-08-24T09:12:55.582543Z",
     "iopub.status.busy": "2024-08-24T09:12:55.581916Z",
     "iopub.status.idle": "2024-08-24T09:12:55.590705Z",
     "shell.execute_reply": "2024-08-24T09:12:55.588815Z",
     "shell.execute_reply.started": "2024-08-24T09:12:55.582490Z"
    }
   },
   "outputs": [],
   "source": [
    "from IPython.display import Image, display"
   ]
  },
  {
   "cell_type": "code",
   "execution_count": 36,
   "id": "8b881faf-afe8-4b67-959e-162d4afdedf4",
   "metadata": {
    "execution": {
     "iopub.execute_input": "2024-08-24T09:12:57.187887Z",
     "iopub.status.busy": "2024-08-24T09:12:57.187262Z",
     "iopub.status.idle": "2024-08-24T09:12:57.550331Z",
     "shell.execute_reply": "2024-08-24T09:12:57.548454Z",
     "shell.execute_reply.started": "2024-08-24T09:12:57.187835Z"
    }
   },
   "outputs": [
    {
     "data": {
      "image/jpeg": "[encoded data removed]",
      "text/plain": [
       "<IPython.core.display.Image object>"
      ]
     },
     "metadata": {},
     "output_type": "display_data"
    }
   ],
   "source": [
    "# grade_generation_v_documents_and_question\n",
    "display(Image(graph.get_graph().draw_mermaid_png()))"
   ]
  },
  {
   "cell_type": "markdown",
   "id": "05ea77c4-1ee5-4411-817e-9f00fba74039",
   "metadata": {},
   "source": [
    "### run the graph"
   ]
  },
  {
   "cell_type": "code",
   "execution_count": 38,
   "id": "b08202c4-0b4b-402c-abd6-05648c116dca",
   "metadata": {
    "execution": {
     "iopub.execute_input": "2024-08-24T09:46:18.863859Z",
     "iopub.status.busy": "2024-08-24T09:46:18.863208Z",
     "iopub.status.idle": "2024-08-24T09:46:23.169268Z",
     "shell.execute_reply": "2024-08-24T09:46:23.167373Z",
     "shell.execute_reply.started": "2024-08-24T09:46:18.863805Z"
    }
   },
   "outputs": [
    {
     "name": "stdout",
     "output_type": "stream",
     "text": [
      "---RETRIEVE---\n",
      "{'document_search': {'question': 'how do i calculate sum by groups', 'documents': [Document(metadata={'language': 'en', 'source': 'https://pandas.pydata.org/docs/user_guide/groupby.html', 'title': 'Group by: split-apply-combine — pandas 2.2.2 documentation'}, page_content='Windowing operations\\nTime series / date functionality\\nTime deltas\\nOptions and settings\\nEnhancing performance\\nScaling to large datasets\\nSparse data structures\\nFrequently Asked Questions (FAQ)\\nCookbook\\nUser Guide\\nGroup by:...\\nGroup by: split-apply-combine#\\nBy “group by” we are referring to a process involving one or more of the following\\nsteps:\\nSplitting the data into groups based on some criteria.\\nApplying a function to each group independently.\\nCombining the results into a data structure.\\nOut of these, the split step is the most straightforward. In the apply step, we\\nmight wish to do one of the following:\\nAggregation: compute a summary statistic (or statistics) for each\\ngroup. Some examples:\\nCompute group sums or means.\\nCompute group sizes / counts.\\nTransformation: perform some group-specific computations and return a\\nlike-indexed object. Some examples:\\nStandardize data (zscore) within a group.\\nFilling NAs within groups with a value derived from each group.'), Document(metadata={'language': 'en', 'source': 'https://pandas.pydata.org/docs/user_guide/groupby.html', 'title': 'Group by: split-apply-combine — pandas 2.2.2 documentation'}, page_content='In [108]: grouped[\"C\"].agg([\"sum\", \"sum\"])\\nOut[108]: \\n          sum       sum\\nA                      \\nbar  0.392940  0.392940\\nfoo -1.796421 -1.796421\\npandas also allows you to provide multiple lambdas. In this case, pandas\\nwill mangle the name of the (nameless) lambda functions, appending _<i>\\nto each subsequent lambda.'), Document(metadata={'language': 'en', 'source': 'https://pandas.pydata.org/docs/user_guide/groupby.html', 'title': 'Group by: split-apply-combine — pandas 2.2.2 documentation'}, page_content='In [116]: grouped.agg({\"C\": \"sum\", \"D\": \"std\"})\\nOut[116]: \\n            C         D\\nA                      \\nbar  0.392940  1.366330\\nfoo -1.796421  0.884785\\nTransformation#\\nA transformation is a GroupBy operation whose result is indexed the same\\nas the one being grouped. Common examples include cumsum() and\\ndiff().\\nIn [117]: speeds\\nOut[117]: \\n          class           order  max_speed\\nfalcon     bird   Falconiformes      389.0\\nparrot     bird  Psittaciformes       24.0\\nlion     mammal       Carnivora       80.2\\nmonkey   mammal        Primates        NaN\\nleopard  mammal       Carnivora       58.0\\nIn [118]: grouped = speeds.groupby(\"class\")[\"max_speed\"]\\nIn [119]: grouped.cumsum()\\nOut[119]: \\nfalcon     389.0\\nparrot     413.0\\nlion        80.2\\nmonkey       NaN\\nleopard    138.2\\nName: max_speed, dtype: float64'), Document(metadata={'language': 'en', 'source': 'https://pandas.pydata.org/docs/user_guide/groupby.html', 'title': 'Group by: split-apply-combine — pandas 2.2.2 documentation'}, page_content='In [73]: grouped[[\"A\", \"B\"]].sum()\\nOut[73]: \\n                   A                  B\\nA                                      \\nbar        barbarbar        onethreetwo\\nfoo  foofoofoofoofoo  onetwotwoonethree\\nIterating through groups#\\nWith the GroupBy object in hand, iterating through the grouped data is very\\nnatural and functions similarly to itertools.groupby():\\nIn [74]: grouped = df.groupby(\\'A\\')\\nIn [75]: for name, group in grouped:\\n   ....:     print(name)\\n   ....:     print(group)\\n   ....: \\nbar\\n     A      B         C         D\\n1  bar    one  0.254161  1.511763\\n3  bar  three  0.215897 -0.990582\\n5  bar    two -0.077118  1.211526\\nfoo\\n     A      B         C         D\\n0  foo    one -0.575247  1.346061\\n2  foo    two -1.143704  1.627081\\n4  foo    two  1.193555 -0.441652\\n6  foo    one -0.408530  0.268520\\n7  foo  three -0.862495  0.024580\\nIn the case of grouping by multiple keys, the group name will be a tuple:')], 'web_fallback': True}}\n",
      "\n",
      "---\n",
      "\n",
      "---GENERATE---\n",
      "---CHECK HALLUCINATIONS---\n",
      "---DECISION: GENERATION IS GROUNDED IN DOCUMENTS---\n",
      "---GRADE GENERATION vs QUESTION---\n",
      "---DECISION: GENERATION ADDRESSES QUESTION---\n",
      "{'generate': {'candidate_answer': \"To calculate the sum by groups in pandas, you can use the `groupby` method followed by the `sum` method. For example, `grouped = df.groupby('column_name')` and then `grouped.sum()`. This will give you the sum of each group based on the specified column.\", 'retries': 0}}\n",
      "\n",
      "---\n",
      "\n",
      "---FINALIZING THE RESPONSE---\n",
      "{'finalize_response': {'messages': [AIMessage(content=\"To calculate the sum by groups in pandas, you can use the `groupby` method followed by the `sum` method. For example, `grouped = df.groupby('column_name')` and then `grouped.sum()`. This will give you the sum of each group based on the specified column.\")]}}\n",
      "\n",
      "---\n",
      "\n"
     ]
    }
   ],
   "source": [
    "VERBOSE = True\n",
    "inputs = {\"messages\": [(\"human\", \"how do i calculate sum by groups\")]}\n",
    "for output in graph.stream(inputs):\n",
    "    print(output)\n",
    "    print(\"\\n---\\n\")"
   ]
  },
  {
   "cell_type": "markdown",
   "id": "258ff190-dae1-4e65-87f6-7b4e1220d3d1",
   "metadata": {},
   "source": [
    "#### Query with a fallback"
   ]
  },
  {
   "cell_type": "code",
   "execution_count": 40,
   "id": "8d48142f-7dbf-4654-8095-06d6f9124b6e",
   "metadata": {
    "execution": {
     "iopub.execute_input": "2024-08-24T09:47:25.214327Z",
     "iopub.status.busy": "2024-08-24T09:47:25.213592Z",
     "iopub.status.idle": "2024-08-24T09:47:34.315603Z",
     "shell.execute_reply": "2024-08-24T09:47:34.313613Z",
     "shell.execute_reply.started": "2024-08-24T09:47:25.214252Z"
    }
   },
   "outputs": [
    {
     "name": "stdout",
     "output_type": "stream",
     "text": [
      "---RETRIEVE---\n",
      "{'document_search': {'question': 'how do i convert a column into dummies', 'documents': [Document(metadata={'language': 'en', 'source': 'https://pandas.pydata.org/docs/user_guide/indexing.html', 'title': 'Indexing and selecting data — pandas 2.2.2 documentation'}, page_content=\"In [7]: df[['B', 'A']] = df[['A', 'B']]\\nIn [8]: df\\nOut[8]: \\n                   A         B         C         D\\n2000-01-01 -0.282863  0.469112 -1.509059 -1.135632\\n2000-01-02 -0.173215  1.212112  0.119209 -1.044236\\n2000-01-03 -2.104569 -0.861849 -0.494929  1.071804\\n2000-01-04 -0.706771  0.721555 -1.039575  0.271860\\n2000-01-05  0.567020 -0.424972  0.276232 -1.087401\\n2000-01-06  0.113648 -0.673690 -1.478427  0.524988\\n2000-01-07  0.577046  0.404705 -1.715002 -1.039268\\n2000-01-08 -1.157892 -0.370647 -1.344312  0.844885\\nYou may find this useful for applying a transform (in-place) to a subset of the\\ncolumns.\\nWarning\\npandas aligns all AXES when setting Series and DataFrame from .loc.\\nThis will not modify df because the column alignment is before value assignment.\"), Document(metadata={'language': 'en', 'source': 'https://pandas.pydata.org/docs/user_guide/indexing.html', 'title': 'Indexing and selecting data — pandas 2.2.2 documentation'}, page_content=\"In [21]: sa.a = 5\\nIn [22]: sa\\nOut[22]: \\na    5\\nb    2\\nc    3\\ndtype: int64\\nIn [23]: dfa.A = list(range(len(dfa.index)))  # ok if A already exists\\nIn [24]: dfa\\nOut[24]: \\n            A         B         C         D\\n2000-01-01  0  0.469112 -1.509059 -1.135632\\n2000-01-02  1  1.212112  0.119209 -1.044236\\n2000-01-03  2 -0.861849 -0.494929  1.071804\\n2000-01-04  3  0.721555 -1.039575  0.271860\\n2000-01-05  4 -0.424972  0.276232 -1.087401\\n2000-01-06  5 -0.673690 -1.478427  0.524988\\n2000-01-07  6  0.404705 -1.715002 -1.039268\\n2000-01-08  7 -0.370647 -1.344312  0.844885\\nIn [25]: dfa['A'] = list(range(len(dfa.index)))  # use this form to create a new column\"), Document(metadata={'language': 'en', 'source': 'https://pandas.pydata.org/docs/user_guide/merging.html', 'title': 'Merge, join, concatenate and compare — pandas 2.2.2 documentation'}, page_content='In [144]: df = pd.DataFrame(\\n   .....:     {\\n   .....:         \"col1\": [\"a\", \"a\", \"b\", \"b\", \"a\"],\\n   .....:         \"col2\": [1.0, 2.0, 3.0, np.nan, 5.0],\\n   .....:         \"col3\": [1.0, 2.0, 3.0, 4.0, 5.0],\\n   .....:     },\\n   .....:     columns=[\"col1\", \"col2\", \"col3\"],\\n   .....: )\\n   .....: \\nIn [145]: df\\nOut[145]: \\n  col1  col2  col3\\n0    a   1.0   1.0\\n1    a   2.0   2.0\\n2    b   3.0   3.0\\n3    b   NaN   4.0\\n4    a   5.0   5.0\\nIn [146]: df2 = df.copy()\\nIn [147]: df2.loc[0, \"col1\"] = \"c\"\\nIn [148]: df2.loc[2, \"col3\"] = 4.0\\nIn [149]: df2\\nOut[149]: \\n  col1  col2  col3\\n0    c   1.0   1.0\\n1    a   2.0   2.0\\n2    b   3.0   4.0\\n3    b   NaN   4.0\\n4    a   5.0   5.0'), Document(metadata={'language': 'en', 'source': 'https://pandas.pydata.org/docs/user_guide/groupby.html', 'title': 'Group by: split-apply-combine — pandas 2.2.2 documentation'}, page_content='In [225]: df\\nOut[225]: \\n  Branch Buyer  Quantity                Date\\n0      A  Carl         1 2013-01-01 13:00:00\\n1      A  Mark         3 2013-01-01 13:05:00\\n2      A  Carl         5 2013-10-01 20:00:00\\n3      A  Carl         1 2013-10-02 10:00:00\\n4      A   Joe         8 2013-10-01 20:00:00\\n5      A   Joe         1 2013-10-02 10:00:00\\n6      A   Joe         9 2013-12-02 12:00:00\\n7      B  Carl         3 2013-12-02 14:00:00\\nGroupby a specific column with the desired frequency. This is like resampling.')], 'web_fallback': True}}\n",
      "\n",
      "---\n",
      "\n",
      "---GENERATE---\n",
      "---CHECK HALLUCINATIONS---\n",
      "---DECISION: GENERATION IS NOT GROUNDED IN DOCUMENTS, RE-TRY---\n",
      "{'generate': {'candidate_answer': \"You can convert a column into dummy variables using the `pd.get_dummies()` function in pandas. For example, `pd.get_dummies(df['col1'])` will convert the 'col1' column into dummy variables. This function creates a new DataFrame with binary columns for each unique value in the original column.\", 'retries': 0}}\n",
      "\n",
      "---\n",
      "\n",
      "---GENERATE---\n",
      "---CHECK HALLUCINATIONS---\n",
      "---DECISION: GENERATION IS NOT GROUNDED IN DOCUMENTS, RE-TRY---\n",
      "{'generate': {'candidate_answer': \"You can convert a column into dummies using the `pd.get_dummies()` function in pandas. For example, if you have a DataFrame `df` and you want to convert the column `col1` into dummies, you can use `pd.get_dummies(df, columns=['col1'])`. This will create a new DataFrame with dummy variables for each unique value in `col1`.\", 'retries': 1}}\n",
      "\n",
      "---\n",
      "\n",
      "---RUNNING WEB SEARCH---\n",
      "{'web_search': {'documents': [Document(metadata={'language': 'en', 'source': 'https://pandas.pydata.org/docs/user_guide/indexing.html', 'title': 'Indexing and selecting data — pandas 2.2.2 documentation'}, page_content=\"In [7]: df[['B', 'A']] = df[['A', 'B']]\\nIn [8]: df\\nOut[8]: \\n                   A         B         C         D\\n2000-01-01 -0.282863  0.469112 -1.509059 -1.135632\\n2000-01-02 -0.173215  1.212112  0.119209 -1.044236\\n2000-01-03 -2.104569 -0.861849 -0.494929  1.071804\\n2000-01-04 -0.706771  0.721555 -1.039575  0.271860\\n2000-01-05  0.567020 -0.424972  0.276232 -1.087401\\n2000-01-06  0.113648 -0.673690 -1.478427  0.524988\\n2000-01-07  0.577046  0.404705 -1.715002 -1.039268\\n2000-01-08 -1.157892 -0.370647 -1.344312  0.844885\\nYou may find this useful for applying a transform (in-place) to a subset of the\\ncolumns.\\nWarning\\npandas aligns all AXES when setting Series and DataFrame from .loc.\\nThis will not modify df because the column alignment is before value assignment.\"), Document(metadata={'language': 'en', 'source': 'https://pandas.pydata.org/docs/user_guide/indexing.html', 'title': 'Indexing and selecting data — pandas 2.2.2 documentation'}, page_content=\"In [21]: sa.a = 5\\nIn [22]: sa\\nOut[22]: \\na    5\\nb    2\\nc    3\\ndtype: int64\\nIn [23]: dfa.A = list(range(len(dfa.index)))  # ok if A already exists\\nIn [24]: dfa\\nOut[24]: \\n            A         B         C         D\\n2000-01-01  0  0.469112 -1.509059 -1.135632\\n2000-01-02  1  1.212112  0.119209 -1.044236\\n2000-01-03  2 -0.861849 -0.494929  1.071804\\n2000-01-04  3  0.721555 -1.039575  0.271860\\n2000-01-05  4 -0.424972  0.276232 -1.087401\\n2000-01-06  5 -0.673690 -1.478427  0.524988\\n2000-01-07  6  0.404705 -1.715002 -1.039268\\n2000-01-08  7 -0.370647 -1.344312  0.844885\\nIn [25]: dfa['A'] = list(range(len(dfa.index)))  # use this form to create a new column\"), Document(metadata={'language': 'en', 'source': 'https://pandas.pydata.org/docs/user_guide/merging.html', 'title': 'Merge, join, concatenate and compare — pandas 2.2.2 documentation'}, page_content='In [144]: df = pd.DataFrame(\\n   .....:     {\\n   .....:         \"col1\": [\"a\", \"a\", \"b\", \"b\", \"a\"],\\n   .....:         \"col2\": [1.0, 2.0, 3.0, np.nan, 5.0],\\n   .....:         \"col3\": [1.0, 2.0, 3.0, 4.0, 5.0],\\n   .....:     },\\n   .....:     columns=[\"col1\", \"col2\", \"col3\"],\\n   .....: )\\n   .....: \\nIn [145]: df\\nOut[145]: \\n  col1  col2  col3\\n0    a   1.0   1.0\\n1    a   2.0   2.0\\n2    b   3.0   3.0\\n3    b   NaN   4.0\\n4    a   5.0   5.0\\nIn [146]: df2 = df.copy()\\nIn [147]: df2.loc[0, \"col1\"] = \"c\"\\nIn [148]: df2.loc[2, \"col3\"] = 4.0\\nIn [149]: df2\\nOut[149]: \\n  col1  col2  col3\\n0    c   1.0   1.0\\n1    a   2.0   2.0\\n2    b   3.0   4.0\\n3    b   NaN   4.0\\n4    a   5.0   5.0'), Document(metadata={'language': 'en', 'source': 'https://pandas.pydata.org/docs/user_guide/groupby.html', 'title': 'Group by: split-apply-combine — pandas 2.2.2 documentation'}, page_content='In [225]: df\\nOut[225]: \\n  Branch Buyer  Quantity                Date\\n0      A  Carl         1 2013-01-01 13:00:00\\n1      A  Mark         3 2013-01-01 13:05:00\\n2      A  Carl         5 2013-10-01 20:00:00\\n3      A  Carl         1 2013-10-02 10:00:00\\n4      A   Joe         8 2013-10-01 20:00:00\\n5      A   Joe         1 2013-10-02 10:00:00\\n6      A   Joe         9 2013-12-02 12:00:00\\n7      B  Carl         3 2013-12-02 14:00:00\\nGroupby a specific column with the desired frequency. This is like resampling.'), Document(metadata={'source': 'websearch'}, page_content=\"And to add a prefix to the columns use: dummies.columns = ['D_'+col_name for col_name in dummies.columns] - Ufos. Commented Nov 12, 2017 at 23:06. 2 ... You can use str.join to join all elements in list present in series into string and then use str.get_dummies: ... Pandas convert dummies to a new column. Hot Network Questions\\nColumns in the output are each named after a value; if the input is\\na DataFrame, the name of the original variable is prepended to the value.\\n Examples\\nprevious\\npandas.concat\\nnext\\npandas.from_dummies\\n© 2024, pandas via NumFOCUS, Inc. Site Navigation\\nSite Navigation\\npandas.get_dummies#\\nConvert categorical variable into dummy/indicator variables.\\n If data contains other columns than the\\ndummy-coded one(s), these will be prepended, unaltered, to the result.\\n Whether the dummy-encoded columns should be backed by\\na SparseArray (True) or a regular NumPy array (False).\\n\\nThis is a non-exhaustive solution to specifying many different columns to get_dummies while excluding some columns. Using the built-in filter() function on df.columns is also an option. pd.get_dummies only works on columns with an object dtype when columns=None . Another potential option is to set only columns to be transformed with the object ...\")], 'web_fallback': False}}\n",
      "\n",
      "---\n",
      "\n",
      "---GENERATE---\n",
      "{'generate': {'candidate_answer': \"You can convert a column into dummies using the `pd.get_dummies` function in pandas. For example, `pd.get_dummies(df['column_name'])` will create dummy variables for the specified column. If you want to include the dummies in the original DataFrame, you can use `df = pd.get_dummies(df, columns=['column_name'])`.\", 'retries': 2}}\n",
      "\n",
      "---\n",
      "\n",
      "---FINALIZING THE RESPONSE---\n",
      "{'finalize_response': {'messages': [AIMessage(content=\"You can convert a column into dummies using the `pd.get_dummies` function in pandas. For example, `pd.get_dummies(df['column_name'])` will create dummy variables for the specified column. If you want to include the dummies in the original DataFrame, you can use `df = pd.get_dummies(df, columns=['column_name'])`.\")]}}\n",
      "\n",
      "---\n",
      "\n"
     ]
    }
   ],
   "source": [
    "VERBOSE = True\n",
    "inputs = {\"messages\": [(\"human\", \"how do i convert a column into dummies\")]}\n",
    "for output in graph.stream(inputs, {\"configurable\": {\"max_retries\": 1}}):\n",
    "    print(output)\n",
    "    print(\"\\n---\\n\")"
   ]
  },
  {
   "cell_type": "code",
   "execution_count": 41,
   "id": "5a8c74d2-3f34-4a48-8768-20ae28da525e",
   "metadata": {
    "execution": {
     "iopub.execute_input": "2024-08-24T09:48:20.525926Z",
     "iopub.status.busy": "2024-08-24T09:48:20.525239Z",
     "iopub.status.idle": "2024-08-24T09:48:34.523668Z",
     "shell.execute_reply": "2024-08-24T09:48:34.521981Z",
     "shell.execute_reply.started": "2024-08-24T09:48:20.525871Z"
    }
   },
   "outputs": [
    {
     "name": "stdout",
     "output_type": "stream",
     "text": [
      "---RETRIEVE---\n",
      "---GENERATE---\n",
      "---CHECK HALLUCINATIONS---\n",
      "---DECISION: GENERATION IS NOT GROUNDED IN DOCUMENTS, RE-TRY---\n",
      "---GENERATE---\n",
      "---CHECK HALLUCINATIONS---\n",
      "---DECISION: GENERATION IS NOT GROUNDED IN DOCUMENTS, RE-TRY---\n",
      "---GENERATE---\n",
      "---CHECK HALLUCINATIONS---\n",
      "---DECISION: GENERATION IS NOT GROUNDED IN DOCUMENTS, RE-TRY---\n",
      "---GENERATE---\n",
      "---CHECK HALLUCINATIONS---\n",
      "---DECISION: GENERATION IS NOT GROUNDED IN DOCUMENTS, RE-TRY---\n",
      "---RUNNING WEB SEARCH---\n",
      "---GENERATE---\n",
      "---FINALIZING THE RESPONSE---\n"
     ]
    },
    {
     "data": {
      "text/plain": [
       "{'messages': [HumanMessage(content='how do i convert a column into dummies', id='69125d7d-3b0e-42d7-8192-d43fd71ef25f'),\n",
       "  AIMessage(content=\"You can convert a column into dummies using the `pd.get_dummies` function in pandas. For example, `pd.get_dummies(df['column_name'])` will create dummy variables for the specified column. If you want to include the original DataFrame, you can use `pd.get_dummies(df, columns=['column_name'])`.\", id='c199ec88-cc3c-494d-adeb-3c7290bfe4b6')],\n",
       " 'question': 'how do i convert a column into dummies',\n",
       " 'documents': [Document(metadata={'language': 'en', 'source': 'https://pandas.pydata.org/docs/user_guide/indexing.html', 'title': 'Indexing and selecting data — pandas 2.2.2 documentation'}, page_content=\"In [7]: df[['B', 'A']] = df[['A', 'B']]\\nIn [8]: df\\nOut[8]: \\n                   A         B         C         D\\n2000-01-01 -0.282863  0.469112 -1.509059 -1.135632\\n2000-01-02 -0.173215  1.212112  0.119209 -1.044236\\n2000-01-03 -2.104569 -0.861849 -0.494929  1.071804\\n2000-01-04 -0.706771  0.721555 -1.039575  0.271860\\n2000-01-05  0.567020 -0.424972  0.276232 -1.087401\\n2000-01-06  0.113648 -0.673690 -1.478427  0.524988\\n2000-01-07  0.577046  0.404705 -1.715002 -1.039268\\n2000-01-08 -1.157892 -0.370647 -1.344312  0.844885\\nYou may find this useful for applying a transform (in-place) to a subset of the\\ncolumns.\\nWarning\\npandas aligns all AXES when setting Series and DataFrame from .loc.\\nThis will not modify df because the column alignment is before value assignment.\"),\n",
       "  Document(metadata={'language': 'en', 'source': 'https://pandas.pydata.org/docs/user_guide/indexing.html', 'title': 'Indexing and selecting data — pandas 2.2.2 documentation'}, page_content=\"In [21]: sa.a = 5\\nIn [22]: sa\\nOut[22]: \\na    5\\nb    2\\nc    3\\ndtype: int64\\nIn [23]: dfa.A = list(range(len(dfa.index)))  # ok if A already exists\\nIn [24]: dfa\\nOut[24]: \\n            A         B         C         D\\n2000-01-01  0  0.469112 -1.509059 -1.135632\\n2000-01-02  1  1.212112  0.119209 -1.044236\\n2000-01-03  2 -0.861849 -0.494929  1.071804\\n2000-01-04  3  0.721555 -1.039575  0.271860\\n2000-01-05  4 -0.424972  0.276232 -1.087401\\n2000-01-06  5 -0.673690 -1.478427  0.524988\\n2000-01-07  6  0.404705 -1.715002 -1.039268\\n2000-01-08  7 -0.370647 -1.344312  0.844885\\nIn [25]: dfa['A'] = list(range(len(dfa.index)))  # use this form to create a new column\"),\n",
       "  Document(metadata={'language': 'en', 'source': 'https://pandas.pydata.org/docs/user_guide/merging.html', 'title': 'Merge, join, concatenate and compare — pandas 2.2.2 documentation'}, page_content='In [144]: df = pd.DataFrame(\\n   .....:     {\\n   .....:         \"col1\": [\"a\", \"a\", \"b\", \"b\", \"a\"],\\n   .....:         \"col2\": [1.0, 2.0, 3.0, np.nan, 5.0],\\n   .....:         \"col3\": [1.0, 2.0, 3.0, 4.0, 5.0],\\n   .....:     },\\n   .....:     columns=[\"col1\", \"col2\", \"col3\"],\\n   .....: )\\n   .....: \\nIn [145]: df\\nOut[145]: \\n  col1  col2  col3\\n0    a   1.0   1.0\\n1    a   2.0   2.0\\n2    b   3.0   3.0\\n3    b   NaN   4.0\\n4    a   5.0   5.0\\nIn [146]: df2 = df.copy()\\nIn [147]: df2.loc[0, \"col1\"] = \"c\"\\nIn [148]: df2.loc[2, \"col3\"] = 4.0\\nIn [149]: df2\\nOut[149]: \\n  col1  col2  col3\\n0    c   1.0   1.0\\n1    a   2.0   2.0\\n2    b   3.0   4.0\\n3    b   NaN   4.0\\n4    a   5.0   5.0'),\n",
       "  Document(metadata={'language': 'en', 'source': 'https://pandas.pydata.org/docs/user_guide/groupby.html', 'title': 'Group by: split-apply-combine — pandas 2.2.2 documentation'}, page_content='In [225]: df\\nOut[225]: \\n  Branch Buyer  Quantity                Date\\n0      A  Carl         1 2013-01-01 13:00:00\\n1      A  Mark         3 2013-01-01 13:05:00\\n2      A  Carl         5 2013-10-01 20:00:00\\n3      A  Carl         1 2013-10-02 10:00:00\\n4      A   Joe         8 2013-10-01 20:00:00\\n5      A   Joe         1 2013-10-02 10:00:00\\n6      A   Joe         9 2013-12-02 12:00:00\\n7      B  Carl         3 2013-12-02 14:00:00\\nGroupby a specific column with the desired frequency. This is like resampling.'),\n",
       "  Document(metadata={'source': 'websearch'}, page_content=\"And to add a prefix to the columns use: dummies.columns = ['D_'+col_name for col_name in dummies.columns] - Ufos. Commented Nov 12, 2017 at 23:06. 2 ... You can use str.join to join all elements in list present in series into string and then use str.get_dummies: ... Pandas convert dummies to a new column. Hot Network Questions\\nColumns in the output are each named after a value; if the input is\\na DataFrame, the name of the original variable is prepended to the value.\\n Examples\\nprevious\\npandas.concat\\nnext\\npandas.from_dummies\\n© 2024, pandas via NumFOCUS, Inc. Site Navigation\\nSite Navigation\\npandas.get_dummies#\\nConvert categorical variable into dummy/indicator variables.\\n If data contains other columns than the\\ndummy-coded one(s), these will be prepended, unaltered, to the result.\\n Whether the dummy-encoded columns should be backed by\\na SparseArray (True) or a regular NumPy array (False).\\n\\nThis is a non-exhaustive solution to specifying many different columns to get_dummies while excluding some columns. Using the built-in filter() function on df.columns is also an option. pd.get_dummies only works on columns with an object dtype when columns=None . Another potential option is to set only columns to be transformed with the object ...\")],\n",
       " 'candidate_answer': \"You can convert a column into dummies using the `pd.get_dummies` function in pandas. For example, `pd.get_dummies(df['column_name'])` will create dummy variables for the specified column. If you want to include the original DataFrame, you can use `pd.get_dummies(df, columns=['column_name'])`.\",\n",
       " 'retries': 4,\n",
       " 'web_fallback': False}"
      ]
     },
     "execution_count": 41,
     "metadata": {},
     "output_type": "execute_result"
    }
   ],
   "source": [
    "graph.invoke(inputs)"
   ]
  },
  {
   "cell_type": "code",
   "execution_count": null,
   "id": "9ae91dc7-7555-4cea-bc10-634136561f12",
   "metadata": {},
   "outputs": [],
   "source": []
  }
 ],
 "metadata": {
  "kernelspec": {
   "display_name": "agent",
   "language": "python",
   "name": "agent"
  },
  "language_info": {
   "codemirror_mode": {
    "name": "ipython",
    "version": 3
   },
   "file_extension": ".py",
   "mimetype": "text/x-python",
   "name": "python",
   "nbconvert_exporter": "python",
   "pygments_lexer": "ipython3",
   "version": "3.12.2"
  }
 },
 "nbformat": 4,
 "nbformat_minor": 5
}
