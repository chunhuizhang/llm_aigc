{
 "cells": [
  {
   "cell_type": "markdown",
   "id": "b36203a1-f6a3-4570-9825-1c63d693a233",
   "metadata": {},
   "source": [
    "### prompt template"
   ]
  },
  {
   "cell_type": "markdown",
   "id": "c1666685-ad84-40a1-9123-8d5798ecfea9",
   "metadata": {},
   "source": [
    "- https://api.python.langchain.com/en/latest/agents/langchain.agents.react.agent.create_react_agent.html"
   ]
  },
  {
   "cell_type": "code",
   "execution_count": 1,
   "id": "55448ad9-1973-4c19-9cd7-a5e7b3bd0bd5",
   "metadata": {
    "execution": {
     "iopub.execute_input": "2024-09-10T16:02:50.460560Z",
     "iopub.status.busy": "2024-09-10T16:02:50.459527Z",
     "iopub.status.idle": "2024-09-10T16:02:50.979365Z",
     "shell.execute_reply": "2024-09-10T16:02:50.977684Z",
     "shell.execute_reply.started": "2024-09-10T16:02:50.460501Z"
    }
   },
   "outputs": [],
   "source": [
    "from langchain_core.prompts import PromptTemplate\n",
    "\n",
    "template = '''Answer the following questions as best you can. You have access to the following tools:\n",
    "\n",
    "{tools}\n",
    "\n",
    "Use the following format:\n",
    "\n",
    "Question: the input question you must answer\n",
    "Thought: you should always think about what to do\n",
    "Action: the action to take, should be one of [{tool_names}]\n",
    "Action Input: the input to the action\n",
    "Observation: the result of the action\n",
    "... (this Thought/Action/Action Input/Observation can repeat N times)\n",
    "Thought: I now know the final answer\n",
    "Final Answer: the final answer to the original input question\n",
    "\n",
    "Begin!\n",
    "\n",
    "Question: {input}\n",
    "Thought:{agent_scratchpad}'''\n",
    "\n",
    "prompt = PromptTemplate.from_template(template)"
   ]
  },
  {
   "cell_type": "code",
   "execution_count": null,
   "id": "94fed31e-a005-4cc4-9ede-2f06122d3b6d",
   "metadata": {},
   "outputs": [],
   "source": []
  }
 ],
 "metadata": {
  "kernelspec": {
   "display_name": "agent",
   "language": "python",
   "name": "agent"
  },
  "language_info": {
   "codemirror_mode": {
    "name": "ipython",
    "version": 3
   },
   "file_extension": ".py",
   "mimetype": "text/x-python",
   "name": "python",
   "nbconvert_exporter": "python",
   "pygments_lexer": "ipython3",
   "version": "3.12.2"
  }
 },
 "nbformat": 4,
 "nbformat_minor": 5
}
