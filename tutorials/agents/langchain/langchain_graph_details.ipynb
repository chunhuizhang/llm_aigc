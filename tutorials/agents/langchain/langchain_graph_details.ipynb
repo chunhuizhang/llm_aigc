{
 "cells": [
  {
   "cell_type": "markdown",
   "id": "226de2b7-1e4d-4df0-845b-376744a2ac37",
   "metadata": {},
   "source": [
    "- https://github.com/langchain-ai/langgraph/blob/main/examples/agent_executor/base.ipynb"
   ]
  },
  {
   "cell_type": "markdown",
   "id": "99109f3b-258f-4fbf-8bde-b6b7b5a4701d",
   "metadata": {},
   "source": [
    "### agent executor"
   ]
  },
  {
   "cell_type": "markdown",
   "id": "cba8dfea-ab0d-4084-acbb-638855f344bd",
   "metadata": {},
   "source": [
    "- 即执行工具（`AgentAction`）的能力\n",
    "- 即为 ReAct 即循环执行工具的能力"
   ]
  },
  {
   "cell_type": "code",
   "execution_count": 3,
   "id": "e116ad21-8fa2-4349-9d90-10ef67c04b40",
   "metadata": {
    "execution": {
     "iopub.execute_input": "2024-09-05T15:24:37.000120Z",
     "iopub.status.busy": "2024-09-05T15:24:36.999509Z",
     "iopub.status.idle": "2024-09-05T15:24:37.012692Z",
     "shell.execute_reply": "2024-09-05T15:24:37.011201Z",
     "shell.execute_reply.started": "2024-09-05T15:24:37.000069Z"
    }
   },
   "outputs": [
    {
     "data": {
      "text/plain": [
       "True"
      ]
     },
     "execution_count": 3,
     "metadata": {},
     "output_type": "execute_result"
    }
   ],
   "source": [
    "from dotenv import load_dotenv\n",
    "load_dotenv()"
   ]
  },
  {
   "cell_type": "code",
   "execution_count": 4,
   "id": "ede721ed-0012-40f3-ba23-0f1a7f30a9d1",
   "metadata": {
    "execution": {
     "iopub.execute_input": "2024-09-05T15:24:54.739933Z",
     "iopub.status.busy": "2024-09-05T15:24:54.739322Z",
     "iopub.status.idle": "2024-09-05T15:24:56.311102Z",
     "shell.execute_reply": "2024-09-05T15:24:56.309508Z",
     "shell.execute_reply.started": "2024-09-05T15:24:54.739882Z"
    }
   },
   "outputs": [],
   "source": [
    "from langchain import hub\n",
    "from langchain.agents import create_openai_functions_agent\n",
    "from langchain_community.tools.tavily_search import TavilySearchResults\n",
    "from langchain_openai.chat_models import ChatOpenAI"
   ]
  },
  {
   "cell_type": "code",
   "execution_count": 5,
   "id": "c4c1666c-2072-4179-879f-03a35bf30c5c",
   "metadata": {
    "execution": {
     "iopub.execute_input": "2024-09-05T15:25:01.329074Z",
     "iopub.status.busy": "2024-09-05T15:25:01.328706Z",
     "iopub.status.idle": "2024-09-05T15:25:01.334470Z",
     "shell.execute_reply": "2024-09-05T15:25:01.333445Z",
     "shell.execute_reply.started": "2024-09-05T15:25:01.329050Z"
    }
   },
   "outputs": [],
   "source": [
    "tools = [TavilySearchResults(max_results=1)]"
   ]
  },
  {
   "cell_type": "code",
   "execution_count": 6,
   "id": "8c29ad7e-e802-4fbe-8856-55806555bc7b",
   "metadata": {
    "execution": {
     "iopub.execute_input": "2024-09-05T15:25:13.656298Z",
     "iopub.status.busy": "2024-09-05T15:25:13.655990Z",
     "iopub.status.idle": "2024-09-05T15:25:15.003016Z",
     "shell.execute_reply": "2024-09-05T15:25:15.001280Z",
     "shell.execute_reply.started": "2024-09-05T15:25:13.656276Z"
    }
   },
   "outputs": [],
   "source": [
    "# Get the prompt to use - you can modify this!\n",
    "prompt = hub.pull(\"hwchase17/openai-functions-agent\")\n",
    "\n",
    "# Choose the LLM that will drive the agent\n",
    "llm = ChatOpenAI(model=\"gpt-3.5-turbo-1106\", streaming=True)\n",
    "\n",
    "# Construct the OpenAI Functions agent\n",
    "agent_runnable = create_openai_functions_agent(llm, tools, prompt)"
   ]
  },
  {
   "cell_type": "code",
   "execution_count": 9,
   "id": "f4a11bce-74d9-4cf7-b808-76cf8be51e6a",
   "metadata": {
    "execution": {
     "iopub.execute_input": "2024-09-05T15:27:24.510175Z",
     "iopub.status.busy": "2024-09-05T15:27:24.509796Z",
     "iopub.status.idle": "2024-09-05T15:27:24.515592Z",
     "shell.execute_reply": "2024-09-05T15:27:24.514366Z",
     "shell.execute_reply.started": "2024-09-05T15:27:24.510148Z"
    }
   },
   "outputs": [
    {
     "name": "stdout",
     "output_type": "stream",
     "text": [
      "================================\u001b[1m System Message \u001b[0m================================\n",
      "\n",
      "You are a helpful assistant\n",
      "\n",
      "=============================\u001b[1m Messages Placeholder \u001b[0m=============================\n",
      "\n",
      "\u001b[33;1m\u001b[1;3m{chat_history}\u001b[0m\n",
      "\n",
      "================================\u001b[1m Human Message \u001b[0m=================================\n",
      "\n",
      "\u001b[33;1m\u001b[1;3m{input}\u001b[0m\n",
      "\n",
      "=============================\u001b[1m Messages Placeholder \u001b[0m=============================\n",
      "\n",
      "\u001b[33;1m\u001b[1;3m{agent_scratchpad}\u001b[0m\n"
     ]
    }
   ],
   "source": [
    "prompt.pretty_print()"
   ]
  },
  {
   "cell_type": "markdown",
   "id": "7ed9178a-cf76-4be5-9a6c-21b3d8bb4202",
   "metadata": {},
   "source": [
    "#### agent state"
   ]
  },
  {
   "cell_type": "markdown",
   "id": "7c3b456a-c690-4bf6-8cbe-4f18ab64b47e",
   "metadata": {},
   "source": [
    "- `input`: This is the input string representing the main ask from the user, passed in as input.\n",
    "- `chat_history`: This is any previous conversation messages, also passed in as input.\n",
    "- `intermediate_steps`: This is list of **actions and corresponding observations** that the agent takes over time. This is updated each iteration of the agent.\n",
    "- `agent_outcome`: This is the response from the agent, either an `AgentAction or AgentFinish`. The AgentExecutor should finish when this is an AgentFinish, otherwise it should call the requested tools."
   ]
  },
  {
   "cell_type": "code",
   "execution_count": 7,
   "id": "809dd17a-3d3f-433e-9b74-2a324b9a648c",
   "metadata": {
    "execution": {
     "iopub.execute_input": "2024-09-05T15:27:02.797024Z",
     "iopub.status.busy": "2024-09-05T15:27:02.796716Z",
     "iopub.status.idle": "2024-09-05T15:27:02.805717Z",
     "shell.execute_reply": "2024-09-05T15:27:02.803741Z",
     "shell.execute_reply.started": "2024-09-05T15:27:02.797001Z"
    }
   },
   "outputs": [],
   "source": [
    "import operator\n",
    "from typing import Annotated, TypedDict, Union\n",
    "\n",
    "from langchain_core.agents import AgentAction, AgentFinish\n",
    "from langchain_core.messages import BaseMessage\n",
    "\n",
    "\n",
    "class AgentState(TypedDict):\n",
    "    # The input string\n",
    "    input: str\n",
    "    # The list of previous messages in the conversation\n",
    "    chat_history: list[BaseMessage]\n",
    "    # The outcome of a given call to the agent\n",
    "    # Needs `None` as a valid type, since this is what this will start as\n",
    "    agent_outcome: Union[AgentAction, AgentFinish, None]\n",
    "    # List of actions and corresponding observations\n",
    "    # Here we annotate this with `operator.add` to indicate that operations to\n",
    "    # this state should be ADDED to the existing values (not overwrite it)\n",
    "    intermediate_steps: Annotated[list[tuple[AgentAction, str]], operator.add]"
   ]
  },
  {
   "cell_type": "markdown",
   "id": "b560e262-e6f1-4dd2-a88d-071c553acc8f",
   "metadata": {},
   "source": [
    "#### nodes、edges、graph"
   ]
  },
  {
   "cell_type": "markdown",
   "id": "fde47eac-2c9a-48c0-8777-43b73ebda13e",
   "metadata": {},
   "source": [
    "- a node can be either a function or a runnable:\n",
    "    - input type is `AgentState`\n",
    "    - The agent: responsible for deciding what (if any) actions to take.\n",
    "    - A function to invoke tools: if the agent decides to take an action, this node will then execute that action.\n",
    "- edges\n",
    "    - normal edges\n",
    "    - conditional edges"
   ]
  },
  {
   "cell_type": "code",
   "execution_count": 10,
   "id": "35c81c96-2795-43b9-b4b7-b5c9104bfd3b",
   "metadata": {
    "execution": {
     "iopub.execute_input": "2024-09-05T15:34:03.743631Z",
     "iopub.status.busy": "2024-09-05T15:34:03.743011Z",
     "iopub.status.idle": "2024-09-05T15:34:03.879747Z",
     "shell.execute_reply": "2024-09-05T15:34:03.878126Z",
     "shell.execute_reply.started": "2024-09-05T15:34:03.743580Z"
    }
   },
   "outputs": [
    {
     "name": "stderr",
     "output_type": "stream",
     "text": [
      "/tmp/ipykernel_3338036/50744384.py:7: LangGraphDeprecationWarning: ToolExecutor is deprecated as of version 0.2.0 and will be removed in 0.3.0. Use langgraph.prebuilt.ToolNode instead.\n",
      "  tool_executor = ToolExecutor(tools)\n"
     ]
    }
   ],
   "source": [
    "from langchain_core.agents import AgentFinish\n",
    "\n",
    "from langgraph.prebuilt.tool_executor import ToolExecutor\n",
    "\n",
    "# This a helper class we have that is useful for running tools\n",
    "# It takes in an agent action and calls that tool and returns the result\n",
    "tool_executor = ToolExecutor(tools)\n",
    "\n",
    "\n",
    "# Define the agent\n",
    "def run_agent(state):\n",
    "    agent_outcome = agent_runnable.invoke(state)\n",
    "    return {\"agent_outcome\": agent_outcome}\n",
    "\n",
    "\n",
    "# Define the function to execute tools\n",
    "def execute_tools(state):\n",
    "    # Get the most recent agent_outcome - this is the key added in the `agent` above\n",
    "    agent_action = state[\"agent_outcome\"]\n",
    "    output = tool_executor.invoke(agent_action)\n",
    "    return {\"intermediate_steps\": [(agent_action, str(output))]}\n",
    "\n",
    "\n",
    "# Define logic that will be used to determine which conditional edge to go down\n",
    "def should_continue(state):\n",
    "    # If the agent outcome is an AgentFinish, then we return `exit` string\n",
    "    # This will be used when setting up the graph to define the flow\n",
    "    if isinstance(state[\"agent_outcome\"], AgentFinish):\n",
    "        return \"end\"\n",
    "    # Otherwise, an AgentAction is returned\n",
    "    # Here we return `continue` string\n",
    "    # This will be used when setting up the graph to define the flow\n",
    "    else:\n",
    "        return \"continue\""
   ]
  },
  {
   "cell_type": "code",
   "execution_count": 11,
   "id": "61cfc4ec-9f44-473b-8a00-25ee061bb2c6",
   "metadata": {
    "execution": {
     "iopub.execute_input": "2024-09-05T15:34:49.024880Z",
     "iopub.status.busy": "2024-09-05T15:34:49.024582Z",
     "iopub.status.idle": "2024-09-05T15:34:49.033521Z",
     "shell.execute_reply": "2024-09-05T15:34:49.032670Z",
     "shell.execute_reply.started": "2024-09-05T15:34:49.024857Z"
    }
   },
   "outputs": [],
   "source": [
    "from langgraph.graph import END, StateGraph, START\n",
    "\n",
    "# Define a new graph\n",
    "workflow = StateGraph(AgentState)\n",
    "\n",
    "# Define the two nodes we will cycle between\n",
    "workflow.add_node(\"agent\", run_agent)\n",
    "workflow.add_node(\"action\", execute_tools)\n",
    "\n",
    "# Set the entrypoint as `agent`\n",
    "# This means that this node is the first one called\n",
    "workflow.add_edge(START, \"agent\")\n",
    "\n",
    "# We now add a conditional edge\n",
    "workflow.add_conditional_edges(\n",
    "    # First, we define the start node. We use `agent`.\n",
    "    # This means these are the edges taken after the `agent` node is called.\n",
    "    \"agent\",\n",
    "    # Next, we pass in the function that will determine which node is called next.\n",
    "    should_continue,\n",
    "    # Finally we pass in a mapping.\n",
    "    # The keys are strings, and the values are other nodes.\n",
    "    # END is a special node marking that the graph should finish.\n",
    "    # What will happen is we will call `should_continue`, and then the output of that\n",
    "    # will be matched against the keys in this mapping.\n",
    "    # Based on which one it matches, that node will then be called.\n",
    "    {\n",
    "        # If `tools`, then we call the tool node.\n",
    "        \"continue\": \"action\",\n",
    "        # Otherwise we finish.\n",
    "        \"end\": END,\n",
    "    },\n",
    ")\n",
    "\n",
    "# We now add a normal edge from `tools` to `agent`.\n",
    "# This means that after `tools` is called, `agent` node is called next.\n",
    "workflow.add_edge(\"action\", \"agent\")\n",
    "\n",
    "# Finally, we compile it!\n",
    "# This compiles it into a LangChain Runnable,\n",
    "# meaning you can use it as you would any other runnable\n",
    "app = workflow.compile()"
   ]
  },
  {
   "cell_type": "code",
   "execution_count": 12,
   "id": "d85c9d09-4ea0-49ac-b8ca-72c32b803450",
   "metadata": {
    "execution": {
     "iopub.execute_input": "2024-09-05T15:35:13.079526Z",
     "iopub.status.busy": "2024-09-05T15:35:13.079170Z",
     "iopub.status.idle": "2024-09-05T15:35:15.402198Z",
     "shell.execute_reply": "2024-09-05T15:35:15.400232Z",
     "shell.execute_reply.started": "2024-09-05T15:35:13.079499Z"
    }
   },
   "outputs": [
    {
     "data": {
      "image/jpeg": "[encoded data removed]",
      "text/plain": [
       "<IPython.core.display.Image object>"
      ]
     },
     "metadata": {},
     "output_type": "display_data"
    }
   ],
   "source": [
    "from IPython.display import Image, display\n",
    "\n",
    "try:\n",
    "    display(Image(app.get_graph().draw_mermaid_png()))\n",
    "except Exception:\n",
    "    # This requires some extra dependencies and is optional\n",
    "    pass"
   ]
  },
  {
   "cell_type": "code",
   "execution_count": 13,
   "id": "7c87ec15-1347-4aec-b205-7d481d054ec2",
   "metadata": {
    "execution": {
     "iopub.execute_input": "2024-09-05T15:41:15.732174Z",
     "iopub.status.busy": "2024-09-05T15:41:15.730873Z",
     "iopub.status.idle": "2024-09-05T15:41:23.575266Z",
     "shell.execute_reply": "2024-09-05T15:41:23.573817Z",
     "shell.execute_reply.started": "2024-09-05T15:41:15.732108Z"
    }
   },
   "outputs": [
    {
     "name": "stdout",
     "output_type": "stream",
     "text": [
      "{'agent_outcome': AgentActionMessageLog(tool='tavily_search_results_json', tool_input={'query': 'weather in San Francisco'}, log=\"\\nInvoking: `tavily_search_results_json` with `{'query': 'weather in San Francisco'}`\\n\\n\\n\", message_log=[AIMessage(content='', additional_kwargs={'function_call': {'arguments': '{\"query\":\"weather in San Francisco\"}', 'name': 'tavily_search_results_json'}}, response_metadata={'finish_reason': 'function_call', 'model_name': 'gpt-3.5-turbo-1106', 'system_fingerprint': 'fp_1867888df6'}, id='run-71137537-41db-4f1b-ab05-11d20d542542-0')])}\n",
      "----\n",
      "{'intermediate_steps': [(AgentActionMessageLog(tool='tavily_search_results_json', tool_input={'query': 'weather in San Francisco'}, log=\"\\nInvoking: `tavily_search_results_json` with `{'query': 'weather in San Francisco'}`\\n\\n\\n\", message_log=[AIMessage(content='', additional_kwargs={'function_call': {'arguments': '{\"query\":\"weather in San Francisco\"}', 'name': 'tavily_search_results_json'}}, response_metadata={'finish_reason': 'function_call', 'model_name': 'gpt-3.5-turbo-1106', 'system_fingerprint': 'fp_1867888df6'}, id='run-71137537-41db-4f1b-ab05-11d20d542542-0')]), '[{\\'url\\': \\'https://www.weatherapi.com/\\', \\'content\\': \"{\\'location\\': {\\'name\\': \\'San Francisco\\', \\'region\\': \\'California\\', \\'country\\': \\'United States of America\\', \\'lat\\': 37.78, \\'lon\\': -122.42, \\'tz_id\\': \\'America/Los_Angeles\\', \\'localtime_epoch\\': 1725550871, \\'localtime\\': \\'2024-09-05 08:41\\'}, \\'current\\': {\\'last_updated_epoch\\': 1725550200, \\'last_updated\\': \\'2024-09-05 08:30\\', \\'temp_c\\': 15.2, \\'temp_f\\': 59.4, \\'is_day\\': 1, \\'condition\\': {\\'text\\': \\'Partly cloudy\\', \\'icon\\': \\'//cdn.weatherapi.com/weather/64x64/day/116.png\\', \\'code\\': 1003}, \\'wind_mph\\': 3.8, \\'wind_kph\\': 6.1, \\'wind_degree\\': 20, \\'wind_dir\\': \\'NNE\\', \\'pressure_mb\\': 1018.0, \\'pressure_in\\': 30.05, \\'precip_mm\\': 0.0, \\'precip_in\\': 0.0, \\'humidity\\': 100, \\'cloud\\': 25, \\'feelslike_c\\': 15.2, \\'feelslike_f\\': 59.4, \\'windchill_c\\': 16.5, \\'windchill_f\\': 61.7, \\'heatindex_c\\': 16.5, \\'heatindex_f\\': 61.7, \\'dewpoint_c\\': 12.9, \\'dewpoint_f\\': 55.3, \\'vis_km\\': 16.0, \\'vis_miles\\': 9.0, \\'uv\\': 5.0, \\'gust_mph\\': 4.2, \\'gust_kph\\': 6.7}}\"}]')]}\n",
      "----\n",
      "{'agent_outcome': AgentFinish(return_values={'output': 'The current weather in San Francisco is partly cloudy with a temperature of 15.2°C (59.4°F). The wind is coming from the north-northeast at a speed of 6.1 kph. The humidity is at 100%, and the visibility is 16.0 km (9.0 miles).'}, log='The current weather in San Francisco is partly cloudy with a temperature of 15.2°C (59.4°F). The wind is coming from the north-northeast at a speed of 6.1 kph. The humidity is at 100%, and the visibility is 16.0 km (9.0 miles).')}\n",
      "----\n"
     ]
    }
   ],
   "source": [
    "inputs = {\"input\": \"what is the weather in sf\", \"chat_history\": []}\n",
    "for s in app.stream(inputs):\n",
    "    print(list(s.values())[0])\n",
    "    print(\"----\")"
   ]
  },
  {
   "cell_type": "code",
   "execution_count": null,
   "id": "41f1ebec-953a-4bb6-ae98-6579694792f2",
   "metadata": {},
   "outputs": [],
   "source": []
  }
 ],
 "metadata": {
  "kernelspec": {
   "display_name": "agent",
   "language": "python",
   "name": "agent"
  },
  "language_info": {
   "codemirror_mode": {
    "name": "ipython",
    "version": 3
   },
   "file_extension": ".py",
   "mimetype": "text/x-python",
   "name": "python",
   "nbconvert_exporter": "python",
   "pygments_lexer": "ipython3",
   "version": "3.12.2"
  }
 },
 "nbformat": 4,
 "nbformat_minor": 5
}
