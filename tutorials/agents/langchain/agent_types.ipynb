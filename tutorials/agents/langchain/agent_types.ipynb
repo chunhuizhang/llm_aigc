{
 "cells": [
  {
   "cell_type": "markdown",
   "id": "f3165577-7a54-40ab-97aa-8905a3b93c60",
   "metadata": {},
   "source": [
    "### 第一次查询"
   ]
  },
  {
   "cell_type": "markdown",
   "id": "5f61a856-9e22-4268-bb7c-3daf4e2a8653",
   "metadata": {},
   "source": [
    "```\n",
    "[SYSTEM]: Assistant is a large language model trained by OpenAI.\n",
    "\n",
    "Assistant is designed to be able to assist with a wide range of tasks, from answering simple questions to providing in-depth explanations and discussions on a wide range of topics. As a language model, Assistant is able to generate human-like text based on the input it receives, allowing it to engage in natural-sounding conversations and provide responses that are coherent and relevant to the topic at hand.\n",
    "\n",
    "Assistant is constantly learning and improving, and its capabilities are constantly evolving. It is able to process and understand large amounts of text, and can use this knowledge to provide accurate and informative responses to a wide range of questions. Additionally, Assistant is able to generate its own text based on the input it receives, allowing it to engage in discussions and provide explanations and descriptions on a wide range of topics.\n",
    "\n",
    "Overall, Assistant is a powerful system that can help with a wide range of tasks and provide valuable insights and information on a wide range of topics. Whether you need help with a specific question or just want to have a conversation about a particular topic, Assistant is here to assist.\n",
    "```"
   ]
  },
  {
   "cell_type": "markdown",
   "id": "d449d2f8-9787-4d0a-a28d-ec7fa2667787",
   "metadata": {},
   "source": [
    "```\n",
    "[HUMAN]: TOOLS\n",
    "------\n",
    "Assistant can ask the user to use tools to look up information that may be helpful in answering the users original question. The tools the human can use are:\n",
    "\n",
    "> get_weather: 当需要查询天气时，调用此工具。输入参数是城市名称。\n",
    "\n",
    "RESPONSE FORMAT INSTRUCTIONS\n",
    "----------------------------\n",
    "\n",
    "When responding to me, please output a response in one of two formats:\n",
    "\n",
    "**Option 1:**\n",
    "Use this if you want the human to use a tool.\n",
    "Markdown code snippet formatted in the following schema:\n",
    "\n",
    "```json\n",
    "{\n",
    "    \"action\": string, \\\\ The action to take. Must be one of get_weather\n",
    "    \"action_input\": string \\\\ The input to the action\n",
    "}\n",
    "```\n",
    "\n",
    "**Option #2:**\n",
    "Use this if you want to respond directly to the human. Markdown code snippet formatted in the following schema:\n",
    "\n",
    "```json\n",
    "{\n",
    "    \"action\": \"Final Answer\",\n",
    "    \"action_input\": string \\\\ You should put what you want to return to use here\n",
    "}\n",
    "```\n",
    "\n",
    "USER'S INPUT\n",
    "--------------------\n",
    "Here is the user's input (remember to respond with a markdown code snippet of a json blob with a single action, and NOTHING else):\n",
    "\n",
    "你好，我想知道北京的天气怎么样？\n",
    "```"
   ]
  },
  {
   "cell_type": "markdown",
   "id": "2b052bf0-183a-4bf2-b023-4cec2f03ddb2",
   "metadata": {},
   "source": [
    "```\n",
    "[AI]: ```json\n",
    "{\n",
    "    \"action\": \"get_weather\",\n",
    "    \"action_input\": \"北京\"\n",
    "}\n",
    "```"
   ]
  },
  {
   "cell_type": "markdown",
   "id": "71459f4e-20d0-491b-9441-b2a3f009e9d4",
   "metadata": {},
   "source": [
    "```\n",
    "[HUMAN]: TOOL RESPONSE: \n",
    "---------------------\n",
    "北京今天晴，25摄氏度。\n",
    "\n",
    "USER'S INPUT\n",
    "--------------------\n",
    "\n",
    "Okay, so what is the response to my last comment? If using information obtained from the tools you must mention it explicitly without mentioning the tool names - I have forgotten all TOOL RESPONSES! Remember to respond with a markdown code snippet of a json blob with a single action, and NOTHING else.\n",
    "-------------------------------------------------\n",
    "\n",
    "```json\n",
    "{\n",
    "    \"action\": \"Final Answer\",\n",
    "    \"action_input\": \"北京今天晴，25摄氏度。\"\n",
    "}\n",
    "```\n",
    "\n",
    "> Finished chain.\n",
    "AI 回答: 北京今天晴，25摄氏度。\n",
    "```"
   ]
  },
  {
   "cell_type": "markdown",
   "id": "aaebde9a-250a-422e-b943-0b4e007c10a8",
   "metadata": {},
   "source": [
    "### 第二次查询"
   ]
  },
  {
   "cell_type": "markdown",
   "id": "e2e7c0e8-6bb9-4605-b598-9c369696725b",
   "metadata": {},
   "source": [
    "```\n",
    "[SYSTEM]: Assistant is a large language model trained by OpenAI.\n",
    "\n",
    "Assistant is designed to be able to assist with a wide range of tasks, from answering simple questions to providing in-depth explanations and discussions on a wide range of topics. As a language model, Assistant is able to generate human-like text based on the input it receives, allowing it to engage in natural-sounding conversations and provide responses that are coherent and relevant to the topic at hand.\n",
    "\n",
    "Assistant is constantly learning and improving, and its capabilities are constantly evolving. It is able to process and understand large amounts of text, and can use this knowledge to provide accurate and informative responses to a wide range of questions. Additionally, Assistant is able to generate its own text based on the input it receives, allowing it to engage in discussions and provide explanations and descriptions on a wide range of topics.\n",
    "\n",
    "Overall, Assistant is a powerful system that can help with a wide range of tasks and provide valuable insights and information on a wide range of topics. Whether you need help with a specific question or just want to have a conversation about a particular topic, Assistant is here to assist.\n",
    "```"
   ]
  },
  {
   "cell_type": "markdown",
   "id": "f5fd4d2e-27ae-40e2-90ee-a28197042e9a",
   "metadata": {},
   "source": [
    "```\n",
    "[HUMAN]: 你好，我想知道北京的天气怎么样？\n",
    "[AI]: 北京今天晴，25摄氏度。\n",
    "```"
   ]
  },
  {
   "cell_type": "markdown",
   "id": "24597c55-aff2-4a98-ba64-adb1416a8d79",
   "metadata": {},
   "source": [
    "```\n",
    "[HUMAN]: TOOLS\n",
    "------\n",
    "Assistant can ask the user to use tools to look up information that may be helpful in answering the users original question. The tools the human can use are:\n",
    "\n",
    "> get_weather: 当需要查询天气时，调用此工具。输入参数是城市名称。\n",
    "\n",
    "RESPONSE FORMAT INSTRUCTIONS\n",
    "----------------------------\n",
    "\n",
    "When responding to me, please output a response in one of two formats:\n",
    "\n",
    "**Option 1:**\n",
    "Use this if you want the human to use a tool.\n",
    "Markdown code snippet formatted in the following schema:\n",
    "\n",
    "```json\n",
    "{\n",
    "    \"action\": string, \\\\ The action to take. Must be one of get_weather\n",
    "    \"action_input\": string \\\\ The input to the action\n",
    "}\n",
    "```\n",
    "\n",
    "**Option #2:**\n",
    "Use this if you want to respond directly to the human. Markdown code snippet formatted in the following schema:\n",
    "\n",
    "```json\n",
    "{\n",
    "    \"action\": \"Final Answer\",\n",
    "    \"action_input\": string \\\\ You should put what you want to return to use here\n",
    "}\n",
    "```\n",
    "\n",
    "USER'S INPUT\n",
    "--------------------\n",
    "Here is the user's input (remember to respond with a markdown code snippet of a json blob with a single action, and NOTHING else):\n",
    "\n",
    "那上海呢？\n",
    "```"
   ]
  },
  {
   "cell_type": "markdown",
   "id": "e4f14411-d6c2-426c-a6e8-1952b528f3da",
   "metadata": {},
   "source": [
    "```\n",
    "[AI]: ```json\n",
    "{\n",
    "    \"action\": \"get_weather\",\n",
    "    \"action_input\": \"上海\"\n",
    "}\n",
    "```\n",
    "```"
   ]
  },
  {
   "cell_type": "markdown",
   "id": "3998aa72-50d5-46fd-b84b-c330d181107f",
   "metadata": {},
   "source": [
    "```\n",
    "HUMAN]: TOOL RESPONSE: \n",
    "---------------------\n",
    "上海今天有雨，20摄氏度。\n",
    "\n",
    "USER'S INPUT\n",
    "--------------------\n",
    "\n",
    "Okay, so what is the response to my last comment? If using information obtained from the tools you must mention it explicitly without mentioning the tool names - I have forgotten all TOOL RESPONSES! Remember to respond with a markdown code snippet of a json blob with a single action, and NOTHING else.\n",
    "-------------------------------------------------\n",
    "\n",
    "```json\n",
    "{\n",
    "    \"action\": \"Final Answer\",\n",
    "    \"action_input\": \"上海今天有雨，20摄氏度。\"\n",
    "}\n",
    "```\n",
    "\n",
    "> Finished chain.\n",
    "AI 回答: 上海今天有雨，20摄氏度。\n",
    "```"
   ]
  }
 ],
 "metadata": {
  "kernelspec": {
   "display_name": "Python 3 (ipykernel)",
   "language": "python",
   "name": "python3"
  },
  "language_info": {
   "codemirror_mode": {
    "name": "ipython",
    "version": 3
   },
   "file_extension": ".py",
   "mimetype": "text/x-python",
   "name": "python",
   "nbconvert_exporter": "python",
   "pygments_lexer": "ipython3",
   "version": "3.10.0"
  }
 },
 "nbformat": 4,
 "nbformat_minor": 5
}
