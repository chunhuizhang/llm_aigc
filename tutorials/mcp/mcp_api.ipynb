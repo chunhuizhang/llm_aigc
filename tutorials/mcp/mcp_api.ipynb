{
 "cells": [
  {
   "cell_type": "markdown",
   "id": "a6c5a210-c07a-4c34-ad46-dbd8d4c9246b",
   "metadata": {},
   "source": [
    "- https://mp.weixin.qq.com/s/CLCWHYrZgr_bIwjpyWGAFg"
   ]
  }
 ],
 "metadata": {
  "kernelspec": {
   "display_name": "Python 3 (ipykernel)",
   "language": "python",
   "name": "python3"
  },
  "language_info": {
   "codemirror_mode": {
    "name": "ipython",
    "version": 3
   },
   "file_extension": ".py",
   "mimetype": "text/x-python",
   "name": "python",
   "nbconvert_exporter": "python",
   "pygments_lexer": "ipython3",
   "version": "3.10.0"
  }
 },
 "nbformat": 4,
 "nbformat_minor": 5
}
