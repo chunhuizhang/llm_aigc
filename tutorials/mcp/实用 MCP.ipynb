{
 "cells": [
  {
   "cell_type": "markdown",
   "id": "754e82fe-ade2-458c-be72-521ef9bf8643",
   "metadata": {},
   "source": [
    "- 爬虫类\n",
    "    - fetch\n",
    "        - 抓网页\n",
    "    - firecrawl\n",
    "- 开发类\n",
    "    - context7： `use context7`\n",
    "        - https://context7.com/: 追逐一些库/框架的最新的用法；"
   ]
  },
  {
   "cell_type": "markdown",
   "id": "a1831b7b-e0ca-464a-af6e-ae8adf2a0e43",
   "metadata": {},
   "source": [
    "### 基础"
   ]
  },
  {
   "cell_type": "markdown",
   "id": "130602f9-c19c-44bc-8d2e-b53bb041c7b2",
   "metadata": {},
   "source": [
    "### 可视化"
   ]
  },
  {
   "cell_type": "markdown",
   "id": "9cb01a4f-1a84-4443-b448-f98bfee06ecb",
   "metadata": {},
   "source": [
    "- mcp-server-chart\n",
    "- excalidraw\n",
    "    - https://playbooks.com/mcp/i-tozer-excalidraw"
   ]
  },
  {
   "cell_type": "markdown",
   "id": "37ca105b-fd80-4442-9de9-8219a511d15e",
   "metadata": {},
   "source": [
    "### 应用类"
   ]
  },
  {
   "cell_type": "markdown",
   "id": "74e619be-92ae-4779-aa19-67fda12ed2f3",
   "metadata": {},
   "source": [
    "- Location\n",
    "    - 高德 amap server\n",
    "        - 旅行规划"
   ]
  }
 ],
 "metadata": {
  "kernelspec": {
   "display_name": "Python 3 (ipykernel)",
   "language": "python",
   "name": "python3"
  },
  "language_info": {
   "codemirror_mode": {
    "name": "ipython",
    "version": 3
   },
   "file_extension": ".py",
   "mimetype": "text/x-python",
   "name": "python",
   "nbconvert_exporter": "python",
   "pygments_lexer": "ipython3",
   "version": "3.10.0"
  }
 },
 "nbformat": 4,
 "nbformat_minor": 5
}
