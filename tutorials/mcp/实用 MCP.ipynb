{
 "cells": [
  {
   "cell_type": "markdown",
   "id": "2c94417a-d16b-42ec-b08c-8ca587d6ee73",
   "metadata": {},
   "source": [
    "## 爬虫类"
   ]
  },
  {
   "cell_type": "markdown",
   "id": "754e82fe-ade2-458c-be72-521ef9bf8643",
   "metadata": {},
   "source": [
    "- fetch\n",
    "    - 抓网页\n",
    "- firecrawl"
   ]
  },
  {
   "cell_type": "markdown",
   "id": "f7b98afa-241c-4400-9f40-ef83693517b2",
   "metadata": {},
   "source": [
    "### firecrawl"
   ]
  },
  {
   "cell_type": "code",
   "execution_count": null,
   "id": "6c2fa809-b669-4617-bf87-b9a776ae59b4",
   "metadata": {},
   "outputs": [],
   "source": []
  }
 ],
 "metadata": {
  "kernelspec": {
   "display_name": "Python 3 (ipykernel)",
   "language": "python",
   "name": "python3"
  },
  "language_info": {
   "codemirror_mode": {
    "name": "ipython",
    "version": 3
   },
   "file_extension": ".py",
   "mimetype": "text/x-python",
   "name": "python",
   "nbconvert_exporter": "python",
   "pygments_lexer": "ipython3",
   "version": "3.10.13"
  }
 },
 "nbformat": 4,
 "nbformat_minor": 5
}
