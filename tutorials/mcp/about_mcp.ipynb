{
 "cells": [
  {
   "cell_type": "markdown",
   "id": "6eb1aa87-d0cd-4c51-9778-20584dd5d3a7",
   "metadata": {},
   "source": [
    "### 原理"
   ]
  },
  {
   "cell_type": "markdown",
   "id": "4c07115d-d44c-4525-8300-780fe771461c",
   "metadata": {},
   "source": [
    "https://zhuanlan.zhihu.com/p/1895815215712547750\n",
    "- http(sse) vs. stdio\n",
    "    -  stdio: 本地标准io\n",
    "    -  http(sse)：remote\n",
    "        -  sse：本地 http 部署\n",
    "-  llm\n",
    "    -  `tools` vs. system prompt\n",
    "        -  Cherry Studio 实际上是通过将 MCP Server 中提供的工具、响应结果，转换为 Function Call 的标准格式来和模型进行交互。\n",
    "        -  Cline 将 MCP Server 中提供的工具、响应结果转换未一套自己约定的输入、输出的标准数据格式，通过系统提示词来声明这种约定，再和模型进行交互。\n",
    "        -  这也解释了，为什么在 Cherry Studio 中只有一部分模型支持 MCP，前提是选择的模型需要支持 Function Call 的调用，并且在客户端进行了特殊适配；而 Cline 则使用的是系统提示词，所以所有模型都支持。\n",
    "\n"
   ]
  },
  {
   "cell_type": "markdown",
   "id": "56b26f85-92db-44be-8d73-d397f41950c5",
   "metadata": {},
   "source": [
    "### uv 与 npx"
   ]
  },
  {
   "cell_type": "markdown",
   "id": "e2c3f25a-8b92-4f4c-9a33-f5504c9ab36e",
   "metadata": {},
   "source": [
    "> 均非全局安装？\n",
    "\n",
    "- uv 是 python 的运行环境\n",
    "    -  `uvx` == `uv run tool`\n",
    "-  npx: node js 的运行环境\n",
    "    -  `npx excalidraw-mcp`\n",
    "    -  `npm install -g excalidraw-mcp`\n",
    "        -  globally install"
   ]
  }
 ],
 "metadata": {
  "kernelspec": {
   "display_name": "Python 3 (ipykernel)",
   "language": "python",
   "name": "python3"
  },
  "language_info": {
   "codemirror_mode": {
    "name": "ipython",
    "version": 3
   },
   "file_extension": ".py",
   "mimetype": "text/x-python",
   "name": "python",
   "nbconvert_exporter": "python",
   "pygments_lexer": "ipython3",
   "version": "3.10.0"
  }
 },
 "nbformat": 4,
 "nbformat_minor": 5
}
