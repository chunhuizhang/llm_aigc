{
 "cells": [
  {
   "cell_type": "markdown",
   "id": "eca012f3-02ad-48c5-a13a-19e10e5ab53d",
   "metadata": {},
   "source": [
    "- `httpUrl` → `StreamableHTTPClientTransport`\n",
    "- `url` → `SSEClientTransport`\n",
    "- `command` → `StdioClientTransport`"
   ]
  },
  {
   "cell_type": "markdown",
   "id": "ce0d5567-4078-4fcc-99f7-a49f5156d003",
   "metadata": {},
   "source": [
    "### client.ts"
   ]
  },
  {
   "cell_type": "code",
   "execution_count": null,
   "id": "6799507c-21b2-4ccf-900e-595f4355e54a",
   "metadata": {},
   "outputs": [],
   "source": []
  }
 ],
 "metadata": {
  "kernelspec": {
   "display_name": "Python 3 (ipykernel)",
   "language": "python",
   "name": "python3"
  },
  "language_info": {
   "codemirror_mode": {
    "name": "ipython",
    "version": 3
   },
   "file_extension": ".py",
   "mimetype": "text/x-python",
   "name": "python",
   "nbconvert_exporter": "python",
   "pygments_lexer": "ipython3",
   "version": "3.10.0"
  }
 },
 "nbformat": 4,
 "nbformat_minor": 5
}
