{
 "cells": [
  {
   "cell_type": "markdown",
   "id": "d3134108",
   "metadata": {},
   "source": [
    "- reference\n",
    "    - http://karpathy.github.io/2019/04/25/recipe/"
   ]
  },
  {
   "cell_type": "markdown",
   "id": "5c1ebce5",
   "metadata": {},
   "source": [
    "## batch size & learning rate"
   ]
  },
  {
   "cell_type": "markdown",
   "id": "075979d9",
   "metadata": {},
   "source": [
    "- Adam & 3e-4\n",
    "    - karpathy constant\n",
    "- batch size and learning rate"
   ]
  },
  {
   "cell_type": "markdown",
   "id": "ac4cfa19",
   "metadata": {},
   "source": [
    "## `tokenizer.padding_side`"
   ]
  },
  {
   "cell_type": "markdown",
   "id": "0ab430bc",
   "metadata": {},
   "source": [
    "If you want to fine-tune an LLM while using `FlashAttention`, you must set the padding side to “left”. Otherwise, it won’t work.\n",
    "\n",
    "```\n",
    "tokenizer.padding_side = 'left'\n",
    "```"
   ]
  }
 ],
 "metadata": {
  "kernelspec": {
   "display_name": "Python 3 (ipykernel)",
   "language": "python",
   "name": "python3"
  },
  "language_info": {
   "codemirror_mode": {
    "name": "ipython",
    "version": 3
   },
   "file_extension": ".py",
   "mimetype": "text/x-python",
   "name": "python",
   "nbconvert_exporter": "python",
   "pygments_lexer": "ipython3",
   "version": "3.10.13"
  },
  "toc": {
   "base_numbering": 1,
   "nav_menu": {},
   "number_sections": true,
   "sideBar": true,
   "skip_h1_title": false,
   "title_cell": "Table of Contents",
   "title_sidebar": "Contents",
   "toc_cell": false,
   "toc_position": {},
   "toc_section_display": true,
   "toc_window_display": false
  }
 },
 "nbformat": 4,
 "nbformat_minor": 5
}
