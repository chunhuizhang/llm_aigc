{
 "cells": [
  {
   "cell_type": "markdown",
   "id": "2219f2f0-2ce7-4810-9758-56459f10b3c4",
   "metadata": {},
   "source": [
    "- optuna: 一个超参数优化框架\n",
    "    - 可以可视化超参的重要性"
   ]
  }
 ],
 "metadata": {
  "kernelspec": {
   "display_name": "Python 3 (ipykernel)",
   "language": "python",
   "name": "python3"
  },
  "language_info": {
   "codemirror_mode": {
    "name": "ipython",
    "version": 3
   },
   "file_extension": ".py",
   "mimetype": "text/x-python",
   "name": "python",
   "nbconvert_exporter": "python",
   "pygments_lexer": "ipython3",
   "version": "3.10.0"
  }
 },
 "nbformat": 4,
 "nbformat_minor": 5
}
