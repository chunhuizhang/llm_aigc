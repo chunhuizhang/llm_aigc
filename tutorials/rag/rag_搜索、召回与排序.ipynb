{
 "cells": [
  {
   "cell_type": "markdown",
   "id": "3f60c007-79b5-4ddc-9669-4dac852d1818",
   "metadata": {},
   "source": [
    "- Rag的本质是搜索，是召回和排序\n",
    "    - 基于相似性匹配进行搜索和召回\n",
    "    - 基于相似性的值就行排序"
   ]
  }
 ],
 "metadata": {
  "kernelspec": {
   "display_name": "Python 3 (ipykernel)",
   "language": "python",
   "name": "python3"
  },
  "language_info": {
   "codemirror_mode": {
    "name": "ipython",
    "version": 3
   },
   "file_extension": ".py",
   "mimetype": "text/x-python",
   "name": "python",
   "nbconvert_exporter": "python",
   "pygments_lexer": "ipython3",
   "version": "3.10.13"
  }
 },
 "nbformat": 4,
 "nbformat_minor": 5
}
