{
 "cells": [
  {
   "cell_type": "markdown",
   "id": "210dc610-dbd3-457e-b6f4-52ee2712802d",
   "metadata": {},
   "source": [
    "- https://python.langchain.com/docs/integrations/retrievers/graph_rag/"
   ]
  },
  {
   "cell_type": "markdown",
   "id": "4afdf34b-0f5a-4a14-bbea-e6e8b3d805ba",
   "metadata": {},
   "source": [
    "### GraphRAG"
   ]
  },
  {
   "cell_type": "markdown",
   "id": "22fc29fc-a57a-44c7-932a-27567609c311",
   "metadata": {},
   "source": [
    "- 两大阶段\n",
    "    - Indexing\n",
    "        - documents => TextUnits Chunks => 知识图谱 => 分层聚类\n",
    "    - Query\n",
    "        - Global Search\n",
    "        - Local Search"
   ]
  }
 ],
 "metadata": {
  "kernelspec": {
   "display_name": "agent",
   "language": "python",
   "name": "agent"
  },
  "language_info": {
   "codemirror_mode": {
    "name": "ipython",
    "version": 3
   },
   "file_extension": ".py",
   "mimetype": "text/x-python",
   "name": "python",
   "nbconvert_exporter": "python",
   "pygments_lexer": "ipython3",
   "version": "3.12.2"
  }
 },
 "nbformat": 4,
 "nbformat_minor": 5
}
