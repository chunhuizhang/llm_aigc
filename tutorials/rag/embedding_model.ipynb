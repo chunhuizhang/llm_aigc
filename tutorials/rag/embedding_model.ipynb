{
 "cells": [
  {
   "cell_type": "markdown",
   "id": "bec3de66-8b20-4e6e-9e9e-f0364b544edb",
   "metadata": {},
   "source": [
    "- embedding model 与基于 vector 的 similarity search 是独立的"
   ]
  },
  {
   "cell_type": "markdown",
   "id": "e15b18ad-0313-46cc-b3cf-d2f408788b67",
   "metadata": {},
   "source": [
    "### search"
   ]
  },
  {
   "cell_type": "markdown",
   "id": "aba699ee-dcb5-438c-b6fa-5bc032f27257",
   "metadata": {},
   "source": [
    "- faiss\n",
    "    - https://python.langchain.com/v0.2/docs/integrations/vectorstores/faiss/"
   ]
  },
  {
   "cell_type": "markdown",
   "id": "7438a26f-eb57-454e-891f-655cbd1984b4",
   "metadata": {},
   "source": [
    "### embedding model"
   ]
  },
  {
   "cell_type": "markdown",
   "id": "6f98e71c-9bdb-4e45-8418-0cb49ff40ba8",
   "metadata": {},
   "source": [
    "- bge1.5，\n",
    "- text2vec large Chinese\n",
    "- 对私有数据做 simcse 的无监督训练"
   ]
  }
 ],
 "metadata": {
  "kernelspec": {
   "display_name": "Python 3 (ipykernel)",
   "language": "python",
   "name": "python3"
  },
  "language_info": {
   "codemirror_mode": {
    "name": "ipython",
    "version": 3
   },
   "file_extension": ".py",
   "mimetype": "text/x-python",
   "name": "python",
   "nbconvert_exporter": "python",
   "pygments_lexer": "ipython3",
   "version": "3.10.13"
  }
 },
 "nbformat": 4,
 "nbformat_minor": 5
}
