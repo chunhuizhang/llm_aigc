{
 "cells": [
  {
   "cell_type": "code",
   "execution_count": 61,
   "id": "49420807-2f08-43d4-8412-2c0c2cf604fc",
   "metadata": {
    "execution": {
     "iopub.execute_input": "2024-06-15T11:41:48.034553Z",
     "iopub.status.busy": "2024-06-15T11:41:48.033891Z",
     "iopub.status.idle": "2024-06-15T11:41:48.043980Z",
     "shell.execute_reply": "2024-06-15T11:41:48.041885Z",
     "shell.execute_reply.started": "2024-06-15T11:41:48.034501Z"
    }
   },
   "outputs": [],
   "source": [
    "# !pip install llama_index\n",
    "# !pip install python_dotenv"
   ]
  },
  {
   "cell_type": "code",
   "execution_count": 1,
   "id": "2aac8072-3943-439a-b9c3-fcd2ded0248d",
   "metadata": {
    "execution": {
     "iopub.execute_input": "2024-06-15T09:25:25.113625Z",
     "iopub.status.busy": "2024-06-15T09:25:25.112883Z",
     "iopub.status.idle": "2024-06-15T09:25:25.128263Z",
     "shell.execute_reply": "2024-06-15T09:25:25.126957Z",
     "shell.execute_reply.started": "2024-06-15T09:25:25.113581Z"
    }
   },
   "outputs": [],
   "source": [
    "from IPython.display import Image"
   ]
  },
  {
   "cell_type": "markdown",
   "id": "27ab464f-9dcd-4f45-b35b-6d87586ef265",
   "metadata": {},
   "source": [
    "## Concepts"
   ]
  },
  {
   "cell_type": "code",
   "execution_count": 2,
   "id": "9305ab46-fca1-464e-b0b4-050e31a606ef",
   "metadata": {
    "execution": {
     "iopub.execute_input": "2024-06-15T09:25:25.130375Z",
     "iopub.status.busy": "2024-06-15T09:25:25.129890Z",
     "iopub.status.idle": "2024-06-15T09:25:25.152401Z",
     "shell.execute_reply": "2024-06-15T09:25:25.151153Z",
     "shell.execute_reply.started": "2024-06-15T09:25:25.130334Z"
    }
   },
   "outputs": [
    {
     "data": {
      "text/html": [
       "<img src=\"https://docs.llamaindex.ai/en/latest/_static/getting_started/basic_rag.png\" width=\"500\"/>"
      ],
      "text/plain": [
       "<IPython.core.display.Image object>"
      ]
     },
     "execution_count": 2,
     "metadata": {},
     "output_type": "execute_result"
    }
   ],
   "source": [
    "Image(url='https://docs.llamaindex.ai/en/latest/_static/getting_started/basic_rag.png', width=500)"
   ]
  },
  {
   "cell_type": "markdown",
   "id": "5f482856-cd95-4463-a6fb-4c3940544993",
   "metadata": {},
   "source": [
    "- https://docs.llamaindex.ai/en/latest/getting_started/concepts/\n",
    "- https://docs.llamaindex.ai/en/latest/getting_started/starter_example/\n",
    "- data => index (chunks => embedding vectors)\n",
    "    - embedding model: 'text-embedding-ada-002'\n",
    "        - POST https://api.openai.com/v1/embeddings\n",
    "        - `from llama_index.embeddings.openai import OpenAIEmbedding`\n",
    "    - query => index (embedding vector)\n",
    "- retrieve  similarity_top_k  (default 2)\n",
    "- settings\n",
    "    - embed_model: 'text-embedding-ada-002'\n",
    "    - llm: gpt-3.5-turbo"
   ]
  },
  {
   "cell_type": "markdown",
   "id": "b48e4b5d-6db2-43e3-a154-4afc988d9231",
   "metadata": {},
   "source": [
    "## Default Prompt Template"
   ]
  },
  {
   "cell_type": "markdown",
   "id": "9a4e6929-8567-4549-a516-56a3427f5804",
   "metadata": {},
   "source": [
    "### qa_template"
   ]
  },
  {
   "cell_type": "markdown",
   "id": "ec7a4bd2-a52d-4d20-9451-3b2023efe02f",
   "metadata": {},
   "source": [
    "```\n",
    "'Context information is below.\n",
    "---------------------\n",
    "{context_str}\n",
    "---------------------\n",
    "Given the context information and not prior knowledge, answer the query.\n",
    "Query: {query_str}\n",
    "Answer: '\n",
    "```"
   ]
  },
  {
   "cell_type": "markdown",
   "id": "c155e235-bc76-453b-8cb3-bc9283761731",
   "metadata": {},
   "source": [
    "### refine_template"
   ]
  },
  {
   "cell_type": "markdown",
   "id": "cf797969-e421-4342-98e7-5672b664f270",
   "metadata": {},
   "source": [
    "```\n",
    "The original query is as follows: {query_str}\n",
    "We have provided an existing answer: {existing_answer}\n",
    "We have the opportunity to refine the existing answer (only if needed) with some more context below.\n",
    "------------\n",
    "{context_msg}\n",
    "------------\n",
    "Given the new context, refine the original answer to better answer the query. If the context isn't useful, return the original answer.\n",
    "Refined Answer: \n",
    "```"
   ]
  },
  {
   "cell_type": "markdown",
   "id": "acbc401c-a30d-44bf-a84e-12568951674b",
   "metadata": {},
   "source": [
    "### simple_template"
   ]
  },
  {
   "cell_type": "markdown",
   "id": "e3f80433-16e5-4069-9e1e-bee3a8376287",
   "metadata": {},
   "source": [
    "```\n",
    "'{query_str}'\n",
    "```"
   ]
  },
  {
   "cell_type": "markdown",
   "id": "0da68bd6-b1b1-4f9c-83c9-780d2b38bd70",
   "metadata": {},
   "source": [
    "### summary_template"
   ]
  },
  {
   "cell_type": "markdown",
   "id": "676567bc-d7d6-48c9-84c1-ea15e7eb3fc7",
   "metadata": {},
   "source": [
    "```\n",
    "'Context information from multiple sources is below.\n",
    "---------------------\n",
    "{context_str}\n",
    "---------------------\n",
    "Given the information from multiple sources and not prior knowledge, answer the query.\n",
    "Query: {query_str}\n",
    "Answer: '\n",
    "```"
   ]
  },
  {
   "cell_type": "markdown",
   "id": "f0cbc2a8-62c6-48b4-8856-b389df7384f8",
   "metadata": {},
   "source": [
    "### system prompt"
   ]
  },
  {
   "cell_type": "markdown",
   "id": "c55dcda3-0b10-44f0-8016-6e1e8e5d543a",
   "metadata": {},
   "source": [
    "```\n",
    "system: You are an expert Q&A system that is trusted around the world.\n",
    "Always answer the query using the provided context information, and not prior knowledge.\n",
    "Some rules to follow:\n",
    "1. Never directly reference the given context in your answer.\n",
    "2. Avoid statements like 'Based on the context, ...' or 'The context information ...' or anything along those lines.\n",
    "```"
   ]
  },
  {
   "cell_type": "markdown",
   "id": "c5464ea3-a824-4f59-9d23-3cda7cd17c1f",
   "metadata": {},
   "source": [
    "## ResponseMode"
   ]
  },
  {
   "cell_type": "markdown",
   "id": "31e995c0-a03b-4f13-a86c-21c1eaf03a21",
   "metadata": {},
   "source": [
    "- default: Compact"
   ]
  },
  {
   "cell_type": "code",
   "execution_count": 48,
   "id": "733b918d-c09e-430a-9196-f447f7092966",
   "metadata": {
    "execution": {
     "iopub.execute_input": "2024-06-15T11:04:49.997344Z",
     "iopub.status.busy": "2024-06-15T11:04:49.996763Z",
     "iopub.status.idle": "2024-06-15T11:04:50.006630Z",
     "shell.execute_reply": "2024-06-15T11:04:50.004579Z",
     "shell.execute_reply.started": "2024-06-15T11:04:49.997298Z"
    }
   },
   "outputs": [],
   "source": [
    "from llama_index.core.response_synthesizers.type import ResponseMode"
   ]
  },
  {
   "cell_type": "code",
   "execution_count": 58,
   "id": "f87c5267-7c68-47d4-af2c-4e05e308a4c0",
   "metadata": {
    "execution": {
     "iopub.execute_input": "2024-06-15T11:07:16.097276Z",
     "iopub.status.busy": "2024-06-15T11:07:16.096698Z",
     "iopub.status.idle": "2024-06-15T11:07:16.110050Z",
     "shell.execute_reply": "2024-06-15T11:07:16.107986Z",
     "shell.execute_reply.started": "2024-06-15T11:07:16.097229Z"
    }
   },
   "outputs": [
    {
     "data": {
      "text/plain": [
       "(<ResponseMode.REFINE: 'refine'>,\n",
       " <ResponseMode.COMPACT: 'compact'>,\n",
       " <ResponseMode.SIMPLE_SUMMARIZE: 'simple_summarize'>,\n",
       " <ResponseMode.TREE_SUMMARIZE: 'tree_summarize'>,\n",
       " <ResponseMode.GENERATION: 'generation'>)"
      ]
     },
     "execution_count": 58,
     "metadata": {},
     "output_type": "execute_result"
    }
   ],
   "source": [
    "ResponseMode.REFINE, ResponseMode.COMPACT, ResponseMode.SIMPLE_SUMMARIZE, ResponseMode.TREE_SUMMARIZE, ResponseMode.GENERATION"
   ]
  },
  {
   "cell_type": "markdown",
   "id": "47f627a8-415f-40b8-a3d1-7d7b7a21d61c",
   "metadata": {},
   "source": [
    "## demo"
   ]
  },
  {
   "cell_type": "code",
   "execution_count": 3,
   "id": "03c17718-fec7-41d7-a99f-ffdeb6d30453",
   "metadata": {
    "execution": {
     "iopub.execute_input": "2024-06-15T09:25:25.154555Z",
     "iopub.status.busy": "2024-06-15T09:25:25.154047Z",
     "iopub.status.idle": "2024-06-15T09:25:25.172467Z",
     "shell.execute_reply": "2024-06-15T09:25:25.171298Z",
     "shell.execute_reply.started": "2024-06-15T09:25:25.154514Z"
    }
   },
   "outputs": [
    {
     "data": {
      "text/plain": [
       "True"
      ]
     },
     "execution_count": 3,
     "metadata": {},
     "output_type": "execute_result"
    }
   ],
   "source": [
    "from dotenv import load_dotenv\n",
    "load_dotenv('./.env')"
   ]
  },
  {
   "cell_type": "code",
   "execution_count": 4,
   "id": "7de8dfd2-31e5-4a13-8655-140f6489d2a8",
   "metadata": {
    "execution": {
     "iopub.execute_input": "2024-06-15T09:25:25.174953Z",
     "iopub.status.busy": "2024-06-15T09:25:25.174031Z",
     "iopub.status.idle": "2024-06-15T09:25:25.180141Z",
     "shell.execute_reply": "2024-06-15T09:25:25.178922Z",
     "shell.execute_reply.started": "2024-06-15T09:25:25.174915Z"
    }
   },
   "outputs": [],
   "source": [
    "import os\n",
    "os.environ['HTTP_PROXY'] = 'http://127.0.0.1:7890'\n",
    "os.environ['HTTPS_PROXY'] = 'http://127.0.0.1:7890'"
   ]
  },
  {
   "cell_type": "code",
   "execution_count": 5,
   "id": "4113f369-3c6e-4d34-be34-8ba5af347237",
   "metadata": {
    "execution": {
     "iopub.execute_input": "2024-06-15T09:25:25.182010Z",
     "iopub.status.busy": "2024-06-15T09:25:25.181581Z",
     "iopub.status.idle": "2024-06-15T09:25:25.188367Z",
     "shell.execute_reply": "2024-06-15T09:25:25.187229Z",
     "shell.execute_reply.started": "2024-06-15T09:25:25.181975Z"
    }
   },
   "outputs": [],
   "source": [
    "# import logging\n",
    "# import sys\n",
    "# logging.basicConfig(stream=sys.stdout, level=logging.DEBUG)\n",
    "# logging.getLogger().addHandler(logging.StreamHandler(stream=sys.stdout))"
   ]
  },
  {
   "cell_type": "markdown",
   "id": "57d2a409-e5e2-4944-ae40-c21c022af6bd",
   "metadata": {},
   "source": [
    "### load documents"
   ]
  },
  {
   "cell_type": "code",
   "execution_count": 6,
   "id": "8860edbe-9582-4f19-bc8e-a313b21ac9cf",
   "metadata": {
    "execution": {
     "iopub.execute_input": "2024-06-15T09:25:25.192684Z",
     "iopub.status.busy": "2024-06-15T09:25:25.191966Z",
     "iopub.status.idle": "2024-06-15T09:25:26.562221Z",
     "shell.execute_reply": "2024-06-15T09:25:26.561380Z",
     "shell.execute_reply.started": "2024-06-15T09:25:25.192645Z"
    }
   },
   "outputs": [],
   "source": [
    "from llama_index.core import VectorStoreIndex, SimpleDirectoryReader\n",
    "\n",
    "documents = SimpleDirectoryReader(\"data\").load_data()"
   ]
  },
  {
   "cell_type": "code",
   "execution_count": 7,
   "id": "458045fb-77e4-44ea-9d12-c078140b3f60",
   "metadata": {
    "execution": {
     "iopub.execute_input": "2024-06-15T09:25:26.562894Z",
     "iopub.status.busy": "2024-06-15T09:25:26.562676Z",
     "iopub.status.idle": "2024-06-15T09:25:26.568140Z",
     "shell.execute_reply": "2024-06-15T09:25:26.567430Z",
     "shell.execute_reply.started": "2024-06-15T09:25:26.562875Z"
    }
   },
   "outputs": [
    {
     "data": {
      "text/plain": [
       "('{metadata_str}\\n\\n{content}', '\\n', '{key}: {value}')"
      ]
     },
     "execution_count": 7,
     "metadata": {},
     "output_type": "execute_result"
    }
   ],
   "source": [
    "documents[0].text_template, documents[0].metadata_seperator, documents[0].metadata_template"
   ]
  },
  {
   "cell_type": "markdown",
   "id": "a787c86d-35d8-4b4f-ab50-c00e275f997f",
   "metadata": {},
   "source": [
    "### to index & query"
   ]
  },
  {
   "cell_type": "markdown",
   "id": "1d7125fe-7ade-4eb3-94ef-68f4001d314c",
   "metadata": {
    "execution": {
     "iopub.execute_input": "2024-06-15T09:53:06.022231Z",
     "iopub.status.busy": "2024-06-15T09:53:06.021656Z",
     "iopub.status.idle": "2024-06-15T09:53:06.032629Z",
     "shell.execute_reply": "2024-06-15T09:53:06.030599Z",
     "shell.execute_reply.started": "2024-06-15T09:53:06.022187Z"
    }
   },
   "source": [
    "- chunk_size, chunk_overlap\n",
    "    - chunk_size 1024\n",
    "    - chunk_overlap 200\n",
    "- split & merge\n",
    "- nodes\n",
    "- embeds to nodes\n",
    "    - text-embedding-ada-002: 1536 (512*3)"
   ]
  },
  {
   "cell_type": "code",
   "execution_count": 35,
   "id": "5a480bf3-cb30-43be-96f3-5568052a6624",
   "metadata": {
    "execution": {
     "iopub.execute_input": "2024-06-15T10:47:29.555458Z",
     "iopub.status.busy": "2024-06-15T10:47:29.554768Z",
     "iopub.status.idle": "2024-06-15T10:47:29.567347Z",
     "shell.execute_reply": "2024-06-15T10:47:29.565528Z",
     "shell.execute_reply.started": "2024-06-15T10:47:29.555408Z"
    }
   },
   "outputs": [
    {
     "data": {
      "text/plain": [
       "3.0"
      ]
     },
     "execution_count": 35,
     "metadata": {},
     "output_type": "execute_result"
    }
   ],
   "source": [
    "1536/512"
   ]
  },
  {
   "cell_type": "code",
   "execution_count": 25,
   "id": "f86fcd89-53d8-40fb-abc2-d0b9687bce44",
   "metadata": {
    "execution": {
     "iopub.execute_input": "2024-06-15T09:46:30.122676Z",
     "iopub.status.busy": "2024-06-15T09:46:30.122381Z",
     "iopub.status.idle": "2024-06-15T09:46:32.830536Z",
     "shell.execute_reply": "2024-06-15T09:46:32.828872Z",
     "shell.execute_reply.started": "2024-06-15T09:46:30.122655Z"
    }
   },
   "outputs": [
    {
     "data": {
      "application/vnd.jupyter.widget-view+json": {
       "model_id": "ff6bccc654b04e96b80bdd2215b5bf15",
       "version_major": 2,
       "version_minor": 0
      },
      "text/plain": [
       "Parsing nodes:   0%|          | 0/1 [00:00<?, ?it/s]"
      ]
     },
     "metadata": {},
     "output_type": "display_data"
    },
    {
     "data": {
      "application/vnd.jupyter.widget-view+json": {
       "model_id": "5252b65d0b5e4af7ade87bfd8abed427",
       "version_major": 2,
       "version_minor": 0
      },
      "text/plain": [
       "Generating embeddings:   0%|          | 0/22 [00:00<?, ?it/s]"
      ]
     },
     "metadata": {},
     "output_type": "display_data"
    }
   ],
   "source": [
    "index = VectorStoreIndex.from_documents(documents, show_progress=True)"
   ]
  },
  {
   "cell_type": "code",
   "execution_count": 63,
   "id": "8133dfe5-fb1c-4774-8984-36696aa5a6a5",
   "metadata": {
    "execution": {
     "iopub.execute_input": "2024-06-15T12:02:00.575051Z",
     "iopub.status.busy": "2024-06-15T12:02:00.574393Z",
     "iopub.status.idle": "2024-06-15T12:02:00.582872Z",
     "shell.execute_reply": "2024-06-15T12:02:00.580780Z",
     "shell.execute_reply.started": "2024-06-15T12:02:00.575001Z"
    }
   },
   "outputs": [],
   "source": [
    "# index.docstore.docs['9655ddd8-a3e7-46a5-b709-dca099020c81']"
   ]
  },
  {
   "cell_type": "code",
   "execution_count": 65,
   "id": "63b49f7b-cc83-4e1f-ad4a-4680efcd1d78",
   "metadata": {
    "execution": {
     "iopub.execute_input": "2024-06-15T12:02:08.295635Z",
     "iopub.status.busy": "2024-06-15T12:02:08.294978Z",
     "iopub.status.idle": "2024-06-15T12:02:08.303753Z",
     "shell.execute_reply": "2024-06-15T12:02:08.301545Z",
     "shell.execute_reply.started": "2024-06-15T12:02:08.295588Z"
    }
   },
   "outputs": [],
   "source": [
    "# index.vector_store.data.embedding_dict['9655ddd8-a3e7-46a5-b709-dca099020c81']"
   ]
  },
  {
   "cell_type": "code",
   "execution_count": 13,
   "id": "151d55a4-b69c-424b-8fc0-e184d3ca0160",
   "metadata": {
    "execution": {
     "iopub.execute_input": "2024-06-15T09:26:54.701460Z",
     "iopub.status.busy": "2024-06-15T09:26:54.700792Z",
     "iopub.status.idle": "2024-06-15T09:26:54.732681Z",
     "shell.execute_reply": "2024-06-15T09:26:54.731073Z",
     "shell.execute_reply.started": "2024-06-15T09:26:54.701410Z"
    }
   },
   "outputs": [],
   "source": [
    "query_engine = index.as_query_engine()"
   ]
  },
  {
   "cell_type": "code",
   "execution_count": 15,
   "id": "e8ba1efd-311a-440b-907f-e24a256ccfcb",
   "metadata": {
    "execution": {
     "iopub.execute_input": "2024-06-15T09:27:16.855295Z",
     "iopub.status.busy": "2024-06-15T09:27:16.854988Z",
     "iopub.status.idle": "2024-06-15T09:27:19.447227Z",
     "shell.execute_reply": "2024-06-15T09:27:19.445570Z",
     "shell.execute_reply.started": "2024-06-15T09:27:16.855273Z"
    }
   },
   "outputs": [],
   "source": [
    "response = query_engine.query(\"What did the author do growing up?\")"
   ]
  },
  {
   "cell_type": "code",
   "execution_count": 16,
   "id": "a0f61594-dc11-4a3f-9575-9eca51c36824",
   "metadata": {
    "execution": {
     "iopub.execute_input": "2024-06-15T09:27:22.717191Z",
     "iopub.status.busy": "2024-06-15T09:27:22.716033Z",
     "iopub.status.idle": "2024-06-15T09:27:22.724992Z",
     "shell.execute_reply": "2024-06-15T09:27:22.723720Z",
     "shell.execute_reply.started": "2024-06-15T09:27:22.717143Z"
    }
   },
   "outputs": [
    {
     "data": {
      "text/plain": [
       "'The author worked on writing short stories and programming, starting with early programming experiences on an IBM 1401 using Fortran in 9th grade. Later, the author transitioned to working with microcomputers, building simple games and a word processor on a TRS-80 in the early 1980s.'"
      ]
     },
     "execution_count": 16,
     "metadata": {},
     "output_type": "execute_result"
    }
   ],
   "source": [
    "response.response"
   ]
  },
  {
   "cell_type": "code",
   "execution_count": 17,
   "id": "f863da60-4d1f-4380-8c41-e020d55cfdb2",
   "metadata": {
    "execution": {
     "iopub.execute_input": "2024-06-15T09:27:32.136167Z",
     "iopub.status.busy": "2024-06-15T09:27:32.135571Z",
     "iopub.status.idle": "2024-06-15T09:27:32.147829Z",
     "shell.execute_reply": "2024-06-15T09:27:32.145949Z",
     "shell.execute_reply.started": "2024-06-15T09:27:32.136121Z"
    },
    "scrolled": true
   },
   "outputs": [
    {
     "data": {
      "text/plain": [
       "{'8aefc79e-2d08-4041-8f7e-294bf4f74b6a': {'file_path': '/home/whaow/workspaces/llm_aigc/tutorials/rag/data/paul_graham_essay.txt',\n",
       "  'file_name': 'paul_graham_essay.txt',\n",
       "  'file_type': 'text/plain',\n",
       "  'file_size': 75042,\n",
       "  'creation_date': '2024-06-15',\n",
       "  'last_modified_date': '2024-06-15'},\n",
       " '4a01aa3a-d5ac-49f2-aed6-dbd0ad477bfe': {'file_path': '/home/whaow/workspaces/llm_aigc/tutorials/rag/data/paul_graham_essay.txt',\n",
       "  'file_name': 'paul_graham_essay.txt',\n",
       "  'file_type': 'text/plain',\n",
       "  'file_size': 75042,\n",
       "  'creation_date': '2024-06-15',\n",
       "  'last_modified_date': '2024-06-15'}}"
      ]
     },
     "execution_count": 17,
     "metadata": {},
     "output_type": "execute_result"
    }
   ],
   "source": [
    "response.metadata"
   ]
  },
  {
   "cell_type": "code",
   "execution_count": 19,
   "id": "6c4876d3-2fd6-4876-abf8-328f8d0ed6b0",
   "metadata": {
    "execution": {
     "iopub.execute_input": "2024-06-15T09:28:04.112632Z",
     "iopub.status.busy": "2024-06-15T09:28:04.111981Z",
     "iopub.status.idle": "2024-06-15T09:28:04.124257Z",
     "shell.execute_reply": "2024-06-15T09:28:04.122058Z",
     "shell.execute_reply.started": "2024-06-15T09:28:04.112585Z"
    }
   },
   "outputs": [
    {
     "data": {
      "text/plain": [
       "2"
      ]
     },
     "execution_count": 19,
     "metadata": {},
     "output_type": "execute_result"
    }
   ],
   "source": [
    "len(response.source_nodes)"
   ]
  },
  {
   "cell_type": "code",
   "execution_count": 24,
   "id": "017a4abb-bd71-4294-8bdd-5b8a97e546b6",
   "metadata": {
    "execution": {
     "iopub.execute_input": "2024-06-15T09:29:44.887459Z",
     "iopub.status.busy": "2024-06-15T09:29:44.886780Z",
     "iopub.status.idle": "2024-06-15T09:29:44.899202Z",
     "shell.execute_reply": "2024-06-15T09:29:44.897084Z",
     "shell.execute_reply.started": "2024-06-15T09:29:44.887409Z"
    }
   },
   "outputs": [
    {
     "data": {
      "text/plain": [
       "'The author worked on writing short stories and programming, starting with early programming experiences on an IBM 1401 using Fortran in 9th grade. Later, the author transitioned to working with microcomputers, building simple games and a word processor on a TRS-80 in the early 1980s.'"
      ]
     },
     "execution_count": 24,
     "metadata": {},
     "output_type": "execute_result"
    }
   ],
   "source": [
    "response.response"
   ]
  },
  {
   "cell_type": "code",
   "execution_count": null,
   "id": "da89f951-a85f-4d0d-83e8-2903c6cf4eda",
   "metadata": {},
   "outputs": [],
   "source": []
  }
 ],
 "metadata": {
  "kernelspec": {
   "display_name": "Python 3 (ipykernel)",
   "language": "python",
   "name": "python3"
  },
  "language_info": {
   "codemirror_mode": {
    "name": "ipython",
    "version": 3
   },
   "file_extension": ".py",
   "mimetype": "text/x-python",
   "name": "python",
   "nbconvert_exporter": "python",
   "pygments_lexer": "ipython3",
   "version": "3.10.13"
  }
 },
 "nbformat": 4,
 "nbformat_minor": 5
}
