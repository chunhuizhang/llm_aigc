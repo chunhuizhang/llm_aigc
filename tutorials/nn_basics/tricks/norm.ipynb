{
 "cells": [
  {
   "cell_type": "markdown",
   "id": "199babcc-1010-4b2b-b48e-036172c5b1b1",
   "metadata": {},
   "source": [
    "> (BN) BatchNorm\\\n",
    "> (LN) LayerNorm\\\n",
    "> (RMS) RMSNorm\n",
    "\n",
    "- it has been the standard to use\n",
    "    - batchnorm in CV tasks,\n",
    "    - layernorm in NLP tasks.\n",
    "- references\n",
    "    - https://afterhoursresearch.hashnode.dev/batch-normalization-layer-normalization-and-root-mean-square-layer-normalization-a-comprehensive-guide-with-python-implementations"
   ]
  },
  {
   "cell_type": "code",
   "execution_count": null,
   "id": "fc9c9610-2841-471c-a993-e88a7496e7cd",
   "metadata": {},
   "outputs": [],
   "source": []
  }
 ],
 "metadata": {
  "kernelspec": {
   "display_name": "Python 3 (ipykernel)",
   "language": "python",
   "name": "python3"
  },
  "language_info": {
   "codemirror_mode": {
    "name": "ipython",
    "version": 3
   },
   "file_extension": ".py",
   "mimetype": "text/x-python",
   "name": "python",
   "nbconvert_exporter": "python",
   "pygments_lexer": "ipython3",
   "version": "3.10.13"
  }
 },
 "nbformat": 4,
 "nbformat_minor": 5
}
