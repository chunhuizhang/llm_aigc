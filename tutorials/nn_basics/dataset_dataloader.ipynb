{
 "cells": [
  {
   "cell_type": "code",
   "execution_count": 1,
   "id": "56c899d2",
   "metadata": {
    "ExecuteTime": {
     "end_time": "2024-02-06T12:48:37.598987Z",
     "start_time": "2024-02-06T12:48:37.579783Z"
    }
   },
   "outputs": [],
   "source": [
    "import os\n",
    "os.environ['http_proxy'] = 'http://127.0.0.1:7890'\n",
    "os.environ['https_proxy'] = 'http://127.0.0.1:7890'"
   ]
  },
  {
   "cell_type": "markdown",
   "id": "ed144e64",
   "metadata": {},
   "source": [
    "- dataloader 是对 dataset 的进一步封装；"
   ]
  },
  {
   "cell_type": "markdown",
   "id": "b5803d5d",
   "metadata": {},
   "source": [
    "## dataloader"
   ]
  },
  {
   "cell_type": "code",
   "execution_count": 2,
   "id": "62f3d74a",
   "metadata": {
    "ExecuteTime": {
     "end_time": "2024-02-06T12:48:46.003952Z",
     "start_time": "2024-02-06T12:48:39.631841Z"
    }
   },
   "outputs": [
    {
     "name": "stdout",
     "output_type": "stream",
     "text": [
      "[2024-02-06 20:48:42,066] [INFO] [real_accelerator.py:161:get_accelerator] Setting ds_accelerator to cuda (auto detect)\n"
     ]
    },
    {
     "name": "stderr",
     "output_type": "stream",
     "text": [
      "/home/whaow/anaconda3/lib/python3.10/site-packages/torch/_utils.py:776: UserWarning: TypedStorage is deprecated. It will be removed in the future and UntypedStorage will be the only storage class. This should only matter to you if you are using storages directly.  To access UntypedStorage directly, use tensor.untyped_storage() instead of tensor.storage()\n",
      "  return self.fget.__get__(instance, owner)()\n"
     ]
    }
   ],
   "source": [
    "from sentence_transformers import SentenceTransformer, LoggingHandler, losses, InputExample\n",
    "from torch.utils.data import DataLoader\n",
    "\n",
    "model = SentenceTransformer('all-MiniLM-L6-v2')\n",
    "train_examples = [\n",
    "    InputExample(texts=['This is a positive pair', 'Where the distance will be minimized'], label=1),\n",
    "    InputExample(texts=['This is a negative pair', 'Their distance will be increased'], label=0)]"
   ]
  },
  {
   "cell_type": "code",
   "execution_count": 14,
   "id": "8502d372",
   "metadata": {
    "ExecuteTime": {
     "end_time": "2024-02-06T13:01:43.028955Z",
     "start_time": "2024-02-06T13:01:43.020588Z"
    }
   },
   "outputs": [],
   "source": [
    "train_dataloader = DataLoader(train_examples, shuffle=True, batch_size=2)"
   ]
  },
  {
   "cell_type": "markdown",
   "id": "1f49a251",
   "metadata": {},
   "source": [
    "### len"
   ]
  },
  {
   "cell_type": "code",
   "execution_count": 8,
   "id": "04111c90",
   "metadata": {
    "ExecuteTime": {
     "end_time": "2024-02-06T12:51:30.620722Z",
     "start_time": "2024-02-06T12:51:30.612762Z"
    }
   },
   "outputs": [
    {
     "data": {
      "text/plain": [
       "1"
      ]
     },
     "execution_count": 8,
     "metadata": {},
     "output_type": "execute_result"
    }
   ],
   "source": [
    "len(train_dataloader)"
   ]
  },
  {
   "cell_type": "markdown",
   "id": "f7f4de3a",
   "metadata": {},
   "source": [
    "### sampler"
   ]
  },
  {
   "cell_type": "code",
   "execution_count": 5,
   "id": "5cd5660c",
   "metadata": {
    "ExecuteTime": {
     "end_time": "2024-02-06T12:49:06.359825Z",
     "start_time": "2024-02-06T12:49:06.349769Z"
    }
   },
   "outputs": [
    {
     "data": {
      "text/plain": [
       "<torch.utils.data.sampler.RandomSampler at 0x7fb09001d5a0>"
      ]
     },
     "execution_count": 5,
     "metadata": {},
     "output_type": "execute_result"
    }
   ],
   "source": [
    "train_dataloader.sampler"
   ]
  },
  {
   "cell_type": "markdown",
   "id": "8cb939e2",
   "metadata": {},
   "source": [
    "### collate_fn"
   ]
  },
  {
   "cell_type": "code",
   "execution_count": 7,
   "id": "74fbc0b1",
   "metadata": {
    "ExecuteTime": {
     "end_time": "2024-02-06T12:49:28.359529Z",
     "start_time": "2024-02-06T12:49:28.350433Z"
    }
   },
   "outputs": [
    {
     "data": {
      "text/plain": [
       "<function torch.utils.data._utils.collate.default_collate(batch)>"
      ]
     },
     "execution_count": 7,
     "metadata": {},
     "output_type": "execute_result"
    }
   ],
   "source": [
    "train_dataloader.collate_fn"
   ]
  },
  {
   "cell_type": "markdown",
   "id": "93236945",
   "metadata": {},
   "source": [
    "```\n",
    "# from dataset => dataloader\n",
    "class _MapDatasetFetcher(_BaseDatasetFetcher):\n",
    "    def fetch(self, possibly_batched_index):\n",
    "        if self.auto_collation:\n",
    "            if hasattr(self.dataset, \"__getitems__\") and self.dataset.__getitems__:\n",
    "                data = self.dataset.__getitems__(possibly_batched_index)\n",
    "            else:\n",
    "                data = [self.dataset[idx] for idx in possibly_batched_index]\n",
    "        else:\n",
    "            data = self.dataset[possibly_batched_index]\n",
    "        return self.collate_fn(data)\n",
    "```"
   ]
  },
  {
   "cell_type": "markdown",
   "id": "c25f3428",
   "metadata": {},
   "source": [
    "### next(iter(dataloader))"
   ]
  },
  {
   "cell_type": "code",
   "execution_count": 10,
   "id": "430d8cc4",
   "metadata": {
    "ExecuteTime": {
     "end_time": "2024-02-06T13:00:56.935691Z",
     "start_time": "2024-02-06T13:00:56.930447Z"
    }
   },
   "outputs": [],
   "source": [
    "# next(iter(train_dataloader))"
   ]
  },
  {
   "cell_type": "code",
   "execution_count": 15,
   "id": "d17e61a9",
   "metadata": {
    "ExecuteTime": {
     "end_time": "2024-02-06T13:01:46.538785Z",
     "start_time": "2024-02-06T13:01:46.512161Z"
    }
   },
   "outputs": [
    {
     "data": {
      "text/plain": [
       "([{'input_ids': tensor([[ 101, 2023, 2003, 1037, 3893, 3940,  102],\n",
       "           [ 101, 2023, 2003, 1037, 4997, 3940,  102]]),\n",
       "   'token_type_ids': tensor([[0, 0, 0, 0, 0, 0, 0],\n",
       "           [0, 0, 0, 0, 0, 0, 0]]),\n",
       "   'attention_mask': tensor([[1, 1, 1, 1, 1, 1, 1],\n",
       "           [1, 1, 1, 1, 1, 1, 1]])},\n",
       "  {'input_ids': tensor([[  101,  2073,  1996,  3292,  2097,  2022, 18478,  2094,   102],\n",
       "           [  101,  2037,  3292,  2097,  2022,  3445,   102,     0,     0]]),\n",
       "   'token_type_ids': tensor([[0, 0, 0, 0, 0, 0, 0, 0, 0],\n",
       "           [0, 0, 0, 0, 0, 0, 0, 0, 0]]),\n",
       "   'attention_mask': tensor([[1, 1, 1, 1, 1, 1, 1, 1, 1],\n",
       "           [1, 1, 1, 1, 1, 1, 1, 0, 0]])}],\n",
       " tensor([1, 0]))"
      ]
     },
     "execution_count": 15,
     "metadata": {},
     "output_type": "execute_result"
    }
   ],
   "source": [
    "train_dataloader.collate_fn = model.smart_batching_collate\n",
    "next(iter(train_dataloader))"
   ]
  }
 ],
 "metadata": {
  "kernelspec": {
   "display_name": "Python 3 (ipykernel)",
   "language": "python",
   "name": "python3"
  },
  "language_info": {
   "codemirror_mode": {
    "name": "ipython",
    "version": 3
   },
   "file_extension": ".py",
   "mimetype": "text/x-python",
   "name": "python",
   "nbconvert_exporter": "python",
   "pygments_lexer": "ipython3",
   "version": "3.10.13"
  },
  "toc": {
   "base_numbering": 1,
   "nav_menu": {},
   "number_sections": true,
   "sideBar": true,
   "skip_h1_title": false,
   "title_cell": "Table of Contents",
   "title_sidebar": "Contents",
   "toc_cell": false,
   "toc_position": {},
   "toc_section_display": true,
   "toc_window_display": false
  }
 },
 "nbformat": 4,
 "nbformat_minor": 5
}
