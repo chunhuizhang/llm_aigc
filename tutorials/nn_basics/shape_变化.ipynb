{
 "cells": [
  {
   "cell_type": "code",
   "execution_count": 1,
   "id": "b805a5ae",
   "metadata": {
    "ExecuteTime": {
     "end_time": "2023-10-06T13:35:06.797296Z",
     "start_time": "2023-10-06T13:35:05.571141Z"
    }
   },
   "outputs": [],
   "source": [
    "import torch"
   ]
  },
  {
   "cell_type": "markdown",
   "id": "10e505df",
   "metadata": {},
   "source": [
    "## basics"
   ]
  },
  {
   "cell_type": "markdown",
   "id": "deb2ab43",
   "metadata": {},
   "source": [
    "- `tensor.view`/`torch.reshape`\n",
    "- `torch.cat`\n",
    "- `torch.stack`\n",
    "- `torch.flatten`\n",
    "\n",
    "- `torch.squeeze()`/`torch.unsqueeze()`\n",
    "- `torch.transpose()`/`torch.permute()`\n",
    "- reverse: 注意不是 `[::-1]`（torch 中不支持负数的 step）\n",
    "    - torch.flip"
   ]
  },
  {
   "cell_type": "markdown",
   "id": "1d7e8d54",
   "metadata": {},
   "source": [
    "## `torch.view` vs. `torch.reshape`"
   ]
  },
  {
   "cell_type": "markdown",
   "id": "feaafaa7",
   "metadata": {},
   "source": [
    "- 都可以重新 reshape，torch.view 返回的是视图，数据共享，而 torch.reshape 返回的是拷贝"
   ]
  },
  {
   "cell_type": "code",
   "execution_count": 6,
   "id": "49f8fe70",
   "metadata": {
    "ExecuteTime": {
     "end_time": "2023-10-06T13:37:13.007783Z",
     "start_time": "2023-10-06T13:37:12.995171Z"
    }
   },
   "outputs": [
    {
     "data": {
      "text/plain": [
       "tensor([[1., 1., 1.],\n",
       "        [1., 1., 1.]])"
      ]
     },
     "execution_count": 6,
     "metadata": {},
     "output_type": "execute_result"
    }
   ],
   "source": [
    "z = torch.zeros(3, 2)\n",
    "x = z.view(2, 3)\n",
    "z.fill_(1)\n",
    "x"
   ]
  },
  {
   "cell_type": "code",
   "execution_count": 8,
   "id": "f8ab4061",
   "metadata": {
    "ExecuteTime": {
     "end_time": "2023-10-06T13:37:33.277828Z",
     "start_time": "2023-10-06T13:37:33.264828Z"
    }
   },
   "outputs": [
    {
     "data": {
      "text/plain": [
       "tensor([[1., 1., 1.],\n",
       "        [1., 1., 1.]])"
      ]
     },
     "execution_count": 8,
     "metadata": {},
     "output_type": "execute_result"
    }
   ],
   "source": [
    "z = torch.zeros(3, 2)\n",
    "x = z.reshape(2, 3)\n",
    "z.fill_(1)\n",
    "x"
   ]
  },
  {
   "cell_type": "markdown",
   "id": "915a06bb",
   "metadata": {},
   "source": [
    "## `torch.flip`"
   ]
  },
  {
   "cell_type": "code",
   "execution_count": 8,
   "id": "74bd283d",
   "metadata": {
    "ExecuteTime": {
     "end_time": "2023-09-08T12:15:26.788494Z",
     "start_time": "2023-09-08T12:15:26.772055Z"
    }
   },
   "outputs": [
    {
     "data": {
      "text/plain": [
       "tensor([0, 1, 2, 3, 4, 5, 6, 7, 8, 9])"
      ]
     },
     "execution_count": 8,
     "metadata": {},
     "output_type": "execute_result"
    }
   ],
   "source": [
    "x = torch.arange(10)\n",
    "x"
   ]
  },
  {
   "cell_type": "code",
   "execution_count": 5,
   "id": "37172eeb",
   "metadata": {
    "ExecuteTime": {
     "end_time": "2023-09-08T12:14:57.290356Z",
     "start_time": "2023-09-08T12:14:56.749605Z"
    }
   },
   "outputs": [
    {
     "ename": "ValueError",
     "evalue": "step must be greater than zero",
     "output_type": "error",
     "traceback": [
      "\u001b[0;31m---------------------------------------------------------------------------\u001b[0m",
      "\u001b[0;31mValueError\u001b[0m                                Traceback (most recent call last)",
      "Cell \u001b[0;32mIn[5], line 1\u001b[0m\n\u001b[0;32m----> 1\u001b[0m \u001b[43mx\u001b[49m\u001b[43m[\u001b[49m\u001b[43m:\u001b[49m\u001b[43m:\u001b[49m\u001b[38;5;241;43m-\u001b[39;49m\u001b[38;5;241;43m1\u001b[39;49m\u001b[43m]\u001b[49m\n",
      "\u001b[0;31mValueError\u001b[0m: step must be greater than zero"
     ]
    }
   ],
   "source": [
    "x[::-1]"
   ]
  },
  {
   "cell_type": "code",
   "execution_count": 9,
   "id": "f1fc5a51",
   "metadata": {
    "ExecuteTime": {
     "end_time": "2023-09-08T12:15:28.714019Z",
     "start_time": "2023-09-08T12:15:28.703703Z"
    }
   },
   "outputs": [
    {
     "data": {
      "text/plain": [
       "tensor([9, 8, 7, 6, 5, 4, 3, 2, 1, 0])"
      ]
     },
     "execution_count": 9,
     "metadata": {},
     "output_type": "execute_result"
    }
   ],
   "source": [
    "torch.flip(x, dims=(0, ))"
   ]
  },
  {
   "cell_type": "markdown",
   "id": "4383273c",
   "metadata": {},
   "source": [
    "## `torch.transpose()`/`torch.permute()`"
   ]
  },
  {
   "cell_type": "markdown",
   "id": "48b109bd",
   "metadata": {},
   "source": [
    "- 两者只是接口（或者入参）不同？？"
   ]
  },
  {
   "cell_type": "code",
   "execution_count": 2,
   "id": "8613eeba",
   "metadata": {
    "ExecuteTime": {
     "end_time": "2023-09-12T14:06:14.050493Z",
     "start_time": "2023-09-12T14:06:14.035173Z"
    }
   },
   "outputs": [],
   "source": [
    "x = torch.randint(0, 5, (2, 3, 4))"
   ]
  },
  {
   "cell_type": "code",
   "execution_count": 3,
   "id": "a87dcaab",
   "metadata": {
    "ExecuteTime": {
     "end_time": "2023-09-12T14:06:15.451687Z",
     "start_time": "2023-09-12T14:06:15.425098Z"
    }
   },
   "outputs": [
    {
     "data": {
      "text/plain": [
       "tensor([[[1, 1, 4, 0],\n",
       "         [2, 0, 2, 1],\n",
       "         [1, 1, 4, 2]],\n",
       "\n",
       "        [[1, 2, 2, 4],\n",
       "         [1, 3, 3, 0],\n",
       "         [1, 0, 0, 1]]])"
      ]
     },
     "execution_count": 3,
     "metadata": {},
     "output_type": "execute_result"
    }
   ],
   "source": [
    "x"
   ]
  },
  {
   "cell_type": "code",
   "execution_count": 13,
   "id": "d275b138",
   "metadata": {
    "ExecuteTime": {
     "end_time": "2023-09-12T14:08:53.636616Z",
     "start_time": "2023-09-12T14:08:53.620233Z"
    }
   },
   "outputs": [
    {
     "data": {
      "text/plain": [
       "True"
      ]
     },
     "execution_count": 13,
     "metadata": {},
     "output_type": "execute_result"
    }
   ],
   "source": [
    "torch.equal(x.transpose(1, 2), x.transpose(2, 1))"
   ]
  },
  {
   "cell_type": "code",
   "execution_count": 17,
   "id": "b3d22b54",
   "metadata": {
    "ExecuteTime": {
     "end_time": "2023-09-12T14:09:51.440079Z",
     "start_time": "2023-09-12T14:09:51.430889Z"
    }
   },
   "outputs": [
    {
     "data": {
      "text/plain": [
       "True"
      ]
     },
     "execution_count": 17,
     "metadata": {},
     "output_type": "execute_result"
    }
   ],
   "source": [
    "torch.equal(x.transpose(1, 2), x.permute((0, 2, 1)))"
   ]
  }
 ],
 "metadata": {
  "kernelspec": {
   "display_name": "Python 3 (ipykernel)",
   "language": "python",
   "name": "python3"
  },
  "language_info": {
   "codemirror_mode": {
    "name": "ipython",
    "version": 3
   },
   "file_extension": ".py",
   "mimetype": "text/x-python",
   "name": "python",
   "nbconvert_exporter": "python",
   "pygments_lexer": "ipython3",
   "version": "3.10.9"
  },
  "toc": {
   "base_numbering": 1,
   "nav_menu": {},
   "number_sections": true,
   "sideBar": true,
   "skip_h1_title": false,
   "title_cell": "Table of Contents",
   "title_sidebar": "Contents",
   "toc_cell": false,
   "toc_position": {},
   "toc_section_display": true,
   "toc_window_display": false
  }
 },
 "nbformat": 4,
 "nbformat_minor": 5
}
