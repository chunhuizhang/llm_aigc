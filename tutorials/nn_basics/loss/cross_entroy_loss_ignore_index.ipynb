{
 "cells": [
  {
   "cell_type": "code",
   "execution_count": 1,
   "id": "89cc7a4c-6155-4021-b73a-58ab9ae93789",
   "metadata": {},
   "outputs": [],
   "source": [
    "import torch\n",
    "import torch.nn as nn"
   ]
  },
  {
   "cell_type": "markdown",
   "id": "44ebbd0d-881d-4846-b5e8-604e804f20a4",
   "metadata": {},
   "source": [
    "- input_ids => logits\n",
    "- logits, 要与 labels 等 shape；\n",
    "    - 出于对齐 shape 的目的，至少在 seqlen 要保持一致；\n",
    "- https://www.bilibili.com/video/BV1NY4y1E76o/"
   ]
  },
  {
   "cell_type": "code",
   "execution_count": 2,
   "id": "2cf44faa-35ad-40a5-a864-0fb813da6bd7",
   "metadata": {},
   "outputs": [
    {
     "data": {
      "text/plain": [
       "<torch._C.Generator at 0x74565634ac70>"
      ]
     },
     "execution_count": 2,
     "metadata": {},
     "output_type": "execute_result"
    }
   ],
   "source": [
    "import torch\n",
    "torch.manual_seed(42)"
   ]
  },
  {
   "cell_type": "code",
   "execution_count": 3,
   "id": "3b4678d7-68f2-4ce7-b03e-72f2af5c8c1a",
   "metadata": {},
   "outputs": [],
   "source": [
    "# 模拟输入和标签\n",
    "input_ids = torch.tensor([[1, 2, 3, 4], [4, 3, 2, 1]])\n",
    "labels = torch.tensor([[2, 3, 4, -100], [3, 2, 1, -100]])"
   ]
  },
  {
   "cell_type": "code",
   "execution_count": 4,
   "id": "91d287bd-e573-404c-8420-f8ebde5c193e",
   "metadata": {},
   "outputs": [],
   "source": [
    "# 模拟模型输出 (batch_size, sequence_length, num_classes)\n",
    "logits = torch.randn(2, 4, 10)"
   ]
  },
  {
   "cell_type": "code",
   "execution_count": 5,
   "id": "dd878f62-ce4a-4525-893e-d7d59ab6e056",
   "metadata": {},
   "outputs": [],
   "source": [
    "# 初始化损失函数并设置 ignore_index\n",
    "criterion = nn.CrossEntropyLoss(ignore_index=-100)"
   ]
  },
  {
   "cell_type": "code",
   "execution_count": 14,
   "id": "2d202f20-8962-42d8-bace-c5fc23161c0f",
   "metadata": {},
   "outputs": [
    {
     "data": {
      "text/plain": [
       "torch.Size([8, 10])"
      ]
     },
     "execution_count": 14,
     "metadata": {},
     "output_type": "execute_result"
    }
   ],
   "source": [
    "logits.view(-1, logits.size(-1)).shape"
   ]
  },
  {
   "cell_type": "code",
   "execution_count": 20,
   "id": "684b318c-84fb-4811-9c89-42078d7b1145",
   "metadata": {},
   "outputs": [
    {
     "data": {
      "text/plain": [
       "(tensor([   2,    3,    4, -100,    3,    2,    1, -100]), torch.Size([8]))"
      ]
     },
     "execution_count": 20,
     "metadata": {},
     "output_type": "execute_result"
    }
   ],
   "source": [
    "labels.view(-1), labels.view(-1).shape"
   ]
  },
  {
   "cell_type": "code",
   "execution_count": 21,
   "id": "bb98c0f8-6bcb-4333-9f13-f2798cc220a6",
   "metadata": {},
   "outputs": [
    {
     "data": {
      "text/plain": [
       "tensor(2.5207)"
      ]
     },
     "execution_count": 21,
     "metadata": {},
     "output_type": "execute_result"
    }
   ],
   "source": [
    "# 计算损失\n",
    "loss = criterion(logits.view(-1, logits.size(-1)), labels.view(-1))\n",
    "loss"
   ]
  },
  {
   "cell_type": "code",
   "execution_count": 23,
   "id": "73762327-ba73-44ee-b2a5-2352ea94d550",
   "metadata": {},
   "outputs": [
    {
     "data": {
      "text/plain": [
       "tensor([[-1.2072, -1.6468, -2.2334, -5.2397, -2.4557, -4.3687, -3.1772, -4.7388,\n",
       "         -3.8863, -1.4854],\n",
       "        [-2.9390, -3.9501, -3.2744, -3.1059, -3.3153, -1.7841, -0.9042, -2.7061,\n",
       "         -3.0439, -2.1069],\n",
       "        [-4.0058, -2.1694, -2.4469, -1.5671, -1.9685, -1.9512, -2.6372, -1.9129,\n",
       "         -3.4793, -3.2059],\n",
       "        [-2.8926, -1.7811, -4.0257, -3.5122, -2.8644, -0.9236, -2.3221, -3.0655,\n",
       "         -2.3353, -3.4156],\n",
       "        [-4.2205, -1.6673, -3.5427, -3.2640, -3.9371, -0.5401, -3.8976, -3.1508,\n",
       "         -3.5767, -3.3210],\n",
       "        [-2.3889, -1.9412, -2.9550, -1.2756, -3.2810, -3.2030, -3.8702, -2.4310,\n",
       "         -2.5305, -1.7914],\n",
       "        [-3.5394, -1.5970, -4.6261, -2.0580, -1.9965, -2.5852, -1.2235, -2.9184,\n",
       "         -3.0949, -3.6389],\n",
       "        [-3.5348, -1.2022, -2.6524, -1.9564, -2.4236, -2.0539, -1.9052, -3.1219,\n",
       "         -4.6866, -3.2310]])"
      ]
     },
     "execution_count": 23,
     "metadata": {},
     "output_type": "execute_result"
    }
   ],
   "source": [
    "torch.log(nn.Softmax(dim=1)(logits.view(-1, logits.size(-1))))"
   ]
  },
  {
   "cell_type": "code",
   "execution_count": 26,
   "id": "7ed5f31f-941a-4670-a143-7fb6adbdf567",
   "metadata": {},
   "outputs": [
    {
     "data": {
      "text/plain": [
       "-2.520633333333333"
      ]
     },
     "execution_count": 26,
     "metadata": {},
     "output_type": "execute_result"
    }
   ],
   "source": [
    "((-2.2334 + (-3.1059) + (-1.9685)) + ((-3.2640) + (-2.9550) + (-1.5970)))/6"
   ]
  },
  {
   "cell_type": "code",
   "execution_count": null,
   "id": "1c7c5756-72d0-4624-8f7d-e0b48921111c",
   "metadata": {},
   "outputs": [],
   "source": []
  }
 ],
 "metadata": {
  "kernelspec": {
   "display_name": "Python 3 (ipykernel)",
   "language": "python",
   "name": "python3"
  },
  "language_info": {
   "codemirror_mode": {
    "name": "ipython",
    "version": 3
   },
   "file_extension": ".py",
   "mimetype": "text/x-python",
   "name": "python",
   "nbconvert_exporter": "python",
   "pygments_lexer": "ipython3",
   "version": "3.10.13"
  }
 },
 "nbformat": 4,
 "nbformat_minor": 5
}
