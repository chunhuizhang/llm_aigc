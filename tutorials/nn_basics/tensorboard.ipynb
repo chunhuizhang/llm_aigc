{
 "cells": [
  {
   "cell_type": "code",
   "execution_count": 3,
   "id": "86a00b46",
   "metadata": {
    "ExecuteTime": {
     "end_time": "2023-07-31T13:17:10.765507Z",
     "start_time": "2023-07-31T13:17:10.759181Z"
    }
   },
   "outputs": [],
   "source": [
    "#!pip install tensorboard"
   ]
  },
  {
   "cell_type": "code",
   "execution_count": 4,
   "id": "893be713",
   "metadata": {
    "ExecuteTime": {
     "end_time": "2023-07-31T13:17:12.717531Z",
     "start_time": "2023-07-31T13:17:12.374851Z"
    }
   },
   "outputs": [],
   "source": [
    "from torch.utils.tensorboard import SummaryWriter"
   ]
  },
  {
   "cell_type": "code",
   "execution_count": 5,
   "id": "3ac690c9",
   "metadata": {
    "ExecuteTime": {
     "end_time": "2023-07-31T13:17:51.572944Z",
     "start_time": "2023-07-31T13:17:51.563914Z"
    }
   },
   "outputs": [],
   "source": [
    "tb_writer = SummaryWriter()"
   ]
  },
  {
   "cell_type": "markdown",
   "id": "4a88f355",
   "metadata": {},
   "source": [
    "## `add_hparams`"
   ]
  },
  {
   "cell_type": "code",
   "execution_count": null,
   "id": "39382c74",
   "metadata": {},
   "outputs": [],
   "source": [
    "# tb_writer.add_hparams(vars(args), {'0': 0})"
   ]
  }
 ],
 "metadata": {
  "kernelspec": {
   "display_name": "Python 3 (ipykernel)",
   "language": "python",
   "name": "python3"
  },
  "language_info": {
   "codemirror_mode": {
    "name": "ipython",
    "version": 3
   },
   "file_extension": ".py",
   "mimetype": "text/x-python",
   "name": "python",
   "nbconvert_exporter": "python",
   "pygments_lexer": "ipython3",
   "version": "3.10.9"
  },
  "toc": {
   "base_numbering": 1,
   "nav_menu": {},
   "number_sections": true,
   "sideBar": true,
   "skip_h1_title": false,
   "title_cell": "Table of Contents",
   "title_sidebar": "Contents",
   "toc_cell": false,
   "toc_position": {},
   "toc_section_display": true,
   "toc_window_display": false
  }
 },
 "nbformat": 4,
 "nbformat_minor": 5
}
