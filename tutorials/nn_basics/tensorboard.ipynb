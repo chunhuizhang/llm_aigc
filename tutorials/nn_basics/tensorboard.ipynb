{
 "cells": [
  {
   "cell_type": "code",
   "execution_count": 3,
   "id": "86a00b46",
   "metadata": {
    "ExecuteTime": {
     "end_time": "2023-07-31T13:17:10.765507Z",
     "start_time": "2023-07-31T13:17:10.759181Z"
    }
   },
   "outputs": [],
   "source": [
    "#!pip install tensorboard"
   ]
  },
  {
   "cell_type": "code",
   "execution_count": 4,
   "id": "893be713",
   "metadata": {
    "ExecuteTime": {
     "end_time": "2023-07-31T13:17:12.717531Z",
     "start_time": "2023-07-31T13:17:12.374851Z"
    }
   },
   "outputs": [],
   "source": [
    "from torch.utils.tensorboard import SummaryWriter"
   ]
  },
  {
   "cell_type": "markdown",
   "id": "9f012b85",
   "metadata": {},
   "source": [
    "## bascis"
   ]
  },
  {
   "cell_type": "code",
   "execution_count": 2,
   "id": "adb84749",
   "metadata": {
    "ExecuteTime": {
     "end_time": "2023-11-19T11:54:53.105298Z",
     "start_time": "2023-11-19T11:54:51.642003Z"
    }
   },
   "outputs": [],
   "source": [
    "import torch\n",
    "from torch.utils.tensorboard import SummaryWriter\n",
    "from torchvision.models import resnet50\n",
    "\n",
    "# 创建一个 TensorBoard writer\n",
    "writer = SummaryWriter('runs/model_visualization')\n",
    "\n",
    "# 创建一个模型\n",
    "model = resnet50(pretrained=True)\n",
    "\n",
    "# 创建一个随机数据张量来代表输入数据\n",
    "inputs = torch.randn(1, 3, 224, 224)\n",
    "\n",
    "# 将模型和输入添加到 TensorBoard\n",
    "writer.add_graph(model, inputs)\n",
    "\n",
    "# 关闭 writer\n",
    "writer.close()"
   ]
  },
  {
   "cell_type": "markdown",
   "id": "7ed2550b",
   "metadata": {},
   "source": [
    "运行上述代码后，你可以在 TensorBoard 中查看模型的结构。\n",
    "- 为了启动 TensorBoard，可以在命令行中运行 `tensorboard --logdir=runs`，\n",
    "- 然后在浏览器中打开显示的链接。"
   ]
  },
  {
   "cell_type": "markdown",
   "id": "4a88f355",
   "metadata": {},
   "source": [
    "## `add_hparams`"
   ]
  },
  {
   "cell_type": "code",
   "execution_count": null,
   "id": "cebd7105",
   "metadata": {},
   "outputs": [],
   "source": [
    "tb_writer = SummaryWriter()"
   ]
  },
  {
   "cell_type": "code",
   "execution_count": null,
   "id": "39382c74",
   "metadata": {},
   "outputs": [],
   "source": [
    "# tb_writer.add_hparams(vars(args), {'0': 0})"
   ]
  }
 ],
 "metadata": {
  "kernelspec": {
   "display_name": "Python 3 (ipykernel)",
   "language": "python",
   "name": "python3"
  },
  "language_info": {
   "codemirror_mode": {
    "name": "ipython",
    "version": 3
   },
   "file_extension": ".py",
   "mimetype": "text/x-python",
   "name": "python",
   "nbconvert_exporter": "python",
   "pygments_lexer": "ipython3",
   "version": "3.10.13"
  },
  "toc": {
   "base_numbering": 1,
   "nav_menu": {},
   "number_sections": true,
   "sideBar": true,
   "skip_h1_title": false,
   "title_cell": "Table of Contents",
   "title_sidebar": "Contents",
   "toc_cell": false,
   "toc_position": {},
   "toc_section_display": true,
   "toc_window_display": false
  }
 },
 "nbformat": 4,
 "nbformat_minor": 5
}
