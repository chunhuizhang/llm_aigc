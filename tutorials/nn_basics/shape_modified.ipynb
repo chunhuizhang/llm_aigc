{
 "cells": [
  {
   "cell_type": "code",
   "execution_count": 2,
   "id": "b805a5ae",
   "metadata": {
    "ExecuteTime": {
     "end_time": "2023-10-07T12:09:11.750379Z",
     "start_time": "2023-10-07T12:09:11.745055Z"
    }
   },
   "outputs": [],
   "source": [
    "from IPython.display import Image\n",
    "import torch"
   ]
  },
  {
   "cell_type": "markdown",
   "id": "10e505df",
   "metadata": {},
   "source": [
    "## basics"
   ]
  },
  {
   "cell_type": "markdown",
   "id": "deb2ab43",
   "metadata": {},
   "source": [
    "- `tensor.view`/`torch.reshape`\n",
    "    - `torch.transpose()`\n",
    "- `torch.cat`\n",
    "- `torch.stack`\n",
    "- `torch.flatten`\n",
    "\n",
    "- `torch.squeeze()`/`torch.unsqueeze()`\n",
    "- `torch.transpose()`/`torch.permute()`\n",
    "- reverse: 注意不是 `[::-1]`（torch 中不支持负数的 step）\n",
    "    - torch.flip"
   ]
  },
  {
   "cell_type": "markdown",
   "id": "d42592c2",
   "metadata": {},
   "source": [
    "## `torch.view` vs. `torch.reshape`"
   ]
  },
  {
   "cell_type": "markdown",
   "id": "54d16482",
   "metadata": {},
   "source": [
    "- 都可以重新组织 shape，\n",
    "- `Tensor.view` 返回的是视图，数据共享，有 contiguous 约束要求\n",
    "- Contiguous\n",
    "    - https://stackoverflow.com/questions/26998223/what-is-the-difference-between-contiguous-and-non-contiguous-arrays\n",
    "    - https://stackoverflow.com/questions/49643225/whats-the-difference-between-reshape-and-view-in-pytorch\n",
    "- 从 robust（接口适配面上）`Tensor.reshape()` is more robust，没有 contiguous 约束要求 \n",
    "    - `Tensor.reshape()`, It will work on any tensor, \n",
    "    - `Tensor.view()` works only on tensor `t` where `t.is_contiguous()==True`.\n",
    "        - `t.contiguous().view()`"
   ]
  },
  {
   "cell_type": "code",
   "execution_count": 14,
   "id": "21348b80",
   "metadata": {
    "ExecuteTime": {
     "end_time": "2023-10-07T12:44:14.283682Z",
     "start_time": "2023-10-07T12:44:14.271621Z"
    }
   },
   "outputs": [
    {
     "name": "stdout",
     "output_type": "stream",
     "text": [
      "True\n"
     ]
    },
    {
     "data": {
      "text/plain": [
       "tensor([[1., 1.],\n",
       "        [1., 1.],\n",
       "        [1., 1.]])"
      ]
     },
     "execution_count": 14,
     "metadata": {},
     "output_type": "execute_result"
    }
   ],
   "source": [
    "z = torch.zeros(3, 2)\n",
    "x = z.view(2, 3)\n",
    "print(x.is_contiguous())\n",
    "# z.fill_(1)\n",
    "# x\n",
    "x.fill_(1)\n",
    "z"
   ]
  },
  {
   "cell_type": "code",
   "execution_count": 16,
   "id": "bfccc677",
   "metadata": {
    "ExecuteTime": {
     "end_time": "2023-10-07T12:44:43.241687Z",
     "start_time": "2023-10-07T12:44:43.227292Z"
    }
   },
   "outputs": [
    {
     "name": "stdout",
     "output_type": "stream",
     "text": [
      "True\n"
     ]
    },
    {
     "data": {
      "text/plain": [
       "tensor([[1., 1.],\n",
       "        [1., 1.],\n",
       "        [1., 1.]])"
      ]
     },
     "execution_count": 16,
     "metadata": {},
     "output_type": "execute_result"
    }
   ],
   "source": [
    "# reshape \n",
    "z = torch.zeros(3, 2)\n",
    "x = z.reshape(2, 3)\n",
    "print(x.is_contiguous())\n",
    "\n",
    "# z.fill_(1)\n",
    "# x\n",
    "\n",
    "x.fill_(1)\n",
    "z"
   ]
  },
  {
   "cell_type": "markdown",
   "id": "2b6cdef7",
   "metadata": {},
   "source": [
    "### 底层数据存储"
   ]
  },
  {
   "cell_type": "code",
   "execution_count": 17,
   "id": "a7912c1b",
   "metadata": {
    "ExecuteTime": {
     "end_time": "2023-10-07T12:45:02.068477Z",
     "start_time": "2023-10-07T12:45:02.058152Z"
    }
   },
   "outputs": [
    {
     "data": {
      "text/plain": [
       "tensor([[0, 1, 2, 3],\n",
       "        [4, 5, 6, 7]])"
      ]
     },
     "execution_count": 17,
     "metadata": {},
     "output_type": "execute_result"
    }
   ],
   "source": [
    "a = torch.arange(8).reshape(2, 4)\n",
    "a"
   ]
  },
  {
   "cell_type": "code",
   "execution_count": 19,
   "id": "fee0bf3e",
   "metadata": {
    "ExecuteTime": {
     "end_time": "2023-10-07T11:56:08.256056Z",
     "start_time": "2023-10-07T11:56:08.248951Z"
    }
   },
   "outputs": [
    {
     "data": {
      "image/png": "[encoded data removed]",
      "text/plain": [
       "<IPython.core.display.Image object>"
      ]
     },
     "execution_count": 19,
     "metadata": {},
     "output_type": "execute_result"
    }
   ],
   "source": [
    "Image('./imgs/shape_2x4.png')"
   ]
  },
  {
   "cell_type": "code",
   "execution_count": 24,
   "id": "b6dfc311",
   "metadata": {
    "ExecuteTime": {
     "end_time": "2023-10-07T11:56:38.887276Z",
     "start_time": "2023-10-07T11:56:38.878786Z"
    }
   },
   "outputs": [
    {
     "data": {
      "image/png": "[encoded data removed]",
      "text/plain": [
       "<IPython.core.display.Image object>"
      ]
     },
     "execution_count": 24,
     "metadata": {},
     "output_type": "execute_result"
    }
   ],
   "source": [
    "# 内存结构，memory allocation\n",
    "# row-wise\n",
    "Image('./imgs/shape_1x8.png')"
   ]
  },
  {
   "cell_type": "code",
   "execution_count": 18,
   "id": "c3203459",
   "metadata": {
    "ExecuteTime": {
     "end_time": "2023-10-07T12:45:30.113950Z",
     "start_time": "2023-10-07T12:45:30.108678Z"
    }
   },
   "outputs": [
    {
     "data": {
      "text/plain": [
       "(4, 1)"
      ]
     },
     "execution_count": 18,
     "metadata": {},
     "output_type": "execute_result"
    }
   ],
   "source": [
    "# stride() gives the number of bytes required to go to the next element in each dimension:\n",
    "# 4：从第0行跳转到第1行，所需的字节数\n",
    "# 从 0 跳转大 4\n",
    "a.stride()"
   ]
  },
  {
   "cell_type": "code",
   "execution_count": 11,
   "id": "b002d109",
   "metadata": {
    "ExecuteTime": {
     "end_time": "2023-10-07T11:45:49.865366Z",
     "start_time": "2023-10-07T11:45:49.856484Z"
    }
   },
   "outputs": [
    {
     "data": {
      "text/plain": [
       "tensor([[0, 1],\n",
       "        [2, 3],\n",
       "        [4, 5],\n",
       "        [6, 7]])"
      ]
     },
     "execution_count": 11,
     "metadata": {},
     "output_type": "execute_result"
    }
   ],
   "source": [
    "a.view(4,2)"
   ]
  },
  {
   "cell_type": "code",
   "execution_count": 26,
   "id": "60f11436",
   "metadata": {
    "ExecuteTime": {
     "end_time": "2023-10-07T11:57:21.899022Z",
     "start_time": "2023-10-07T11:57:21.890457Z"
    }
   },
   "outputs": [
    {
     "data": {
      "image/png": "[encoded data removed]",
      "text/plain": [
       "<IPython.core.display.Image object>"
      ]
     },
     "execution_count": 26,
     "metadata": {},
     "output_type": "execute_result"
    }
   ],
   "source": [
    "Image('./imgs/shape_4x2.png')"
   ]
  },
  {
   "cell_type": "code",
   "execution_count": 33,
   "id": "25e5d8aa",
   "metadata": {
    "ExecuteTime": {
     "end_time": "2023-10-07T12:04:08.789716Z",
     "start_time": "2023-10-07T12:04:08.778558Z"
    }
   },
   "outputs": [
    {
     "data": {
      "image/png": "[encoded data removed]",
      "text/plain": [
       "<IPython.core.display.Image object>"
      ]
     },
     "execution_count": 33,
     "metadata": {},
     "output_type": "execute_result"
    }
   ],
   "source": [
    "Image('./imgs/shape_1x8_2.png')"
   ]
  },
  {
   "cell_type": "code",
   "execution_count": 12,
   "id": "b37c06d7",
   "metadata": {
    "ExecuteTime": {
     "end_time": "2023-10-07T11:46:01.951209Z",
     "start_time": "2023-10-07T11:46:01.943610Z"
    }
   },
   "outputs": [
    {
     "data": {
      "text/plain": [
       "(2, 1)"
      ]
     },
     "execution_count": 12,
     "metadata": {},
     "output_type": "execute_result"
    }
   ],
   "source": [
    "a.view(4, 2).stride()"
   ]
  },
  {
   "cell_type": "code",
   "execution_count": 27,
   "id": "bb27daa3",
   "metadata": {
    "ExecuteTime": {
     "end_time": "2023-10-07T11:59:02.597469Z",
     "start_time": "2023-10-07T11:59:02.591202Z"
    }
   },
   "outputs": [
    {
     "data": {
      "text/plain": [
       "True"
      ]
     },
     "execution_count": 27,
     "metadata": {},
     "output_type": "execute_result"
    }
   ],
   "source": [
    "a.view(4,2).is_contiguous()"
   ]
  },
  {
   "cell_type": "code",
   "execution_count": 31,
   "id": "db0f1aab",
   "metadata": {
    "ExecuteTime": {
     "end_time": "2023-10-07T12:00:51.470906Z",
     "start_time": "2023-10-07T12:00:51.465880Z"
    }
   },
   "outputs": [
    {
     "data": {
      "text/plain": [
       "tensor([[0, 4],\n",
       "        [1, 5],\n",
       "        [2, 6],\n",
       "        [3, 7]])"
      ]
     },
     "execution_count": 31,
     "metadata": {},
     "output_type": "execute_result"
    }
   ],
   "source": [
    "# doesn't modify the underlying memory allocation\n",
    "# 不修改内存分配\n",
    "a.t()"
   ]
  },
  {
   "cell_type": "code",
   "execution_count": 30,
   "id": "853b7bec",
   "metadata": {
    "ExecuteTime": {
     "end_time": "2023-10-07T11:59:51.343353Z",
     "start_time": "2023-10-07T11:59:51.334141Z"
    }
   },
   "outputs": [
    {
     "data": {
      "image/png": "[encoded data removed]",
      "text/plain": [
       "<IPython.core.display.Image object>"
      ]
     },
     "execution_count": 30,
     "metadata": {},
     "output_type": "execute_result"
    }
   ],
   "source": [
    "Image('./imgs/shape_4x2_2.png')"
   ]
  },
  {
   "cell_type": "code",
   "execution_count": 19,
   "id": "926758a9",
   "metadata": {
    "ExecuteTime": {
     "end_time": "2023-10-07T12:47:15.339069Z",
     "start_time": "2023-10-07T12:47:15.333869Z"
    }
   },
   "outputs": [
    {
     "data": {
      "image/png": "[encoded data removed]",
      "text/plain": [
       "<IPython.core.display.Image object>"
      ]
     },
     "execution_count": 19,
     "metadata": {},
     "output_type": "execute_result"
    }
   ],
   "source": [
    "Image('./imgs/shape_1x8_3.png')"
   ]
  },
  {
   "cell_type": "code",
   "execution_count": 29,
   "id": "ad8cea42",
   "metadata": {
    "ExecuteTime": {
     "end_time": "2023-10-07T11:59:39.617252Z",
     "start_time": "2023-10-07T11:59:39.608992Z"
    }
   },
   "outputs": [
    {
     "data": {
      "text/plain": [
       "(1, 4)"
      ]
     },
     "execution_count": 29,
     "metadata": {},
     "output_type": "execute_result"
    }
   ],
   "source": [
    "# 从 0 跳转到 1，1个额内存\n",
    "a.t().stride()"
   ]
  },
  {
   "cell_type": "code",
   "execution_count": 35,
   "id": "17a01b5a",
   "metadata": {
    "ExecuteTime": {
     "end_time": "2023-10-07T12:04:30.337567Z",
     "start_time": "2023-10-07T12:04:30.327609Z"
    }
   },
   "outputs": [
    {
     "data": {
      "text/plain": [
       "False"
      ]
     },
     "execution_count": 35,
     "metadata": {},
     "output_type": "execute_result"
    }
   ],
   "source": [
    "a.t().is_contiguous()"
   ]
  },
  {
   "cell_type": "code",
   "execution_count": 20,
   "id": "9af62d67",
   "metadata": {
    "ExecuteTime": {
     "end_time": "2023-10-07T12:48:23.690045Z",
     "start_time": "2023-10-07T12:48:23.165017Z"
    }
   },
   "outputs": [
    {
     "ename": "RuntimeError",
     "evalue": "view size is not compatible with input tensor's size and stride (at least one dimension spans across two contiguous subspaces). Use .reshape(...) instead.",
     "output_type": "error",
     "traceback": [
      "\u001b[0;31m---------------------------------------------------------------------------\u001b[0m",
      "\u001b[0;31mRuntimeError\u001b[0m                              Traceback (most recent call last)",
      "Cell \u001b[0;32mIn[20], line 1\u001b[0m\n\u001b[0;32m----> 1\u001b[0m \u001b[43ma\u001b[49m\u001b[38;5;241;43m.\u001b[39;49m\u001b[43mt\u001b[49m\u001b[43m(\u001b[49m\u001b[43m)\u001b[49m\u001b[38;5;241;43m.\u001b[39;49m\u001b[43mview\u001b[49m\u001b[43m(\u001b[49m\u001b[38;5;241;43m2\u001b[39;49m\u001b[43m,\u001b[49m\u001b[43m \u001b[49m\u001b[38;5;241;43m4\u001b[39;49m\u001b[43m)\u001b[49m\n",
      "\u001b[0;31mRuntimeError\u001b[0m: view size is not compatible with input tensor's size and stride (at least one dimension spans across two contiguous subspaces). Use .reshape(...) instead."
     ]
    }
   ],
   "source": [
    "a.t().view(2, 4)"
   ]
  },
  {
   "cell_type": "code",
   "execution_count": 37,
   "id": "d78858e8",
   "metadata": {
    "ExecuteTime": {
     "end_time": "2023-10-07T12:05:05.285915Z",
     "start_time": "2023-10-07T12:05:05.276758Z"
    }
   },
   "outputs": [
    {
     "data": {
      "text/plain": [
       "tensor([[0, 4, 1, 5],\n",
       "        [2, 6, 3, 7]])"
      ]
     },
     "execution_count": 37,
     "metadata": {},
     "output_type": "execute_result"
    }
   ],
   "source": [
    "a.t().reshape(2, 4)"
   ]
  },
  {
   "cell_type": "code",
   "execution_count": 38,
   "id": "d4b3832b",
   "metadata": {
    "ExecuteTime": {
     "end_time": "2023-10-07T12:06:23.428280Z",
     "start_time": "2023-10-07T12:06:23.418384Z"
    }
   },
   "outputs": [
    {
     "data": {
      "text/plain": [
       "tensor([[0, 4, 1, 5],\n",
       "        [2, 6, 3, 7]])"
      ]
     },
     "execution_count": 38,
     "metadata": {},
     "output_type": "execute_result"
    }
   ],
   "source": [
    "a.t().contiguous().view(2, 4)"
   ]
  },
  {
   "cell_type": "code",
   "execution_count": 21,
   "id": "5b89d003",
   "metadata": {
    "ExecuteTime": {
     "end_time": "2023-10-07T12:49:21.080945Z",
     "start_time": "2023-10-07T12:49:21.073226Z"
    }
   },
   "outputs": [
    {
     "data": {
      "text/plain": [
       "tensor([[1, 1, 1, 1],\n",
       "        [1, 1, 1, 1]])"
      ]
     },
     "execution_count": 21,
     "metadata": {},
     "output_type": "execute_result"
    }
   ],
   "source": [
    "a.t().contiguous().view(2, 4).fill_(1)"
   ]
  },
  {
   "cell_type": "code",
   "execution_count": 22,
   "id": "a58bfb08",
   "metadata": {
    "ExecuteTime": {
     "end_time": "2023-10-07T12:49:22.218349Z",
     "start_time": "2023-10-07T12:49:22.209468Z"
    }
   },
   "outputs": [
    {
     "data": {
      "text/plain": [
       "tensor([[0, 1, 2, 3],\n",
       "        [4, 5, 6, 7]])"
      ]
     },
     "execution_count": 22,
     "metadata": {},
     "output_type": "execute_result"
    }
   ],
   "source": [
    "a"
   ]
  },
  {
   "cell_type": "code",
   "execution_count": 11,
   "id": "a108ac4f",
   "metadata": {
    "ExecuteTime": {
     "end_time": "2023-10-07T12:33:18.915664Z",
     "start_time": "2023-10-07T12:33:18.907909Z"
    }
   },
   "outputs": [
    {
     "data": {
      "text/plain": [
       "tensor([[1, 1, 1, 1],\n",
       "        [1, 1, 1, 1]])"
      ]
     },
     "execution_count": 11,
     "metadata": {},
     "output_type": "execute_result"
    }
   ],
   "source": [
    "a.t().reshape(2, 4).fill_(1)"
   ]
  },
  {
   "cell_type": "code",
   "execution_count": 12,
   "id": "ec80d252",
   "metadata": {
    "ExecuteTime": {
     "end_time": "2023-10-07T12:33:20.732302Z",
     "start_time": "2023-10-07T12:33:20.721683Z"
    }
   },
   "outputs": [
    {
     "data": {
      "text/plain": [
       "tensor([[0, 1, 2, 3],\n",
       "        [4, 5, 6, 7]])"
      ]
     },
     "execution_count": 12,
     "metadata": {},
     "output_type": "execute_result"
    }
   ],
   "source": [
    "a"
   ]
  },
  {
   "cell_type": "markdown",
   "id": "03e205e9",
   "metadata": {},
   "source": [
    "### view 场景"
   ]
  },
  {
   "cell_type": "markdown",
   "id": "2dd5ab24",
   "metadata": {
    "ExecuteTime": {
     "end_time": "2023-10-09T13:44:11.336564Z",
     "start_time": "2023-10-09T13:44:11.326199Z"
    }
   },
   "source": [
    "```\n",
    "bsz, seqlen, _ = x.shape\n",
    "xq, xk, xv = self.wq(x), self.wk(x), self.wv(x)\n",
    "\n",
    "xq = xq.view(bsz, seqlen, self.n_local_heads, self.head_dim)\n",
    "xk = xk.view(bsz, seqlen, self.n_local_kv_heads, self.head_dim)\n",
    "xv = xv.view(bsz, seqlen, self.n_local_kv_heads, self.head_dim)\n",
    "```"
   ]
  },
  {
   "cell_type": "markdown",
   "id": "915a06bb",
   "metadata": {},
   "source": [
    "## `torch.flip`"
   ]
  },
  {
   "cell_type": "code",
   "execution_count": 8,
   "id": "74bd283d",
   "metadata": {
    "ExecuteTime": {
     "end_time": "2023-09-08T12:15:26.788494Z",
     "start_time": "2023-09-08T12:15:26.772055Z"
    }
   },
   "outputs": [
    {
     "data": {
      "text/plain": [
       "tensor([0, 1, 2, 3, 4, 5, 6, 7, 8, 9])"
      ]
     },
     "execution_count": 8,
     "metadata": {},
     "output_type": "execute_result"
    }
   ],
   "source": [
    "x = torch.arange(10)\n",
    "x"
   ]
  },
  {
   "cell_type": "code",
   "execution_count": 5,
   "id": "37172eeb",
   "metadata": {
    "ExecuteTime": {
     "end_time": "2023-09-08T12:14:57.290356Z",
     "start_time": "2023-09-08T12:14:56.749605Z"
    }
   },
   "outputs": [
    {
     "ename": "ValueError",
     "evalue": "step must be greater than zero",
     "output_type": "error",
     "traceback": [
      "\u001b[0;31m---------------------------------------------------------------------------\u001b[0m",
      "\u001b[0;31mValueError\u001b[0m                                Traceback (most recent call last)",
      "Cell \u001b[0;32mIn[5], line 1\u001b[0m\n\u001b[0;32m----> 1\u001b[0m \u001b[43mx\u001b[49m\u001b[43m[\u001b[49m\u001b[43m:\u001b[49m\u001b[43m:\u001b[49m\u001b[38;5;241;43m-\u001b[39;49m\u001b[38;5;241;43m1\u001b[39;49m\u001b[43m]\u001b[49m\n",
      "\u001b[0;31mValueError\u001b[0m: step must be greater than zero"
     ]
    }
   ],
   "source": [
    "x[::-1]"
   ]
  },
  {
   "cell_type": "code",
   "execution_count": 9,
   "id": "f1fc5a51",
   "metadata": {
    "ExecuteTime": {
     "end_time": "2023-09-08T12:15:28.714019Z",
     "start_time": "2023-09-08T12:15:28.703703Z"
    }
   },
   "outputs": [
    {
     "data": {
      "text/plain": [
       "tensor([9, 8, 7, 6, 5, 4, 3, 2, 1, 0])"
      ]
     },
     "execution_count": 9,
     "metadata": {},
     "output_type": "execute_result"
    }
   ],
   "source": [
    "torch.flip(x, dims=(0, ))"
   ]
  },
  {
   "cell_type": "markdown",
   "id": "b508e81f",
   "metadata": {},
   "source": [
    "## `torch.flatten`"
   ]
  },
  {
   "cell_type": "code",
   "execution_count": 25,
   "id": "7fe3ee29",
   "metadata": {
    "ExecuteTime": {
     "end_time": "2023-10-09T14:31:43.700681Z",
     "start_time": "2023-10-09T14:31:43.693023Z"
    }
   },
   "outputs": [],
   "source": [
    "t = torch.tensor([[[1, 2],\n",
    "                   [3, 4]],\n",
    "                  [[5, 6],\n",
    "                   [7, 8]]])\n"
   ]
  },
  {
   "cell_type": "code",
   "execution_count": 26,
   "id": "6a202a69",
   "metadata": {
    "ExecuteTime": {
     "end_time": "2023-10-09T14:31:54.765660Z",
     "start_time": "2023-10-09T14:31:54.758022Z"
    }
   },
   "outputs": [
    {
     "data": {
      "text/plain": [
       "tensor([1, 2, 3, 4, 5, 6, 7, 8])"
      ]
     },
     "execution_count": 26,
     "metadata": {},
     "output_type": "execute_result"
    }
   ],
   "source": [
    "torch.flatten(t)"
   ]
  },
  {
   "cell_type": "code",
   "execution_count": 28,
   "id": "cdaa7140",
   "metadata": {
    "ExecuteTime": {
     "end_time": "2023-10-09T14:32:04.916382Z",
     "start_time": "2023-10-09T14:32:04.908902Z"
    }
   },
   "outputs": [
    {
     "data": {
      "text/plain": [
       "tensor([[1, 2, 3, 4],\n",
       "        [5, 6, 7, 8]])"
      ]
     },
     "execution_count": 28,
     "metadata": {},
     "output_type": "execute_result"
    }
   ],
   "source": [
    "torch.flatten(t, start_dim=1)"
   ]
  },
  {
   "cell_type": "code",
   "execution_count": 29,
   "id": "ad1da7d3",
   "metadata": {
    "ExecuteTime": {
     "end_time": "2023-10-09T14:32:10.395477Z",
     "start_time": "2023-10-09T14:32:10.386172Z"
    }
   },
   "outputs": [
    {
     "data": {
      "text/plain": [
       "tensor([[[1, 2],\n",
       "         [3, 4]],\n",
       "\n",
       "        [[5, 6],\n",
       "         [7, 8]]])"
      ]
     },
     "execution_count": 29,
     "metadata": {},
     "output_type": "execute_result"
    }
   ],
   "source": [
    "t"
   ]
  },
  {
   "cell_type": "code",
   "execution_count": 35,
   "id": "dd3f7e7a",
   "metadata": {
    "ExecuteTime": {
     "end_time": "2023-10-09T14:32:41.582100Z",
     "start_time": "2023-10-09T14:32:41.575862Z"
    }
   },
   "outputs": [
    {
     "data": {
      "text/plain": [
       "tensor([[1, 2, 3, 4],\n",
       "        [5, 6, 7, 8]])"
      ]
     },
     "execution_count": 35,
     "metadata": {},
     "output_type": "execute_result"
    }
   ],
   "source": [
    "# flatten(start_dim=0, end_dim=-1) \n",
    "t.flatten(1)"
   ]
  },
  {
   "cell_type": "markdown",
   "id": "4383273c",
   "metadata": {},
   "source": [
    "## `torch.transpose()`/`torch.permute()`"
   ]
  },
  {
   "cell_type": "markdown",
   "id": "48b109bd",
   "metadata": {},
   "source": [
    "- 两者只是接口（或者入参）不同？？"
   ]
  },
  {
   "cell_type": "code",
   "execution_count": 2,
   "id": "8613eeba",
   "metadata": {
    "ExecuteTime": {
     "end_time": "2023-09-12T14:06:14.050493Z",
     "start_time": "2023-09-12T14:06:14.035173Z"
    }
   },
   "outputs": [],
   "source": [
    "x = torch.randint(0, 5, (2, 3, 4))"
   ]
  },
  {
   "cell_type": "code",
   "execution_count": 3,
   "id": "a87dcaab",
   "metadata": {
    "ExecuteTime": {
     "end_time": "2023-09-12T14:06:15.451687Z",
     "start_time": "2023-09-12T14:06:15.425098Z"
    }
   },
   "outputs": [
    {
     "data": {
      "text/plain": [
       "tensor([[[1, 1, 4, 0],\n",
       "         [2, 0, 2, 1],\n",
       "         [1, 1, 4, 2]],\n",
       "\n",
       "        [[1, 2, 2, 4],\n",
       "         [1, 3, 3, 0],\n",
       "         [1, 0, 0, 1]]])"
      ]
     },
     "execution_count": 3,
     "metadata": {},
     "output_type": "execute_result"
    }
   ],
   "source": [
    "x"
   ]
  },
  {
   "cell_type": "code",
   "execution_count": 13,
   "id": "d275b138",
   "metadata": {
    "ExecuteTime": {
     "end_time": "2023-09-12T14:08:53.636616Z",
     "start_time": "2023-09-12T14:08:53.620233Z"
    }
   },
   "outputs": [
    {
     "data": {
      "text/plain": [
       "True"
      ]
     },
     "execution_count": 13,
     "metadata": {},
     "output_type": "execute_result"
    }
   ],
   "source": [
    "torch.equal(x.transpose(1, 2), x.transpose(2, 1))"
   ]
  },
  {
   "cell_type": "code",
   "execution_count": 17,
   "id": "b3d22b54",
   "metadata": {
    "ExecuteTime": {
     "end_time": "2023-09-12T14:09:51.440079Z",
     "start_time": "2023-09-12T14:09:51.430889Z"
    }
   },
   "outputs": [
    {
     "data": {
      "text/plain": [
       "True"
      ]
     },
     "execution_count": 17,
     "metadata": {},
     "output_type": "execute_result"
    }
   ],
   "source": [
    "torch.equal(x.transpose(1, 2), x.permute((0, 2, 1)))"
   ]
  }
 ],
 "metadata": {
  "kernelspec": {
   "display_name": "Python 3 (ipykernel)",
   "language": "python",
   "name": "python3"
  },
  "language_info": {
   "codemirror_mode": {
    "name": "ipython",
    "version": 3
   },
   "file_extension": ".py",
   "mimetype": "text/x-python",
   "name": "python",
   "nbconvert_exporter": "python",
   "pygments_lexer": "ipython3",
   "version": "3.10.9"
  },
  "toc": {
   "base_numbering": 1,
   "nav_menu": {},
   "number_sections": true,
   "sideBar": true,
   "skip_h1_title": false,
   "title_cell": "Table of Contents",
   "title_sidebar": "Contents",
   "toc_cell": false,
   "toc_position": {},
   "toc_section_display": true,
   "toc_window_display": false
  }
 },
 "nbformat": 4,
 "nbformat_minor": 5
}
