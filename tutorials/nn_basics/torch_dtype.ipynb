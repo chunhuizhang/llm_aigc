{
 "cells": [
  {
   "cell_type": "code",
   "execution_count": 1,
   "id": "0d467a70",
   "metadata": {
    "ExecuteTime": {
     "end_time": "2023-10-12T14:04:20.571959Z",
     "start_time": "2023-10-12T14:04:19.178280Z"
    }
   },
   "outputs": [],
   "source": [
    "import torch"
   ]
  },
  {
   "cell_type": "code",
   "execution_count": 2,
   "id": "2dd9f20e",
   "metadata": {
    "ExecuteTime": {
     "end_time": "2023-10-12T14:04:21.757134Z",
     "start_time": "2023-10-12T14:04:21.750787Z"
    }
   },
   "outputs": [
    {
     "data": {
      "text/plain": [
       "torch.int64"
      ]
     },
     "execution_count": 2,
     "metadata": {},
     "output_type": "execute_result"
    }
   ],
   "source": [
    "torch.long"
   ]
  },
  {
   "cell_type": "markdown",
   "id": "09b953f5",
   "metadata": {},
   "source": [
    "## basics"
   ]
  },
  {
   "cell_type": "markdown",
   "id": "0a1de2b7",
   "metadata": {},
   "source": [
    "- references:\n",
    "    - https://pytorch.org/docs/stable/tensor_attributes.html#torch-dtype"
   ]
  },
  {
   "cell_type": "markdown",
   "id": "c84616e1",
   "metadata": {},
   "source": [
    "\n",
    "| **dtype**    | **等价形式**   | **Data type**           | **comment** |\n",
    "|--------------|----------------|-------------------------|-------------|\n",
    "| torch.half   | torch.float16  | 16-bit floating point 1 |             |\n",
    "|              | torch.bfloat16 | 16-bit floating point 2 |             |\n",
    "| torch.float  | torch.float32  |                         |             |\n",
    "| torch.double | torch.float64  |                         |             |\n",
    "| torch.short  | torch.int16    |                         |             |\n",
    "| torch.int    | torch.int32    |                         |             |\n",
    "| torch.long   | torch.int64    | 64-bit integer (signed) |             |"
   ]
  }
 ],
 "metadata": {
  "kernelspec": {
   "display_name": "Python 3 (ipykernel)",
   "language": "python",
   "name": "python3"
  },
  "language_info": {
   "codemirror_mode": {
    "name": "ipython",
    "version": 3
   },
   "file_extension": ".py",
   "mimetype": "text/x-python",
   "name": "python",
   "nbconvert_exporter": "python",
   "pygments_lexer": "ipython3",
   "version": "3.10.9"
  },
  "toc": {
   "base_numbering": 1,
   "nav_menu": {},
   "number_sections": true,
   "sideBar": true,
   "skip_h1_title": false,
   "title_cell": "Table of Contents",
   "title_sidebar": "Contents",
   "toc_cell": false,
   "toc_position": {},
   "toc_section_display": true,
   "toc_window_display": false
  }
 },
 "nbformat": 4,
 "nbformat_minor": 5
}
