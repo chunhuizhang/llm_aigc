{
 "cells": [
  {
   "cell_type": "markdown",
   "id": "7c853e0c",
   "metadata": {},
   "source": [
    "## einsum 补充"
   ]
  },
  {
   "cell_type": "markdown",
   "id": "72efd83b",
   "metadata": {},
   "source": [
    "- https://rockt.github.io/2018/04/30/einsum\n",
    "- https://pytorch.org/docs/stable/generated/torch.einsum.html"
   ]
  },
  {
   "cell_type": "code",
   "execution_count": 1,
   "id": "af990f2f",
   "metadata": {
    "ExecuteTime": {
     "end_time": "2023-09-07T13:23:39.182145Z",
     "start_time": "2023-09-07T13:23:37.455635Z"
    }
   },
   "outputs": [],
   "source": [
    "import torch"
   ]
  },
  {
   "cell_type": "code",
   "execution_count": 6,
   "id": "9c5f4178",
   "metadata": {
    "ExecuteTime": {
     "end_time": "2023-09-07T13:24:16.022093Z",
     "start_time": "2023-09-07T13:24:16.018279Z"
    }
   },
   "outputs": [],
   "source": [
    "a = torch.randn(3, 4)\n",
    "b = torch.randn(4)"
   ]
  },
  {
   "cell_type": "code",
   "execution_count": 7,
   "id": "314d0df1",
   "metadata": {
    "ExecuteTime": {
     "end_time": "2023-09-07T13:24:32.288893Z",
     "start_time": "2023-09-07T13:24:32.277588Z"
    }
   },
   "outputs": [
    {
     "data": {
      "text/plain": [
       "tensor([[-0.2172,  0.1115, -0.9244, -0.0106],\n",
       "        [-0.1119, -0.0060,  0.4080,  0.0856],\n",
       "        [-0.4363, -1.3421, -0.7374,  0.0181]])"
      ]
     },
     "execution_count": 7,
     "metadata": {},
     "output_type": "execute_result"
    }
   ],
   "source": [
    "a * b"
   ]
  },
  {
   "cell_type": "code",
   "execution_count": 8,
   "id": "0041a2bb",
   "metadata": {
    "ExecuteTime": {
     "end_time": "2023-09-07T13:25:09.950885Z",
     "start_time": "2023-09-07T13:25:09.933318Z"
    }
   },
   "outputs": [
    {
     "data": {
      "text/plain": [
       "tensor([-1.0407,  0.3757, -2.4976])"
      ]
     },
     "execution_count": 8,
     "metadata": {},
     "output_type": "execute_result"
    }
   ],
   "source": [
    "a @ b"
   ]
  },
  {
   "cell_type": "code",
   "execution_count": 9,
   "id": "ba674658",
   "metadata": {
    "ExecuteTime": {
     "end_time": "2023-09-07T13:25:16.983223Z",
     "start_time": "2023-09-07T13:25:16.965404Z"
    }
   },
   "outputs": [
    {
     "data": {
      "text/plain": [
       "tensor([-1.0407,  0.3757, -2.4976])"
      ]
     },
     "execution_count": 9,
     "metadata": {},
     "output_type": "execute_result"
    }
   ],
   "source": [
    "torch.einsum('ij,j->i', a, b)"
   ]
  },
  {
   "cell_type": "markdown",
   "id": "25dd7463",
   "metadata": {},
   "source": [
    "## einops"
   ]
  },
  {
   "cell_type": "markdown",
   "id": "560abd7d",
   "metadata": {},
   "source": [
    "- https://github.com/arogozhnikov/einops\n",
    "    - https://github.com/arogozhnikov/einops/tree/master/docs"
   ]
  }
 ],
 "metadata": {
  "kernelspec": {
   "display_name": "Python 3 (ipykernel)",
   "language": "python",
   "name": "python3"
  },
  "language_info": {
   "codemirror_mode": {
    "name": "ipython",
    "version": 3
   },
   "file_extension": ".py",
   "mimetype": "text/x-python",
   "name": "python",
   "nbconvert_exporter": "python",
   "pygments_lexer": "ipython3",
   "version": "3.10.9"
  },
  "toc": {
   "base_numbering": 1,
   "nav_menu": {},
   "number_sections": true,
   "sideBar": true,
   "skip_h1_title": false,
   "title_cell": "Table of Contents",
   "title_sidebar": "Contents",
   "toc_cell": false,
   "toc_position": {},
   "toc_section_display": true,
   "toc_window_display": false
  }
 },
 "nbformat": 4,
 "nbformat_minor": 5
}
