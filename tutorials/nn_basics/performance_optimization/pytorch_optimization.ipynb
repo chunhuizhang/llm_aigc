{
 "cells": [
  {
   "cell_type": "markdown",
   "id": "ae59abd8-9f41-483e-a0e6-09732507c297",
   "metadata": {},
   "source": [
    "- references\n",
    "    - https://tigress-web.princeton.edu/~jdh4/PyTorchPerformanceTuningGuide_GTC2021.pdf\n",
    "    - https://towardsdatascience.com/optimize-pytorch-performance-for-speed-and-memory-efficiency-2022-84f453916ea6"
   ]
  },
  {
   "cell_type": "code",
   "execution_count": 1,
   "id": "bc0214af-6775-4bd7-94b2-7e549808cd0a",
   "metadata": {},
   "outputs": [],
   "source": [
    "import torch\n",
    "import torch.jit\n",
    "import timeit"
   ]
  },
  {
   "cell_type": "markdown",
   "id": "b03d6674-38a5-4715-a0ed-b3202c4f0fb6",
   "metadata": {},
   "source": [
    "## data loading"
   ]
  },
  {
   "cell_type": "markdown",
   "id": "d0a1e580-e1c4-4699-9fc8-3c26f38a959d",
   "metadata": {},
   "source": [
    "- Move the active data to the SSD\n",
    "- `Dataloader(dataset, num_workers=4*num_GPU)`\n",
    "- `Dataloader(dataset, pin_memory=True, non_blocking=True)`"
   ]
  },
  {
   "cell_type": "markdown",
   "id": "5861842c-ee99-43e8-8447-a320eb23d758",
   "metadata": {},
   "source": [
    "## data operations"
   ]
  },
  {
   "cell_type": "markdown",
   "id": "90632d8b-42d5-4281-b163-63b790dc71b8",
   "metadata": {},
   "source": [
    "### JIT（Just-In-Time compilation) ）"
   ]
  },
  {
   "cell_type": "markdown",
   "id": "8a42c205-ad0e-4556-9a46-2c0f159964c7",
   "metadata": {},
   "source": [
    "- JIT 通过将模型编译成中间表示（Intermediate Representation, IR），然后进一步将其转换为机器代码\n",
    "- Fuse the pointwise (elementwise) operations into a single kernel by PyTorch JIT\n",
    "    - JIT fuse the pointwise operations"
   ]
  },
  {
   "cell_type": "code",
   "execution_count": 13,
   "id": "7af19e9d-9e20-4810-83ae-b369081f8765",
   "metadata": {},
   "outputs": [
    {
     "name": "stdout",
     "output_type": "stream",
     "text": [
      "20.05574530499871 31.39065190600013\n"
     ]
    }
   ],
   "source": [
    "# 创建一个大型的随机张量作为输入数据\n",
    "x = torch.randn(15000, 15000)\n",
    "\n",
    "# 使用 JIT 编译的函数\n",
    "@torch.jit.script\n",
    "def fused_gelu(x):\n",
    "    return x * 0.5 * (1.0 + torch.erf(x / 1.41421))\n",
    "\n",
    "# 未使用 JIT 编译的相同函数\n",
    "def gelu(x):\n",
    "    return x * 0.5 * (1.0 + torch.erf(x / 1.41421))\n",
    "\n",
    "# 使用 timeit 测量 JIT 编译函数的执行时间\n",
    "jit_time = timeit.timeit('fused_gelu(x)', globals=globals(), number=100)\n",
    "nonjit_time = timeit.timeit('gelu(x)', globals=globals(), number=100)\n",
    "\n",
    "print(jit_time, nonjit_time)"
   ]
  },
  {
   "cell_type": "code",
   "execution_count": null,
   "id": "7d261c33-5bf7-4f1e-959c-8052b6e1ceb5",
   "metadata": {},
   "outputs": [],
   "source": []
  }
 ],
 "metadata": {
  "kernelspec": {
   "display_name": "Python 3 (ipykernel)",
   "language": "python",
   "name": "python3"
  },
  "language_info": {
   "codemirror_mode": {
    "name": "ipython",
    "version": 3
   },
   "file_extension": ".py",
   "mimetype": "text/x-python",
   "name": "python",
   "nbconvert_exporter": "python",
   "pygments_lexer": "ipython3",
   "version": "3.10.13"
  }
 },
 "nbformat": 4,
 "nbformat_minor": 5
}
