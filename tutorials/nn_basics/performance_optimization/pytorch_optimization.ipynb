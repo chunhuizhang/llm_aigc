{
 "cells": [
  {
   "cell_type": "markdown",
   "id": "ae59abd8-9f41-483e-a0e6-09732507c297",
   "metadata": {},
   "source": [
    "- references\n",
    "    - https://towardsdatascience.com/optimize-pytorch-performance-for-speed-and-memory-efficiency-2022-84f453916ea6"
   ]
  },
  {
   "cell_type": "markdown",
   "id": "b03d6674-38a5-4715-a0ed-b3202c4f0fb6",
   "metadata": {},
   "source": [
    "## data loading"
   ]
  },
  {
   "cell_type": "markdown",
   "id": "d0a1e580-e1c4-4699-9fc8-3c26f38a959d",
   "metadata": {},
   "source": [
    "- Move the active data to the SSD\n",
    "- `Dataloader(dataset, num_workers=4*num_GPU)`\n",
    "- `Dataloader(dataset, pin_memory=True, non_blocking=True)`"
   ]
  },
  {
   "cell_type": "markdown",
   "id": "5861842c-ee99-43e8-8447-a320eb23d758",
   "metadata": {},
   "source": [
    "## data operations"
   ]
  },
  {
   "cell_type": "code",
   "execution_count": null,
   "id": "da6a7401-f766-4bff-b9c5-cb28580e0c0f",
   "metadata": {},
   "outputs": [],
   "source": []
  }
 ],
 "metadata": {
  "kernelspec": {
   "display_name": "Python 3 (ipykernel)",
   "language": "python",
   "name": "python3"
  },
  "language_info": {
   "codemirror_mode": {
    "name": "ipython",
    "version": 3
   },
   "file_extension": ".py",
   "mimetype": "text/x-python",
   "name": "python",
   "nbconvert_exporter": "python",
   "pygments_lexer": "ipython3",
   "version": "3.10.13"
  }
 },
 "nbformat": 4,
 "nbformat_minor": 5
}
