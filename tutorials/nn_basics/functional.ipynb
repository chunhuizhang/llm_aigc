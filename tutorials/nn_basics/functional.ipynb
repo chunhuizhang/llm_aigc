{
 "cells": [
  {
   "cell_type": "code",
   "execution_count": 1,
   "id": "58f53a9d",
   "metadata": {
    "ExecuteTime": {
     "end_time": "2023-07-31T13:49:32.773031Z",
     "start_time": "2023-07-31T13:49:31.784276Z"
    }
   },
   "outputs": [],
   "source": [
    "import torch.nn.functional as F"
   ]
  },
  {
   "cell_type": "markdown",
   "id": "334c8497",
   "metadata": {},
   "source": [
    "## basics"
   ]
  },
  {
   "cell_type": "markdown",
   "id": "f0d092d3",
   "metadata": {},
   "source": [
    "- `F.relu`\n",
    "- `F.linear`\n",
    "    - `F.linear(input, weight, bias=None)`\n",
    "        - input: $x\\in R^{m\\times i}$\n",
    "        - weight: $W\\in R^{o\\times i}$\n",
    "        - bias: $b\\in R^{o}$\n",
    "\n",
    "$$\n",
    "y=xW^T+b\n",
    "$$\n",
    "\n"
   ]
  }
 ],
 "metadata": {
  "kernelspec": {
   "display_name": "Python 3 (ipykernel)",
   "language": "python",
   "name": "python3"
  },
  "language_info": {
   "codemirror_mode": {
    "name": "ipython",
    "version": 3
   },
   "file_extension": ".py",
   "mimetype": "text/x-python",
   "name": "python",
   "nbconvert_exporter": "python",
   "pygments_lexer": "ipython3",
   "version": "3.10.9"
  },
  "toc": {
   "base_numbering": 1,
   "nav_menu": {},
   "number_sections": true,
   "sideBar": true,
   "skip_h1_title": false,
   "title_cell": "Table of Contents",
   "title_sidebar": "Contents",
   "toc_cell": false,
   "toc_position": {},
   "toc_section_display": true,
   "toc_window_display": false
  }
 },
 "nbformat": 4,
 "nbformat_minor": 5
}
