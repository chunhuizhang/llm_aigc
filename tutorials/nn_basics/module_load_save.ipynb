{
 "cells": [
  {
   "cell_type": "code",
   "execution_count": 1,
   "id": "33a38d29",
   "metadata": {
    "ExecuteTime": {
     "end_time": "2023-11-14T14:52:10.373949Z",
     "start_time": "2023-11-14T14:52:09.182936Z"
    }
   },
   "outputs": [],
   "source": [
    "import torch\n",
    "from torch import nn"
   ]
  },
  {
   "cell_type": "code",
   "execution_count": 5,
   "id": "dd4fcc1a",
   "metadata": {
    "ExecuteTime": {
     "end_time": "2023-11-14T14:52:35.414763Z",
     "start_time": "2023-11-14T14:52:35.407877Z"
    }
   },
   "outputs": [],
   "source": [
    "model = nn.Linear(5, 3)"
   ]
  },
  {
   "cell_type": "markdown",
   "id": "0ee438f1",
   "metadata": {},
   "source": [
    "## `model.parameters()`"
   ]
  },
  {
   "cell_type": "code",
   "execution_count": 9,
   "id": "29d04b31",
   "metadata": {
    "ExecuteTime": {
     "end_time": "2023-11-14T14:52:57.383206Z",
     "start_time": "2023-11-14T14:52:57.369346Z"
    }
   },
   "outputs": [
    {
     "data": {
      "text/plain": [
       "[Parameter containing:\n",
       " tensor([[-0.2888, -0.1333,  0.2464, -0.2843, -0.2926],\n",
       "         [-0.1179, -0.3022, -0.4258,  0.4373,  0.0226],\n",
       "         [ 0.1486, -0.1183, -0.3256, -0.3780, -0.4289]], requires_grad=True),\n",
       " Parameter containing:\n",
       " tensor([-0.2695, -0.1645, -0.4121], requires_grad=True)]"
      ]
     },
     "execution_count": 9,
     "metadata": {},
     "output_type": "execute_result"
    }
   ],
   "source": [
    "list(model.parameters())"
   ]
  },
  {
   "cell_type": "code",
   "execution_count": 10,
   "id": "a1168a17",
   "metadata": {
    "ExecuteTime": {
     "end_time": "2023-11-14T14:53:01.334448Z",
     "start_time": "2023-11-14T14:53:01.321081Z"
    }
   },
   "outputs": [
    {
     "data": {
      "text/plain": [
       "[('weight',\n",
       "  Parameter containing:\n",
       "  tensor([[-0.2888, -0.1333,  0.2464, -0.2843, -0.2926],\n",
       "          [-0.1179, -0.3022, -0.4258,  0.4373,  0.0226],\n",
       "          [ 0.1486, -0.1183, -0.3256, -0.3780, -0.4289]], requires_grad=True)),\n",
       " ('bias',\n",
       "  Parameter containing:\n",
       "  tensor([-0.2695, -0.1645, -0.4121], requires_grad=True))]"
      ]
     },
     "execution_count": 10,
     "metadata": {},
     "output_type": "execute_result"
    }
   ],
   "source": [
    "list(model.named_parameters())"
   ]
  }
 ],
 "metadata": {
  "kernelspec": {
   "display_name": "Python 3 (ipykernel)",
   "language": "python",
   "name": "python3"
  },
  "language_info": {
   "codemirror_mode": {
    "name": "ipython",
    "version": 3
   },
   "file_extension": ".py",
   "mimetype": "text/x-python",
   "name": "python",
   "nbconvert_exporter": "python",
   "pygments_lexer": "ipython3",
   "version": "3.10.9"
  },
  "toc": {
   "base_numbering": 1,
   "nav_menu": {},
   "number_sections": true,
   "sideBar": true,
   "skip_h1_title": false,
   "title_cell": "Table of Contents",
   "title_sidebar": "Contents",
   "toc_cell": false,
   "toc_position": {},
   "toc_section_display": true,
   "toc_window_display": false
  }
 },
 "nbformat": 4,
 "nbformat_minor": 5
}
