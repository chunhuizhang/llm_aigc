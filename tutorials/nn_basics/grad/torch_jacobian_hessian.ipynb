{
 "cells": [
  {
   "cell_type": "code",
   "execution_count": 1,
   "id": "6eef0328-55f4-4c6f-a3d6-f0ae6f80cf9d",
   "metadata": {},
   "outputs": [],
   "source": [
    "import torch"
   ]
  },
  {
   "cell_type": "markdown",
   "id": "bba9c673-ff5f-42db-9095-25a911d64899",
   "metadata": {},
   "source": [
    "## `torch.autograd.grad`"
   ]
  },
  {
   "cell_type": "code",
   "execution_count": 44,
   "id": "3aefc938-00af-4c1e-bd27-3ff6adcb6024",
   "metadata": {},
   "outputs": [],
   "source": [
    "def flat_grad(y, x, retain_graph=False, create_graph=False):\n",
    "    if create_graph:\n",
    "        retain_graph = True\n",
    "\n",
    "    g = torch.autograd.grad(y, x, retain_graph=retain_graph, create_graph=create_graph)\n",
    "    g = torch.cat([t.view(-1) for t in g])\n",
    "    return g"
   ]
  },
  {
   "cell_type": "code",
   "execution_count": 52,
   "id": "c2204f0b-bf88-4a91-b545-6556353bf850",
   "metadata": {},
   "outputs": [],
   "source": [
    "def f(x):\n",
    "    return (x**2).sum()"
   ]
  },
  {
   "cell_type": "code",
   "execution_count": 53,
   "id": "3c82fe51-66be-4e5b-8c85-2351a8f79a51",
   "metadata": {},
   "outputs": [
    {
     "data": {
      "text/plain": [
       "tensor([0., 1., 2., 3.], requires_grad=True)"
      ]
     },
     "execution_count": 53,
     "metadata": {},
     "output_type": "execute_result"
    }
   ],
   "source": [
    "x = torch.arange(4, dtype=torch.float32, requires_grad=True)\n",
    "x"
   ]
  },
  {
   "cell_type": "code",
   "execution_count": 54,
   "id": "b51e3f8b-6373-40e9-9c8e-7a257592cb2f",
   "metadata": {},
   "outputs": [
    {
     "data": {
      "text/plain": [
       "tensor([0., 2., 4., 6.])"
      ]
     },
     "execution_count": 54,
     "metadata": {},
     "output_type": "execute_result"
    }
   ],
   "source": [
    "flat_grad(f(x), x)"
   ]
  },
  {
   "cell_type": "code",
   "execution_count": 55,
   "id": "d8da910c-535e-40cf-b18f-6be072f9681f",
   "metadata": {},
   "outputs": [
    {
     "data": {
      "text/plain": [
       "tensor([0., 2., 4., 6.])"
      ]
     },
     "execution_count": 55,
     "metadata": {},
     "output_type": "execute_result"
    }
   ],
   "source": [
    "f(x).backward()\n",
    "x.grad"
   ]
  },
  {
   "cell_type": "markdown",
   "id": "dc1dd306-bddc-4485-870d-c65a154edeb3",
   "metadata": {},
   "source": [
    "## jacobian "
   ]
  },
  {
   "cell_type": "markdown",
   "id": "71df3ca3-fb61-45b3-95f2-90be70b5525e",
   "metadata": {},
   "source": [
    "$\\mathbf f: R^n\\rightarrow R^m, \\mathbf J\\in R^{m\\times n}$\n",
    "\n",
    "$$\n",
    "\\mathbf J = \\begin{bmatrix}\n",
    "  \\dfrac{\\partial \\mathbf{f}}{\\partial x_1} & \\cdots & \\dfrac{\\partial \\mathbf{f}}{\\partial x_n}\n",
    "\\end{bmatrix}\n",
    "= \\begin{bmatrix}\n",
    "  \\nabla^{\\mathrm T} f_1 \\\\  \n",
    "  \\vdots \\\\\n",
    "  \\nabla^{\\mathrm T} f_m   \n",
    "\\end{bmatrix}\n",
    "= \\begin{bmatrix}\n",
    "    \\dfrac{\\partial f_1}{\\partial x_1} & \\cdots & \\dfrac{\\partial f_1}{\\partial x_n}\\\\\n",
    "    \\vdots                             & \\ddots & \\vdots\\\\\n",
    "    \\dfrac{\\partial f_m}{\\partial x_1} & \\cdots & \\dfrac{\\partial f_m}{\\partial x_n}\n",
    "\\end{bmatrix}\n",
    "$$"
   ]
  },
  {
   "cell_type": "code",
   "execution_count": 2,
   "id": "b031ad51-bbd2-499f-8603-d3b03f6a901f",
   "metadata": {},
   "outputs": [],
   "source": [
    "def f(x):                                                                                             \n",
    "    return x * x * torch.arange(4, dtype=torch.float)         "
   ]
  },
  {
   "cell_type": "markdown",
   "id": "1645668a-4b0f-48d0-9c46-04fc4198d271",
   "metadata": {},
   "source": [
    "$$\n",
    "\\begin{split}\n",
    "\\mathbf f(\\mathbf x)=\n",
    "\\begin{bmatrix}\n",
    "f_1(x_1)\\\\\n",
    "f_2(x_2)\\\\\n",
    "f_3(x_3)\\\\\n",
    "f_4(x_4)\n",
    "\\end{bmatrix}=\\begin{bmatrix}\n",
    "0\\\\\n",
    "x_2^2\\\\\n",
    "2 x_3^2\\\\\n",
    "3 x_4^2\n",
    "\\end{bmatrix}\\\\\n",
    "\\end{split}\n",
    "$$"
   ]
  },
  {
   "cell_type": "markdown",
   "id": "369f7ec2-22c7-465f-8561-46d48e957a1c",
   "metadata": {},
   "source": [
    "\n",
    "$$\n",
    "\\mathbf J=\\begin{bmatrix}\n",
    "\\dfrac{\\partial f_1}{\\partial x_1} & \\dfrac{\\partial f_1}{\\partial x_2} & \\dfrac{\\partial f_1}{\\partial x_3} & \\dfrac{\\partial f_1}{\\partial x_4}\\\\\n",
    "\\dfrac{\\partial f_2}{\\partial x_1} & \\dfrac{\\partial f_2}{\\partial x_2} & \\dfrac{\\partial f_2}{\\partial x_3} & \\dfrac{\\partial f_2}{\\partial x_4}\\\\\n",
    "\\dfrac{\\partial f_3}{\\partial x_1} & \\dfrac{\\partial f_3}{\\partial x_2} & \\dfrac{\\partial f_3}{\\partial x_3} & \\dfrac{\\partial f_3}{\\partial x_4}\\\\\n",
    "\\dfrac{\\partial f_4}{\\partial x_1} & \\dfrac{\\partial f_4}{\\partial x_2} & \\dfrac{\\partial f_4}{\\partial x_3} & \\dfrac{\\partial f_4}{\\partial x_4}\\\\\n",
    "\\end{bmatrix}=\\begin{bmatrix}\n",
    "0 & 0 & 0 & 0\\\\\n",
    "0 & 2x_2 & 0 & 0\\\\\n",
    "0 & 0 & 4x_3 & 0\\\\\n",
    "0 & 0 & 0 & 6x_4\\\\\n",
    "\\end{bmatrix}\n",
    "$$"
   ]
  },
  {
   "cell_type": "code",
   "execution_count": 17,
   "id": "86df6c0f-a3fe-408a-957e-73b92c450b19",
   "metadata": {},
   "outputs": [],
   "source": [
    "def jacobian(y, x, create_graph=False):                                                               \n",
    "    jac = []                                                                                          \n",
    "    flat_y = y.reshape(-1)                                                                            \n",
    "    grad_y = torch.zeros_like(flat_y)                                                                 \n",
    "    for i in range(len(flat_y)):                                                                      \n",
    "        grad_y[i] = 1.                                                                                \n",
    "        grad_x, = torch.autograd.grad(flat_y, x, grad_y, retain_graph=True, create_graph=create_graph)\n",
    "        # print(flat_y, x, i, grad_x)\n",
    "        jac.append(grad_x.reshape(x.shape))                                                           \n",
    "        grad_y[i] = 0.                                                                                \n",
    "    return torch.stack(jac).reshape(y.shape + x.shape)   "
   ]
  },
  {
   "cell_type": "code",
   "execution_count": 18,
   "id": "d3df6645-3f41-41f7-b19c-ee902b30f739",
   "metadata": {},
   "outputs": [
    {
     "data": {
      "text/plain": [
       "tensor([1., 1., 1., 1.], requires_grad=True)"
      ]
     },
     "execution_count": 18,
     "metadata": {},
     "output_type": "execute_result"
    }
   ],
   "source": [
    "x = torch.ones(4, requires_grad=True)     \n",
    "x"
   ]
  },
  {
   "cell_type": "code",
   "execution_count": 40,
   "id": "9c019807-68dc-431c-a56c-47acd40730e0",
   "metadata": {},
   "outputs": [
    {
     "data": {
      "text/plain": [
       "tensor([0., 1., 2., 3.], grad_fn=<MulBackward0>)"
      ]
     },
     "execution_count": 40,
     "metadata": {},
     "output_type": "execute_result"
    }
   ],
   "source": [
    "f(x)"
   ]
  },
  {
   "cell_type": "code",
   "execution_count": 43,
   "id": "b1b9b612-30e3-4970-86e2-f6b37c53b79c",
   "metadata": {},
   "outputs": [
    {
     "data": {
      "text/plain": [
       "torch.Size([4])"
      ]
     },
     "execution_count": 43,
     "metadata": {},
     "output_type": "execute_result"
    }
   ],
   "source": [
    "f(x).reshape(-1).shape"
   ]
  },
  {
   "cell_type": "code",
   "execution_count": 22,
   "id": "f75455c7-e911-4b1c-860c-3771e0e5ff73",
   "metadata": {},
   "outputs": [
    {
     "data": {
      "text/plain": [
       "tensor([[0., 0., 0., 0.],\n",
       "        [0., 2., 0., 0.],\n",
       "        [0., 0., 4., 0.],\n",
       "        [0., 0., 0., 6.]])"
      ]
     },
     "execution_count": 22,
     "metadata": {},
     "output_type": "execute_result"
    }
   ],
   "source": [
    "J = torch.autograd.functional.jacobian(f, x)\n",
    "J"
   ]
  },
  {
   "cell_type": "code",
   "execution_count": 20,
   "id": "1b222af6-e425-46df-81d6-18a2a222fce8",
   "metadata": {},
   "outputs": [
    {
     "data": {
      "text/plain": [
       "tensor([[0., 0., 0., 0.],\n",
       "        [0., 2., 0., 0.],\n",
       "        [0., 0., 4., 0.],\n",
       "        [0., 0., 0., 6.]])"
      ]
     },
     "execution_count": 20,
     "metadata": {},
     "output_type": "execute_result"
    }
   ],
   "source": [
    "jacobian(f(x), x)"
   ]
  },
  {
   "cell_type": "markdown",
   "id": "4c836ee4-3751-4525-82ee-f9f9b8b6c9c4",
   "metadata": {},
   "source": [
    "## hessian"
   ]
  },
  {
   "cell_type": "markdown",
   "id": "740efcde-8d7a-47a5-94d5-9a2690203da4",
   "metadata": {},
   "source": [
    "$f : R^n \\to R$\n",
    "\n",
    "$$\n",
    "\\mathbf H_f=(\\mathbf H_f)_{i,j} = \\frac{\\partial^2 f}{\\partial x_i \\, \\partial x_j}= \\begin{bmatrix}\n",
    "  \\dfrac{\\partial^2 f}{\\partial x_1^2} & \\dfrac{\\partial^2 f}{\\partial x_1\\,\\partial x_2} & \\cdots & \\dfrac{\\partial^2 f}{\\partial x_1\\,\\partial x_n} \\\\[2.2ex]\n",
    "  \\dfrac{\\partial^2 f}{\\partial x_2\\,\\partial x_1} & \\dfrac{\\partial^2 f}{\\partial x_2^2} & \\cdots & \\dfrac{\\partial^2 f}{\\partial x_2\\,\\partial x_n} \\\\[2.2ex]\n",
    "  \\vdots & \\vdots & \\ddots & \\vdots \\\\[2.2ex]\n",
    "  \\dfrac{\\partial^2 f}{\\partial x_n\\,\\partial x_1} & \\dfrac{\\partial^2 f}{\\partial x_n\\,\\partial x_2} & \\cdots & \\dfrac{\\partial^2 f}{\\partial x_n^2}\n",
    "\\end{bmatrix}\n",
    "$$"
   ]
  },
  {
   "cell_type": "code",
   "execution_count": 23,
   "id": "2b285e02-f083-490c-945d-d782f17d55b1",
   "metadata": {},
   "outputs": [],
   "source": [
    "def hessian(y, x):                                                                                    \n",
    "    return jacobian(jacobian(y, x, create_graph=True), x)                                             "
   ]
  },
  {
   "cell_type": "code",
   "execution_count": 24,
   "id": "b6fe171d-2aa4-4dea-a3a2-ee56c93e46b9",
   "metadata": {},
   "outputs": [
    {
     "data": {
      "text/plain": [
       "tensor([[[0., 0., 0., 0.],\n",
       "         [0., 0., 0., 0.],\n",
       "         [0., 0., 0., 0.],\n",
       "         [0., 0., 0., 0.]],\n",
       "\n",
       "        [[0., 0., 0., 0.],\n",
       "         [0., 2., 0., 0.],\n",
       "         [0., 0., 0., 0.],\n",
       "         [0., 0., 0., 0.]],\n",
       "\n",
       "        [[0., 0., 0., 0.],\n",
       "         [0., 0., 0., 0.],\n",
       "         [0., 0., 4., 0.],\n",
       "         [0., 0., 0., 0.]],\n",
       "\n",
       "        [[0., 0., 0., 0.],\n",
       "         [0., 0., 0., 0.],\n",
       "         [0., 0., 0., 0.],\n",
       "         [0., 0., 0., 6.]]])"
      ]
     },
     "execution_count": 24,
     "metadata": {},
     "output_type": "execute_result"
    }
   ],
   "source": [
    "hessian(f(x), x)"
   ]
  },
  {
   "cell_type": "code",
   "execution_count": 35,
   "id": "3ebf2251-c5d1-4e50-bd46-8253ba4300a8",
   "metadata": {},
   "outputs": [],
   "source": [
    "def f_0(x):\n",
    "    return (x * x * torch.arange(4, dtype=torch.float32))[0]\n",
    "def f_1(x):\n",
    "    return (x * x * torch.arange(4, dtype=torch.float32))[1]\n",
    "def f_2(x):\n",
    "    return (x * x * torch.arange(4, dtype=torch.float32))[2]\n",
    "def f_3(x):\n",
    "    return (x * x * torch.arange(4, dtype=torch.float32))[3]"
   ]
  },
  {
   "cell_type": "code",
   "execution_count": 37,
   "id": "fc629032-8d94-41d2-85de-3561460856b2",
   "metadata": {
    "scrolled": true
   },
   "outputs": [
    {
     "name": "stdout",
     "output_type": "stream",
     "text": [
      "tensor([[0., 0., 0., 0.],\n",
      "        [0., 0., 0., 0.],\n",
      "        [0., 0., 0., 0.],\n",
      "        [0., 0., 0., 0.]])\n",
      "tensor([[0., 0., 0., 0.],\n",
      "        [0., 2., 0., 0.],\n",
      "        [0., 0., 0., 0.],\n",
      "        [0., 0., 0., 0.]])\n",
      "tensor([[0., 0., 0., 0.],\n",
      "        [0., 0., 0., 0.],\n",
      "        [0., 0., 4., 0.],\n",
      "        [0., 0., 0., 0.]])\n",
      "tensor([[0., 0., 0., 0.],\n",
      "        [0., 0., 0., 0.],\n",
      "        [0., 0., 0., 0.],\n",
      "        [0., 0., 0., 6.]])\n"
     ]
    }
   ],
   "source": [
    "print(torch.autograd.functional.hessian(f_0, x))\n",
    "print(torch.autograd.functional.hessian(f_1, x))\n",
    "print(torch.autograd.functional.hessian(f_2, x))\n",
    "print(torch.autograd.functional.hessian(f_3, x))"
   ]
  },
  {
   "cell_type": "code",
   "execution_count": 39,
   "id": "fee5f388-8997-47bf-b2ef-291acad6f651",
   "metadata": {},
   "outputs": [
    {
     "data": {
      "text/plain": [
       "tensor([[0., 0., 0., 0.],\n",
       "        [0., 0., 0., 0.],\n",
       "        [0., 0., 0., 0.],\n",
       "        [0., 0., 0., 6.]])"
      ]
     },
     "execution_count": 39,
     "metadata": {},
     "output_type": "execute_result"
    }
   ],
   "source": [
    "from functools import partial\n",
    "def f_i(x, i):\n",
    "    return (x*x*torch.arange(4, dtype=torch.float))[i]\n",
    "\n",
    "torch.autograd.functional.hessian(partial(f_i, i=3), x)"
   ]
  }
 ],
 "metadata": {
  "kernelspec": {
   "display_name": "Python 3 (ipykernel)",
   "language": "python",
   "name": "python3"
  },
  "language_info": {
   "codemirror_mode": {
    "name": "ipython",
    "version": 3
   },
   "file_extension": ".py",
   "mimetype": "text/x-python",
   "name": "python",
   "nbconvert_exporter": "python",
   "pygments_lexer": "ipython3",
   "version": "3.10.13"
  }
 },
 "nbformat": 4,
 "nbformat_minor": 5
}
