{
 "cells": [
  {
   "cell_type": "markdown",
   "id": "cfbd3efb",
   "metadata": {},
   "source": [
    "## basics"
   ]
  },
  {
   "cell_type": "markdown",
   "id": "6da35c4f",
   "metadata": {},
   "source": [
    "- Spectral Normalization for Generative Adversarial Networks\n",
    "    - https://arxiv.org/abs/1802.05957\n",
    "- pytorch 的两个接口\n",
    "    - old：`torch.nn.utils.spectral_norm`\n",
    "    - new：`torch.nn.utils.parametrizations.spectral_norm`"
   ]
  },
  {
   "cell_type": "markdown",
   "id": "02fcf789",
   "metadata": {},
   "source": [
    "## pytorch api"
   ]
  },
  {
   "cell_type": "code",
   "execution_count": 15,
   "id": "7e8a2101",
   "metadata": {
    "ExecuteTime": {
     "end_time": "2023-08-01T15:20:12.278083Z",
     "start_time": "2023-08-01T15:20:12.270619Z"
    }
   },
   "outputs": [],
   "source": [
    "import numpy as np\n",
    "import torch \n",
    "from torch import nn"
   ]
  },
  {
   "cell_type": "code",
   "execution_count": 25,
   "id": "980c03ce",
   "metadata": {
    "ExecuteTime": {
     "end_time": "2023-08-01T15:22:45.867782Z",
     "start_time": "2023-08-01T15:22:45.859658Z"
    }
   },
   "outputs": [],
   "source": [
    "m = nn.Linear(5, 4)"
   ]
  },
  {
   "cell_type": "code",
   "execution_count": 27,
   "id": "81c37d81",
   "metadata": {
    "ExecuteTime": {
     "end_time": "2023-08-01T15:22:49.057265Z",
     "start_time": "2023-08-01T15:22:49.045189Z"
    }
   },
   "outputs": [
    {
     "data": {
      "text/plain": [
       "tensor([[ 0.1717,  0.2338, -0.4089, -0.0635,  0.3527],\n",
       "        [ 0.0247, -0.3828,  0.0763,  0.2116,  0.3518],\n",
       "        [ 0.3632,  0.0150,  0.1076, -0.1810,  0.3513],\n",
       "        [-0.3899,  0.2467,  0.2515, -0.1216,  0.3808]],\n",
       "       grad_fn=<CloneBackward0>)"
      ]
     },
     "execution_count": 27,
     "metadata": {},
     "output_type": "execute_result"
    }
   ],
   "source": [
    "W = m.weight.clone()\n",
    "W"
   ]
  },
  {
   "cell_type": "code",
   "execution_count": 28,
   "id": "a7807dea",
   "metadata": {
    "ExecuteTime": {
     "end_time": "2023-08-01T15:22:52.964783Z",
     "start_time": "2023-08-01T15:22:52.948588Z"
    }
   },
   "outputs": [
    {
     "data": {
      "text/plain": [
       "tensor([[ 0.2319,  0.3158, -0.5524, -0.0858,  0.4765],\n",
       "        [ 0.0333, -0.5171,  0.1030,  0.2858,  0.4753],\n",
       "        [ 0.4907,  0.0202,  0.1454, -0.2445,  0.4745],\n",
       "        [-0.5267,  0.3333,  0.3397, -0.1643,  0.5145]], grad_fn=<DivBackward0>)"
      ]
     },
     "execution_count": 28,
     "metadata": {},
     "output_type": "execute_result"
    }
   ],
   "source": [
    "m_sm = nn.utils.parametrizations.spectral_norm(m)\n",
    "m_sm.weight"
   ]
  },
  {
   "cell_type": "code",
   "execution_count": 30,
   "id": "4ce3a9f8",
   "metadata": {
    "ExecuteTime": {
     "end_time": "2023-08-01T15:23:36.721820Z",
     "start_time": "2023-08-01T15:23:36.710532Z"
    }
   },
   "outputs": [
    {
     "data": {
      "text/plain": [
       "array([0.74032176, 0.6395773 , 0.58293104, 0.37460697], dtype=float32)"
      ]
     },
     "execution_count": 30,
     "metadata": {},
     "output_type": "execute_result"
    }
   ],
   "source": [
    "U, s, V = np.linalg.svd(W.detach().numpy())\n",
    "s"
   ]
  },
  {
   "cell_type": "code",
   "execution_count": 31,
   "id": "f6e3a9b2",
   "metadata": {
    "ExecuteTime": {
     "end_time": "2023-08-01T15:23:44.556746Z",
     "start_time": "2023-08-01T15:23:44.544927Z"
    }
   },
   "outputs": [
    {
     "data": {
      "text/plain": [
       "tensor([[ 0.2319,  0.3158, -0.5524, -0.0858,  0.4765],\n",
       "        [ 0.0333, -0.5170,  0.1030,  0.2858,  0.4753],\n",
       "        [ 0.4906,  0.0202,  0.1454, -0.2445,  0.4745],\n",
       "        [-0.5267,  0.3333,  0.3397, -0.1643,  0.5144]], grad_fn=<DivBackward0>)"
      ]
     },
     "execution_count": 31,
     "metadata": {},
     "output_type": "execute_result"
    }
   ],
   "source": [
    "W/s[0]"
   ]
  },
  {
   "cell_type": "markdown",
   "id": "565b0f77",
   "metadata": {},
   "source": [
    "## 矩阵的谱范数"
   ]
  },
  {
   "cell_type": "markdown",
   "id": "6279cdf3",
   "metadata": {},
   "source": [
    "$$\n",
    "\\|A\\|_2 = \\max_{\\|X\\|\\neq 0}\\frac{\\|AX\\|_2}{\\|X\\|_2}=\\sqrt{\\lambda_\\max(A^TA)}=\\sigma_\\max(A)\n",
    "$$\n",
    "\n",
    "- The spectral norm (also know as Induced 2-norm) is the maximum singular value of a matrix. Intuitively, you can think of it as the maximum 'scale', by which the matrix can 'stretch' a vector.\n",
    "\n",
    "- The maximum singular value is the square root of the maximum eigenvalue or the maximum eigenvalue if the matrix is symmetric/hermitian"
   ]
  },
  {
   "cell_type": "code",
   "execution_count": 1,
   "id": "fd4f9a6e",
   "metadata": {
    "ExecuteTime": {
     "end_time": "2023-08-01T15:16:27.863896Z",
     "start_time": "2023-08-01T15:16:27.720664Z"
    }
   },
   "outputs": [],
   "source": [
    "import numpy as np"
   ]
  },
  {
   "cell_type": "code",
   "execution_count": 4,
   "id": "44dc6151",
   "metadata": {
    "ExecuteTime": {
     "end_time": "2023-08-01T15:16:56.131750Z",
     "start_time": "2023-08-01T15:16:56.113864Z"
    }
   },
   "outputs": [
    {
     "data": {
      "text/plain": [
       "array([[1, 4, 4, 4],\n",
       "       [3, 2, 3, 0],\n",
       "       [0, 0, 2, 4],\n",
       "       [1, 4, 0, 2],\n",
       "       [1, 0, 4, 4]])"
      ]
     },
     "execution_count": 4,
     "metadata": {},
     "output_type": "execute_result"
    }
   ],
   "source": [
    "A = np.random.randint(0, 5, (5, 4))\n",
    "A"
   ]
  },
  {
   "cell_type": "code",
   "execution_count": 7,
   "id": "b17d7e1c",
   "metadata": {
    "ExecuteTime": {
     "end_time": "2023-08-01T15:17:26.813691Z",
     "start_time": "2023-08-01T15:17:26.803180Z"
    }
   },
   "outputs": [
    {
     "data": {
      "text/plain": [
       "array([[-0.98453805],\n",
       "       [ 1.95325231],\n",
       "       [ 0.62514591],\n",
       "       [ 0.88666499]])"
      ]
     },
     "execution_count": 7,
     "metadata": {},
     "output_type": "execute_result"
    }
   ],
   "source": [
    "x = np.random.randn(4, 1)\n",
    "x"
   ]
  },
  {
   "cell_type": "code",
   "execution_count": 8,
   "id": "7df08223",
   "metadata": {
    "ExecuteTime": {
     "end_time": "2023-08-01T15:17:34.360752Z",
     "start_time": "2023-08-01T15:17:34.312338Z"
    }
   },
   "outputs": [
    {
     "data": {
      "text/plain": [
       "2.4416166720742534"
      ]
     },
     "execution_count": 8,
     "metadata": {},
     "output_type": "execute_result"
    }
   ],
   "source": [
    "np.linalg.norm(x, 2)"
   ]
  },
  {
   "cell_type": "code",
   "execution_count": 9,
   "id": "40d36479",
   "metadata": {
    "ExecuteTime": {
     "end_time": "2023-08-01T15:17:42.926573Z",
     "start_time": "2023-08-01T15:17:42.908002Z"
    }
   },
   "outputs": [
    {
     "data": {
      "text/plain": [
       "17.21674155029448"
      ]
     },
     "execution_count": 9,
     "metadata": {},
     "output_type": "execute_result"
    }
   ],
   "source": [
    "np.linalg.norm(A.dot(x), 2)"
   ]
  },
  {
   "cell_type": "code",
   "execution_count": 10,
   "id": "9a011186",
   "metadata": {
    "ExecuteTime": {
     "end_time": "2023-08-01T15:17:55.983397Z",
     "start_time": "2023-08-01T15:17:55.964788Z"
    }
   },
   "outputs": [
    {
     "data": {
      "text/plain": [
       "(array([[-0.65752954, -0.18334979, -0.15086348, -0.70308521, -0.13018891],\n",
       "        [-0.31992344, -0.39459151,  0.76998239,  0.28509129, -0.26037782],\n",
       "        [-0.35688849,  0.47670322, -0.26754883,  0.38739315, -0.65094455],\n",
       "        [-0.30736573, -0.56885818, -0.51565347,  0.49822843,  0.26037782],\n",
       "        [-0.49341748,  0.50973993,  0.21653282,  0.16152125,  0.65094455]]),\n",
       " array([10.47221133,  4.681808  ,  3.50148014,  1.07382518]),\n",
       " array([[-0.23090472, -0.42965405, -0.59942788, -0.63463898],\n",
       "        [-0.304635  , -0.81122825,  0.22965326,  0.44313161],\n",
       "        [ 0.53119337, -0.32160771,  0.58190445, -0.52515645],\n",
       "        [ 0.7561178 , -0.23210905, -0.49933237,  0.35366431]]))"
      ]
     },
     "execution_count": 10,
     "metadata": {},
     "output_type": "execute_result"
    }
   ],
   "source": [
    "np.linalg.svd(A)"
   ]
  },
  {
   "cell_type": "code",
   "execution_count": null,
   "id": "12675af3",
   "metadata": {},
   "outputs": [],
   "source": []
  }
 ],
 "metadata": {
  "kernelspec": {
   "display_name": "Python 3 (ipykernel)",
   "language": "python",
   "name": "python3"
  },
  "language_info": {
   "codemirror_mode": {
    "name": "ipython",
    "version": 3
   },
   "file_extension": ".py",
   "mimetype": "text/x-python",
   "name": "python",
   "nbconvert_exporter": "python",
   "pygments_lexer": "ipython3",
   "version": "3.10.9"
  },
  "toc": {
   "base_numbering": 1,
   "nav_menu": {},
   "number_sections": true,
   "sideBar": true,
   "skip_h1_title": false,
   "title_cell": "Table of Contents",
   "title_sidebar": "Contents",
   "toc_cell": false,
   "toc_position": {},
   "toc_section_display": true,
   "toc_window_display": false
  }
 },
 "nbformat": 4,
 "nbformat_minor": 5
}
