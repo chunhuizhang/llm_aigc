{
 "cells": [
  {
   "cell_type": "markdown",
   "id": "6a3f76b5",
   "metadata": {},
   "source": [
    "https://stackoverflow.com/questions/26089893/understanding-numpys-einsum"
   ]
  },
  {
   "cell_type": "code",
   "execution_count": 27,
   "id": "d9eb8ab6",
   "metadata": {
    "ExecuteTime": {
     "end_time": "2023-07-26T12:22:41.238423Z",
     "start_time": "2023-07-26T12:22:39.809145Z"
    }
   },
   "outputs": [],
   "source": [
    "import numpy as np\n",
    "import torch"
   ]
  },
  {
   "cell_type": "markdown",
   "id": "20f1fa35",
   "metadata": {},
   "source": [
    "## basics"
   ]
  },
  {
   "cell_type": "markdown",
   "id": "9fc4d19f",
   "metadata": {},
   "source": [
    "- 适用于 ndarray（numpy） 以及 tensor（pytorch） 对应的矩阵操作，更灵活，更 general\n",
    "- 工作原理，通过操作 index 来匹配矩阵操作\n",
    "    - $C=A\\cdot B$\n",
    "        - $C_{ij}=\\sum_kA_{ik}B_{kj}$\n",
    "            - $A$ 的第 `i` 行，$B$ 的第 `j` 列；\n",
    "        - einsum way：$C_{ij}=A_{ik}B_{kj}$\n",
    "\n",
    "- 常见经典操作：\n",
    "    - permutation\n",
    "        - 'ij->ji'\n",
    "    - summation\n",
    "        - 'ij->': all sum\n",
    "        - row/column sum\n",
    "            - 'ij->i': row sum\n",
    "            - 'ij->j': column sum\n",
    "            \n",
    "    - (batch) matrix multi\n",
    "        - matrix - vector multi: ''\n",
    "        - matrix - matrix\n",
    "        \n",
    "    - element-wise mult (Hadamard product)\n",
    "\n",
    "    - inner/outer product\n",
    "        - 'i,i->': inner product\n",
    "        - 'i,j->ij': outer product\n",
    "    \n"
   ]
  },
  {
   "cell_type": "markdown",
   "id": "4f30f612",
   "metadata": {},
   "source": [
    "## numpy demo"
   ]
  },
  {
   "cell_type": "markdown",
   "id": "c1166746",
   "metadata": {},
   "source": [
    "### basics"
   ]
  },
  {
   "cell_type": "code",
   "execution_count": 26,
   "id": "755d682d",
   "metadata": {
    "ExecuteTime": {
     "end_time": "2023-07-26T12:20:58.528230Z",
     "start_time": "2023-07-26T12:20:58.521109Z"
    }
   },
   "outputs": [
    {
     "data": {
      "text/plain": [
       "True"
      ]
     },
     "execution_count": 26,
     "metadata": {},
     "output_type": "execute_result"
    }
   ],
   "source": [
    "# 'i->'\n",
    "x = np.asarray([1, 2, 3])\n",
    "sum_x = np.einsum('i->', x)\n",
    "assert sum_x == 6\n",
    "# 'ijk->kji'\n",
    "x = np.random.rand(2, 3, 4)\n",
    "np.alltrue(np.einsum('ijk->jki', x) == x.transpose(1, 2, 0))"
   ]
  },
  {
   "cell_type": "markdown",
   "id": "24c1ff7d",
   "metadata": {},
   "source": [
    "### `ik,kj->ij`：矩阵乘法"
   ]
  },
  {
   "cell_type": "code",
   "execution_count": 19,
   "id": "2d4d88cb",
   "metadata": {
    "ExecuteTime": {
     "end_time": "2023-07-26T12:17:32.982886Z",
     "start_time": "2023-07-26T12:17:32.968348Z"
    }
   },
   "outputs": [
    {
     "data": {
      "text/plain": [
       "array([[0.8764075 , 0.44507204],\n",
       "       [1.58530436, 1.19667538],\n",
       "       [1.43782141, 0.84566376]])"
      ]
     },
     "execution_count": 19,
     "metadata": {},
     "output_type": "execute_result"
    }
   ],
   "source": [
    "np.random.seed(43)\n",
    "\n",
    "A = np.random.rand(3, 5)\n",
    "B = np.random.rand(5, 2)\n",
    "\n",
    "C1 = np.zeros((3, 2))\n",
    "\n",
    "# print(A.dot(B))\n",
    "\n",
    "for i in range(3):\n",
    "    for j in range(2):\n",
    "        total = 0\n",
    "        for k in range(5):\n",
    "             total += A[i, k] * B[k, j]\n",
    "        C1[i, j] = total\n",
    "C1"
   ]
  },
  {
   "cell_type": "code",
   "execution_count": 44,
   "id": "3fd0590f",
   "metadata": {
    "ExecuteTime": {
     "end_time": "2023-07-26T12:35:09.990501Z",
     "start_time": "2023-07-26T12:35:09.983988Z"
    }
   },
   "outputs": [],
   "source": [
    "# ik: A\n",
    "# kj: B\n",
    "# i,j: free indices，外层循环\n",
    "# k: summation index，内层循环，被 reduce 掉的\n",
    "C2 = np.einsum('ik,kj->ij', A, B)"
   ]
  },
  {
   "cell_type": "code",
   "execution_count": 21,
   "id": "b287a77d",
   "metadata": {
    "ExecuteTime": {
     "end_time": "2023-07-26T12:17:36.338102Z",
     "start_time": "2023-07-26T12:17:36.329119Z"
    }
   },
   "outputs": [
    {
     "data": {
      "text/plain": [
       "True"
      ]
     },
     "execution_count": 21,
     "metadata": {},
     "output_type": "execute_result"
    }
   ],
   "source": [
    "np.alltrue(C1 == C2)"
   ]
  },
  {
   "cell_type": "markdown",
   "id": "a1e960cd",
   "metadata": {},
   "source": [
    "### `i,j->ij`：向量外积（outer product）"
   ]
  },
  {
   "cell_type": "markdown",
   "id": "2f00f42e",
   "metadata": {},
   "source": [
    "$$\n",
    "out[i, j] = a[i] * b[j]\n",
    "$$"
   ]
  },
  {
   "cell_type": "code",
   "execution_count": 17,
   "id": "e217b03e",
   "metadata": {
    "ExecuteTime": {
     "end_time": "2023-07-26T12:14:43.028278Z",
     "start_time": "2023-07-26T12:14:43.015463Z"
    }
   },
   "outputs": [
    {
     "data": {
      "text/plain": [
       "array([[0.72231527, 0.39663104, 0.6658378 ],\n",
       "       [0.53486475, 0.29369996, 0.49304395],\n",
       "       [0.3235543 , 0.17766713, 0.29825575],\n",
       "       [0.40759539, 0.22381499, 0.37572571],\n",
       "       [0.2989778 , 0.16417191, 0.27560088]])"
      ]
     },
     "execution_count": 17,
     "metadata": {},
     "output_type": "execute_result"
    }
   ],
   "source": [
    "a = np.random.rand(5)\n",
    "b = np.random.rand(3)\n",
    "c1 = np.outer(a, b)\n",
    "# i, j: free indices, used in output\n",
    "# summation index: None\n",
    "c2 = np.einsum('i,j->ij', a, b)\n",
    "np.alltrue(c1 == c2)\n",
    "c2"
   ]
  },
  {
   "cell_type": "code",
   "execution_count": 23,
   "id": "1434f988",
   "metadata": {
    "ExecuteTime": {
     "end_time": "2023-07-26T12:17:54.068780Z",
     "start_time": "2023-07-26T12:17:54.055403Z"
    }
   },
   "outputs": [
    {
     "data": {
      "text/plain": [
       "array([[0.72231527, 0.39663104, 0.6658378 ],\n",
       "       [0.53486475, 0.29369996, 0.49304395],\n",
       "       [0.3235543 , 0.17766713, 0.29825575],\n",
       "       [0.40759539, 0.22381499, 0.37572571],\n",
       "       [0.2989778 , 0.16417191, 0.27560088]])"
      ]
     },
     "execution_count": 23,
     "metadata": {},
     "output_type": "execute_result"
    }
   ],
   "source": [
    "c = np.zeros((5, 3))\n",
    "for i in range(5):\n",
    "    for j in range(3):\n",
    "        total = 0\n",
    "        # no sum loop\n",
    "        total += a[i]*b[j]\n",
    "        c[i, j] = total\n",
    "c"
   ]
  },
  {
   "cell_type": "markdown",
   "id": "5d8abfdc",
   "metadata": {},
   "source": [
    "## torch demo"
   ]
  },
  {
   "cell_type": "markdown",
   "id": "8c778cba",
   "metadata": {},
   "source": [
    "### permutation"
   ]
  },
  {
   "cell_type": "code",
   "execution_count": 36,
   "id": "1891d92b",
   "metadata": {
    "ExecuteTime": {
     "end_time": "2023-07-26T12:24:43.819377Z",
     "start_time": "2023-07-26T12:24:43.804409Z"
    }
   },
   "outputs": [
    {
     "name": "stdout",
     "output_type": "stream",
     "text": [
      "tensor([[0.2547, 0.2151, 0.2986],\n",
      "        [0.4207, 0.0754, 0.6783]])\n",
      "tensor([[0.2547, 0.4207],\n",
      "        [0.2151, 0.0754],\n",
      "        [0.2986, 0.6783]])\n"
     ]
    },
    {
     "data": {
      "text/plain": [
       "True"
      ]
     },
     "execution_count": 36,
     "metadata": {},
     "output_type": "execute_result"
    }
   ],
   "source": [
    "x = torch.rand((2, 3))\n",
    "print(x)\n",
    "x_t = torch.einsum('ij->ji', x)\n",
    "print(x_t)\n",
    "torch.equal(x.transpose(1, 0), x_t)"
   ]
  },
  {
   "cell_type": "code",
   "execution_count": 37,
   "id": "3ce826ee",
   "metadata": {
    "ExecuteTime": {
     "end_time": "2023-07-26T12:29:06.523371Z",
     "start_time": "2023-07-26T12:29:06.512644Z"
    }
   },
   "outputs": [
    {
     "data": {
      "text/plain": [
       "tensor([[0.2547, 0.2151, 0.2986],\n",
       "        [0.4207, 0.0754, 0.6783]])"
      ]
     },
     "execution_count": 37,
     "metadata": {},
     "output_type": "execute_result"
    }
   ],
   "source": [
    "x"
   ]
  },
  {
   "cell_type": "markdown",
   "id": "048441cb",
   "metadata": {},
   "source": [
    "### summation"
   ]
  },
  {
   "cell_type": "code",
   "execution_count": 43,
   "id": "e9aba3eb",
   "metadata": {
    "ExecuteTime": {
     "end_time": "2023-07-26T12:33:19.068873Z",
     "start_time": "2023-07-26T12:33:19.058142Z"
    }
   },
   "outputs": [
    {
     "data": {
      "text/plain": [
       "True"
      ]
     },
     "execution_count": 43,
     "metadata": {},
     "output_type": "execute_result"
    }
   ],
   "source": [
    "torch.equal(torch.einsum('ij->', x), x.sum())"
   ]
  },
  {
   "cell_type": "code",
   "execution_count": 41,
   "id": "f4e04b7c",
   "metadata": {
    "ExecuteTime": {
     "end_time": "2023-07-26T12:29:52.401452Z",
     "start_time": "2023-07-26T12:29:52.390498Z"
    }
   },
   "outputs": [
    {
     "data": {
      "text/plain": [
       "True"
      ]
     },
     "execution_count": 41,
     "metadata": {},
     "output_type": "execute_result"
    }
   ],
   "source": [
    "torch.equal(torch.einsum('ij->i', x), x.sum(axis=1))"
   ]
  },
  {
   "cell_type": "code",
   "execution_count": 42,
   "id": "a273a7e7",
   "metadata": {
    "ExecuteTime": {
     "end_time": "2023-07-26T12:30:02.190729Z",
     "start_time": "2023-07-26T12:30:02.180235Z"
    }
   },
   "outputs": [
    {
     "data": {
      "text/plain": [
       "True"
      ]
     },
     "execution_count": 42,
     "metadata": {},
     "output_type": "execute_result"
    }
   ],
   "source": [
    "torch.equal(torch.einsum('ij->j', x), x.sum(axis=0))"
   ]
  },
  {
   "cell_type": "markdown",
   "id": "1ef32653",
   "metadata": {},
   "source": [
    "### multiplication"
   ]
  },
  {
   "cell_type": "code",
   "execution_count": 48,
   "id": "b41f57d1",
   "metadata": {
    "ExecuteTime": {
     "end_time": "2023-07-26T12:36:19.191583Z",
     "start_time": "2023-07-26T12:36:19.175611Z"
    }
   },
   "outputs": [
    {
     "data": {
      "text/plain": [
       "tensor([0.4256, 0.7571])"
      ]
     },
     "execution_count": 48,
     "metadata": {},
     "output_type": "execute_result"
    }
   ],
   "source": [
    "# matrix - vector\n",
    "v = torch.rand(3)\n",
    "torch.einsum('ij,j->i', x, v)"
   ]
  },
  {
   "cell_type": "code",
   "execution_count": 50,
   "id": "0ff798c9",
   "metadata": {
    "ExecuteTime": {
     "end_time": "2023-07-26T12:37:06.546901Z",
     "start_time": "2023-07-26T12:37:06.527701Z"
    }
   },
   "outputs": [
    {
     "data": {
      "text/plain": [
       "tensor([[0.4256],\n",
       "        [0.7571]])"
      ]
     },
     "execution_count": 50,
     "metadata": {},
     "output_type": "execute_result"
    }
   ],
   "source": [
    "x @ v.reshape(-1, 1)"
   ]
  },
  {
   "cell_type": "code",
   "execution_count": 59,
   "id": "5c2885ca",
   "metadata": {
    "ExecuteTime": {
     "end_time": "2023-07-26T12:39:40.918425Z",
     "start_time": "2023-07-26T12:39:40.906456Z"
    }
   },
   "outputs": [
    {
     "data": {
      "text/plain": [
       "tensor([[0.2843],\n",
       "        [0.4031]])"
      ]
     },
     "execution_count": 59,
     "metadata": {},
     "output_type": "execute_result"
    }
   ],
   "source": [
    "# matrix - vector\n",
    "v = torch.rand((1, 3))\n",
    "torch.einsum('ij,kj->ik', x, v)"
   ]
  },
  {
   "cell_type": "code",
   "execution_count": 61,
   "id": "185eaf7e",
   "metadata": {
    "ExecuteTime": {
     "end_time": "2023-07-26T12:39:48.644532Z",
     "start_time": "2023-07-26T12:39:48.634274Z"
    }
   },
   "outputs": [
    {
     "name": "stdout",
     "output_type": "stream",
     "text": [
      "tensor([[0.2843],\n",
      "        [0.4031]])\n",
      "tensor([[0.2843],\n",
      "        [0.4031]])\n"
     ]
    }
   ],
   "source": [
    "print(x @ v.transpose(1, 0))\n",
    "print(x.mm(v.t()))"
   ]
  },
  {
   "cell_type": "code",
   "execution_count": 63,
   "id": "09a7808f",
   "metadata": {
    "ExecuteTime": {
     "end_time": "2023-07-26T12:40:18.054178Z",
     "start_time": "2023-07-26T12:40:18.042192Z"
    }
   },
   "outputs": [
    {
     "data": {
      "text/plain": [
       "tensor([[0.5181],\n",
       "        [0.7715]])"
      ]
     },
     "execution_count": 63,
     "metadata": {},
     "output_type": "execute_result"
    }
   ],
   "source": [
    "# matrix - vector\n",
    "v = torch.rand((3, 1))\n",
    "torch.einsum('ij,jk->ik', x, v)"
   ]
  },
  {
   "cell_type": "code",
   "execution_count": 64,
   "id": "6708ab14",
   "metadata": {
    "ExecuteTime": {
     "end_time": "2023-07-26T12:40:19.662260Z",
     "start_time": "2023-07-26T12:40:19.651224Z"
    }
   },
   "outputs": [
    {
     "data": {
      "text/plain": [
       "tensor([[0.5181],\n",
       "        [0.7715]])"
      ]
     },
     "execution_count": 64,
     "metadata": {},
     "output_type": "execute_result"
    }
   ],
   "source": [
    "x @ v"
   ]
  },
  {
   "cell_type": "code",
   "execution_count": 65,
   "id": "fd46be62",
   "metadata": {
    "ExecuteTime": {
     "end_time": "2023-07-26T12:40:52.936387Z",
     "start_time": "2023-07-26T12:40:52.924786Z"
    }
   },
   "outputs": [
    {
     "data": {
      "text/plain": [
       "tensor([[0.2003, 0.3259],\n",
       "        [0.3259, 0.6428]])"
      ]
     },
     "execution_count": 65,
     "metadata": {},
     "output_type": "execute_result"
    }
   ],
   "source": [
    "# matrix\n",
    "torch.einsum('ij,kj->ik', x, x)"
   ]
  },
  {
   "cell_type": "code",
   "execution_count": 66,
   "id": "68f2e102",
   "metadata": {
    "ExecuteTime": {
     "end_time": "2023-07-26T12:41:01.159901Z",
     "start_time": "2023-07-26T12:41:01.141412Z"
    }
   },
   "outputs": [
    {
     "data": {
      "text/plain": [
       "tensor([[0.2003, 0.3259],\n",
       "        [0.3259, 0.6428]])"
      ]
     },
     "execution_count": 66,
     "metadata": {},
     "output_type": "execute_result"
    }
   ],
   "source": [
    "x.mm(x.t())"
   ]
  },
  {
   "cell_type": "markdown",
   "id": "297510c7",
   "metadata": {},
   "source": [
    "### inner/outer product"
   ]
  },
  {
   "cell_type": "code",
   "execution_count": 67,
   "id": "5d1ae7bf",
   "metadata": {
    "ExecuteTime": {
     "end_time": "2023-07-26T12:42:48.398532Z",
     "start_time": "2023-07-26T12:42:48.386270Z"
    }
   },
   "outputs": [
    {
     "data": {
      "text/plain": [
       "tensor(0.2003)"
      ]
     },
     "execution_count": 67,
     "metadata": {},
     "output_type": "execute_result"
    }
   ],
   "source": [
    "torch.einsum('i,i->', x[0], x[0])"
   ]
  },
  {
   "cell_type": "code",
   "execution_count": 68,
   "id": "3c7c0aed",
   "metadata": {
    "ExecuteTime": {
     "end_time": "2023-07-26T12:42:59.563564Z",
     "start_time": "2023-07-26T12:42:59.550736Z"
    }
   },
   "outputs": [
    {
     "data": {
      "text/plain": [
       "tensor(0.2003)"
      ]
     },
     "execution_count": 68,
     "metadata": {},
     "output_type": "execute_result"
    }
   ],
   "source": [
    "torch.sum(x[0]*x[0])"
   ]
  },
  {
   "cell_type": "code",
   "execution_count": 70,
   "id": "523edb20",
   "metadata": {
    "ExecuteTime": {
     "end_time": "2023-07-26T12:43:52.779996Z",
     "start_time": "2023-07-26T12:43:52.767614Z"
    }
   },
   "outputs": [
    {
     "data": {
      "text/plain": [
       "tensor([[0.0649, 0.0548, 0.0761],\n",
       "        [0.0548, 0.0463, 0.0642],\n",
       "        [0.0761, 0.0642, 0.0892]])"
      ]
     },
     "execution_count": 70,
     "metadata": {},
     "output_type": "execute_result"
    }
   ],
   "source": [
    "torch.einsum('i,j->ij', x[0], x[0])"
   ]
  },
  {
   "cell_type": "code",
   "execution_count": 71,
   "id": "1029a815",
   "metadata": {
    "ExecuteTime": {
     "end_time": "2023-07-26T12:43:54.471959Z",
     "start_time": "2023-07-26T12:43:54.452314Z"
    }
   },
   "outputs": [
    {
     "data": {
      "text/plain": [
       "tensor([[0.0649, 0.0548, 0.0761],\n",
       "        [0.0548, 0.0463, 0.0642],\n",
       "        [0.0761, 0.0642, 0.0892]])"
      ]
     },
     "execution_count": 71,
     "metadata": {},
     "output_type": "execute_result"
    }
   ],
   "source": [
    "torch.outer(x[0], x[0])"
   ]
  },
  {
   "cell_type": "markdown",
   "id": "2cab0f7d",
   "metadata": {},
   "source": [
    "### dot product with matrix "
   ]
  },
  {
   "cell_type": "code",
   "execution_count": 72,
   "id": "6ad0f18e",
   "metadata": {
    "ExecuteTime": {
     "end_time": "2023-07-26T12:45:32.733366Z",
     "start_time": "2023-07-26T12:45:32.721467Z"
    }
   },
   "outputs": [
    {
     "data": {
      "text/plain": [
       "tensor(0.8431)"
      ]
     },
     "execution_count": 72,
     "metadata": {},
     "output_type": "execute_result"
    }
   ],
   "source": [
    "torch.einsum('ij,ij->', x, x)"
   ]
  },
  {
   "cell_type": "code",
   "execution_count": 73,
   "id": "f83a83b0",
   "metadata": {
    "ExecuteTime": {
     "end_time": "2023-07-26T12:49:51.935694Z",
     "start_time": "2023-07-26T12:49:51.923433Z"
    }
   },
   "outputs": [
    {
     "data": {
      "text/plain": [
       "tensor(0.8431)"
      ]
     },
     "execution_count": 73,
     "metadata": {},
     "output_type": "execute_result"
    }
   ],
   "source": [
    "torch.sum(x * x)"
   ]
  },
  {
   "cell_type": "markdown",
   "id": "38aa7744",
   "metadata": {},
   "source": [
    "### Hadamard product"
   ]
  },
  {
   "cell_type": "code",
   "execution_count": 82,
   "id": "b0180e67",
   "metadata": {
    "ExecuteTime": {
     "end_time": "2023-07-26T12:55:29.725450Z",
     "start_time": "2023-07-26T12:55:29.712900Z"
    }
   },
   "outputs": [
    {
     "data": {
      "text/plain": [
       "tensor([[8.3350e-01, 4.9147e-01, 1.3135e-01, 5.5694e-05, 5.1112e-01],\n",
       "        [2.4599e-01, 3.7869e-01, 3.2668e-03, 7.1125e-01, 1.5709e-01],\n",
       "        [3.9248e-01, 1.3680e-01, 8.6527e-01, 8.2573e-01, 9.8124e-04],\n",
       "        [6.5214e-02, 7.0714e-04, 7.6283e-01, 4.7111e-01, 2.5561e-02],\n",
       "        [9.6552e-01, 7.8141e-01, 5.8040e-01, 2.6186e-01, 5.5733e-01]])"
      ]
     },
     "execution_count": 82,
     "metadata": {},
     "output_type": "execute_result"
    }
   ],
   "source": [
    "torch.einsum('ij,ij->ij', x, x)"
   ]
  },
  {
   "cell_type": "code",
   "execution_count": 83,
   "id": "c9c7bf83",
   "metadata": {
    "ExecuteTime": {
     "end_time": "2023-07-26T12:55:34.226888Z",
     "start_time": "2023-07-26T12:55:34.215382Z"
    }
   },
   "outputs": [
    {
     "data": {
      "text/plain": [
       "tensor([[8.3350e-01, 4.9147e-01, 1.3135e-01, 5.5694e-05, 5.1112e-01],\n",
       "        [2.4599e-01, 3.7869e-01, 3.2668e-03, 7.1125e-01, 1.5709e-01],\n",
       "        [3.9248e-01, 1.3680e-01, 8.6527e-01, 8.2573e-01, 9.8124e-04],\n",
       "        [6.5214e-02, 7.0714e-04, 7.6283e-01, 4.7111e-01, 2.5561e-02],\n",
       "        [9.6552e-01, 7.8141e-01, 5.8040e-01, 2.6186e-01, 5.5733e-01]])"
      ]
     },
     "execution_count": 83,
     "metadata": {},
     "output_type": "execute_result"
    }
   ],
   "source": [
    "x * x"
   ]
  },
  {
   "cell_type": "markdown",
   "id": "3ec15709",
   "metadata": {},
   "source": [
    "### batch mm"
   ]
  },
  {
   "cell_type": "code",
   "execution_count": 84,
   "id": "26f2508a",
   "metadata": {
    "ExecuteTime": {
     "end_time": "2023-07-26T12:57:48.604358Z",
     "start_time": "2023-07-26T12:57:48.588059Z"
    }
   },
   "outputs": [
    {
     "data": {
      "text/plain": [
       "tensor([[[0.7476, 1.2334, 0.7442],\n",
       "         [0.7805, 1.3598, 0.9277]],\n",
       "\n",
       "        [[0.9196, 0.4849, 1.2628],\n",
       "         [1.1046, 0.6893, 1.6264]],\n",
       "\n",
       "        [[0.9355, 2.0841, 1.8561],\n",
       "         [0.5296, 1.4321, 1.2054]],\n",
       "\n",
       "        [[1.0077, 1.3104, 0.8044],\n",
       "         [0.7875, 0.7498, 0.6341]]])"
      ]
     },
     "execution_count": 84,
     "metadata": {},
     "output_type": "execute_result"
    }
   ],
   "source": [
    "x1 = torch.rand(4, 2, 5)\n",
    "x2 = torch.rand(4, 5, 3)\n",
    "x1.bmm(x2)"
   ]
  },
  {
   "cell_type": "code",
   "execution_count": 85,
   "id": "ab3d2f5c",
   "metadata": {
    "ExecuteTime": {
     "end_time": "2023-07-26T12:58:14.053583Z",
     "start_time": "2023-07-26T12:58:14.044722Z"
    }
   },
   "outputs": [
    {
     "data": {
      "text/plain": [
       "tensor([[[0.7476, 1.2334, 0.7442],\n",
       "         [0.7805, 1.3598, 0.9277]],\n",
       "\n",
       "        [[0.9196, 0.4849, 1.2628],\n",
       "         [1.1046, 0.6893, 1.6264]],\n",
       "\n",
       "        [[0.9355, 2.0841, 1.8561],\n",
       "         [0.5296, 1.4321, 1.2054]],\n",
       "\n",
       "        [[1.0077, 1.3104, 0.8044],\n",
       "         [0.7875, 0.7498, 0.6341]]])"
      ]
     },
     "execution_count": 85,
     "metadata": {},
     "output_type": "execute_result"
    }
   ],
   "source": [
    "torch.einsum('ijk,ikm->ijm', x1, x2)"
   ]
  },
  {
   "cell_type": "markdown",
   "id": "6dd8e8d0",
   "metadata": {},
   "source": [
    "## misc"
   ]
  },
  {
   "cell_type": "markdown",
   "id": "bf177916",
   "metadata": {},
   "source": [
    "### `ii->i`：diagonal"
   ]
  },
  {
   "cell_type": "markdown",
   "id": "cb457e99",
   "metadata": {},
   "source": [
    "- 00->0\n",
    "- 11->1\n",
    "- 22->2"
   ]
  },
  {
   "cell_type": "code",
   "execution_count": 77,
   "id": "b0c21a80",
   "metadata": {
    "ExecuteTime": {
     "end_time": "2023-07-26T12:52:02.033607Z",
     "start_time": "2023-07-26T12:52:02.018956Z"
    }
   },
   "outputs": [
    {
     "name": "stdout",
     "output_type": "stream",
     "text": [
      "tensor([[0.9130, 0.7010, 0.3624, 0.0075, 0.7149],\n",
      "        [0.4960, 0.6154, 0.0572, 0.8434, 0.3964],\n",
      "        [0.6265, 0.3699, 0.9302, 0.9087, 0.0313],\n",
      "        [0.2554, 0.0266, 0.8734, 0.6864, 0.1599],\n",
      "        [0.9826, 0.8840, 0.7618, 0.5117, 0.7465]])\n"
     ]
    },
    {
     "data": {
      "text/plain": [
       "tensor([0.9130, 0.6154, 0.9302, 0.6864, 0.7465])"
      ]
     },
     "execution_count": 77,
     "metadata": {},
     "output_type": "execute_result"
    }
   ],
   "source": [
    "x = torch.rand((5, 5))\n",
    "print(x)\n",
    "torch.einsum('ii->i', x)"
   ]
  },
  {
   "cell_type": "markdown",
   "id": "f7201f46",
   "metadata": {},
   "source": [
    "### `ii->`: trace"
   ]
  },
  {
   "cell_type": "code",
   "execution_count": 92,
   "id": "e6a67604",
   "metadata": {
    "ExecuteTime": {
     "end_time": "2023-07-26T13:03:48.563019Z",
     "start_time": "2023-07-26T13:03:48.548245Z"
    }
   },
   "outputs": [
    {
     "name": "stdout",
     "output_type": "stream",
     "text": [
      "tensor([[1, 3, 1],\n",
      "        [3, 2, 3],\n",
      "        [0, 0, 2]])\n"
     ]
    },
    {
     "data": {
      "text/plain": [
       "tensor(5)"
      ]
     },
     "execution_count": 92,
     "metadata": {},
     "output_type": "execute_result"
    }
   ],
   "source": [
    "x = torch.randint(0, 4, (3, 3))\n",
    "print(x)\n",
    "torch.einsum('ii->', x)"
   ]
  },
  {
   "cell_type": "markdown",
   "id": "d6ac1b8e",
   "metadata": {},
   "source": [
    "### `ijij->ij`"
   ]
  },
  {
   "cell_type": "markdown",
   "id": "4d5907f4",
   "metadata": {},
   "source": [
    "- 先 squeeze 再取对角"
   ]
  },
  {
   "cell_type": "code",
   "execution_count": 79,
   "id": "3e3dc3b9",
   "metadata": {
    "ExecuteTime": {
     "end_time": "2023-07-26T12:52:30.095061Z",
     "start_time": "2023-07-26T12:52:30.083007Z"
    }
   },
   "outputs": [
    {
     "data": {
      "text/plain": [
       "tensor([[[[ 0,  1,  2,  3,  4,  5]],\n",
       "\n",
       "         [[ 6,  7,  8,  9, 10, 11]],\n",
       "\n",
       "         [[12, 13, 14, 15, 16, 17]],\n",
       "\n",
       "         [[18, 19, 20, 21, 22, 23]],\n",
       "\n",
       "         [[24, 25, 26, 27, 28, 29]],\n",
       "\n",
       "         [[30, 31, 32, 33, 34, 35]]]])"
      ]
     },
     "execution_count": 79,
     "metadata": {},
     "output_type": "execute_result"
    }
   ],
   "source": [
    "X = torch.arange(36).reshape(1, 6, 1, 6)   \n",
    "X"
   ]
  },
  {
   "cell_type": "code",
   "execution_count": 81,
   "id": "38625e94",
   "metadata": {
    "ExecuteTime": {
     "end_time": "2023-07-26T12:52:45.012197Z",
     "start_time": "2023-07-26T12:52:45.000692Z"
    }
   },
   "outputs": [
    {
     "data": {
      "text/plain": [
       "tensor([[ 0,  7, 14, 21, 28, 35]])"
      ]
     },
     "execution_count": 81,
     "metadata": {},
     "output_type": "execute_result"
    }
   ],
   "source": [
    "torch.einsum('ijij->ij', X)"
   ]
  }
 ],
 "metadata": {
  "kernelspec": {
   "display_name": "Python 3 (ipykernel)",
   "language": "python",
   "name": "python3"
  },
  "language_info": {
   "codemirror_mode": {
    "name": "ipython",
    "version": 3
   },
   "file_extension": ".py",
   "mimetype": "text/x-python",
   "name": "python",
   "nbconvert_exporter": "python",
   "pygments_lexer": "ipython3",
   "version": "3.10.9"
  },
  "toc": {
   "base_numbering": 1,
   "nav_menu": {},
   "number_sections": true,
   "sideBar": true,
   "skip_h1_title": false,
   "title_cell": "Table of Contents",
   "title_sidebar": "Contents",
   "toc_cell": false,
   "toc_position": {
    "height": "calc(100% - 180px)",
    "left": "10px",
    "top": "150px",
    "width": "217px"
   },
   "toc_section_display": true,
   "toc_window_display": true
  }
 },
 "nbformat": 4,
 "nbformat_minor": 5
}
