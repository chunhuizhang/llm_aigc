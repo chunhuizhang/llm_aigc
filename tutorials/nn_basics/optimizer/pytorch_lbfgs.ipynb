{
 "cells": [
  {
   "cell_type": "code",
   "execution_count": 40,
   "id": "7fa91a65-8fe3-4018-ad93-d8429322fe9f",
   "metadata": {},
   "outputs": [],
   "source": [
    "import torch\n",
    "from torch import optim\n",
    "import matplotlib.pyplot as plt\n",
    "from IPython.display import Image"
   ]
  },
  {
   "cell_type": "code",
   "execution_count": 39,
   "id": "1f51fa59-340e-4c2c-bd25-d9b0a1f9ec78",
   "metadata": {},
   "outputs": [
    {
     "data": {
      "text/html": [
       "<img src=\"https://aria42.com/images/bfgs.png\" width=\"400\"/>"
      ],
      "text/plain": [
       "<IPython.core.display.Image object>"
      ]
     },
     "execution_count": 39,
     "metadata": {},
     "output_type": "execute_result"
    }
   ],
   "source": [
    "Image(url='https://aria42.com/images/bfgs.png', width=400)"
   ]
  },
  {
   "cell_type": "markdown",
   "id": "83a0a043-b392-4872-b7a4-fb685ae489b3",
   "metadata": {},
   "source": [
    "## basics"
   ]
  },
  {
   "cell_type": "markdown",
   "id": "082de9de-31e3-4df8-be8b-055ebc414648",
   "metadata": {},
   "source": [
    "- references\n",
    "    - https://aria42.com/blog/2014/12/understanding-lbfgs"
   ]
  },
  {
   "cell_type": "markdown",
   "id": "66368619-20fb-4667-98f3-a8112cfaced1",
   "metadata": {},
   "source": [
    "- L-BFGS（Limited-memory Broyden–Fletcher–Goldfarb–Shanno）：属于拟牛顿方法的一种，使用一阶导数信息构建目标函数的二阶近似，即使用梯度信息来近似Hessian矩阵（二阶导数矩阵）。这使得L-BFGS在非凸问题上比SGD表现更好，特别是在优化平滑或近似二次的目标函数时。\n",
    "- SGD：每次更新仅使用一个或少数几个样本计算的一阶导数（即梯度），而不构建目标函数的二阶近似。这意味着SGD可能需要更多的迭代次数来收敛，特别是在目标函数的形状复杂或非凸时。"
   ]
  },
  {
   "cell_type": "markdown",
   "id": "b8e0b229-6228-4323-9e05-f3596944c8af",
   "metadata": {},
   "source": [
    "## case：Rosenbrock function"
   ]
  },
  {
   "cell_type": "code",
   "execution_count": 35,
   "id": "8101eb70-61b2-4b65-b315-b1056f805f2c",
   "metadata": {},
   "outputs": [],
   "source": [
    "# 2d Rosenbrock function\n",
    "def f(x):\n",
    "    return (1 - x[0]) ** 2 + 100 * (x[1] - x[0] ** 2) ** 2"
   ]
  },
  {
   "cell_type": "markdown",
   "id": "1151eb98-bb70-4773-b86f-3934a9feb6a4",
   "metadata": {},
   "source": [
    "$$\n",
    "f(x,y)=(1-x)^2+100(y-x^2)^2\n",
    "$$"
   ]
  },
  {
   "cell_type": "code",
   "execution_count": 32,
   "id": "ad47b982-3cf3-44da-909f-22183c891ba9",
   "metadata": {},
   "outputs": [],
   "source": [
    "# Gradient descent\n",
    "x_gd = 10 * torch.ones(2, 1)\n",
    "# x_gd = torch.zeros(2, 1)\n",
    "x_gd.requires_grad = True\n",
    "gd = optim.SGD([x_gd], lr=1e-5)\n",
    "history_gd = []\n",
    "for i in range(100):\n",
    "    gd.zero_grad()\n",
    "    objective = f(x_gd)\n",
    "    objective.backward()\n",
    "    gd.step()\n",
    "    history_gd.append(objective.item())"
   ]
  },
  {
   "cell_type": "code",
   "execution_count": 27,
   "id": "3552c025-e726-43c3-aee3-43f675dfe1d7",
   "metadata": {},
   "outputs": [
    {
     "data": {
      "text/plain": [
       "tensor([[1.9980e-03],\n",
       "        [2.4998e-07]], requires_grad=True)"
      ]
     },
     "execution_count": 27,
     "metadata": {},
     "output_type": "execute_result"
    }
   ],
   "source": [
    "x_gd"
   ]
  },
  {
   "cell_type": "code",
   "execution_count": 31,
   "id": "00ce3bc2-cd93-4caa-8cb4-17a5d55fccbb",
   "metadata": {},
   "outputs": [],
   "source": [
    "# L-BFGS\n",
    "def closure():\n",
    "    lbfgs.zero_grad()\n",
    "    objective = f(x_lbfgs)\n",
    "    objective.backward()\n",
    "    return objective\n",
    "\n",
    "\n",
    "x_lbfgs = 10 * torch.ones(2, 1)\n",
    "# x_lbfgs = torch.zeros(2, 1)\n",
    "x_lbfgs.requires_grad = True\n",
    "\n",
    "lbfgs = optim.LBFGS([x_lbfgs],\n",
    "                    history_size=10,\n",
    "                    max_iter=4,\n",
    "                    line_search_fn=\"strong_wolfe\")\n",
    "\n",
    "history_lbfgs = []\n",
    "for i in range(100):\n",
    "    history_lbfgs.append(f(x_lbfgs).item())\n",
    "    lbfgs.step(closure)"
   ]
  },
  {
   "cell_type": "code",
   "execution_count": 29,
   "id": "5ac906e2-55b9-4187-8369-818867317f0d",
   "metadata": {},
   "outputs": [
    {
     "data": {
      "text/plain": [
       "tensor([[1.0000],\n",
       "        [1.0000]], requires_grad=True)"
      ]
     },
     "execution_count": 29,
     "metadata": {},
     "output_type": "execute_result"
    }
   ],
   "source": [
    "x_lbfgs"
   ]
  },
  {
   "cell_type": "code",
   "execution_count": 33,
   "id": "5de49bfd-e2de-4a17-99d5-f8d21bae8a6a",
   "metadata": {},
   "outputs": [
    {
     "data": {
      "image/png": "[encoded data removed]",
      "text/plain": [
       "<Figure size 640x480 with 1 Axes>"
      ]
     },
     "metadata": {},
     "output_type": "display_data"
    }
   ],
   "source": [
    "# Plotting\n",
    "plt.semilogy(history_gd, label='GD')\n",
    "plt.semilogy(history_lbfgs, label='L-BFGS')\n",
    "plt.legend()\n",
    "plt.show()"
   ]
  }
 ],
 "metadata": {
  "kernelspec": {
   "display_name": "Python 3 (ipykernel)",
   "language": "python",
   "name": "python3"
  },
  "language_info": {
   "codemirror_mode": {
    "name": "ipython",
    "version": 3
   },
   "file_extension": ".py",
   "mimetype": "text/x-python",
   "name": "python",
   "nbconvert_exporter": "python",
   "pygments_lexer": "ipython3",
   "version": "3.10.13"
  }
 },
 "nbformat": 4,
 "nbformat_minor": 5
}
