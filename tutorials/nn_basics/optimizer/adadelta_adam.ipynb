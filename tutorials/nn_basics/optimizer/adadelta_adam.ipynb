{
 "cells": [
  {
   "cell_type": "code",
   "execution_count": 1,
   "id": "05ba7105",
   "metadata": {
    "ExecuteTime": {
     "end_time": "2023-08-06T15:11:43.660574Z",
     "start_time": "2023-08-06T15:11:42.404248Z"
    }
   },
   "outputs": [],
   "source": [
    "import numpy as np\n",
    "import torch"
   ]
  },
  {
   "cell_type": "code",
   "execution_count": 5,
   "id": "b32c65e4",
   "metadata": {
    "ExecuteTime": {
     "end_time": "2023-08-06T15:14:06.419525Z",
     "start_time": "2023-08-06T15:14:06.392901Z"
    }
   },
   "outputs": [
    {
     "data": {
      "text/plain": [
       "(1503, 6)"
      ]
     },
     "execution_count": 5,
     "metadata": {},
     "output_type": "execute_result"
    }
   ],
   "source": [
    "# data\n",
    "# http://d2l-data.s3-accelerate.amazonaws.com/airfoil_self_noise.dat\n",
    "data = np.genfromtxt('./airfoil_self_noise.dat', dtype=np.float32, delimiter='\\t')\n",
    "data.shape"
   ]
  },
  {
   "cell_type": "code",
   "execution_count": 6,
   "id": "5c92ff96",
   "metadata": {
    "ExecuteTime": {
     "end_time": "2023-08-06T15:14:28.242677Z",
     "start_time": "2023-08-06T15:14:28.225772Z"
    }
   },
   "outputs": [],
   "source": [
    "data = torch.from_numpy((data - data.mean(axis=0)) / data.std(axis=0))"
   ]
  },
  {
   "cell_type": "code",
   "execution_count": 12,
   "id": "5f75e73f",
   "metadata": {
    "ExecuteTime": {
     "end_time": "2023-08-06T15:19:30.210556Z",
     "start_time": "2023-08-06T15:19:30.202015Z"
    }
   },
   "outputs": [],
   "source": [
    "batch_size = 10\n",
    "n_features = data.shape[1]-1\n",
    "dataset = torch.utils.data.TensorDataset(data[:1500, :-1], data[:1500, -1])\n",
    "data_loader = torch.utils.data.DataLoader(dataset, batch_size, shuffle=True)"
   ]
  },
  {
   "cell_type": "markdown",
   "id": "606d05a9",
   "metadata": {},
   "source": [
    "## adadelta"
   ]
  },
  {
   "cell_type": "code",
   "execution_count": 15,
   "id": "f7190045",
   "metadata": {
    "ExecuteTime": {
     "end_time": "2023-08-06T15:24:12.300268Z",
     "start_time": "2023-08-06T15:24:12.259890Z"
    }
   },
   "outputs": [
    {
     "data": {
      "text/plain": [
       "tensor(4)"
      ]
     },
     "execution_count": 15,
     "metadata": {},
     "output_type": "execute_result"
    }
   ],
   "source": [
    "torch.square(torch.tensor(2))"
   ]
  },
  {
   "cell_type": "code",
   "execution_count": 13,
   "id": "5dba043f",
   "metadata": {
    "ExecuteTime": {
     "end_time": "2023-08-06T15:22:23.498139Z",
     "start_time": "2023-08-06T15:22:23.489911Z"
    }
   },
   "outputs": [],
   "source": [
    "def init_adadelta_states(n_features):\n",
    "    s_w, s_b = torch.zeros((n_features, 1)), torch.zeros(1)\n",
    "    delta_w, delta_b = torch.zeros((delta_w, 1)), torch.zeros(1)\n",
    "    return (s_w, s_b), (delta_w, delta_b)"
   ]
  },
  {
   "cell_type": "code",
   "execution_count": 16,
   "id": "5bae7485",
   "metadata": {
    "ExecuteTime": {
     "end_time": "2023-08-06T15:25:00.942544Z",
     "start_time": "2023-08-06T15:25:00.931307Z"
    }
   },
   "outputs": [],
   "source": [
    "def adadelta_step(params, states, hyperparams):\n",
    "    rho, eps = hyperparams['rho'], 1e-6\n",
    "    for p, (s, delta) in zip(params, states):\n",
    "        with torch.no_grad():\n",
    "            s[:] = rho * s + (1-rho)*torch.square(p.grad)\n",
    "            g = (torch.sqrt(delta + eps) / torch.sqrt(s + eps)) * p.grad\n",
    "            p[:] -= g\n",
    "            delta[:] = rho * delta + (1 - rho) * g * g\n",
    "        p.grad.data.zero_()"
   ]
  },
  {
   "cell_type": "code",
   "execution_count": 17,
   "id": "3cd7b543",
   "metadata": {
    "ExecuteTime": {
     "end_time": "2023-08-06T15:31:36.882658Z",
     "start_time": "2023-08-06T15:31:36.872988Z"
    }
   },
   "outputs": [],
   "source": [
    "def train(step_fn, states, hyperparams, data_loader, n_features, num_epochs=5):\n",
    "    w = torch.normal(mean=0.0, std=0.01, size=(feature_dim, 1),\n",
    "                     requires_grad=True)\n",
    "    b = torch.zeros((1), requires_grad=True)\n",
    "    model = lambda X: torch.matmul(X, w) + b, \n",
    "    loss_fn = lambda y, y_hat: 1/2 * (y_hat - y) ** 2 \n",
    "    "
   ]
  },
  {
   "cell_type": "markdown",
   "id": "282abcc4",
   "metadata": {},
   "source": [
    "## Adam"
   ]
  },
  {
   "cell_type": "markdown",
   "id": "89a0e7d0",
   "metadata": {},
   "source": [
    "$$\n",
    "\\begin{split}\n",
    "&m_0=0,v_0=0\\\\\n",
    "&m_t=\\beta_1m_{t-1}+(1-\\beta_1)g_t\\\\\n",
    "&v_t=\\beta_2v_{t-1}+(1-\\beta_2)g_t^2\\\\\n",
    "&\\hat {m}_t=\\frac{m_t}{1-\\beta_1^t}\\\\\n",
    "&\\hat {v}_t=\\frac{v_t}{1-\\beta_2^t}\\\\\n",
    "&\\theta_{t+1}=\\theta_t-\\frac{\\alpha \\hat{m}_t}{\\sqrt{\\hat{v}_t}+\\epsilon}\n",
    "\\end{split}\n",
    "$$\n",
    "\n",
    "- 关于 $m_t$ 的计算，可以称之为 EMA（exponential moving average）\n",
    "    - $m_t$ 是**过去所有梯度**的加权平均\n",
    "    - $m_t=(1-\\beta_1)g_t+\\beta_1(1-\\beta_1)g_{t-1}+\\beta_1^2(1-\\beta_1)g_{t-2}+\\cdots+\\beta_1^{t-1}(1-\\beta_1)g_1$\n",
    "    - $(1-\\beta_1)\\gt \\beta_1(1-\\beta_1)\\gt \\beta_1^2(1-\\beta_1)\\gt\\cdots\\gt \\beta_1^{t-1}(1-\\beta_1)$\n",
    "- $\\hat{m}_t$ is the bias-corrected first moment (mean) estimate of the gradients.\n",
    "- $\\hat{v}_t$ is the bias-corrected second moment (uncentered variance) estimate of the gradients."
   ]
  },
  {
   "cell_type": "markdown",
   "id": "cc94a779",
   "metadata": {},
   "source": [
    "- Adam tweaks the gradient descent method by considering the moving average of the first and second-order moments of the gradient."
   ]
  }
 ],
 "metadata": {
  "kernelspec": {
   "display_name": "Python 3 (ipykernel)",
   "language": "python",
   "name": "python3"
  },
  "language_info": {
   "codemirror_mode": {
    "name": "ipython",
    "version": 3
   },
   "file_extension": ".py",
   "mimetype": "text/x-python",
   "name": "python",
   "nbconvert_exporter": "python",
   "pygments_lexer": "ipython3",
   "version": "3.9.13"
  },
  "toc": {
   "base_numbering": 1,
   "nav_menu": {},
   "number_sections": true,
   "sideBar": true,
   "skip_h1_title": false,
   "title_cell": "Table of Contents",
   "title_sidebar": "Contents",
   "toc_cell": false,
   "toc_position": {},
   "toc_section_display": true,
   "toc_window_display": false
  }
 },
 "nbformat": 4,
 "nbformat_minor": 5
}
