{
 "cells": [
  {
   "cell_type": "code",
   "execution_count": 1,
   "id": "05ba7105",
   "metadata": {
    "ExecuteTime": {
     "end_time": "2024-02-25T02:12:59.271067Z",
     "start_time": "2024-02-25T02:12:57.502163Z"
    }
   },
   "outputs": [],
   "source": [
    "import numpy as np\n",
    "import torch\n",
    "from IPython.display import Image"
   ]
  },
  {
   "cell_type": "code",
   "execution_count": 5,
   "id": "b32c65e4",
   "metadata": {
    "ExecuteTime": {
     "end_time": "2023-08-06T15:14:06.419525Z",
     "start_time": "2023-08-06T15:14:06.392901Z"
    }
   },
   "outputs": [
    {
     "data": {
      "text/plain": [
       "(1503, 6)"
      ]
     },
     "execution_count": 5,
     "metadata": {},
     "output_type": "execute_result"
    }
   ],
   "source": [
    "# data\n",
    "# http://d2l-data.s3-accelerate.amazonaws.com/airfoil_self_noise.dat\n",
    "data = np.genfromtxt('./airfoil_self_noise.dat', dtype=np.float32, delimiter='\\t')\n",
    "data.shape"
   ]
  },
  {
   "cell_type": "code",
   "execution_count": 6,
   "id": "5c92ff96",
   "metadata": {
    "ExecuteTime": {
     "end_time": "2023-08-06T15:14:28.242677Z",
     "start_time": "2023-08-06T15:14:28.225772Z"
    }
   },
   "outputs": [],
   "source": [
    "data = torch.from_numpy((data - data.mean(axis=0)) / data.std(axis=0))"
   ]
  },
  {
   "cell_type": "code",
   "execution_count": 12,
   "id": "5f75e73f",
   "metadata": {
    "ExecuteTime": {
     "end_time": "2023-08-06T15:19:30.210556Z",
     "start_time": "2023-08-06T15:19:30.202015Z"
    }
   },
   "outputs": [],
   "source": [
    "batch_size = 10\n",
    "n_features = data.shape[1]-1\n",
    "dataset = torch.utils.data.TensorDataset(data[:1500, :-1], data[:1500, -1])\n",
    "data_loader = torch.utils.data.DataLoader(dataset, batch_size, shuffle=True)"
   ]
  },
  {
   "cell_type": "markdown",
   "id": "606d05a9",
   "metadata": {},
   "source": [
    "## adadelta"
   ]
  },
  {
   "cell_type": "code",
   "execution_count": 15,
   "id": "f7190045",
   "metadata": {
    "ExecuteTime": {
     "end_time": "2023-08-06T15:24:12.300268Z",
     "start_time": "2023-08-06T15:24:12.259890Z"
    }
   },
   "outputs": [
    {
     "data": {
      "text/plain": [
       "tensor(4)"
      ]
     },
     "execution_count": 15,
     "metadata": {},
     "output_type": "execute_result"
    }
   ],
   "source": [
    "torch.square(torch.tensor(2))"
   ]
  },
  {
   "cell_type": "code",
   "execution_count": 13,
   "id": "5dba043f",
   "metadata": {
    "ExecuteTime": {
     "end_time": "2023-08-06T15:22:23.498139Z",
     "start_time": "2023-08-06T15:22:23.489911Z"
    }
   },
   "outputs": [],
   "source": [
    "def init_adadelta_states(n_features):\n",
    "    s_w, s_b = torch.zeros((n_features, 1)), torch.zeros(1)\n",
    "    delta_w, delta_b = torch.zeros((delta_w, 1)), torch.zeros(1)\n",
    "    return (s_w, s_b), (delta_w, delta_b)"
   ]
  },
  {
   "cell_type": "code",
   "execution_count": 16,
   "id": "5bae7485",
   "metadata": {
    "ExecuteTime": {
     "end_time": "2023-08-06T15:25:00.942544Z",
     "start_time": "2023-08-06T15:25:00.931307Z"
    }
   },
   "outputs": [],
   "source": [
    "def adadelta_step(params, states, hyperparams):\n",
    "    rho, eps = hyperparams['rho'], 1e-6\n",
    "    for p, (s, delta) in zip(params, states):\n",
    "        with torch.no_grad():\n",
    "            s[:] = rho * s + (1-rho)*torch.square(p.grad)\n",
    "            g = (torch.sqrt(delta + eps) / torch.sqrt(s + eps)) * p.grad\n",
    "            p[:] -= g\n",
    "            delta[:] = rho * delta + (1 - rho) * g * g\n",
    "        p.grad.data.zero_()"
   ]
  },
  {
   "cell_type": "code",
   "execution_count": 17,
   "id": "3cd7b543",
   "metadata": {
    "ExecuteTime": {
     "end_time": "2023-08-06T15:31:36.882658Z",
     "start_time": "2023-08-06T15:31:36.872988Z"
    }
   },
   "outputs": [],
   "source": [
    "def train(step_fn, states, hyperparams, data_loader, n_features, num_epochs=5):\n",
    "    w = torch.normal(mean=0.0, std=0.01, size=(feature_dim, 1),\n",
    "                     requires_grad=True)\n",
    "    b = torch.zeros((1), requires_grad=True)\n",
    "    model = lambda X: torch.matmul(X, w) + b, \n",
    "    loss_fn = lambda y, y_hat: 1/2 * (y_hat - y) ** 2 \n",
    "    "
   ]
  },
  {
   "cell_type": "markdown",
   "id": "692a8a81",
   "metadata": {},
   "source": [
    "## Adam: Adaptive Moment Estimation"
   ]
  },
  {
   "cell_type": "markdown",
   "id": "e29a601d",
   "metadata": {},
   "source": [
    "$$\n",
    "\\begin{split}\n",
    "&m_0=0,v_0=0\\\\\n",
    "&m_t=\\beta_1m_{t-1}+(1-\\beta_1)g_t\\\\\n",
    "&v_t=\\beta_2v_{t-1}+(1-\\beta_2)g_t^2\\\\\n",
    "&\\hat {m}_t=\\frac{m_t}{1-\\beta_1^t}\\\\\n",
    "&\\hat {v}_t=\\frac{v_t}{1-\\beta_2^t}\\\\\n",
    "&\\theta_{t+1}=\\theta_t-\\frac{\\eta \\hat{m}_t}{\\sqrt{\\hat{v}_t}+\\epsilon}\n",
    "\\end{split}\n",
    "$$\n",
    "\n",
    "- 自适应（adaptive）体现在每个参数（parameter）的学习率\n",
    "    - $m_t$ <= Momentum\n",
    "    - $v_t$ <= RMSprop\n",
    "- 关于 $m_t, v_t$ 的计算，可以称之为 EMA（exponential moving average）\n",
    "    - $m_t$ 是**过去所有梯度**的加权平均\n",
    "    - $m_t=\\beta_1^0(1-\\beta_1)g_t+\\beta_1^1(1-\\beta_1)g_{t-1}+\\beta_1^2(1-\\beta_1)g_{t-2}+\\cdots+\\beta_1^{t-1}(1-\\beta_1)g_1$\n",
    "    - $(1-\\beta_1)\\gt \\beta_1(1-\\beta_1)\\gt \\beta_1^2(1-\\beta_1)\\gt\\cdots\\gt \\beta_1^{t-1}(1-\\beta_1)$\n",
    "    - 越近（$t$ 越大）的梯度，对 update 的贡献更大；\n",
    "    - 分析下各个时刻 $g_t$ 前的系数 $\\beta^{t-1}(1-\\beta)$\n",
    "    \n",
    "    $$\n",
    "    \\begin{split}\n",
    "    &=\\beta^0(1-\\beta)+\\beta^1(1-\\beta)+\\beta^2(1-\\beta)+\\cdots+\\beta^{t-1}(1-\\beta)\\\\\n",
    "    &=(1-\\beta)(\\beta^0+\\beta^1+\\cdots+\\beta^{t-1})\\\\\n",
    "    &\\approx(1-\\beta)\\frac{1}{1-\\beta}\\approx1\n",
    "    \\end{split}\n",
    "    $$\n",
    "    \n",
    "- $\\hat{m}_t$ is the bias-corrected（偏差校正） first moment (mean) estimate of the gradients.\n",
    "    - $m_0=0$ => $m_t$ 在初始阶段被低估，$1/(1-\\beta_1^t)$ 初始会进行比较大的更新，但随着 $t$ 的变大，分母越开越趋近于1\n",
    "- $\\hat{v}_t$ is the bias-corrected second moment (uncentered variance) estimate of the gradients.\n",
    "- optimizer states 的角度\n",
    "    - $m_t, v_t$ 都与 $g_t$ 与模型的参数量相同；$m_t,v_t$ 称之为 optimizer states\n",
    "    - 模型的参数量为 $N$，$m, v$ 的大小分别也为 $N$；\n",
    "    - deepseed ZeRO stage\n",
    "- Adam tweaks the gradient descent method by considering the moving average of the first and second-order moments of the gradient."
   ]
  },
  {
   "cell_type": "code",
   "execution_count": 5,
   "id": "79122472",
   "metadata": {
    "ExecuteTime": {
     "end_time": "2024-02-25T09:15:57.585568Z",
     "start_time": "2024-02-25T09:15:57.385211Z"
    }
   },
   "outputs": [
    {
     "data": {
      "text/plain": [
       "[<matplotlib.lines.Line2D at 0x7fa28ed193c0>]"
      ]
     },
     "execution_count": 5,
     "metadata": {},
     "output_type": "execute_result"
    },
    {
     "data": {
      "image/png": "[encoded data removed]",
      "text/plain": [
       "<Figure size 640x480 with 1 Axes>"
      ]
     },
     "metadata": {},
     "output_type": "display_data"
    }
   ],
   "source": [
    "import numpy as np\n",
    "import matplotlib.pyplot as plt\n",
    "\n",
    "beta = 0.99\n",
    "ts = np.arange(1000)\n",
    "ys = [beta**t *(1-beta) for t in ts]\n",
    "plt.plot(ts, ys)"
   ]
  },
  {
   "cell_type": "code",
   "execution_count": 7,
   "id": "63fecf35",
   "metadata": {
    "ExecuteTime": {
     "end_time": "2024-02-25T11:46:57.605780Z",
     "start_time": "2024-02-25T11:46:57.411943Z"
    }
   },
   "outputs": [
    {
     "name": "stderr",
     "output_type": "stream",
     "text": [
      "/tmp/ipykernel_7860/1548271231.py:6: RuntimeWarning: divide by zero encountered in scalar divide\n",
      "  ys = [1./(1-beta**t) for t in ts]\n"
     ]
    },
    {
     "data": {
      "text/plain": [
       "[<matplotlib.lines.Line2D at 0x7fa28ed6ec80>]"
      ]
     },
     "execution_count": 7,
     "metadata": {},
     "output_type": "execute_result"
    },
    {
     "data": {
      "image/png": "[encoded data removed]",
      "text/plain": [
       "<Figure size 640x480 with 1 Axes>"
      ]
     },
     "metadata": {},
     "output_type": "display_data"
    }
   ],
   "source": [
    "import numpy as np\n",
    "import matplotlib.pyplot as plt\n",
    "\n",
    "beta = 0.99\n",
    "ts = np.arange(100)\n",
    "ys = [1./(1-beta**t) for t in ts]\n",
    "plt.plot(ts, ys)"
   ]
  },
  {
   "cell_type": "code",
   "execution_count": 4,
   "id": "7b4e2dbf",
   "metadata": {
    "ExecuteTime": {
     "end_time": "2024-02-25T02:13:27.192494Z",
     "start_time": "2024-02-25T02:13:27.180061Z"
    },
    "scrolled": true
   },
   "outputs": [
    {
     "data": {
      "text/html": [
       "<img src=\"https://artemoppermann.com/wp-content/uploads/2021/08/image-56.png\" width=\"400\"/>"
      ],
      "text/plain": [
       "<IPython.core.display.Image object>"
      ]
     },
     "execution_count": 4,
     "metadata": {},
     "output_type": "execute_result"
    }
   ],
   "source": [
    "Image(url='https://artemoppermann.com/wp-content/uploads/2021/08/image-56.png', width=400)"
   ]
  },
  {
   "cell_type": "code",
   "execution_count": 28,
   "id": "8e7797f7",
   "metadata": {
    "ExecuteTime": {
     "end_time": "2024-02-25T02:48:08.313638Z",
     "start_time": "2024-02-25T02:48:08.304007Z"
    },
    "scrolled": true
   },
   "outputs": [
    {
     "data": {
      "text/html": [
       "<img src=\"https://www.microsoft.com/en-us/research/uploads/prod/2020/02/DeepSpeed-Image-1.png\" width=\"700\"/>"
      ],
      "text/plain": [
       "<IPython.core.display.Image object>"
      ]
     },
     "execution_count": 28,
     "metadata": {},
     "output_type": "execute_result"
    }
   ],
   "source": [
    "Image(url='https://www.microsoft.com/en-us/research/uploads/prod/2020/02/DeepSpeed-Image-1.png', width=700)"
   ]
  },
  {
   "cell_type": "markdown",
   "id": "2589c4ba",
   "metadata": {},
   "source": [
    "## Adam => AdamW"
   ]
  },
  {
   "cell_type": "markdown",
   "id": "8e5b6efe",
   "metadata": {},
   "source": [
    "- https://pytorch.org/docs/stable/generated/torch.optim.Adam.html#torch.optim.Adam\n",
    "- https://pytorch.org/docs/stable/generated/torch.optim.AdamW.html"
   ]
  }
 ],
 "metadata": {
  "kernelspec": {
   "display_name": "Python 3 (ipykernel)",
   "language": "python",
   "name": "python3"
  },
  "language_info": {
   "codemirror_mode": {
    "name": "ipython",
    "version": 3
   },
   "file_extension": ".py",
   "mimetype": "text/x-python",
   "name": "python",
   "nbconvert_exporter": "python",
   "pygments_lexer": "ipython3",
   "version": "3.10.13"
  },
  "toc": {
   "base_numbering": 1,
   "nav_menu": {},
   "number_sections": true,
   "sideBar": true,
   "skip_h1_title": false,
   "title_cell": "Table of Contents",
   "title_sidebar": "Contents",
   "toc_cell": false,
   "toc_position": {},
   "toc_section_display": true,
   "toc_window_display": false
  }
 },
 "nbformat": 4,
 "nbformat_minor": 5
}
