{
 "cells": [
  {
   "cell_type": "markdown",
   "id": "0d7c91e2-29df-4851-87f3-aab195a3dddd",
   "metadata": {},
   "source": [
    "### composer 与 checkpoint"
   ]
  },
  {
   "cell_type": "markdown",
   "id": "39eb9d8e-2faa-41a2-bb8e-4d432068042c",
   "metadata": {},
   "source": [
    "- 适合一个项目的 startup，以搭建起相对完善的模块及框架；\n",
    "    - composer 直接跨文件编写似乎上下文是整个 codebase；\n",
    "- composer\n",
    "    - normal vs. agent\n",
    "        - agent: agent composers can use tools\n",
    "    - 可以新建新的 composer\n",
    "    - composer history"
   ]
  },
  {
   "cell_type": "markdown",
   "id": "f2f072a8-3d5e-4e16-b06d-85e2d10d2062",
   "metadata": {},
   "source": [
    "### new features"
   ]
  },
  {
   "cell_type": "markdown",
   "id": "1fb73684-d3f8-470f-a552-143af574abcb",
   "metadata": {},
   "source": [
    "- `Generate Commit Message`\n",
    "    - 在 Source Control tab"
   ]
  }
 ],
 "metadata": {
  "kernelspec": {
   "display_name": "Python 3 (ipykernel)",
   "language": "python",
   "name": "python3"
  },
  "language_info": {
   "codemirror_mode": {
    "name": "ipython",
    "version": 3
   },
   "file_extension": ".py",
   "mimetype": "text/x-python",
   "name": "python",
   "nbconvert_exporter": "python",
   "pygments_lexer": "ipython3",
   "version": "3.10.13"
  }
 },
 "nbformat": 4,
 "nbformat_minor": 5
}
