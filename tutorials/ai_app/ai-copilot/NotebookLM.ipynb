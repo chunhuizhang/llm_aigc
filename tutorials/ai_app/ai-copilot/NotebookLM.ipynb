{
 "cells": [
  {
   "cell_type": "markdown",
   "id": "b04f24e0-4e4f-40e6-9f60-c92e393126a6",
   "metadata": {},
   "source": [
    "- conversional learning：对话式文档学习\n",
    "- 基于 Gemini 2.0\n",
    "- 14 天免费试用\n",
    "- 局限与不足\n",
    "    - pdf 转换为text时，还是丢了很多格式化信息\n",
    "        - 比如 latex formula；"
   ]
  }
 ],
 "metadata": {
  "kernelspec": {
   "display_name": "Python 3 (ipykernel)",
   "language": "python",
   "name": "python3"
  },
  "language_info": {
   "codemirror_mode": {
    "name": "ipython",
    "version": 3
   },
   "file_extension": ".py",
   "mimetype": "text/x-python",
   "name": "python",
   "nbconvert_exporter": "python",
   "pygments_lexer": "ipython3",
   "version": "3.10.13"
  }
 },
 "nbformat": 4,
 "nbformat_minor": 5
}
