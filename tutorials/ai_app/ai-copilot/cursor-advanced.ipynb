{
 "cells": [
  {
   "cell_type": "markdown",
   "id": "2202d527-d369-4186-aee8-cb56799e3be4",
   "metadata": {},
   "source": [
    "### `.cursorrules`"
   ]
  },
  {
   "cell_type": "markdown",
   "id": "aced2015-7dab-494c-93da-b21f0b1eff2e",
   "metadata": {},
   "source": [
    "- https://cursor.directory/\n",
    "    - https://cursor.directory/fastapi-python-microservices-serverless-cursor-rules\n",
    "    - https://cursor.directory/learn\n",
    "\n",
    "```\n",
    "Copy and add a .cursorrules file in the root of your project.\n",
    "\n",
    "The instructions in the .cursorrules file will be included for features such as Cursor Chat and Ctrl/⌘ K.\n",
    "\n",
    "The more specific your rules for your project, the better.\n",
    "\n",
    "Feel free to create your own directory using our template on GitHub.\n",
    "```"
   ]
  }
 ],
 "metadata": {
  "kernelspec": {
   "display_name": "Python 3 (ipykernel)",
   "language": "python",
   "name": "python3"
  },
  "language_info": {
   "codemirror_mode": {
    "name": "ipython",
    "version": 3
   },
   "file_extension": ".py",
   "mimetype": "text/x-python",
   "name": "python",
   "nbconvert_exporter": "python",
   "pygments_lexer": "ipython3",
   "version": "3.10.13"
  }
 },
 "nbformat": 4,
 "nbformat_minor": 5
}
