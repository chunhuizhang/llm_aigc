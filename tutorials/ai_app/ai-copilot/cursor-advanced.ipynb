{
 "cells": [
  {
   "cell_type": "markdown",
   "id": "2202d527-d369-4186-aee8-cb56799e3be4",
   "metadata": {},
   "source": [
    "### `.cursorrules`"
   ]
  },
  {
   "cell_type": "markdown",
   "id": "aced2015-7dab-494c-93da-b21f0b1eff2e",
   "metadata": {},
   "source": [
    "- https://cursor.directory/\n",
    "    - https://cursor.directory/fastapi-python-microservices-serverless-cursor-rules\n",
    "    - https://cursor.directory/learn\n",
    "\n",
    "```\n",
    "Copy and add a .cursorrules file in the root of your project.\n",
    "\n",
    "The instructions in the .cursorrules file will be included for features such as Cursor Chat and Ctrl/⌘ K.\n",
    "\n",
    "The more specific your rules for your project, the better.\n",
    "\n",
    "Feel free to create your own directory using our template on GitHub.\n",
    "```"
   ]
  },
  {
   "cell_type": "markdown",
   "id": "8c46fa26-c6ba-4298-b2c2-ae25d32ec85a",
   "metadata": {},
   "source": [
    "### MCP (model context protocol)"
   ]
  },
  {
   "cell_type": "markdown",
   "id": "78439003-97fa-4fef-98ba-f6be5e00feaf",
   "metadata": {},
   "source": [
    "> 一种特别的，又 general 的 function calling\n",
    "- 实现 agent（computer use）的基础；\n",
    "    - 学习 mcp，除了更加的自动化外，也是一个再次接触前端的机会；\n",
    "- 经典基础 mcp: 配置好之后各自都会提供一组 available tools\n",
    "    - fetch：网页爬取；\n",
    "        - https://github.com/modelcontextprotocol/servers/tree/main/src/fetch\n",
    "    - filesystem：文件读写；\n",
    "        - https://github.com/modelcontextprotocol/servers/tree/main/src/filesystem"
   ]
  }
 ],
 "metadata": {
  "kernelspec": {
   "display_name": "Python 3 (ipykernel)",
   "language": "python",
   "name": "python3"
  },
  "language_info": {
   "codemirror_mode": {
    "name": "ipython",
    "version": 3
   },
   "file_extension": ".py",
   "mimetype": "text/x-python",
   "name": "python",
   "nbconvert_exporter": "python",
   "pygments_lexer": "ipython3",
   "version": "3.10.13"
  }
 },
 "nbformat": 4,
 "nbformat_minor": 5
}
