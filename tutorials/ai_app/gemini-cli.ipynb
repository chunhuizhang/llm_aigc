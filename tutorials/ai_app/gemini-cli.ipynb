{
 "cells": [
  {
   "cell_type": "markdown",
   "id": "56b0a4df-78cf-4cf1-bc8b-70bd933cbb36",
   "metadata": {},
   "source": [
    "> Agent in the terminal ~\n",
    "\n",
    "- `~/.gemini`\n",
    "    - `settings.json`：全局配置文件\n",
    "    - mcpServers 在这里配置\n",
    "- gemini-cli prompts 设计\n",
    "    - https://github.com/google-gemini/gemini-cli/blob/main/packages/core/src/core/prompts.ts"
   ]
  },
  {
   "cell_type": "markdown",
   "id": "6650406d-5a95-4adc-b548-3b845cc2eb40",
   "metadata": {},
   "source": [
    "- tasks\n",
    "    - `> 请翻译  <url> 的内容为中文，并保存为 Markdown 文件`"
   ]
  }
 ],
 "metadata": {
  "kernelspec": {
   "display_name": "Python 3 (ipykernel)",
   "language": "python",
   "name": "python3"
  },
  "language_info": {
   "codemirror_mode": {
    "name": "ipython",
    "version": 3
   },
   "file_extension": ".py",
   "mimetype": "text/x-python",
   "name": "python",
   "nbconvert_exporter": "python",
   "pygments_lexer": "ipython3",
   "version": "3.10.0"
  }
 },
 "nbformat": 4,
 "nbformat_minor": 5
}
