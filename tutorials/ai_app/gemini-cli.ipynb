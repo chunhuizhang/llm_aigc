{
 "cells": [
  {
   "cell_type": "markdown",
   "id": "56b0a4df-78cf-4cf1-bc8b-70bd933cbb36",
   "metadata": {},
   "source": [
    "> Agent in the terminal ~\n",
    "\n",
    "- `~/.gemini`\n",
    "    - `settings.json`：全局配置文件\n",
    "    - mcpServers 在这里配置\n",
    "- `.env`\n",
    "    - `GEMINI_API_KEY`\n",
    "    - `GEMINI_MODEL`\n",
    "- gemini-cli prompts 设计\n",
    "    - https://github.com/google-gemini/gemini-cli/blob/main/packages/core/src/core/prompts.ts"
   ]
  },
  {
   "cell_type": "markdown",
   "id": "6650406d-5a95-4adc-b548-3b845cc2eb40",
   "metadata": {},
   "source": [
    "- tasks\n",
    "    - `> 请翻译  <url> 的内容为中文，并保存为 Markdown 文件`"
   ]
  },
  {
   "cell_type": "markdown",
   "id": "c0d18eac-f4f5-45fc-8af8-4d780f6f5943",
   "metadata": {},
   "source": [
    "- `/tools`：自动配置\n",
    "    - Available Gemini CLI tools:\n",
    "        - shell\n",
    "        - google search\n",
    "- `/mcp`：手动配置"
   ]
  },
  {
   "cell_type": "markdown",
   "id": "e4946504-7142-43af-bdbf-b1f3bfb1a83c",
   "metadata": {},
   "source": [
    "- 命令行参数\n",
    "    - `--model`\n",
    "    - `--prompt`：直接回答问题，启用非交互模式\n",
    "    - `--sandbox`\n",
    "    - `--all_files`：递归包含当前目录中的所有文件作为上下文\n",
    "    - `--yolo`：you only live once，自动 approve 所有工具调用"
   ]
  }
 ],
 "metadata": {
  "kernelspec": {
   "display_name": "Python 3 (ipykernel)",
   "language": "python",
   "name": "python3"
  },
  "language_info": {
   "codemirror_mode": {
    "name": "ipython",
    "version": 3
   },
   "file_extension": ".py",
   "mimetype": "text/x-python",
   "name": "python",
   "nbconvert_exporter": "python",
   "pygments_lexer": "ipython3",
   "version": "3.10.0"
  }
 },
 "nbformat": 4,
 "nbformat_minor": 5
}
