{
 "cells": [
  {
   "cell_type": "markdown",
   "id": "9941f037-a7fa-4047-a1b9-ca0fce554549",
   "metadata": {},
   "source": [
    "- github:\n",
    "    - https://github.com/Huanshere/VideoLingo\n",
    "- 官方文档：\n",
    "    - https://videolingo.io/docs/introduction\n",
    "- https://colab.research.google.com/github/Huanshere/VideoLingo/blob/main/VideoLingo_colab.ipynb\n",
    "- requirements\n",
    "    - WhisperX（本地 whisper）"
   ]
  },
  {
   "cell_type": "markdown",
   "id": "4908ee50-6afc-4640-8de7-672144c87421",
   "metadata": {},
   "source": [
    "- install\n",
    "    ```\n",
    "    git clone https://github.com/Huanshere/VideoLingo.git\n",
    "    cd VideoLingo\n",
    "    \n",
    "    conda create -n video python=3.12\n",
    "    conda activate video\n",
    "    \n",
    "    # 注意这里的安装是交互式，可能需要一些手动输入的参与（或者获取 sudo 权限）\n",
    "    python install 1\n",
    "    \n",
    "    streamlit run st.py\n",
    "    ```\n",
    "- docker\n",
    "\n",
    "```\n",
    "docker pull rqlove/videolingo:latest\n",
    "docker run -d -p 8501:8501 --gpus all rqlove/videolingo:latest\n",
    "```"
   ]
  },
  {
   "cell_type": "markdown",
   "id": "0edd3ac9-fe21-4729-8c5a-f68186c6673a",
   "metadata": {},
   "source": [
    "### UVR"
   ]
  },
  {
   "cell_type": "markdown",
   "id": "63be466f-c467-4572-a182-e27eaa7441a7",
   "metadata": {},
   "source": [
    "Ultimate Vocal Remover (UVR) 工具通常可以用于以下任务：\n",
    "\n",
    "- 去除人声：从歌曲中移除人声，保留伴奏（俗称“卡拉OK”处理）。\n",
    "- 提取人声：从混音中分离并提取出人声，保留干净的人声音轨。\n",
    "\n",
    "raw_full_audio.wav\n",
    "- original_vocal.wav\n",
    "- background.wav"
   ]
  },
  {
   "cell_type": "markdown",
   "id": "69494277-228d-43ee-8658-633865bfd8b3",
   "metadata": {},
   "source": [
    "### ASR"
   ]
  },
  {
   "cell_type": "markdown",
   "id": "24525cc3-6fc7-4a4d-baed-58d3a18dd08d",
   "metadata": {},
   "source": [
    "- asr\n",
    "    - chinese: BELLE-2/Belle-whisper-large-v3-zh-punct\n",
    "        - Belle-whisper-large-v3-zh + punctuation mark \n",
    "    - english: large-v3"
   ]
  },
  {
   "cell_type": "markdown",
   "id": "420aec3f-4fd0-4e35-be1d-20bc59de350f",
   "metadata": {},
   "source": [
    "### whisperx"
   ]
  },
  {
   "cell_type": "markdown",
   "id": "3ec2d9d8-ab04-4b62-a81c-34745e9d7c1b",
   "metadata": {},
   "source": [
    "### transformers"
   ]
  },
  {
   "cell_type": "markdown",
   "id": "63708a3a-5ad7-4149-8d69-4dc4b2a3c7f7",
   "metadata": {},
   "source": [
    "```\n",
    "import torch\n",
    "from transformers import pipeline\n",
    "\n",
    "transcriber = pipeline(\n",
    "  \"automatic-speech-recognition\", \n",
    "  model=\"BELLE-2/Belle-whisper-large-v3-zh-punct\",\n",
    "  device=\"cuda\" if torch.cuda.is_available() else \"cpu\"\n",
    ")\n",
    "\n",
    "transcriber.model.config.forced_decoder_ids = (\n",
    "  transcriber.tokenizer.get_decoder_prompt_ids(\n",
    "    language=\"zh\", \n",
    "    task=\"transcribe\"\n",
    "  )\n",
    ")\n",
    "\n",
    "transcription = transcriber(\"my_audio.wav\")\n",
    "```"
   ]
  }
 ],
 "metadata": {
  "kernelspec": {
   "display_name": "Python 3 (ipykernel)",
   "language": "python",
   "name": "python3"
  },
  "language_info": {
   "codemirror_mode": {
    "name": "ipython",
    "version": 3
   },
   "file_extension": ".py",
   "mimetype": "text/x-python",
   "name": "python",
   "nbconvert_exporter": "python",
   "pygments_lexer": "ipython3",
   "version": "3.10.13"
  }
 },
 "nbformat": 4,
 "nbformat_minor": 5
}
