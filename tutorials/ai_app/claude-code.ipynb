{
 "cells": [
  {
   "cell_type": "markdown",
   "id": "0cf33949-2cdb-4a1e-abd6-435230212a2e",
   "metadata": {},
   "source": [
    "```shell\n",
    "npm install -g @anthropic-ai/claude-code \n",
    "claude --version\n",
    "\n",
    "export ANTHROPIC_AUTH_TOKEN=你的月之暗面 API Key\n",
    "export ANTHROPIC_BASE_URL=https://api.moonshot.cn/anthropic\n",
    "claude\n",
    "```\n",
    "\n",
    "- 哪里对模型进行了选择：`kimi-k2-0711-preview`\n",
    "    - `https://api.moonshot.cn/anthropic`跟这个端点有关？\n",
    "- kimi api\n",
    "    - https://platform.moonshot.cn/console/api-keys\n",
    "- examples\n",
    "    - https://mp.weixin.qq.com/s/S5SKpzQ8GFGzv6dO6efnFA"
   ]
  }
 ],
 "metadata": {
  "kernelspec": {
   "display_name": "Python 3 (ipykernel)",
   "language": "python",
   "name": "python3"
  },
  "language_info": {
   "codemirror_mode": {
    "name": "ipython",
    "version": 3
   },
   "file_extension": ".py",
   "mimetype": "text/x-python",
   "name": "python",
   "nbconvert_exporter": "python",
   "pygments_lexer": "ipython3",
   "version": "3.10.0"
  }
 },
 "nbformat": 4,
 "nbformat_minor": 5
}
