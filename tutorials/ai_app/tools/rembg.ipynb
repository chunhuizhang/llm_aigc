{
 "cells": [
  {
   "cell_type": "markdown",
   "id": "1cc74f7f-9e65-4abc-9a6c-b512541ceb2c",
   "metadata": {},
   "source": [
    "- `pip install \"rembg[gpu,cli]\"`\n",
    "    - 注意 onnxruntime-gpu 的版本兼容性问题\n",
    "        - `pip install onnxruntime-gpu==1.11`\n",
    "        - `pip install onnxruntime-gpu==1.12`\n",
    "        - https://onnxruntime.ai/docs/execution-providers/TensorRT-ExecutionProvider.html#requirements\n",
    "- https://github.com/danielgatis/rembg\n",
    "    - Rembg is a tool to remove images background "
   ]
  }
 ],
 "metadata": {
  "kernelspec": {
   "display_name": "Python 3 (ipykernel)",
   "language": "python",
   "name": "python3"
  },
  "language_info": {
   "codemirror_mode": {
    "name": "ipython",
    "version": 3
   },
   "file_extension": ".py",
   "mimetype": "text/x-python",
   "name": "python",
   "nbconvert_exporter": "python",
   "pygments_lexer": "ipython3",
   "version": "3.10.13"
  }
 },
 "nbformat": 4,
 "nbformat_minor": 5
}
