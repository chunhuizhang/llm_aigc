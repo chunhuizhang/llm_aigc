{
 "cells": [
  {
   "cell_type": "code",
   "execution_count": 1,
   "id": "9c559a42-c664-44da-b22d-7f69a67d3f4f",
   "metadata": {
    "execution": {
     "iopub.execute_input": "2024-12-14T03:31:31.255262Z",
     "iopub.status.busy": "2024-12-14T03:31:31.254614Z",
     "iopub.status.idle": "2024-12-14T03:31:31.473634Z",
     "shell.execute_reply": "2024-12-14T03:31:31.472825Z",
     "shell.execute_reply.started": "2024-12-14T03:31:31.255226Z"
    }
   },
   "outputs": [],
   "source": [
    "import streamlit as st"
   ]
  },
  {
   "cell_type": "markdown",
   "id": "0f7df014-bb4b-48c8-97c8-5b155f4d907a",
   "metadata": {},
   "source": [
    "```\n",
    "st.set_page_config(\n",
    "st.title(\n",
    "st.markdown(\n",
    "user_query = st.text_input(\"Enter your query:\", placeholder=\"e.g., How many 'R's are in the word strawberry?\")\n",
    "```"
   ]
  },
  {
   "cell_type": "markdown",
   "id": "66bac8e5-9c8f-419e-9508-43e3c2e96460",
   "metadata": {},
   "source": [
    "### 运行"
   ]
  },
  {
   "cell_type": "markdown",
   "id": "5388d98b-d544-4076-a88c-451569263d84",
   "metadata": {},
   "source": [
    "```\n",
    "streamlit run app.py\n",
    "```"
   ]
  }
 ],
 "metadata": {
  "kernelspec": {
   "display_name": "Python 3 (ipykernel)",
   "language": "python",
   "name": "python3"
  },
  "language_info": {
   "codemirror_mode": {
    "name": "ipython",
    "version": 3
   },
   "file_extension": ".py",
   "mimetype": "text/x-python",
   "name": "python",
   "nbconvert_exporter": "python",
   "pygments_lexer": "ipython3",
   "version": "3.10.13"
  }
 },
 "nbformat": 4,
 "nbformat_minor": 5
}
