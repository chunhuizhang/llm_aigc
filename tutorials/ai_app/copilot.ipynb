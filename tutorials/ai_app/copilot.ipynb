{
 "cells": [
  {
   "cell_type": "markdown",
   "id": "bbd22bd5",
   "metadata": {},
   "source": [
    "- 支持的 ide\n",
    "    - vscode\n",
    "    - jetbrains：暂不支持 chat\n",
    "        - pycharm\n",
    "        - idea\n",
    "\n",
    "- 主要作用\n",
    "    - 协助阅读源码；\n",
    "    - 自动代码补全；（非常智能）\n",
    "\n",
    "- 用法\n",
    "    - `@workspace`：整个工作区的提问；"
   ]
  }
 ],
 "metadata": {
  "kernelspec": {
   "display_name": "Python 3 (ipykernel)",
   "language": "python",
   "name": "python3"
  },
  "language_info": {
   "codemirror_mode": {
    "name": "ipython",
    "version": 3
   },
   "file_extension": ".py",
   "mimetype": "text/x-python",
   "name": "python",
   "nbconvert_exporter": "python",
   "pygments_lexer": "ipython3",
   "version": "3.10.13"
  },
  "toc": {
   "base_numbering": 1,
   "nav_menu": {},
   "number_sections": true,
   "sideBar": true,
   "skip_h1_title": false,
   "title_cell": "Table of Contents",
   "title_sidebar": "Contents",
   "toc_cell": false,
   "toc_position": {},
   "toc_section_display": true,
   "toc_window_display": false
  }
 },
 "nbformat": 4,
 "nbformat_minor": 5
}
