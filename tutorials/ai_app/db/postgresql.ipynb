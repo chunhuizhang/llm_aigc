{
 "cells": [
  {
   "cell_type": "markdown",
   "id": "82bfff79-6e0b-4617-b05a-5645d55c5a81",
   "metadata": {},
   "source": [
    "```sh\n",
    "psql -U user_name -d db_name\n",
    "\\list          # list db\n",
    "\\c db_name     # change db\n",
    "\\dt            # 列出当前数据库中的所有表 \n",
    "\\d table_name  # 查看特定表的详细结构\n",
    "\n",
    "\\q             # quit\n",
    "```"
   ]
  }
 ],
 "metadata": {
  "kernelspec": {
   "display_name": "Python 3 (ipykernel)",
   "language": "python",
   "name": "python3"
  },
  "language_info": {
   "codemirror_mode": {
    "name": "ipython",
    "version": 3
   },
   "file_extension": ".py",
   "mimetype": "text/x-python",
   "name": "python",
   "nbconvert_exporter": "python",
   "pygments_lexer": "ipython3",
   "version": "3.10.0"
  }
 },
 "nbformat": 4,
 "nbformat_minor": 5
}
