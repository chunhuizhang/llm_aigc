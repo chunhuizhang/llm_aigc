{
 "cells": [
  {
   "cell_type": "markdown",
   "id": "f1e927af-f67e-4fab-9f41-9077a4126d47",
   "metadata": {},
   "source": [
    "## ollama"
   ]
  },
  {
   "cell_type": "markdown",
   "id": "e845cef1",
   "metadata": {},
   "source": [
    "- references\n",
    "    - https://ollama.com/\n",
    "    - https://ollama.com/download\n",
    "        - `curl -fsSL https://ollama.com/install.sh | sh`\n",
    "    - https://ollama.com/library"
   ]
  },
  {
   "cell_type": "markdown",
   "id": "16fe5baa",
   "metadata": {},
   "source": [
    "- `ollama serve`: `127.0.0.1:11434`\n",
    "- models\n",
    "    - mistral\n",
    "        - `ollama run mistral`\n",
    "    - llama\n",
    "        - `ollama run llama2`\n",
    "        - `ollama run llama2-uncensored`\n",
    "- `ollama list`"
   ]
  },
  {
   "cell_type": "markdown",
   "id": "4434ba72",
   "metadata": {
    "ExecuteTime": {
     "end_time": "2024-02-24T02:28:24.846004Z",
     "start_time": "2024-02-24T02:28:24.827390Z"
    }
   },
   "source": [
    "- 退出\n",
    "    - /bye\n",
    "    - /exit"
   ]
  },
  {
   "cell_type": "markdown",
   "id": "e4e7c33a-1375-4986-b6ce-ef3df0397d2b",
   "metadata": {},
   "source": [
    "## jan"
   ]
  },
  {
   "cell_type": "markdown",
   "id": "7d117ba3-d987-4ad5-b2a9-6172dc9d8c43",
   "metadata": {},
   "source": [
    "- https://jan.ai/"
   ]
  }
 ],
 "metadata": {
  "kernelspec": {
   "display_name": "Python 3 (ipykernel)",
   "language": "python",
   "name": "python3"
  },
  "language_info": {
   "codemirror_mode": {
    "name": "ipython",
    "version": 3
   },
   "file_extension": ".py",
   "mimetype": "text/x-python",
   "name": "python",
   "nbconvert_exporter": "python",
   "pygments_lexer": "ipython3",
   "version": "3.10.13"
  },
  "toc": {
   "base_numbering": 1,
   "nav_menu": {},
   "number_sections": true,
   "sideBar": true,
   "skip_h1_title": false,
   "title_cell": "Table of Contents",
   "title_sidebar": "Contents",
   "toc_cell": false,
   "toc_position": {},
   "toc_section_display": true,
   "toc_window_display": false
  }
 },
 "nbformat": 4,
 "nbformat_minor": 5
}
