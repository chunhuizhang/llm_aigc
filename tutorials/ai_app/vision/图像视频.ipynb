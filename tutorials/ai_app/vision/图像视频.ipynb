{
 "cells": [
  {
   "cell_type": "markdown",
   "id": "9a42d307-b1ef-4ef9-9f61-1e7092caba21",
   "metadata": {},
   "source": [
    "### 图像"
   ]
  },
  {
   "cell_type": "markdown",
   "id": "cf14d1d8-985a-47b7-b164-f1efb0c76bb3",
   "metadata": {},
   "source": [
    "- textbehindimage"
   ]
  }
 ],
 "metadata": {
  "kernelspec": {
   "display_name": "Python 3 (ipykernel)",
   "language": "python",
   "name": "python3"
  },
  "language_info": {
   "codemirror_mode": {
    "name": "ipython",
    "version": 3
   },
   "file_extension": ".py",
   "mimetype": "text/x-python",
   "name": "python",
   "nbconvert_exporter": "python",
   "pygments_lexer": "ipython3",
   "version": "3.10.13"
  }
 },
 "nbformat": 4,
 "nbformat_minor": 5
}
