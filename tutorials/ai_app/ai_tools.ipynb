{
 "cells": [
  {
   "cell_type": "markdown",
   "id": "cae47a17",
   "metadata": {},
   "source": [
    "- ocr\n",
    "    - paddleocr\n",
    "- asr\n",
    "    - whisper"
   ]
  },
  {
   "cell_type": "markdown",
   "id": "b3e0d1d9-18e7-4f1a-9c75-2cdd95638aa0",
   "metadata": {},
   "source": [
    "### whisper"
   ]
  },
  {
   "cell_type": "markdown",
   "id": "daa28c8f-26e7-47ae-8da4-94bf7d30fa7a",
   "metadata": {},
   "source": [
    "- https://github.com/chidiwilliams/buzz\n",
    "    - release：https://github.com/chidiwilliams/buzz/releases\n",
    "    - 使用：https://www.youtube.com/watch?v=qZ3T5hunOuQ"
   ]
  }
 ],
 "metadata": {
  "kernelspec": {
   "display_name": "Python 3 (ipykernel)",
   "language": "python",
   "name": "python3"
  },
  "language_info": {
   "codemirror_mode": {
    "name": "ipython",
    "version": 3
   },
   "file_extension": ".py",
   "mimetype": "text/x-python",
   "name": "python",
   "nbconvert_exporter": "python",
   "pygments_lexer": "ipython3",
   "version": "3.10.13"
  },
  "toc": {
   "base_numbering": 1,
   "nav_menu": {},
   "number_sections": true,
   "sideBar": true,
   "skip_h1_title": false,
   "title_cell": "Table of Contents",
   "title_sidebar": "Contents",
   "toc_cell": false,
   "toc_position": {},
   "toc_section_display": true,
   "toc_window_display": false
  }
 },
 "nbformat": 4,
 "nbformat_minor": 5
}
