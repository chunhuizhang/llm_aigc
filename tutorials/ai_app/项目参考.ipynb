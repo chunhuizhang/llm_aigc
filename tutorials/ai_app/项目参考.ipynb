{
 "cells": [
  {
   "cell_type": "markdown",
   "id": "178d3861-5fe5-4ea3-b9e1-d8cbc6e783f4",
   "metadata": {},
   "source": [
    "- https://github.com/LYiHub/mad-professor-public\n",
    "    - https://www.bilibili.com/video/BV18j5jz2Eco/"
   ]
  }
 ],
 "metadata": {
  "kernelspec": {
   "display_name": "casual",
   "language": "python",
   "name": "casual"
  },
  "language_info": {
   "codemirror_mode": {
    "name": "ipython",
    "version": 3
   },
   "file_extension": ".py",
   "mimetype": "text/x-python",
   "name": "python",
   "nbconvert_exporter": "python",
   "pygments_lexer": "ipython3",
   "version": "3.10.0"
  }
 },
 "nbformat": 4,
 "nbformat_minor": 5
}
