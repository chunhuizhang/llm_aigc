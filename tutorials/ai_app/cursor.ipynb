{
 "cells": [
  {
   "cell_type": "markdown",
   "id": "85d71a79-0874-45c9-96e1-8267b6a3337d",
   "metadata": {},
   "source": [
    "## cursor vs. (github) copilot"
   ]
  },
  {
   "cell_type": "markdown",
   "id": "12a814a7-6bd9-4734-b606-6703758745ae",
   "metadata": {},
   "source": [
    "- 传统的补全\n",
    "    - words 匹配\n",
    "- copilot 只是一个高级的代码补全\n",
    "    - vscode等其他的 plugin\n",
    "    - 局部的自动高级补全，基于代码语义\n",
    "    - 只做补全；\n",
    "- cursor：本身就是一个 app （AI-powered IDE），real 结对编程\n",
    "    - 继承了 vscode（无缝迁移 vscode 的插件）\n",
    "    - 更全局（global）的 context window\n",
    "        - context of the entire project\n",
    "    - 还可做修改；"
   ]
  }
 ],
 "metadata": {
  "kernelspec": {
   "display_name": "Python 3 (ipykernel)",
   "language": "python",
   "name": "python3"
  },
  "language_info": {
   "codemirror_mode": {
    "name": "ipython",
    "version": 3
   },
   "file_extension": ".py",
   "mimetype": "text/x-python",
   "name": "python",
   "nbconvert_exporter": "python",
   "pygments_lexer": "ipython3",
   "version": "3.10.13"
  }
 },
 "nbformat": 4,
 "nbformat_minor": 5
}
