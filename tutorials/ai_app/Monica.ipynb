{
 "cells": [
  {
   "cell_type": "markdown",
   "id": "2bb10555-109d-4c43-8540-b0395415f758",
   "metadata": {},
   "source": [
    "- gpt 套壳\n",
    "- 浏览器插件：Modern AI tools\n",
    "    - （任意）网页内容\n",
    "    - （youtube）summary\n",
    "    - chatbot"
   ]
  }
 ],
 "metadata": {
  "kernelspec": {
   "display_name": "Python 3 (ipykernel)",
   "language": "python",
   "name": "python3"
  },
  "language_info": {
   "codemirror_mode": {
    "name": "ipython",
    "version": 3
   },
   "file_extension": ".py",
   "mimetype": "text/x-python",
   "name": "python",
   "nbconvert_exporter": "python",
   "pygments_lexer": "ipython3",
   "version": "3.10.13"
  }
 },
 "nbformat": 4,
 "nbformat_minor": 5
}
